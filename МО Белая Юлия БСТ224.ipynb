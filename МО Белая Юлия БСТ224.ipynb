{
 "cells": [
  {
   "cell_type": "code",
   "execution_count": 1,
   "metadata": {
    "colab": {
     "base_uri": "https://localhost:8080/",
     "height": 1000
    },
    "id": "Y3RmBriMRBUU",
    "outputId": "681ee2a0-7eb1-47b5-8fe6-43da7971ce09",
    "scrolled": true
   },
   "outputs": [
    {
     "name": "stdout",
     "output_type": "stream",
     "text": [
      "Defaulting to user installation because normal site-packages is not writeable\n",
      "Requirement already satisfied: numpy in c:\\programdata\\anaconda3\\lib\\site-packages (1.26.4)\n",
      "Defaulting to user installation because normal site-packages is not writeable\n",
      "Requirement already satisfied: pandas in c:\\users\\yuliy\\appdata\\roaming\\python\\python311\\site-packages (2.2.3)\n",
      "Requirement already satisfied: numpy>=1.23.2 in c:\\programdata\\anaconda3\\lib\\site-packages (from pandas) (1.26.4)\n",
      "Requirement already satisfied: python-dateutil>=2.8.2 in c:\\users\\yuliy\\appdata\\roaming\\python\\python311\\site-packages (from pandas) (2.9.0.post0)\n",
      "Requirement already satisfied: pytz>=2020.1 in c:\\programdata\\anaconda3\\lib\\site-packages (from pandas) (2023.3.post1)\n",
      "Requirement already satisfied: tzdata>=2022.7 in c:\\programdata\\anaconda3\\lib\\site-packages (from pandas) (2023.3)\n",
      "Requirement already satisfied: six>=1.5 in c:\\users\\yuliy\\appdata\\roaming\\python\\python311\\site-packages (from python-dateutil>=2.8.2->pandas) (1.16.0)\n",
      "Defaulting to user installation because normal site-packages is not writeable\n",
      "Requirement already satisfied: scikit-learn in c:\\users\\yuliy\\appdata\\roaming\\python\\python311\\site-packages (1.5.2)\n",
      "Requirement already satisfied: numpy>=1.19.5 in c:\\programdata\\anaconda3\\lib\\site-packages (from scikit-learn) (1.26.4)\n",
      "Requirement already satisfied: scipy>=1.6.0 in c:\\programdata\\anaconda3\\lib\\site-packages (from scikit-learn) (1.11.4)\n",
      "Requirement already satisfied: joblib>=1.2.0 in c:\\programdata\\anaconda3\\lib\\site-packages (from scikit-learn) (1.2.0)\n",
      "Requirement already satisfied: threadpoolctl>=3.1.0 in c:\\users\\yuliy\\appdata\\roaming\\python\\python311\\site-packages (from scikit-learn) (3.6.0)\n",
      "Defaulting to user installation because normal site-packages is not writeable\n",
      "Requirement already satisfied: scipy in c:\\programdata\\anaconda3\\lib\\site-packages (1.11.4)\n",
      "Requirement already satisfied: numpy<1.28.0,>=1.21.6 in c:\\programdata\\anaconda3\\lib\\site-packages (from scipy) (1.26.4)\n",
      "Defaulting to user installation because normal site-packages is not writeable\n",
      "Requirement already satisfied: bnlearn in c:\\users\\yuliy\\appdata\\roaming\\python\\python311\\site-packages (0.11.1)\n",
      "Requirement already satisfied: pgmpy==0.1.25 in c:\\users\\yuliy\\appdata\\roaming\\python\\python311\\site-packages (from bnlearn) (0.1.25)\n",
      "Requirement already satisfied: networkx>=2.7.1 in c:\\programdata\\anaconda3\\lib\\site-packages (from bnlearn) (3.1)\n",
      "Requirement already satisfied: matplotlib>=3.3.4 in c:\\programdata\\anaconda3\\lib\\site-packages (from bnlearn) (3.8.0)\n",
      "Requirement already satisfied: numpy>=1.24.1 in c:\\programdata\\anaconda3\\lib\\site-packages (from bnlearn) (1.26.4)\n",
      "Requirement already satisfied: pandas in c:\\users\\yuliy\\appdata\\roaming\\python\\python311\\site-packages (from bnlearn) (2.2.3)\n",
      "Requirement already satisfied: tqdm in c:\\programdata\\anaconda3\\lib\\site-packages (from bnlearn) (4.65.0)\n",
      "Requirement already satisfied: ismember in c:\\users\\yuliy\\appdata\\roaming\\python\\python311\\site-packages (from bnlearn) (1.0.6)\n",
      "Requirement already satisfied: scikit-learn in c:\\users\\yuliy\\appdata\\roaming\\python\\python311\\site-packages (from bnlearn) (1.5.2)\n",
      "Requirement already satisfied: funcsigs in c:\\users\\yuliy\\appdata\\roaming\\python\\python311\\site-packages (from bnlearn) (1.0.2)\n",
      "Requirement already satisfied: statsmodels in c:\\users\\yuliy\\appdata\\roaming\\python\\python311\\site-packages (from bnlearn) (0.14.4)\n",
      "Requirement already satisfied: python-louvain in c:\\users\\yuliy\\appdata\\roaming\\python\\python311\\site-packages (from bnlearn) (0.16)\n",
      "Requirement already satisfied: packaging in c:\\users\\yuliy\\appdata\\roaming\\python\\python311\\site-packages (from bnlearn) (24.0)\n",
      "Requirement already satisfied: df2onehot in c:\\users\\yuliy\\appdata\\roaming\\python\\python311\\site-packages (from bnlearn) (1.0.8)\n",
      "Requirement already satisfied: fsspec in c:\\programdata\\anaconda3\\lib\\site-packages (from bnlearn) (2023.10.0)\n",
      "Requirement already satisfied: pypickle in c:\\users\\yuliy\\appdata\\roaming\\python\\python311\\site-packages (from bnlearn) (2.0.1)\n",
      "Requirement already satisfied: tabulate in c:\\programdata\\anaconda3\\lib\\site-packages (from bnlearn) (0.9.0)\n",
      "Requirement already satisfied: ipywidgets in c:\\programdata\\anaconda3\\lib\\site-packages (from bnlearn) (7.6.5)\n",
      "Requirement already satisfied: datazets>=1.1.2 in c:\\users\\yuliy\\appdata\\roaming\\python\\python311\\site-packages (from bnlearn) (1.1.2)\n",
      "Requirement already satisfied: setgraphviz>=1.0.2 in c:\\users\\yuliy\\appdata\\roaming\\python\\python311\\site-packages (from bnlearn) (1.0.3)\n",
      "Requirement already satisfied: lingam in c:\\users\\yuliy\\appdata\\roaming\\python\\python311\\site-packages (from bnlearn) (1.9.1)\n",
      "Requirement already satisfied: pyarrow<20.0.0 in c:\\programdata\\anaconda3\\lib\\site-packages (from bnlearn) (14.0.2)\n",
      "Requirement already satisfied: scipy in c:\\programdata\\anaconda3\\lib\\site-packages (from pgmpy==0.1.25->bnlearn) (1.11.4)\n",
      "Requirement already satisfied: pyparsing in c:\\programdata\\anaconda3\\lib\\site-packages (from pgmpy==0.1.25->bnlearn) (3.0.9)\n",
      "Requirement already satisfied: torch in c:\\users\\yuliy\\appdata\\roaming\\python\\python311\\site-packages (from pgmpy==0.1.25->bnlearn) (2.7.0)\n",
      "Requirement already satisfied: joblib in c:\\programdata\\anaconda3\\lib\\site-packages (from pgmpy==0.1.25->bnlearn) (1.2.0)\n",
      "Requirement already satisfied: opt-einsum in c:\\users\\yuliy\\appdata\\roaming\\python\\python311\\site-packages (from pgmpy==0.1.25->bnlearn) (3.4.0)\n",
      "Requirement already satisfied: requests in c:\\programdata\\anaconda3\\lib\\site-packages (from datazets>=1.1.2->bnlearn) (2.31.0)\n",
      "Requirement already satisfied: contourpy>=1.0.1 in c:\\programdata\\anaconda3\\lib\\site-packages (from matplotlib>=3.3.4->bnlearn) (1.2.0)\n",
      "Requirement already satisfied: cycler>=0.10 in c:\\programdata\\anaconda3\\lib\\site-packages (from matplotlib>=3.3.4->bnlearn) (0.11.0)\n",
      "Requirement already satisfied: fonttools>=4.22.0 in c:\\programdata\\anaconda3\\lib\\site-packages (from matplotlib>=3.3.4->bnlearn) (4.25.0)\n",
      "Requirement already satisfied: kiwisolver>=1.0.1 in c:\\programdata\\anaconda3\\lib\\site-packages (from matplotlib>=3.3.4->bnlearn) (1.4.4)\n",
      "Requirement already satisfied: pillow>=6.2.0 in c:\\programdata\\anaconda3\\lib\\site-packages (from matplotlib>=3.3.4->bnlearn) (10.2.0)\n",
      "Requirement already satisfied: python-dateutil>=2.7 in c:\\users\\yuliy\\appdata\\roaming\\python\\python311\\site-packages (from matplotlib>=3.3.4->bnlearn) (2.9.0.post0)\n",
      "Requirement already satisfied: six>=1.5 in c:\\users\\yuliy\\appdata\\roaming\\python\\python311\\site-packages (from python-dateutil>=2.7->matplotlib>=3.3.4->bnlearn) (1.16.0)\n",
      "Requirement already satisfied: ipykernel>=4.5.1 in c:\\users\\yuliy\\appdata\\roaming\\python\\python311\\site-packages (from ipywidgets->bnlearn) (6.29.4)\n",
      "Requirement already satisfied: ipython-genutils~=0.2.0 in c:\\programdata\\anaconda3\\lib\\site-packages (from ipywidgets->bnlearn) (0.2.0)\n",
      "Requirement already satisfied: traitlets>=4.3.1 in c:\\users\\yuliy\\appdata\\roaming\\python\\python311\\site-packages (from ipywidgets->bnlearn) (5.14.2)\n",
      "Requirement already satisfied: nbformat>=4.2.0 in c:\\programdata\\anaconda3\\lib\\site-packages (from ipywidgets->bnlearn) (5.9.2)\n",
      "Requirement already satisfied: widgetsnbextension~=3.5.0 in c:\\programdata\\anaconda3\\lib\\site-packages (from ipywidgets->bnlearn) (3.5.2)\n",
      "Requirement already satisfied: ipython>=4.0.0 in c:\\users\\yuliy\\appdata\\roaming\\python\\python311\\site-packages (from ipywidgets->bnlearn) (8.23.0)\n",
      "Requirement already satisfied: jupyterlab-widgets>=1.0.0 in c:\\programdata\\anaconda3\\lib\\site-packages (from ipywidgets->bnlearn) (3.0.9)\n",
      "Requirement already satisfied: notebook>=4.4.1 in c:\\programdata\\anaconda3\\lib\\site-packages (from widgetsnbextension~=3.5.0->ipywidgets->bnlearn) (7.0.8)\n",
      "Requirement already satisfied: comm>=0.1.1 in c:\\users\\yuliy\\appdata\\roaming\\python\\python311\\site-packages (from ipykernel>=4.5.1->ipywidgets->bnlearn) (0.2.2)\n",
      "Requirement already satisfied: debugpy>=1.6.5 in c:\\users\\yuliy\\appdata\\roaming\\python\\python311\\site-packages (from ipykernel>=4.5.1->ipywidgets->bnlearn) (1.8.1)\n",
      "Requirement already satisfied: jupyter-client>=6.1.12 in c:\\users\\yuliy\\appdata\\roaming\\python\\python311\\site-packages (from ipykernel>=4.5.1->ipywidgets->bnlearn) (8.6.1)\n",
      "Requirement already satisfied: jupyter-core!=5.0.*,>=4.12 in c:\\users\\yuliy\\appdata\\roaming\\python\\python311\\site-packages (from ipykernel>=4.5.1->ipywidgets->bnlearn) (5.7.2)\n",
      "Requirement already satisfied: matplotlib-inline>=0.1 in c:\\users\\yuliy\\appdata\\roaming\\python\\python311\\site-packages (from ipykernel>=4.5.1->ipywidgets->bnlearn) (0.1.6)\n",
      "Requirement already satisfied: nest-asyncio in c:\\users\\yuliy\\appdata\\roaming\\python\\python311\\site-packages (from ipykernel>=4.5.1->ipywidgets->bnlearn) (1.6.0)\n",
      "Requirement already satisfied: psutil in c:\\users\\yuliy\\appdata\\roaming\\python\\python311\\site-packages (from ipykernel>=4.5.1->ipywidgets->bnlearn) (5.9.8)\n",
      "Requirement already satisfied: pyzmq>=24 in c:\\users\\yuliy\\appdata\\roaming\\python\\python311\\site-packages (from ipykernel>=4.5.1->ipywidgets->bnlearn) (25.1.2)\n",
      "Requirement already satisfied: tornado>=6.1 in c:\\users\\yuliy\\appdata\\roaming\\python\\python311\\site-packages (from ipykernel>=4.5.1->ipywidgets->bnlearn) (6.4)\n",
      "Requirement already satisfied: decorator in c:\\users\\yuliy\\appdata\\roaming\\python\\python311\\site-packages (from ipython>=4.0.0->ipywidgets->bnlearn) (5.1.1)\n",
      "Requirement already satisfied: jedi>=0.16 in c:\\users\\yuliy\\appdata\\roaming\\python\\python311\\site-packages (from ipython>=4.0.0->ipywidgets->bnlearn) (0.19.1)\n",
      "Requirement already satisfied: prompt-toolkit<3.1.0,>=3.0.41 in c:\\users\\yuliy\\appdata\\roaming\\python\\python311\\site-packages (from ipython>=4.0.0->ipywidgets->bnlearn) (3.0.43)\n",
      "Requirement already satisfied: pygments>=2.4.0 in c:\\users\\yuliy\\appdata\\roaming\\python\\python311\\site-packages (from ipython>=4.0.0->ipywidgets->bnlearn) (2.17.2)\n",
      "Requirement already satisfied: stack-data in c:\\users\\yuliy\\appdata\\roaming\\python\\python311\\site-packages (from ipython>=4.0.0->ipywidgets->bnlearn) (0.6.3)\n",
      "Requirement already satisfied: typing-extensions in c:\\users\\yuliy\\appdata\\roaming\\python\\python311\\site-packages (from ipython>=4.0.0->ipywidgets->bnlearn) (4.11.0)\n",
      "Requirement already satisfied: colorama in c:\\users\\yuliy\\appdata\\roaming\\python\\python311\\site-packages (from ipython>=4.0.0->ipywidgets->bnlearn) (0.4.6)\n",
      "Requirement already satisfied: wcwidth in c:\\users\\yuliy\\appdata\\roaming\\python\\python311\\site-packages (from prompt-toolkit<3.1.0,>=3.0.41->ipython>=4.0.0->ipywidgets->bnlearn) (0.2.13)\n",
      "Requirement already satisfied: parso<0.9.0,>=0.8.3 in c:\\users\\yuliy\\appdata\\roaming\\python\\python311\\site-packages (from jedi>=0.16->ipython>=4.0.0->ipywidgets->bnlearn) (0.8.4)\n",
      "Requirement already satisfied: platformdirs>=2.5 in c:\\users\\yuliy\\appdata\\roaming\\python\\python311\\site-packages (from jupyter-core!=5.0.*,>=4.12->ipykernel>=4.5.1->ipywidgets->bnlearn) (4.2.0)\n",
      "Requirement already satisfied: pywin32>=300 in c:\\users\\yuliy\\appdata\\roaming\\python\\python311\\site-packages (from jupyter-core!=5.0.*,>=4.12->ipykernel>=4.5.1->ipywidgets->bnlearn) (306)\n",
      "Requirement already satisfied: fastjsonschema in c:\\programdata\\anaconda3\\lib\\site-packages (from nbformat>=4.2.0->ipywidgets->bnlearn) (2.16.2)\n",
      "Requirement already satisfied: jsonschema>=2.6 in c:\\programdata\\anaconda3\\lib\\site-packages (from nbformat>=4.2.0->ipywidgets->bnlearn) (4.19.2)\n",
      "Requirement already satisfied: attrs>=22.2.0 in c:\\programdata\\anaconda3\\lib\\site-packages (from jsonschema>=2.6->nbformat>=4.2.0->ipywidgets->bnlearn) (23.1.0)\n",
      "Requirement already satisfied: jsonschema-specifications>=2023.03.6 in c:\\programdata\\anaconda3\\lib\\site-packages (from jsonschema>=2.6->nbformat>=4.2.0->ipywidgets->bnlearn) (2023.7.1)\n",
      "Requirement already satisfied: referencing>=0.28.4 in c:\\programdata\\anaconda3\\lib\\site-packages (from jsonschema>=2.6->nbformat>=4.2.0->ipywidgets->bnlearn) (0.30.2)\n",
      "Requirement already satisfied: rpds-py>=0.7.1 in c:\\programdata\\anaconda3\\lib\\site-packages (from jsonschema>=2.6->nbformat>=4.2.0->ipywidgets->bnlearn) (0.10.6)\n",
      "Requirement already satisfied: jupyter-server<3,>=2.4.0 in c:\\programdata\\anaconda3\\lib\\site-packages (from notebook>=4.4.1->widgetsnbextension~=3.5.0->ipywidgets->bnlearn) (2.10.0)\n",
      "Requirement already satisfied: jupyterlab-server<3,>=2.22.1 in c:\\programdata\\anaconda3\\lib\\site-packages (from notebook>=4.4.1->widgetsnbextension~=3.5.0->ipywidgets->bnlearn) (2.25.1)\n",
      "Requirement already satisfied: jupyterlab<4.1,>=4.0.2 in c:\\programdata\\anaconda3\\lib\\site-packages (from notebook>=4.4.1->widgetsnbextension~=3.5.0->ipywidgets->bnlearn) (4.0.11)\n",
      "Requirement already satisfied: notebook-shim<0.3,>=0.2 in c:\\programdata\\anaconda3\\lib\\site-packages (from notebook>=4.4.1->widgetsnbextension~=3.5.0->ipywidgets->bnlearn) (0.2.3)\n",
      "Requirement already satisfied: anyio>=3.1.0 in c:\\programdata\\anaconda3\\lib\\site-packages (from jupyter-server<3,>=2.4.0->notebook>=4.4.1->widgetsnbextension~=3.5.0->ipywidgets->bnlearn) (4.2.0)\n",
      "Requirement already satisfied: argon2-cffi in c:\\programdata\\anaconda3\\lib\\site-packages (from jupyter-server<3,>=2.4.0->notebook>=4.4.1->widgetsnbextension~=3.5.0->ipywidgets->bnlearn) (21.3.0)\n",
      "Requirement already satisfied: jinja2 in c:\\programdata\\anaconda3\\lib\\site-packages (from jupyter-server<3,>=2.4.0->notebook>=4.4.1->widgetsnbextension~=3.5.0->ipywidgets->bnlearn) (3.1.3)\n",
      "Requirement already satisfied: jupyter-events>=0.6.0 in c:\\programdata\\anaconda3\\lib\\site-packages (from jupyter-server<3,>=2.4.0->notebook>=4.4.1->widgetsnbextension~=3.5.0->ipywidgets->bnlearn) (0.8.0)\n",
      "Requirement already satisfied: jupyter-server-terminals in c:\\programdata\\anaconda3\\lib\\site-packages (from jupyter-server<3,>=2.4.0->notebook>=4.4.1->widgetsnbextension~=3.5.0->ipywidgets->bnlearn) (0.4.4)\n",
      "Requirement already satisfied: nbconvert>=6.4.4 in c:\\programdata\\anaconda3\\lib\\site-packages (from jupyter-server<3,>=2.4.0->notebook>=4.4.1->widgetsnbextension~=3.5.0->ipywidgets->bnlearn) (7.10.0)\n",
      "Requirement already satisfied: overrides in c:\\programdata\\anaconda3\\lib\\site-packages (from jupyter-server<3,>=2.4.0->notebook>=4.4.1->widgetsnbextension~=3.5.0->ipywidgets->bnlearn) (7.4.0)\n",
      "Requirement already satisfied: prometheus-client in c:\\programdata\\anaconda3\\lib\\site-packages (from jupyter-server<3,>=2.4.0->notebook>=4.4.1->widgetsnbextension~=3.5.0->ipywidgets->bnlearn) (0.14.1)\n",
      "Requirement already satisfied: pywinpty in c:\\programdata\\anaconda3\\lib\\site-packages (from jupyter-server<3,>=2.4.0->notebook>=4.4.1->widgetsnbextension~=3.5.0->ipywidgets->bnlearn) (2.0.10)\n",
      "Requirement already satisfied: send2trash>=1.8.2 in c:\\programdata\\anaconda3\\lib\\site-packages (from jupyter-server<3,>=2.4.0->notebook>=4.4.1->widgetsnbextension~=3.5.0->ipywidgets->bnlearn) (1.8.2)\n",
      "Requirement already satisfied: terminado>=0.8.3 in c:\\programdata\\anaconda3\\lib\\site-packages (from jupyter-server<3,>=2.4.0->notebook>=4.4.1->widgetsnbextension~=3.5.0->ipywidgets->bnlearn) (0.17.1)\n",
      "Requirement already satisfied: websocket-client in c:\\programdata\\anaconda3\\lib\\site-packages (from jupyter-server<3,>=2.4.0->notebook>=4.4.1->widgetsnbextension~=3.5.0->ipywidgets->bnlearn) (0.58.0)\n",
      "Requirement already satisfied: async-lru>=1.0.0 in c:\\programdata\\anaconda3\\lib\\site-packages (from jupyterlab<4.1,>=4.0.2->notebook>=4.4.1->widgetsnbextension~=3.5.0->ipywidgets->bnlearn) (2.0.4)\n",
      "Requirement already satisfied: jupyter-lsp>=2.0.0 in c:\\programdata\\anaconda3\\lib\\site-packages (from jupyterlab<4.1,>=4.0.2->notebook>=4.4.1->widgetsnbextension~=3.5.0->ipywidgets->bnlearn) (2.2.0)\n",
      "Requirement already satisfied: babel>=2.10 in c:\\programdata\\anaconda3\\lib\\site-packages (from jupyterlab-server<3,>=2.22.1->notebook>=4.4.1->widgetsnbextension~=3.5.0->ipywidgets->bnlearn) (2.11.0)\n",
      "Requirement already satisfied: json5>=0.9.0 in c:\\programdata\\anaconda3\\lib\\site-packages (from jupyterlab-server<3,>=2.22.1->notebook>=4.4.1->widgetsnbextension~=3.5.0->ipywidgets->bnlearn) (0.9.6)\n",
      "Requirement already satisfied: idna>=2.8 in c:\\programdata\\anaconda3\\lib\\site-packages (from anyio>=3.1.0->jupyter-server<3,>=2.4.0->notebook>=4.4.1->widgetsnbextension~=3.5.0->ipywidgets->bnlearn) (3.4)\n",
      "Requirement already satisfied: sniffio>=1.1 in c:\\programdata\\anaconda3\\lib\\site-packages (from anyio>=3.1.0->jupyter-server<3,>=2.4.0->notebook>=4.4.1->widgetsnbextension~=3.5.0->ipywidgets->bnlearn) (1.3.0)\n",
      "Requirement already satisfied: pytz>=2015.7 in c:\\programdata\\anaconda3\\lib\\site-packages (from babel>=2.10->jupyterlab-server<3,>=2.22.1->notebook>=4.4.1->widgetsnbextension~=3.5.0->ipywidgets->bnlearn) (2023.3.post1)\n",
      "Requirement already satisfied: MarkupSafe>=2.0 in c:\\programdata\\anaconda3\\lib\\site-packages (from jinja2->jupyter-server<3,>=2.4.0->notebook>=4.4.1->widgetsnbextension~=3.5.0->ipywidgets->bnlearn) (2.1.3)\n",
      "Requirement already satisfied: python-json-logger>=2.0.4 in c:\\programdata\\anaconda3\\lib\\site-packages (from jupyter-events>=0.6.0->jupyter-server<3,>=2.4.0->notebook>=4.4.1->widgetsnbextension~=3.5.0->ipywidgets->bnlearn) (2.0.7)\n",
      "Requirement already satisfied: pyyaml>=5.3 in c:\\programdata\\anaconda3\\lib\\site-packages (from jupyter-events>=0.6.0->jupyter-server<3,>=2.4.0->notebook>=4.4.1->widgetsnbextension~=3.5.0->ipywidgets->bnlearn) (6.0.1)\n",
      "Requirement already satisfied: rfc3339-validator in c:\\programdata\\anaconda3\\lib\\site-packages (from jupyter-events>=0.6.0->jupyter-server<3,>=2.4.0->notebook>=4.4.1->widgetsnbextension~=3.5.0->ipywidgets->bnlearn) (0.1.4)\n",
      "Requirement already satisfied: rfc3986-validator>=0.1.1 in c:\\programdata\\anaconda3\\lib\\site-packages (from jupyter-events>=0.6.0->jupyter-server<3,>=2.4.0->notebook>=4.4.1->widgetsnbextension~=3.5.0->ipywidgets->bnlearn) (0.1.1)\n",
      "Requirement already satisfied: fqdn in c:\\users\\yuliy\\appdata\\roaming\\python\\python311\\site-packages (from jsonschema[format-nongpl]>=4.18.0->jupyter-events>=0.6.0->jupyter-server<3,>=2.4.0->notebook>=4.4.1->widgetsnbextension~=3.5.0->ipywidgets->bnlearn) (1.5.1)\n",
      "Requirement already satisfied: isoduration in c:\\users\\yuliy\\appdata\\roaming\\python\\python311\\site-packages (from jsonschema[format-nongpl]>=4.18.0->jupyter-events>=0.6.0->jupyter-server<3,>=2.4.0->notebook>=4.4.1->widgetsnbextension~=3.5.0->ipywidgets->bnlearn) (20.11.0)\n",
      "Requirement already satisfied: jsonpointer>1.13 in c:\\programdata\\anaconda3\\lib\\site-packages (from jsonschema[format-nongpl]>=4.18.0->jupyter-events>=0.6.0->jupyter-server<3,>=2.4.0->notebook>=4.4.1->widgetsnbextension~=3.5.0->ipywidgets->bnlearn) (2.1)\n",
      "Requirement already satisfied: uri-template in c:\\users\\yuliy\\appdata\\roaming\\python\\python311\\site-packages (from jsonschema[format-nongpl]>=4.18.0->jupyter-events>=0.6.0->jupyter-server<3,>=2.4.0->notebook>=4.4.1->widgetsnbextension~=3.5.0->ipywidgets->bnlearn) (1.3.0)\n",
      "Requirement already satisfied: webcolors>=1.11 in c:\\users\\yuliy\\appdata\\roaming\\python\\python311\\site-packages (from jsonschema[format-nongpl]>=4.18.0->jupyter-events>=0.6.0->jupyter-server<3,>=2.4.0->notebook>=4.4.1->widgetsnbextension~=3.5.0->ipywidgets->bnlearn) (24.8.0)\n",
      "Requirement already satisfied: beautifulsoup4 in c:\\programdata\\anaconda3\\lib\\site-packages (from nbconvert>=6.4.4->jupyter-server<3,>=2.4.0->notebook>=4.4.1->widgetsnbextension~=3.5.0->ipywidgets->bnlearn) (4.12.2)\n",
      "Requirement already satisfied: bleach!=5.0.0 in c:\\programdata\\anaconda3\\lib\\site-packages (from nbconvert>=6.4.4->jupyter-server<3,>=2.4.0->notebook>=4.4.1->widgetsnbextension~=3.5.0->ipywidgets->bnlearn) (4.1.0)\n",
      "Requirement already satisfied: defusedxml in c:\\programdata\\anaconda3\\lib\\site-packages (from nbconvert>=6.4.4->jupyter-server<3,>=2.4.0->notebook>=4.4.1->widgetsnbextension~=3.5.0->ipywidgets->bnlearn) (0.7.1)\n",
      "Requirement already satisfied: jupyterlab-pygments in c:\\programdata\\anaconda3\\lib\\site-packages (from nbconvert>=6.4.4->jupyter-server<3,>=2.4.0->notebook>=4.4.1->widgetsnbextension~=3.5.0->ipywidgets->bnlearn) (0.1.2)\n",
      "Requirement already satisfied: mistune<4,>=2.0.3 in c:\\programdata\\anaconda3\\lib\\site-packages (from nbconvert>=6.4.4->jupyter-server<3,>=2.4.0->notebook>=4.4.1->widgetsnbextension~=3.5.0->ipywidgets->bnlearn) (2.0.4)\n",
      "Requirement already satisfied: nbclient>=0.5.0 in c:\\programdata\\anaconda3\\lib\\site-packages (from nbconvert>=6.4.4->jupyter-server<3,>=2.4.0->notebook>=4.4.1->widgetsnbextension~=3.5.0->ipywidgets->bnlearn) (0.8.0)\n",
      "Requirement already satisfied: pandocfilters>=1.4.1 in c:\\programdata\\anaconda3\\lib\\site-packages (from nbconvert>=6.4.4->jupyter-server<3,>=2.4.0->notebook>=4.4.1->widgetsnbextension~=3.5.0->ipywidgets->bnlearn) (1.5.0)\n",
      "Requirement already satisfied: tinycss2 in c:\\programdata\\anaconda3\\lib\\site-packages (from nbconvert>=6.4.4->jupyter-server<3,>=2.4.0->notebook>=4.4.1->widgetsnbextension~=3.5.0->ipywidgets->bnlearn) (1.2.1)\n",
      "Requirement already satisfied: webencodings in c:\\programdata\\anaconda3\\lib\\site-packages (from bleach!=5.0.0->nbconvert>=6.4.4->jupyter-server<3,>=2.4.0->notebook>=4.4.1->widgetsnbextension~=3.5.0->ipywidgets->bnlearn) (0.5.1)\n",
      "Requirement already satisfied: charset-normalizer<4,>=2 in c:\\programdata\\anaconda3\\lib\\site-packages (from requests->datazets>=1.1.2->bnlearn) (2.0.4)\n",
      "Requirement already satisfied: urllib3<3,>=1.21.1 in c:\\programdata\\anaconda3\\lib\\site-packages (from requests->datazets>=1.1.2->bnlearn) (2.0.7)\n",
      "Requirement already satisfied: certifi>=2017.4.17 in c:\\programdata\\anaconda3\\lib\\site-packages (from requests->datazets>=1.1.2->bnlearn) (2024.2.2)\n",
      "Requirement already satisfied: argon2-cffi-bindings in c:\\programdata\\anaconda3\\lib\\site-packages (from argon2-cffi->jupyter-server<3,>=2.4.0->notebook>=4.4.1->widgetsnbextension~=3.5.0->ipywidgets->bnlearn) (21.2.0)\n",
      "Requirement already satisfied: cffi>=1.0.1 in c:\\programdata\\anaconda3\\lib\\site-packages (from argon2-cffi-bindings->argon2-cffi->jupyter-server<3,>=2.4.0->notebook>=4.4.1->widgetsnbextension~=3.5.0->ipywidgets->bnlearn) (1.16.0)\n",
      "Requirement already satisfied: pycparser in c:\\programdata\\anaconda3\\lib\\site-packages (from cffi>=1.0.1->argon2-cffi-bindings->argon2-cffi->jupyter-server<3,>=2.4.0->notebook>=4.4.1->widgetsnbextension~=3.5.0->ipywidgets->bnlearn) (2.21)\n",
      "Requirement already satisfied: soupsieve>1.2 in c:\\programdata\\anaconda3\\lib\\site-packages (from beautifulsoup4->nbconvert>=6.4.4->jupyter-server<3,>=2.4.0->notebook>=4.4.1->widgetsnbextension~=3.5.0->ipywidgets->bnlearn) (2.5)\n",
      "Requirement already satisfied: arrow>=0.15.0 in c:\\programdata\\anaconda3\\lib\\site-packages (from isoduration->jsonschema[format-nongpl]>=4.18.0->jupyter-events>=0.6.0->jupyter-server<3,>=2.4.0->notebook>=4.4.1->widgetsnbextension~=3.5.0->ipywidgets->bnlearn) (1.2.3)\n",
      "Requirement already satisfied: graphviz in c:\\users\\yuliy\\appdata\\roaming\\python\\python311\\site-packages (from lingam->bnlearn) (0.20.3)\n",
      "Requirement already satisfied: pygam in c:\\users\\yuliy\\appdata\\roaming\\python\\python311\\site-packages (from lingam->bnlearn) (0.9.1)\n",
      "Requirement already satisfied: psy in c:\\users\\yuliy\\appdata\\roaming\\python\\python311\\site-packages (from lingam->bnlearn) (0.0.1)\n",
      "Requirement already satisfied: semopy in c:\\users\\yuliy\\appdata\\roaming\\python\\python311\\site-packages (from lingam->bnlearn) (2.3.11)\n",
      "Requirement already satisfied: tzdata>=2022.7 in c:\\programdata\\anaconda3\\lib\\site-packages (from pandas->bnlearn) (2023.3)\n",
      "Requirement already satisfied: progressbar2 in c:\\users\\yuliy\\appdata\\roaming\\python\\python311\\site-packages (from psy->lingam->bnlearn) (4.5.0)\n",
      "Requirement already satisfied: python-utils>=3.8.1 in c:\\users\\yuliy\\appdata\\roaming\\python\\python311\\site-packages (from progressbar2->psy->lingam->bnlearn) (3.9.1)\n",
      "Requirement already satisfied: threadpoolctl>=3.1.0 in c:\\users\\yuliy\\appdata\\roaming\\python\\python311\\site-packages (from scikit-learn->bnlearn) (3.6.0)\n",
      "Requirement already satisfied: sympy in c:\\users\\yuliy\\appdata\\roaming\\python\\python311\\site-packages (from semopy->lingam->bnlearn) (1.14.0)\n",
      "Requirement already satisfied: numdifftools in c:\\users\\yuliy\\appdata\\roaming\\python\\python311\\site-packages (from semopy->lingam->bnlearn) (0.9.41)\n",
      "Requirement already satisfied: executing>=1.2.0 in c:\\users\\yuliy\\appdata\\roaming\\python\\python311\\site-packages (from stack-data->ipython>=4.0.0->ipywidgets->bnlearn) (2.0.1)\n",
      "Requirement already satisfied: asttokens>=2.1.0 in c:\\users\\yuliy\\appdata\\roaming\\python\\python311\\site-packages (from stack-data->ipython>=4.0.0->ipywidgets->bnlearn) (2.4.1)\n",
      "Requirement already satisfied: pure-eval in c:\\users\\yuliy\\appdata\\roaming\\python\\python311\\site-packages (from stack-data->ipython>=4.0.0->ipywidgets->bnlearn) (0.2.2)\n",
      "Requirement already satisfied: patsy>=0.5.6 in c:\\users\\yuliy\\appdata\\roaming\\python\\python311\\site-packages (from statsmodels->bnlearn) (1.0.1)\n",
      "Requirement already satisfied: mpmath<1.4,>=1.1.0 in c:\\programdata\\anaconda3\\lib\\site-packages (from sympy->semopy->lingam->bnlearn) (1.3.0)\n",
      "Requirement already satisfied: filelock in c:\\programdata\\anaconda3\\lib\\site-packages (from torch->pgmpy==0.1.25->bnlearn) (3.13.1)\n",
      "Defaulting to user installation because normal site-packages is not writeable\n",
      "Requirement already satisfied: openpyxl in c:\\programdata\\anaconda3\\lib\\site-packages (3.0.10)\n",
      "Requirement already satisfied: et_xmlfile in c:\\programdata\\anaconda3\\lib\\site-packages (from openpyxl) (1.1.0)\n",
      "Defaulting to user installation because normal site-packages is not writeable\n",
      "Requirement already satisfied: doubleml in c:\\users\\yuliy\\appdata\\roaming\\python\\python311\\site-packages (0.9.3)\n",
      "Requirement already satisfied: joblib in c:\\programdata\\anaconda3\\lib\\site-packages (from doubleml) (1.2.0)\n",
      "Requirement already satisfied: numpy in c:\\programdata\\anaconda3\\lib\\site-packages (from doubleml) (1.26.4)\n",
      "Requirement already satisfied: pandas in c:\\users\\yuliy\\appdata\\roaming\\python\\python311\\site-packages (from doubleml) (2.2.3)\n",
      "Requirement already satisfied: scipy in c:\\programdata\\anaconda3\\lib\\site-packages (from doubleml) (1.11.4)\n",
      "Requirement already satisfied: scikit-learn<1.6.0,>=1.4.0 in c:\\users\\yuliy\\appdata\\roaming\\python\\python311\\site-packages (from doubleml) (1.5.2)\n",
      "Requirement already satisfied: statsmodels in c:\\users\\yuliy\\appdata\\roaming\\python\\python311\\site-packages (from doubleml) (0.14.4)\n",
      "Requirement already satisfied: matplotlib in c:\\programdata\\anaconda3\\lib\\site-packages (from doubleml) (3.8.0)\n",
      "Requirement already satisfied: plotly in c:\\programdata\\anaconda3\\lib\\site-packages (from doubleml) (5.9.0)\n",
      "Requirement already satisfied: threadpoolctl>=3.1.0 in c:\\users\\yuliy\\appdata\\roaming\\python\\python311\\site-packages (from scikit-learn<1.6.0,>=1.4.0->doubleml) (3.6.0)\n",
      "Requirement already satisfied: contourpy>=1.0.1 in c:\\programdata\\anaconda3\\lib\\site-packages (from matplotlib->doubleml) (1.2.0)\n",
      "Requirement already satisfied: cycler>=0.10 in c:\\programdata\\anaconda3\\lib\\site-packages (from matplotlib->doubleml) (0.11.0)\n",
      "Requirement already satisfied: fonttools>=4.22.0 in c:\\programdata\\anaconda3\\lib\\site-packages (from matplotlib->doubleml) (4.25.0)\n",
      "Requirement already satisfied: kiwisolver>=1.0.1 in c:\\programdata\\anaconda3\\lib\\site-packages (from matplotlib->doubleml) (1.4.4)\n",
      "Requirement already satisfied: packaging>=20.0 in c:\\users\\yuliy\\appdata\\roaming\\python\\python311\\site-packages (from matplotlib->doubleml) (24.0)\n",
      "Requirement already satisfied: pillow>=6.2.0 in c:\\programdata\\anaconda3\\lib\\site-packages (from matplotlib->doubleml) (10.2.0)\n",
      "Requirement already satisfied: pyparsing>=2.3.1 in c:\\programdata\\anaconda3\\lib\\site-packages (from matplotlib->doubleml) (3.0.9)\n",
      "Requirement already satisfied: python-dateutil>=2.7 in c:\\users\\yuliy\\appdata\\roaming\\python\\python311\\site-packages (from matplotlib->doubleml) (2.9.0.post0)\n",
      "Requirement already satisfied: six>=1.5 in c:\\users\\yuliy\\appdata\\roaming\\python\\python311\\site-packages (from python-dateutil>=2.7->matplotlib->doubleml) (1.16.0)\n",
      "Requirement already satisfied: pytz>=2020.1 in c:\\programdata\\anaconda3\\lib\\site-packages (from pandas->doubleml) (2023.3.post1)\n",
      "Requirement already satisfied: tzdata>=2022.7 in c:\\programdata\\anaconda3\\lib\\site-packages (from pandas->doubleml) (2023.3)\n",
      "Requirement already satisfied: tenacity>=6.2.0 in c:\\programdata\\anaconda3\\lib\\site-packages (from plotly->doubleml) (8.2.2)\n",
      "Requirement already satisfied: patsy>=0.5.6 in c:\\users\\yuliy\\appdata\\roaming\\python\\python311\\site-packages (from statsmodels->doubleml) (1.0.1)\n"
     ]
    }
   ],
   "source": [
    "!pip install numpy\n",
    "!pip install pandas\n",
    "!pip install scikit-learn\n",
    "!pip install scipy\n",
    "!pip install bnlearn\n",
    "!pip install openpyxl\n",
    "!pip install doubleml\n",
    "\n",
    "# !pip install --upgrade scipy numpy pandas scikit-learn bnlearn"
   ]
  },
  {
   "cell_type": "markdown",
   "metadata": {
    "id": "hqktMTJe0rWo"
   },
   "source": [
    "# Импорт библиотек"
   ]
  },
  {
   "cell_type": "code",
   "execution_count": 2,
   "metadata": {
    "id": "asOoePEmkRys"
   },
   "outputs": [],
   "source": [
    "# Подключим необходимые библиотеки\n",
    "import bnlearn\n",
    "# import pgmpy\n",
    "from sklearn.metrics import confusion_matrix\n",
    "import networkx as nx\n",
    "import numpy as np\n",
    "import pandas as pd\n",
    "import scipy as scipy\n",
    "from copy import deepcopy\n",
    "import math\n",
    "from scipy.stats import multivariate_normal\n",
    "import seaborn\n",
    "import matplotlib.pyplot as plt\n",
    "from scipy.stats import t, chi2, f, norm, poisson, binom, uniform, expon, logistic\n",
    "import seaborn as sns\n",
    "import networkx as nx\n",
    "import sklearn\n",
    "import doubleml as dml\n",
    "from sklearn.ensemble import RandomForestClassifier\n",
    "from sklearn.ensemble import RandomForestRegressor\n",
    "from sklearn.ensemble import GradientBoostingClassifier\n",
    "from sklearn.ensemble import GradientBoostingRegressor\n",
    "from sklearn.linear_model import Lasso\n",
    "from sklearn.base import clone\n",
    "import statsmodels.api as sm\n",
    "from sklearn.model_selection import train_test_split\n",
    "from sklearn.model_selection import cross_val_score\n",
    "from sklearn.model_selection import GridSearchCV\n",
    "from sklearn.naive_bayes import CategoricalNB\n",
    "from sklearn.neighbors import KNeighborsClassifier\n",
    "from sklearn.linear_model import LogisticRegression\n",
    "from sklearn.neighbors import KNeighborsRegressor\n",
    "from sklearn import metrics as metrics\n",
    "from sklearn.metrics import mean_squared_error\n",
    "from sklearn.metrics import mean_absolute_percentage_error"
   ]
  },
  {
   "cell_type": "markdown",
   "metadata": {
    "id": "EAa5NWyN3XVn"
   },
   "source": [
    "# 1 Обоснование темы\n",
    "\n",
    "1. Придумайте непрерывную зависимую (целевую) переменную (например, заработная плата или прибыль) и бинарную переменную воздействия (например, образование или факт занятий спортом).\n",
    "\n",
    "* В качестве непрерывной зависимой целевой переменной был выбран  **уровень счастья** `happiness` (шкала измерения от 0 до 100)\n",
    "\n",
    "* В качестве бинарной переменной воздействия был выбран  **факт прослушивания музыки по пути на работу** `music`, где 1 - слушает музыку по пути на работу, 0 - не слушает музыку по пути на работу"
   ]
  },
  {
   "cell_type": "markdown",
   "metadata": {
    "id": "QL7OxbNI5mx1"
   },
   "source": [
    "  2. Опишите, для чего может быть полезно изучение влияния переменной воздействия на зависимую переменную. В частности, укажите, как эта информация\n",
    "  может быть использована бизнесом или государственными органами.\n",
    "\n",
    "  Прослушивание музыки снижает уровень тревоги и стресса (это доказывается во многих исследованиях, например, [Music interventions for posttraumatic stress disorder: A systematic review](https://www.sciencedirect.com/science/article/pii/S2950004424000075), а значит работодатели могут рекомендовать своим сотрудникам слушать музыку по пути на работу для улучшения общего эмоционального состояния и, следовательно, увеличения продуктивности во время рабчего дня. Транспортные компании могут интегрировать персонализированные музыкальные настройки в свои приложения, что позволит улучшить клиентский опыт и удовлетворенность поездкой. Так, например, в 2014 году Uber сделал коллаборацию со Spotify, включив в приложение функцию подбора музыкальных треков во время поездки.\n",
    "  Государственные органы могут интегрировать музыкальное сопровождение в транспорт для снижения уровня стресса, что может оказать благоприятное влияние на ментальное здоровье граждан. Более того, можно создавать специальные музыкальные зоны в парках или на остановках, чтобы повысить удовлетворенность граждан городской инфраструктурой, а следовательно, и их уровень счастья."
   ]
  },
  {
   "cell_type": "markdown",
   "metadata": {
    "id": "d4nK0kKu5p9o"
   },
   "source": [
    "3. Обоснуйте наличие причинно-следственной связи между зависимой переменной и переменной воздействия. Приведите не менее 2-х источников из научной\n",
    "литературы, подкрепляющих ваши предположения.\n",
    "\n",
    "* Как уже описывали выше, прослушивание музыки в целом снижает уровень страесса и тревоги, а соответственно повышает уровень благополучия (счастья), об этом подробно описано в исследовании [**Liu, G., Hu, J., & Kostikova, I. (2025). Music therapy and its impact on anxiety and mental well-being of Chinese students: An experimental comparison of traditional and VR approaches. Acta Psychologica, 255, 104898**](https://www.sciencedirect.com/science/article/pii/S0001691825002112), опубликованном в журнале **Acta Psychologica**. Результаты говорят, что музыкальная терапия в любом формате повышает уровень счастья.\n",
    "\n",
    "* Также китайские ученые проводили исследование о роли музыки в жизни студентов - [**Hu, X., Chen, J., & Wang, Y. (2021). University students’ use of music for learning and well-being: A qualitative study and design implications. Information Processing & Management, 58(1), 102409**](https://www.sciencedirect.com/science/article/pii/S0306457320309043), журнал **Information Processing & Management**, его результаты также демонстрируют связь между прослушиванием музыки и счастьем: во-первых, 50% респондентов слушают музыку при ходьбе (по пути куда-либо), 38% - в транспорте, что показывает значимость нашей переменной воздействия. Во-вторых, 85% из них испытывают позитивные эмоции после прослушивания музыки, эффективность учебы и общее физическое благополучие повышаются.\n",
    "\n",
    "Таким образом, можно сделать вывод, что действительно, музыка в целом улучшает благосостояние индивидов, а также ее достаточно часто слушают по пути куда-либо."
   ]
  },
  {
   "cell_type": "markdown",
   "metadata": {
    "id": "ZhmQJ8wv5tFq"
   },
   "source": [
    "4. Кратко опишите результаты предшествовавших исследований по схожей тематике и критически оцените методологию этих работ с точки зрения гибкости\n",
    "(жесткости предпосылок) использовавшихся методов эконометрического анализа. Объясните, в чем заключается преимущество и недостатки применяемых\n",
    "вами методов в сравнении с теми, что ранее использовались в литературе.\n",
    "\n",
    "* Оба исследования проводились на очень ограниченной выборке, из-за чего результаты требуют дальнейших подтверждений, но тем не менее имеют большой потенциал.\n",
    "* Цель первого исследования - *Сравнить эффективность традиционной музыкотерапии и музыкотерапии с VR для снижения тревожности и улучшения психологического благополучия у китайских студентов*. В контексте нашего исследования значимым является факт того, что в целом любая музыка оказывает позитивное влияние на благополучие индивидов.  В качестве инструментов использовались шкала благополучия и шкала тревожности, а для анализа - t-тесты, ANOVA, пост-хок тест Тьюки. Эти тесты достаточно требовательны к структуре данных, не выявляют взаимодействие переменных и достаточно чувствительны к выбросам.\n",
    "* Цель второго исследования - *Изучить, как китайские студенты используют музыку для поддержки обучения и психологического благополучия, и вывести рекомендации для разработки музыкальных онлайн-сервисов*. Результаты исследования были описаны в п. 3, и они коррелируют с нашим ииследованием, однако, китайские исследователи применяли анкетирование в качестве инструмента и на основе него делали выводы. Такой подход может быть менее точным, из-за сильного влияния человеческого фактора при ответе на вопросы.\n",
    "* Методы машинного обучения позволяют работать с большими объемами данных, выявлять более сложные взаимосвзяи, в то время как t-тесты, ANOVA и анкетирование ограничены в этом, однако возникает риск переобучения. Также необходимо отметить, что все эти подходы используются для разных целей и скорее являются взаимодолняющими."
   ]
  },
  {
   "cell_type": "markdown",
   "metadata": {
    "id": "K416dhe35wC8"
   },
   "source": [
    "5. Придумайте хотя бы 3 контрольные переменные, по крайней мере одна из которых должна быть бинарной и хотя бы одна – непрерывной. Кратко обоснуйте\n",
    "выбор каждой из них.\n",
    "\n",
    "**Контрольные переменные:**\n",
    "\n",
    "$\\text{Wage}$ - Уровень зарплаты, тыс. руб. (непрерывная переменная), зарплата может влиять на уровень счастья, потому что чем выше заработная плата, тем больше материальных и нематериальных благ человек может себе позволить, тем самым удовлетворив свои потребности.\n",
    "\n",
    "$\\text{Fam}$ - Время, проведенное с семьей в неделю (непрерывная, цензурированная переременная), может оказывать положительное влияние на уровень счастья, потому что времяпровождение с семьей помогает человеку справляться со стрессом, приносит положительные эмоции, семья служит поддержкой в трудных ситуациях. Также данную переменную мы ограничили сверху 72 часами, учитывая, что человек тратит в среднем 8 часов в сутки на сон и 40 часов в неделю на работу.\n",
    "\n",
    "$\\text{Hobby}$ - Наличие хобби (бирная переменная), также оказывает положительное воздействие на уровень счастья, так как приносит положительные эмоции, позволяет самореализоваться, чувствовать принадлежность к определенной социальной группе."
   ]
  },
  {
   "cell_type": "markdown",
   "metadata": {
    "id": "YCmvmgyV53NZ"
   },
   "source": [
    "6. Придумайте бинарную инструментальную переменную и обоснуйте, почему\n",
    "она удовлетворяет необходимым условиям.\n",
    "\n",
    "$\\text{Subs}$ - Наличие подписки на музыкальный сервис (бинарная переменная), сейчас во многих странах доступ к музыке достаточно сильно ограничен, следовательно, для комфортного прослушивания люди приобретают подписки на музыкальные сервисы, иначе прослушивание музыки становится достаточно трудным (где-то невозможным). Именно поэтому мы уверены в наличии взаимосвязи между наличием подписки и прослушиванием музыки."
   ]
  },
  {
   "cell_type": "markdown",
   "metadata": {
    "id": "mifZyU5u5_mt"
   },
   "source": [
    "# 2 Генерация и предварительная обработка данных\n",
    "\n",
    "1. Опишите математически предполагаемый вами процесс генерации данных.\n",
    "\n",
    "2. Обоснуйте предполагаемые направления связей зависимой переменной и переменной воздействия с контрольными переменными.\n"
   ]
  },
  {
   "cell_type": "markdown",
   "metadata": {
    "id": "MkkEWHR06eLw"
   },
   "source": [
    "3. Симулируйте данные в соответствии с предполагаемым вами процессом и приведите корреляционную матрицу, а также таблицу со следующими описательными статистиками:\n",
    "\n",
    "• Для непрерывных переменных: выборочное среднее, выборочное стандартное отклонение, медиана, минимум и максимум.\n",
    "\n",
    "• Для бинарных переменных: доля и количество единиц"
   ]
  },
  {
   "cell_type": "markdown",
   "metadata": {
    "id": "QiEgDUOCkwC_"
   },
   "source": [
    "Ненаблюдаемая переменная:\n",
    "$\\text{Health}$ - Уровень здоровья"
   ]
  },
  {
   "cell_type": "code",
   "execution_count": 3,
   "metadata": {
    "id": "RbxPyKWfTrzP"
   },
   "outputs": [],
   "source": [
    "# Число наблюдений\n",
    "n = 10000"
   ]
  },
  {
   "cell_type": "markdown",
   "metadata": {
    "id": "sW_F3L9067yj"
   },
   "source": [
    "### Сгенерируем контрольные переменные"
   ]
  },
  {
   "cell_type": "code",
   "execution_count": 4,
   "metadata": {
    "id": "fbyOAcNGTy3x",
    "outputId": "2e4645be-374d-42e3-9282-3a4ceb9eec6a"
   },
   "outputs": [
    {
     "name": "stdout",
     "output_type": "stream",
     "text": [
      "{'wage': array([ 56.47, 157.33, 121.36,  92.57, 110.84,  99.01,  93.36, 114.32,\n",
      "        79.24, 123.76])}\n",
      "{'fam': array([56.4, 32.2, 37.2, 50.6, 45.2, 15.2, 42.6, 37.2, 40.3, 32.2])}\n",
      "{'hobby': array([0, 0, 1, 0, 1, 0, 1, 0, 0, 0])}\n",
      "0.4012\n"
     ]
    }
   ],
   "source": [
    "np.random.seed(200)\n",
    "# Зарплата\n",
    "# Предположим, что распределение зарплаты схоже с нормальным распределением\n",
    "wage = scipy.stats.norm.rvs(size = n, loc = 100, scale = 30)\n",
    "wage[wage <= 0] = 0\n",
    "wage = np.round(wage, 2)\n",
    "print({'wage': wage[0:10]})\n",
    "\n",
    "# Время с семьей\n",
    "# Делаем аналогичное предположение\n",
    "fam = scipy.stats.norm.rvs(size = n, loc = 36, scale = 10)\n",
    "fam[fam >= 72] = 72\n",
    "fam[fam <= 0] = 0\n",
    "fam = np.round(fam, 1)\n",
    "print({'fam': fam[0:10]})\n",
    "\n",
    "# Хобби\n",
    "# Предположение о принадлежности к распределению Бернули (p = 0.4)\n",
    "hobby = np.random.binomial(n = 1, p = 0.4, size = n)\n",
    "print({'hobby': hobby[0:10]})\n",
    "# Доля индивидов c наличием хобби\n",
    "print(np.mean(hobby))"
   ]
  },
  {
   "cell_type": "code",
   "execution_count": 5,
   "metadata": {
    "id": "Fe7LV2bf7o1Y",
    "outputId": "3f563d17-6a95-4dad-cd03-d0063b5d1c3b"
   },
   "outputs": [
    {
     "data": {
      "text/plain": [
       "Text(0.5, 1.0, 'Fam')"
      ]
     },
     "execution_count": 5,
     "metadata": {},
     "output_type": "execute_result"
    },
    {
     "data": {
      "image/png": "[encoded data removed]",
      "text/plain": [
       "<Figure size 1600x600 with 2 Axes>"
      ]
     },
     "metadata": {},
     "output_type": "display_data"
    }
   ],
   "source": [
    "fig, axes = plt.subplots(1, 2, figsize=(8, 3), dpi=200)\n",
    "\n",
    "# Гистограмма для wage\n",
    "sns.histplot(wage, ax=axes[0], stat='density', color=\"violet\", label = \"histogram\", bins=100)\n",
    "axes[0].set_title(\"Wage\")\n",
    "\n",
    "# Гистограмма для fam\n",
    "sns.histplot(fam, ax=axes[1], stat='density', color=\"skyblue\", label = \"histogram\", bins=100)\n",
    "axes[1].set_title(\"Fam\")"
   ]
  },
  {
   "cell_type": "markdown",
   "metadata": {
    "id": "0mupVpGe98vi"
   },
   "source": [
    "### Сгенерируем ненаблюдаемую переменную, пораждающую эндогенность (уровень здоровья)"
   ]
  },
  {
   "cell_type": "markdown",
   "metadata": {
    "id": "TiG1K6kIBrUt"
   },
   "source": [
    "- **Уровень здоровья** (`health`, непрерывная переменная): Уровень здоровья оказывает влияние на уровень счастья, (найти статистику, подтверждение) + надо связать с переменной воздействия (как здоровье связано с прослушиванием музыки)????\n",
    "Уровень здоровья измеряем по шкале от 1 до 10, может подойти Пуассоновское распределение"
   ]
  },
  {
   "cell_type": "code",
   "execution_count": 6,
   "metadata": {
    "id": "JouEWG8S-IfD",
    "outputId": "4d011c71-ec0b-45c3-d54b-18fe46f2e388"
   },
   "outputs": [
    {
     "name": "stdout",
     "output_type": "stream",
     "text": [
      "[5 2 3 4 9 5 6 5 7 1]\n"
     ]
    }
   ],
   "source": [
    "# Здоровье\n",
    "np.random.seed(111)\n",
    "health = poisson.rvs(size = n, mu = 5)\n",
    "health[health >= 10] = 10\n",
    "print(health[0:10])"
   ]
  },
  {
   "cell_type": "code",
   "execution_count": 7,
   "metadata": {
    "id": "vEZ29z6-A1de",
    "outputId": "b9245a03-1b71-4321-9b66-56cbb5adb8b6"
   },
   "outputs": [
    {
     "data": {
      "image/png": "[encoded data removed]",
      "text/plain": [
       "<Figure size 800x600 with 1 Axes>"
      ]
     },
     "metadata": {},
     "output_type": "display_data"
    }
   ],
   "source": [
    "# Посмотрим на распределение\n",
    "plt.figure(figsize=(4, 3), dpi=200)\n",
    "sns.histplot(health,                 # данные\n",
    "                 stat = 'density',           # тип гистограммы\n",
    "                 color = \"violet\",        # цвет гистограммы\n",
    "                 label = \"histogram\",        # наименование гистограммы\n",
    "                 bins=np.unique(health).shape[0]);                 # число столбиков в Гистограмме"
   ]
  },
  {
   "cell_type": "markdown",
   "metadata": {
    "id": "8AjvUoYbDImc"
   },
   "source": [
    "### Сгенерируем инструментальную переменную"
   ]
  },
  {
   "cell_type": "markdown",
   "metadata": {
    "id": "3nAek5Ofp4pS"
   },
   "source": [
    "Наличие подписки на музыкальный сервис $\\text{Subs}_{i}$. Обратим внимание, что поскольку $\\text{Subs}_{i}$ является бинарной переменной, то имеет распределение Бернулли, а значит условное математическое ожидание и условная вероятность совпадают.\n",
    "Рассмотрим следующую спецификацию:\n",
    "\n",
    "$\\mathrm{P}(\\text{Subs}_i = 1 \\mid \\text{Wage}_i, \\text{Hobby}_i) = \\Phi\\left( 0.02 * \\text{Wage}_i + 0.3 * \\ln\\left(0.5 * \\text{Hobby}_i + 1 \\right) + 0.5 * \\text{Hobby}_i - 3 \\right)$\n",
    "\n",
    "Где $\\Phi()$ - функция распределения стандартного нормального распределения."
   ]
  },
  {
   "cell_type": "code",
   "execution_count": 8,
   "metadata": {
    "id": "NihT4yvMH_BF",
    "outputId": "53ef3c1b-01d0-48b4-ee3e-dd167c097c66"
   },
   "outputs": [
    {
     "name": "stdout",
     "output_type": "stream",
     "text": [
      "0.4510232088786546\n"
     ]
    }
   ],
   "source": [
    "subs_index = 0.02*wage + 0.3*np.log(0.5*hobby + 1) + 0.5*hobby - 3\n",
    "print(np.var(subs_index)) # Проверим дисперсию индекса – она не должна отличаться от дисперсии стандартного нормального распределения больше, чем в 2 раза"
   ]
  },
  {
   "cell_type": "code",
   "execution_count": 9,
   "metadata": {
    "id": "eRajCkh8ps6B",
    "outputId": "395f8229-078a-4555-80d4-4f3e26a62031"
   },
   "outputs": [
    {
     "name": "stdout",
     "output_type": "stream",
     "text": [
      "[0.03070027 0.55827612 0.51947641 0.12536048 0.435826   0.15391166\n",
      " 0.30461935 0.23773728 0.07850493 0.29986112]\n",
      "   P(subs = 1|X)  subs\n",
      "0           0.03     0\n",
      "1           0.56     0\n",
      "2           0.52     1\n",
      "3           0.13     0\n",
      "4           0.44     0\n",
      "5           0.15     0\n",
      "6           0.30     0\n",
      "7           0.24     0\n",
      "8           0.08     0\n",
      "9           0.30     1\n",
      "             Оценка\n",
      "P(subs = 1)  0.2632\n"
     ]
    }
   ],
   "source": [
    "#инструментальные\n",
    "# Условная вероятность наличия подписки на музыкальный сервис\n",
    "subs_prob = norm.cdf(subs_index)\n",
    "\n",
    "# Посмотрим на несколько первых условных вероятностей\n",
    "print(subs_prob[0:10])\n",
    "\n",
    "# Факт наличия подписки на музыкальный сервис\n",
    "subs = np.random.binomial(n = 1, p = subs_prob, size = n)\n",
    "\n",
    "# Первые несколько значений условных вероятностей и переменной\n",
    "print(pd.DataFrame({'P(subs = 1|X)': np.round(subs_prob[0:10], 2),\n",
    "                    'subs': subs[0:10]}))\n",
    "\n",
    "# Доля индивидов, у которых есть подписка на музыкальный сервис\n",
    "print(pd.DataFrame(data    =  np.mean(subs),\n",
    "                   index   = ['P(subs = 1)'],\n",
    "                   columns = ['Оценка']))"
   ]
  },
  {
   "cell_type": "markdown",
   "metadata": {
    "id": "BNbA65eYP7iT"
   },
   "source": [
    "### Сгенерируем переменную воздействия"
   ]
  },
  {
   "cell_type": "markdown",
   "metadata": {
    "id": "KnIScrOfUB0X"
   },
   "source": [
    "Симулируем переменную воздействия: факт прослушивания музыки по пути на работу $\\text{Music}_{i}$.\n",
    "\n",
    "Предположим, что условные вероятности переменной воздействия зависят от контрольных переменных, инструментальной переменной и ненаблюдаемой переменной. Для краткости обозначим  $\\tilde{X}_{i} = (\\text{Wage}_{i}, \\text{Fam}_{i}, \\text{Hobby}_{i}, \\text{Health}_{i}, \\text{Subs}_{i})$.\n",
    "\n",
    "$\\mathrm{P}(\\text{Music}_i = 1 \\mid \\tilde{X}_i) = F_{\\text{Logistic}}\\left(0.02 *\\ln(\\text{Fam}_i + 1) + 2.5 * \\sqrt{\\text{Health}_i} + 20 * \\text{Subs}_i - 4.5 \\right)$\n",
    "\n",
    "Где $F_{\\text{Logistic}}$ - функция распределения стандартного логистического распределения. Для краткости введем обозначение для условной вероятности прослушивания музыки по пути на работу у индивида при конкретном значении факта наличия подписки на музыкальный сервис:\n",
    "\n",
    "$$p_{k}^{\\text{Subs}_i} = P(\\text{Subs}_i = 1|\\text{Wage}_i, \\text{Fam}_i, \\text{Hobby}_i, \\text{Health}_i, \\text{Music}_i = k)\\text{, где }k\\in\\{0,1\\}$$\n",
    "\n",
    "Для того, чтобы впоследствии анализировать локальные средние эффекты воздействия $\\text{LATE}$, необходимо различать величину переменной воздействия $\\text{Music}_{i}$ в зависимости от значения инструмента $\\text{Subs}_{i}$. Для этого рассмотрим ни от чего не зависящую равномерную случайную величину $U_{i}\\sim U(0,1)$ и введем гипотетические переменные:\n",
    "\n",
    "$$\\text{Music}_{1i} = I(p_{1}^{\\text{Subs}_{i}}\\geq U_{i})$$\n",
    "$$\\text{Music}_{0i} = I(p_{0}^{\\text{Subs}_{i}}\\geq U_{i})$$\n",
    "\n",
    "$$I(\\text{условие}) = \\begin{cases}1\\text{, если условие выполнено}\\\\0\\text{, в противном случае}\\end{cases}$$\n",
    "\n",
    "Переменные $\\text{Music}_{1i}$ и $\\text{Music}_{0i}$ отражают потенциальный факт прослушивания музыки по пути на работу в зависимости от наличия подписки на музыкальный сервис."
   ]
  },
  {
   "cell_type": "code",
   "execution_count": 10,
   "metadata": {
    "id": "AQAvlATAQ8-8"
   },
   "outputs": [],
   "source": [
    "# Равномерные случайные величины\n",
    "u = uniform.rvs(size = n)\n",
    "\n",
    "# Сгенерируем часть индекса, не зависящую от наличия подписки на музыкальный сервис\n",
    "index = 0.02*np.log(fam + 1) + 2.5*np.sqrt(health) - 4.5"
   ]
  },
  {
   "cell_type": "code",
   "execution_count": 11,
   "metadata": {
    "id": "8skAjZlUQ8-8",
    "outputId": "c10e81b6-1eb4-4707-99c1-5c7f26321e63"
   },
   "outputs": [
    {
     "data": {
      "text/plain": [
       "1.0"
      ]
     },
     "execution_count": 11,
     "metadata": {},
     "output_type": "execute_result"
    }
   ],
   "source": [
    "# Симулируем факт прослушивания музыки индивидам по пути на работу в случае,\n",
    "# когда у него есть подписка на музыкальный сервис\n",
    "subs1 = 1\n",
    "music1_index = index + 20*subs1\n",
    "music1_prob  = logistic.cdf(music1_index)\n",
    "music1 = (music1_prob >= u).astype(int)\n",
    "\n",
    "# Доля людей, слушающих музыку по пути на работу в случае, когда у всех есть\n",
    "# подписка на музыкальный сервис\n",
    "np.mean(music1)"
   ]
  },
  {
   "cell_type": "code",
   "execution_count": 12,
   "metadata": {
    "id": "4XbCWtvRQ8-8",
    "outputId": "f4055f95-c5f3-432d-f450-836f0a09a3f9"
   },
   "outputs": [
    {
     "data": {
      "text/plain": [
       "0.6877"
      ]
     },
     "execution_count": 12,
     "metadata": {},
     "output_type": "execute_result"
    }
   ],
   "source": [
    "# Симулируем факт прослушивания музыки индивидам по пути на работу в случае,\n",
    "# когда у них нет подписки на музыкальный сервис\n",
    "subs0 = 0\n",
    "music0_index = index + 20*subs0\n",
    "music0_prob  = logistic.cdf(music0_index)\n",
    "music0 = (music0_prob >= u).astype(int)\n",
    "\n",
    "# Доля людей, слушающих музыку по пути на работу, когда у всех нет\n",
    "# подписки на музыкальный сервис\n",
    "np.mean(music0)"
   ]
  },
  {
   "cell_type": "markdown",
   "metadata": {
    "id": "zFVd1_SiQ8-8"
   },
   "source": [
    "Таким образом, индивидов можно разделить на $4$ группы:\n",
    "\n",
    "\n",
    "*   **Always takers** - те, у кого $\\text{music}_{0i}=\\text{music}_{1i}=1$: слушают музыку по пути на работу независимо от наличия подписки на музыкальный сервис.\n",
    "*   **Never takers**- те, у кого $\\text{music}_{0i}=\\text{music}_{1i}=0$: не слушают музыку по пути на работу независимо от наличия подписки на музыкальный сервис.\n",
    "*   **Compliers** - те, у кого $\\text{music}_{1i}=1$ и $\\text{music}_{0i}=0$, то есть $\\text{music}_{1i} > \\text{music}_{0i}$: слушают музыку по пути на работу только, если есть подписка на музыкальный сервис.\n",
    "*   **Deniers** - те, у кого $\\text{music}_{1i}=0$ и $\\text{music}_{0i}=1$, то есть $\\text{music}_{1i} < \\text{music}_{0i}$: слушают музыку по пути на работу только, если подписка на музыкальный сервис отсутствует.\n",
    "\n",
    "Для соблюдения предпосылок используемых методов важно отсутствие Deniers, что гарантируется используемым процессом генерации данных"
   ]
  },
  {
   "cell_type": "code",
   "execution_count": 13,
   "metadata": {
    "id": "H3Zyax2lQ8-8",
    "outputId": "eb61c498-aad2-4b67-cd83-f2c7b5a53fc3"
   },
   "outputs": [
    {
     "name": "stdout",
     "output_type": "stream",
     "text": [
      "Always takers    6877\n",
      "Compliers        3123\n",
      "Name: count, dtype: int64\n"
     ]
    }
   ],
   "source": [
    "# Рассмотрим различные группы индивидов\n",
    "ind_type = np.empty(n, dtype = 'U25')\n",
    "ind_type[(music1 == 1) & (music0 == 1)] = 'Always takers'\n",
    "ind_type[(music1 == 0) & (music0 == 0)] = 'Never takers'\n",
    "ind_type[music1 > music0]               = 'Compliers'\n",
    "ind_type[music1 < music0]               = 'Denier'\n",
    "\n",
    "# Посмотрим на распределение индивидов разного типа\n",
    "print(pd.value_counts(ind_type))"
   ]
  },
  {
   "cell_type": "code",
   "execution_count": 14,
   "metadata": {
    "id": "E4CbH0iPQ8-9",
    "outputId": "a3bafcfb-eda0-4031-b690-c1a5b7daaa43"
   },
   "outputs": [
    {
     "name": "stdout",
     "output_type": "stream",
     "text": [
      "0.7699\n"
     ]
    }
   ],
   "source": [
    "# Факт прослушивания музыки по пути на работу\n",
    "music = music1 * subs + music0 * (1 - subs)\n",
    "\n",
    "# Доля индивидов, слушающих музыку по пути на работу\n",
    "print(np.mean(music))"
   ]
  },
  {
   "cell_type": "markdown",
   "metadata": {
    "id": "qabpgJP7T95G"
   },
   "source": [
    "Также необходимо проверить, чтобы коэффициенты корреляции между переменной воздействия (Music) и инструментальной переменной (Subs), а также ненаблюдаемой переменной (Health), порождающей эндогенность  лежаиа в промежутке 0,2 и 0,8,чтобы  инструмент бы валидным и можно было скорректировать эндогенность"
   ]
  },
  {
   "cell_type": "code",
   "execution_count": 15,
   "metadata": {
    "id": "rI7Ktl4GQ8-9",
    "outputId": "3863810e-ac6a-418d-bfe0-83828170ca89"
   },
   "outputs": [
    {
     "name": "stdout",
     "output_type": "stream",
     "text": [
      "[[ 1.    0.33  0.37  0.11 -0.    0.05]\n",
      " [ 0.33  1.    0.02  0.37 -0.    0.21]\n",
      " [ 0.37  0.02  1.    0.   -0.03 -0.01]\n",
      " [ 0.11  0.37  0.    1.    0.02  0.01]\n",
      " [-0.   -0.   -0.03  0.02  1.   -0.01]\n",
      " [ 0.05  0.21 -0.01  0.01 -0.01  1.  ]]\n"
     ]
    }
   ],
   "source": [
    "print(np.round(np.corrcoef([music, subs, health, wage, fam, hobby]), 2))"
   ]
  },
  {
   "cell_type": "markdown",
   "metadata": {
    "id": "8GJpYJvJQ8-9"
   },
   "source": [
    "### Сгенерируем целевую переменную (уровень счастья)"
   ]
  },
  {
   "cell_type": "markdown",
   "metadata": {
    "id": "iyw5MAaWQ8-9"
   },
   "source": [
    "**Основная идея**\n",
    "* Предположим, что счастье имеет положительную зависимость от здоровья, и при этом, когда человек уже очень здоров,  увеличение уровня здоровья на единицу влияет на уровень счастья меньше\n",
    "* Уровень зарплаты и время, проведенное с семьей положительно влияют на уровень счастья\n",
    "\n",
    "\n",
    "Уравнение уровня счастья при отсутствии факта прослушивания музыки по пути на работу:\n",
    "\n",
    "$$\\text{Happiness}_{0i} = \\underbrace{ \\underbrace{7.8 * \\sqrt{\\text{Health}_i}}_{g_{0}^{\\text{unobs}}} + \\underbrace{\\frac{\\text{Wage}_i}{6 + 0.2 *\\text{Fam}_i + 0.3 * \\text{Hobby}_i}+ 0.7 * \\text{Fam}_i + \\text{Hobby}_i}_{g_{0}^{\\text{obs}}}}_{g_0} + \\varepsilon_{0i}, \\quad \\text{где } \\varepsilon_{0i} \\sim (\\text{EXP}(1/5) - 5)$$\n",
    "\n",
    "\n",
    "Уравнение уровня счастья при наличии факта прослушивания музыки по пути на работу:\n",
    "\n",
    "$$\\text{Happiness}_{1i} = \\underbrace{ \\underbrace{8.2 * \\sqrt{\\text{Health}_i}}_{g_{1}^{\\text{unobs}}} + \\underbrace{\\frac{\\text{Wage}_i}{4 + 0.3 *\\text{Fam}_i + 0.4 * \\text{Hobby}_i}+ 0.7 * \\text{Fam}_i+\\text{Hobby}_i}_{g_{1}^{\\text{obs}}}}_{g_1} + \\varepsilon_{1i}, \\quad \\text{где } \\varepsilon_{1i} \\sim \\text{N}(0,7)$$\n",
    "\n",
    "Наблюдаемый уровень счастья:\n",
    "\n",
    "$$\\text{Happiness}_{i} = \\begin{cases}\\text{Happiness}_{1i}\\text{, если }\\text{Music}_{i}=1\\\\ \\text{Happiness}_{0i}\\text{, если }\\text{Music}_{i}=0\\end{cases} = \\\\ =\\text{Happiness}_{1i}\\times\\text{Music}_{i} + \\text{Happiness}_{0i}\\times\\left(1-\\text{Music}_{i}\\right)$$"
   ]
  },
  {
   "cell_type": "code",
   "execution_count": 16,
   "metadata": {
    "id": "YNE4Bu56Q8--"
   },
   "outputs": [],
   "source": [
    "# Случайные ошибки\n",
    "error0 = expon.rvs(size = n, scale = 5) - 5\n",
    "error1 = norm.rvs(size= n, loc=0, scale=7)\n",
    "\n",
    "# Функция от контрольных переменных\n",
    "  # когда индивид не слушает музыку по пути на работу\n",
    "g0_obs   = wage / (6 + 0.2*fam + 0.3*hobby) + 0.7*fam + hobby\n",
    "g0_unobs =  7.8 * np.sqrt(health)\n",
    "g0 = g0_obs + g0_unobs\n",
    "  # когда индивид слушает музыку по пути на работу\n",
    "g1_obs   = wage / (4 + 0.3*fam + 0.4*hobby) + 0.7*fam + hobby\n",
    "g1_unobs =  8.2 * np.sqrt(health)\n",
    "g1 = g1_obs + g1_unobs\n",
    "\n",
    "# уровень счастья и в зависимости от факта факта прослушивания музыки по пути на работу\n",
    "happiness0 = g0 + error0\n",
    "happiness1 = g1 + error1\n",
    "\n",
    "# Наблюдаемый уровень счастья\n",
    "happiness = happiness1 * music + happiness0 * (1 - music)"
   ]
  },
  {
   "cell_type": "markdown",
   "metadata": {
    "id": "S9mYMlV-Q8--"
   },
   "source": [
    "Во избежание чрезвычайно точных или крайне неточных оценок, желательно, чтобы при каждом $j\\in\\{0, 1\\}$ дисперсии $\\varepsilon_{ji}$, $g_{j}$, $g_{j}^{\\text{obs}}$ и  $g_{j}^{\\text{unobs}}$ различались не более, чем в $5$ раз."
   ]
  },
  {
   "cell_type": "code",
   "execution_count": 17,
   "metadata": {
    "id": "BjeVtq4zQ8--",
    "outputId": "f6d2e3b6-fa73-4f31-ffb0-202817c687b1"
   },
   "outputs": [
    {
     "name": "stdout",
     "output_type": "stream",
     "text": [
      "                  Оценка\n",
      "Var(eps0)      24.859588\n",
      "Var(g0)        54.861142\n",
      "Var(g0_obs)    39.169029\n",
      "Var(g0_unobs)  16.925023\n",
      "Var(eps1)      48.927053\n",
      "Var(g1)        52.245172\n",
      "Var(g1_obs)    34.836517\n",
      "Var(g1_unobs)  18.705433\n"
     ]
    }
   ],
   "source": [
    "# Приблизительно оценим адекватность дисперсий\n",
    "print(pd.DataFrame(data    = [np.var(error0),   np.var(g0),\n",
    "                              np.var(g0_obs),   np.var(g0_unobs),\n",
    "                              np.var(error1),   np.var(g1),\n",
    "                              np.var(g1_obs),   np.var(g1_unobs)],\n",
    "                   index   = ['Var(eps0)',     'Var(g0)',\n",
    "                              'Var(g0_obs)',   'Var(g0_unobs)',\n",
    "                              'Var(eps1)',     'Var(g1)',\n",
    "                              'Var(g1_obs)',   'Var(g1_unobs)'],\n",
    "                   columns = ['Оценка']))"
   ]
  },
  {
   "cell_type": "markdown",
   "metadata": {
    "id": "pSmGyztdQ8-_"
   },
   "source": [
    "Как мы видим, дисперсии адекватны. Далее введем округление и посмотрим на первые несколько значений"
   ]
  },
  {
   "cell_type": "code",
   "execution_count": 18,
   "metadata": {
    "id": "GLSkmFo-Q8-_",
    "outputId": "a5a37b47-3624-4836-ad7c-2d36231d8da0"
   },
   "outputs": [
    {
     "name": "stdout",
     "output_type": "stream",
     "text": [
      "[71. 55. 62. 59. 72. 41. 70. 69. 59. 40.]\n"
     ]
    }
   ],
   "source": [
    "happiness[happiness <= 0]  = 0\n",
    "happiness = happiness/np.max(happiness)\n",
    "# Также, для удобства введем округление\n",
    "happiness = np.round(happiness, 2) * 100\n",
    "\n",
    "# Посмотрим на несколько первых значений\n",
    "print(happiness[0:10])"
   ]
  },
  {
   "cell_type": "code",
   "execution_count": 19,
   "metadata": {
    "id": "5FsMKXx0Q8-_",
    "outputId": "0eeb28f7-a8f4-4c2e-fabb-33f25505e9a9"
   },
   "outputs": [
    {
     "data": {
      "image/png": "[encoded data removed]",
      "text/plain": [
       "<Figure size 800x600 with 1 Axes>"
      ]
     },
     "metadata": {},
     "output_type": "display_data"
    }
   ],
   "source": [
    "# Посмотрим на распределение уровня счастья\n",
    "plt.figure(figsize=(4,3), dpi=200)\n",
    "sns.histplot(happiness,                  # данные\n",
    "                 stat  = 'density',          # тип гистограммы\n",
    "                 color = \"violet\",    # цвет гистограммы\n",
    "                 label = \"histogram\",        # наименование гистограммы\n",
    "                 bins  = 50);                 # число столбиков в Гистограмме"
   ]
  },
  {
   "cell_type": "code",
   "execution_count": 20,
   "metadata": {
    "id": "YuuZUHuKQ8-_",
    "outputId": "a7f536fb-4e16-4feb-ff8b-6298ccd8f0e6"
   },
   "outputs": [
    {
     "data": {
      "text/html": [
       "<div>\n",
       "<style scoped>\n",
       "    .dataframe tbody tr th:only-of-type {\n",
       "        vertical-align: middle;\n",
       "    }\n",
       "\n",
       "    .dataframe tbody tr th {\n",
       "        vertical-align: top;\n",
       "    }\n",
       "\n",
       "    .dataframe thead th {\n",
       "        text-align: right;\n",
       "    }\n",
       "</style>\n",
       "<table border=\"1\" class=\"dataframe\">\n",
       "  <thead>\n",
       "    <tr style=\"text-align: right;\">\n",
       "      <th></th>\n",
       "      <th>Happiness</th>\n",
       "      <th>Music</th>\n",
       "      <th>Subs</th>\n",
       "      <th>Wage</th>\n",
       "      <th>Hobby</th>\n",
       "      <th>Fam</th>\n",
       "      <th>Health</th>\n",
       "    </tr>\n",
       "  </thead>\n",
       "  <tbody>\n",
       "    <tr>\n",
       "      <th>0</th>\n",
       "      <td>71.0</td>\n",
       "      <td>1</td>\n",
       "      <td>0</td>\n",
       "      <td>56.47</td>\n",
       "      <td>0</td>\n",
       "      <td>56.4</td>\n",
       "      <td>5</td>\n",
       "    </tr>\n",
       "    <tr>\n",
       "      <th>1</th>\n",
       "      <td>55.0</td>\n",
       "      <td>0</td>\n",
       "      <td>0</td>\n",
       "      <td>157.33</td>\n",
       "      <td>0</td>\n",
       "      <td>32.2</td>\n",
       "      <td>2</td>\n",
       "    </tr>\n",
       "    <tr>\n",
       "      <th>2</th>\n",
       "      <td>62.0</td>\n",
       "      <td>1</td>\n",
       "      <td>1</td>\n",
       "      <td>121.36</td>\n",
       "      <td>1</td>\n",
       "      <td>37.2</td>\n",
       "      <td>3</td>\n",
       "    </tr>\n",
       "    <tr>\n",
       "      <th>3</th>\n",
       "      <td>59.0</td>\n",
       "      <td>0</td>\n",
       "      <td>0</td>\n",
       "      <td>92.57</td>\n",
       "      <td>0</td>\n",
       "      <td>50.6</td>\n",
       "      <td>4</td>\n",
       "    </tr>\n",
       "    <tr>\n",
       "      <th>4</th>\n",
       "      <td>72.0</td>\n",
       "      <td>1</td>\n",
       "      <td>0</td>\n",
       "      <td>110.84</td>\n",
       "      <td>1</td>\n",
       "      <td>45.2</td>\n",
       "      <td>9</td>\n",
       "    </tr>\n",
       "    <tr>\n",
       "      <th>...</th>\n",
       "      <td>...</td>\n",
       "      <td>...</td>\n",
       "      <td>...</td>\n",
       "      <td>...</td>\n",
       "      <td>...</td>\n",
       "      <td>...</td>\n",
       "      <td>...</td>\n",
       "    </tr>\n",
       "    <tr>\n",
       "      <th>9995</th>\n",
       "      <td>46.0</td>\n",
       "      <td>1</td>\n",
       "      <td>0</td>\n",
       "      <td>67.78</td>\n",
       "      <td>0</td>\n",
       "      <td>37.4</td>\n",
       "      <td>3</td>\n",
       "    </tr>\n",
       "    <tr>\n",
       "      <th>9996</th>\n",
       "      <td>77.0</td>\n",
       "      <td>1</td>\n",
       "      <td>0</td>\n",
       "      <td>122.23</td>\n",
       "      <td>0</td>\n",
       "      <td>25.7</td>\n",
       "      <td>8</td>\n",
       "    </tr>\n",
       "    <tr>\n",
       "      <th>9997</th>\n",
       "      <td>62.0</td>\n",
       "      <td>1</td>\n",
       "      <td>1</td>\n",
       "      <td>157.04</td>\n",
       "      <td>1</td>\n",
       "      <td>36.7</td>\n",
       "      <td>4</td>\n",
       "    </tr>\n",
       "    <tr>\n",
       "      <th>9998</th>\n",
       "      <td>51.0</td>\n",
       "      <td>1</td>\n",
       "      <td>0</td>\n",
       "      <td>53.53</td>\n",
       "      <td>1</td>\n",
       "      <td>28.0</td>\n",
       "      <td>6</td>\n",
       "    </tr>\n",
       "    <tr>\n",
       "      <th>9999</th>\n",
       "      <td>74.0</td>\n",
       "      <td>1</td>\n",
       "      <td>0</td>\n",
       "      <td>95.61</td>\n",
       "      <td>0</td>\n",
       "      <td>40.4</td>\n",
       "      <td>6</td>\n",
       "    </tr>\n",
       "  </tbody>\n",
       "</table>\n",
       "<p>10000 rows × 7 columns</p>\n",
       "</div>"
      ],
      "text/plain": [
       "      Happiness  Music  Subs    Wage  Hobby   Fam  Health\n",
       "0          71.0      1     0   56.47      0  56.4       5\n",
       "1          55.0      0     0  157.33      0  32.2       2\n",
       "2          62.0      1     1  121.36      1  37.2       3\n",
       "3          59.0      0     0   92.57      0  50.6       4\n",
       "4          72.0      1     0  110.84      1  45.2       9\n",
       "...         ...    ...   ...     ...    ...   ...     ...\n",
       "9995       46.0      1     0   67.78      0  37.4       3\n",
       "9996       77.0      1     0  122.23      0  25.7       8\n",
       "9997       62.0      1     1  157.04      1  36.7       4\n",
       "9998       51.0      1     0   53.53      1  28.0       6\n",
       "9999       74.0      1     0   95.61      0  40.4       6\n",
       "\n",
       "[10000 rows x 7 columns]"
      ]
     },
     "execution_count": 20,
     "metadata": {},
     "output_type": "execute_result"
    }
   ],
   "source": [
    "df = pd.DataFrame()\n",
    "df['Happiness'] = happiness\n",
    "df['Music'] = music\n",
    "df['Subs'] = subs\n",
    "df['Wage'] = wage\n",
    "df['Hobby'] = hobby\n",
    "df['Fam'] = fam\n",
    "df['Health'] = health\n",
    "df"
   ]
  },
  {
   "cell_type": "markdown",
   "metadata": {
    "id": "B4ZRDWW1Q8_A"
   },
   "source": [
    "### Описательные статистики и корреляционная матрица"
   ]
  },
  {
   "cell_type": "markdown",
   "metadata": {
    "id": "QqW2Uq2MQ8_A"
   },
   "source": [
    "• Для непрерывных переменных: выборочное среднее, выборочное стандартное отклонение, медиана, минимум и максимум.\n",
    "\n",
    "• Для бинарных переменных: доля и количество единиц."
   ]
  },
  {
   "cell_type": "code",
   "execution_count": 21,
   "metadata": {
    "id": "-GPNSkmOQ8_A",
    "outputId": "3eeb288f-c32b-4a24-a34b-a97f165e092a"
   },
   "outputs": [
    {
     "name": "stdout",
     "output_type": "stream",
     "text": [
      "Описательные статистики для непрерывных переменных:\n",
      "\n",
      "       Happiness      Wage       Fam    Health\n",
      "count   10000.00  10000.00  10000.00  10000.00\n",
      "mean       57.40     99.53     36.04      4.98\n",
      "std        11.16     29.71      9.92      2.18\n",
      "min        14.00      0.00      0.00      0.00\n",
      "25%        50.00     79.73     29.30      3.00\n",
      "50%        57.00     99.40     36.10      5.00\n",
      "75%        65.00    119.76     42.80      6.00\n",
      "max       100.00    207.28     72.00     10.00\n",
      "\n",
      "Описательные статистики для бинарных переменных:\n",
      "\n",
      "       Количество единиц  Доля единиц\n",
      "Music               7699       0.7699\n",
      "Subs                2632       0.2632\n",
      "Hobby               4012       0.4012\n"
     ]
    }
   ],
   "source": [
    "print(\"Описательные статистики для непрерывных переменных:\\n\")\n",
    "print(round(df[['Happiness', 'Wage', 'Fam', 'Health']].describe(), 2))\n",
    "print(\"\\nОписательные статистики для бинарных переменных:\\n\")\n",
    "data = pd.DataFrame({'Количество единиц': df[['Music', 'Subs', 'Hobby']].sum(),\n",
    "                     'Доля единиц': df[['Music', 'Subs', 'Hobby']].sum()/df.shape[0]})\n",
    "print(data)"
   ]
  },
  {
   "cell_type": "markdown",
   "metadata": {
    "id": "wUauevPiQ8_A"
   },
   "source": [
    "Доля единиц соответсвует требованиям (от 0.1 до 0.9), среди отсальных дескриптивных статистик аномалий не обнаружено.\n",
    "\n",
    "Далее построим корреляционную матрицу:"
   ]
  },
  {
   "cell_type": "code",
   "execution_count": 22,
   "metadata": {
    "id": "A4s9_eCaQ8_A",
    "outputId": "08949e9a-15ec-48aa-9163-883be79cc354"
   },
   "outputs": [
    {
     "data": {
      "text/html": [
       "<div>\n",
       "<style scoped>\n",
       "    .dataframe tbody tr th:only-of-type {\n",
       "        vertical-align: middle;\n",
       "    }\n",
       "\n",
       "    .dataframe tbody tr th {\n",
       "        vertical-align: top;\n",
       "    }\n",
       "\n",
       "    .dataframe thead th {\n",
       "        text-align: right;\n",
       "    }\n",
       "</style>\n",
       "<table border=\"1\" class=\"dataframe\">\n",
       "  <thead>\n",
       "    <tr style=\"text-align: right;\">\n",
       "      <th></th>\n",
       "      <th>Happiness</th>\n",
       "      <th>Music</th>\n",
       "      <th>Subs</th>\n",
       "      <th>Wage</th>\n",
       "      <th>Hobby</th>\n",
       "      <th>Fam</th>\n",
       "      <th>Health</th>\n",
       "    </tr>\n",
       "  </thead>\n",
       "  <tbody>\n",
       "    <tr>\n",
       "      <th>Happiness</th>\n",
       "      <td>1.000</td>\n",
       "      <td>0.192</td>\n",
       "      <td>0.094</td>\n",
       "      <td>0.233</td>\n",
       "      <td>0.045</td>\n",
       "      <td>0.553</td>\n",
       "      <td>0.408</td>\n",
       "    </tr>\n",
       "    <tr>\n",
       "      <th>Music</th>\n",
       "      <td>0.192</td>\n",
       "      <td>1.000</td>\n",
       "      <td>0.327</td>\n",
       "      <td>0.110</td>\n",
       "      <td>0.054</td>\n",
       "      <td>-0.003</td>\n",
       "      <td>0.372</td>\n",
       "    </tr>\n",
       "    <tr>\n",
       "      <th>Subs</th>\n",
       "      <td>0.094</td>\n",
       "      <td>0.327</td>\n",
       "      <td>1.000</td>\n",
       "      <td>0.370</td>\n",
       "      <td>0.205</td>\n",
       "      <td>-0.000</td>\n",
       "      <td>0.019</td>\n",
       "    </tr>\n",
       "    <tr>\n",
       "      <th>Wage</th>\n",
       "      <td>0.233</td>\n",
       "      <td>0.110</td>\n",
       "      <td>0.370</td>\n",
       "      <td>1.000</td>\n",
       "      <td>0.014</td>\n",
       "      <td>0.023</td>\n",
       "      <td>0.003</td>\n",
       "    </tr>\n",
       "    <tr>\n",
       "      <th>Hobby</th>\n",
       "      <td>0.045</td>\n",
       "      <td>0.054</td>\n",
       "      <td>0.205</td>\n",
       "      <td>0.014</td>\n",
       "      <td>1.000</td>\n",
       "      <td>-0.011</td>\n",
       "      <td>-0.011</td>\n",
       "    </tr>\n",
       "    <tr>\n",
       "      <th>Fam</th>\n",
       "      <td>0.553</td>\n",
       "      <td>-0.003</td>\n",
       "      <td>-0.000</td>\n",
       "      <td>0.023</td>\n",
       "      <td>-0.011</td>\n",
       "      <td>1.000</td>\n",
       "      <td>-0.027</td>\n",
       "    </tr>\n",
       "    <tr>\n",
       "      <th>Health</th>\n",
       "      <td>0.408</td>\n",
       "      <td>0.372</td>\n",
       "      <td>0.019</td>\n",
       "      <td>0.003</td>\n",
       "      <td>-0.011</td>\n",
       "      <td>-0.027</td>\n",
       "      <td>1.000</td>\n",
       "    </tr>\n",
       "  </tbody>\n",
       "</table>\n",
       "</div>"
      ],
      "text/plain": [
       "           Happiness  Music   Subs   Wage  Hobby    Fam  Health\n",
       "Happiness      1.000  0.192  0.094  0.233  0.045  0.553   0.408\n",
       "Music          0.192  1.000  0.327  0.110  0.054 -0.003   0.372\n",
       "Subs           0.094  0.327  1.000  0.370  0.205 -0.000   0.019\n",
       "Wage           0.233  0.110  0.370  1.000  0.014  0.023   0.003\n",
       "Hobby          0.045  0.054  0.205  0.014  1.000 -0.011  -0.011\n",
       "Fam            0.553 -0.003 -0.000  0.023 -0.011  1.000  -0.027\n",
       "Health         0.408  0.372  0.019  0.003 -0.011 -0.027   1.000"
      ]
     },
     "execution_count": 22,
     "metadata": {},
     "output_type": "execute_result"
    }
   ],
   "source": [
    "round(df.corr(), 3)"
   ]
  },
  {
   "cell_type": "code",
   "execution_count": 23,
   "metadata": {},
   "outputs": [
    {
     "data": {
      "image/png": "[encoded data removed]",
      "text/plain": [
       "<Figure size 1000x600 with 2 Axes>"
      ]
     },
     "metadata": {},
     "output_type": "display_data"
    }
   ],
   "source": [
    "corr = df.corr()\n",
    "f, ax = plt.subplots(figsize=(10, 6))\n",
    "cmap = plt.cm.get_cmap('coolwarm')\n",
    "im = ax.matshow(corr, cmap=cmap, vmax=1, vmin=-1)\n",
    "\n",
    "for i in range(corr.shape[0]):\n",
    "    for j in range(corr.shape[1]):\n",
    "        ax.text(j, i, f\"{corr.iloc[i, j]:.2f}\", ha=\"center\", va=\"center\", color=\"w\", fontsize=10)\n",
    "\n",
    "plt.xticks(np.arange(len(corr.columns)), corr.columns, rotation=60)\n",
    "plt.yticks(np.arange(len(corr.columns)), corr.columns)\n",
    "plt.title('Матрица корреляций для анализируемых переменных', fontsize=14)\n",
    "plt.colorbar(im, shrink=0.5)\n",
    "plt.show()"
   ]
  },
  {
   "cell_type": "markdown",
   "metadata": {
    "id": "pWcdCXxxQ8_A"
   },
   "source": [
    "4. Разделите выборку на обучающую и тестовую. Тестовая выборка должна включать от 20% до 30% наблюдений."
   ]
  },
  {
   "cell_type": "code",
   "execution_count": 24,
   "metadata": {
    "id": "0Upd_pNsQ8_A"
   },
   "outputs": [],
   "source": [
    "features = df.drop(columns='Happiness')\n",
    "target = df['Happiness']\n",
    "\n",
    "features_train, features_test, target_train, target_test = train_test_split(\n",
    "    features, target, test_size = 0.2, random_state = 777)"
   ]
  },
  {
   "cell_type": "markdown",
   "metadata": {
    "id": "O-XZ39JlQ8_A"
   },
   "source": [
    "# 3 Классификация\n",
    "\n",
    "В каждом из заданий, если не сказано иного, необходимо использовать **хотя бы** 3 (на ваш выбор) из следующих методов: наивный Байесовский классификатор, метод ближайших соседей, случайный лес, градиентный бустинг и логистическая регрессия.\n",
    "\n",
    "1. Отберите признаки, которые могут быть полезны при прогнозировании переменной воздействия и кратко обоснуйте выбор каждой из них. Не включайте в число этих признаков целевую переменную.\n",
    "\n",
    "Мы предполагаем, что на прослушивание музыки по пути на работу оказывает влияние наличие подписки на музыкальный сервис, также уровень зарплаты (т.к. в зависимости от уровня зарплаты индивид может или не может позволить себе подписку на музыкальный сервис или наушники, чтобы слушать музыку по пути на работу), наличие хобби (хобби может быть связано с музыкой) и время, проведенное с семьей (возможно, человек, проводящий много времени с семьей, хочет уединиться со своими мыслями по пути на работу и послушать музыку), но проверим наше предположение, используя графики важности признаков"
   ]
  },
  {
   "cell_type": "code",
   "execution_count": 25,
   "metadata": {
    "id": "5ttBsjLFQ8_A",
    "outputId": "b6b36378-b37c-4aa8-d4dc-fba32aa500d9"
   },
   "outputs": [
    {
     "data": {
      "text/html": [
       "<div>\n",
       "<style scoped>\n",
       "    .dataframe tbody tr th:only-of-type {\n",
       "        vertical-align: middle;\n",
       "    }\n",
       "\n",
       "    .dataframe tbody tr th {\n",
       "        vertical-align: top;\n",
       "    }\n",
       "\n",
       "    .dataframe thead th {\n",
       "        text-align: right;\n",
       "    }\n",
       "</style>\n",
       "<table border=\"1\" class=\"dataframe\">\n",
       "  <thead>\n",
       "    <tr style=\"text-align: right;\">\n",
       "      <th></th>\n",
       "      <th>Subs</th>\n",
       "      <th>Wage</th>\n",
       "      <th>Hobby</th>\n",
       "      <th>Fam</th>\n",
       "      <th>Health</th>\n",
       "    </tr>\n",
       "  </thead>\n",
       "  <tbody>\n",
       "    <tr>\n",
       "      <th>8490</th>\n",
       "      <td>0</td>\n",
       "      <td>87.10</td>\n",
       "      <td>0</td>\n",
       "      <td>49.7</td>\n",
       "      <td>5</td>\n",
       "    </tr>\n",
       "    <tr>\n",
       "      <th>9788</th>\n",
       "      <td>1</td>\n",
       "      <td>77.62</td>\n",
       "      <td>0</td>\n",
       "      <td>30.2</td>\n",
       "      <td>8</td>\n",
       "    </tr>\n",
       "    <tr>\n",
       "      <th>5967</th>\n",
       "      <td>0</td>\n",
       "      <td>112.42</td>\n",
       "      <td>1</td>\n",
       "      <td>47.1</td>\n",
       "      <td>3</td>\n",
       "    </tr>\n",
       "  </tbody>\n",
       "</table>\n",
       "</div>"
      ],
      "text/plain": [
       "      Subs    Wage  Hobby   Fam  Health\n",
       "8490     0   87.10      0  49.7       5\n",
       "9788     1   77.62      0  30.2       8\n",
       "5967     0  112.42      1  47.1       3"
      ]
     },
     "execution_count": 25,
     "metadata": {},
     "output_type": "execute_result"
    }
   ],
   "source": [
    "regressors_train = features_train.drop(columns='Music')\n",
    "regressors_test = features_test.drop(columns='Music')\n",
    "regressors_train.head(3)"
   ]
  },
  {
   "cell_type": "code",
   "execution_count": 26,
   "metadata": {
    "id": "ysSXiIT6Q8_A"
   },
   "outputs": [],
   "source": [
    "# Сохраним данные до нормализации\n",
    "regressors_train_initial = regressors_train.copy()\n",
    "regressors_test_initial  = regressors_test.copy()\n",
    "\n",
    "# Подготовим объект, осуществляющий нормализацию\n",
    "scaler = sklearn.preprocessing.StandardScaler().set_output(transform = \"pandas\").fit(regressors_train)\n",
    "\n",
    "# Нормализуем данные\n",
    "regressors_train = scaler.transform(regressors_train_initial)  # обучающая выборка\n",
    "regressors_test  = scaler.transform(regressors_test_initial)   # тестовая выборка"
   ]
  },
  {
   "cell_type": "code",
   "execution_count": 27,
   "metadata": {
    "id": "FWMzrJOgQ8_B",
    "outputId": "3bdb7480-4227-478b-d94c-b64e03994895"
   },
   "outputs": [
    {
     "data": {
      "text/html": [
       "<style>#sk-container-id-1 {\n",
       "  /* Definition of color scheme common for light and dark mode */\n",
       "  --sklearn-color-text: black;\n",
       "  --sklearn-color-line: gray;\n",
       "  /* Definition of color scheme for unfitted estimators */\n",
       "  --sklearn-color-unfitted-level-0: #fff5e6;\n",
       "  --sklearn-color-unfitted-level-1: #f6e4d2;\n",
       "  --sklearn-color-unfitted-level-2: #ffe0b3;\n",
       "  --sklearn-color-unfitted-level-3: chocolate;\n",
       "  /* Definition of color scheme for fitted estimators */\n",
       "  --sklearn-color-fitted-level-0: #f0f8ff;\n",
       "  --sklearn-color-fitted-level-1: #d4ebff;\n",
       "  --sklearn-color-fitted-level-2: #b3dbfd;\n",
       "  --sklearn-color-fitted-level-3: cornflowerblue;\n",
       "\n",
       "  /* Specific color for light theme */\n",
       "  --sklearn-color-text-on-default-background: var(--sg-text-color, var(--theme-code-foreground, var(--jp-content-font-color1, black)));\n",
       "  --sklearn-color-background: var(--sg-background-color, var(--theme-background, var(--jp-layout-color0, white)));\n",
       "  --sklearn-color-border-box: var(--sg-text-color, var(--theme-code-foreground, var(--jp-content-font-color1, black)));\n",
       "  --sklearn-color-icon: #696969;\n",
       "\n",
       "  @media (prefers-color-scheme: dark) {\n",
       "    /* Redefinition of color scheme for dark theme */\n",
       "    --sklearn-color-text-on-default-background: var(--sg-text-color, var(--theme-code-foreground, var(--jp-content-font-color1, white)));\n",
       "    --sklearn-color-background: var(--sg-background-color, var(--theme-background, var(--jp-layout-color0, #111)));\n",
       "    --sklearn-color-border-box: var(--sg-text-color, var(--theme-code-foreground, var(--jp-content-font-color1, white)));\n",
       "    --sklearn-color-icon: #878787;\n",
       "  }\n",
       "}\n",
       "\n",
       "#sk-container-id-1 {\n",
       "  color: var(--sklearn-color-text);\n",
       "}\n",
       "\n",
       "#sk-container-id-1 pre {\n",
       "  padding: 0;\n",
       "}\n",
       "\n",
       "#sk-container-id-1 input.sk-hidden--visually {\n",
       "  border: 0;\n",
       "  clip: rect(1px 1px 1px 1px);\n",
       "  clip: rect(1px, 1px, 1px, 1px);\n",
       "  height: 1px;\n",
       "  margin: -1px;\n",
       "  overflow: hidden;\n",
       "  padding: 0;\n",
       "  position: absolute;\n",
       "  width: 1px;\n",
       "}\n",
       "\n",
       "#sk-container-id-1 div.sk-dashed-wrapped {\n",
       "  border: 1px dashed var(--sklearn-color-line);\n",
       "  margin: 0 0.4em 0.5em 0.4em;\n",
       "  box-sizing: border-box;\n",
       "  padding-bottom: 0.4em;\n",
       "  background-color: var(--sklearn-color-background);\n",
       "}\n",
       "\n",
       "#sk-container-id-1 div.sk-container {\n",
       "  /* jupyter's `normalize.less` sets `[hidden] { display: none; }`\n",
       "     but bootstrap.min.css set `[hidden] { display: none !important; }`\n",
       "     so we also need the `!important` here to be able to override the\n",
       "     default hidden behavior on the sphinx rendered scikit-learn.org.\n",
       "     See: https://github.com/scikit-learn/scikit-learn/issues/21755 */\n",
       "  display: inline-block !important;\n",
       "  position: relative;\n",
       "}\n",
       "\n",
       "#sk-container-id-1 div.sk-text-repr-fallback {\n",
       "  display: none;\n",
       "}\n",
       "\n",
       "div.sk-parallel-item,\n",
       "div.sk-serial,\n",
       "div.sk-item {\n",
       "  /* draw centered vertical line to link estimators */\n",
       "  background-image: linear-gradient(var(--sklearn-color-text-on-default-background), var(--sklearn-color-text-on-default-background));\n",
       "  background-size: 2px 100%;\n",
       "  background-repeat: no-repeat;\n",
       "  background-position: center center;\n",
       "}\n",
       "\n",
       "/* Parallel-specific style estimator block */\n",
       "\n",
       "#sk-container-id-1 div.sk-parallel-item::after {\n",
       "  content: \"\";\n",
       "  width: 100%;\n",
       "  border-bottom: 2px solid var(--sklearn-color-text-on-default-background);\n",
       "  flex-grow: 1;\n",
       "}\n",
       "\n",
       "#sk-container-id-1 div.sk-parallel {\n",
       "  display: flex;\n",
       "  align-items: stretch;\n",
       "  justify-content: center;\n",
       "  background-color: var(--sklearn-color-background);\n",
       "  position: relative;\n",
       "}\n",
       "\n",
       "#sk-container-id-1 div.sk-parallel-item {\n",
       "  display: flex;\n",
       "  flex-direction: column;\n",
       "}\n",
       "\n",
       "#sk-container-id-1 div.sk-parallel-item:first-child::after {\n",
       "  align-self: flex-end;\n",
       "  width: 50%;\n",
       "}\n",
       "\n",
       "#sk-container-id-1 div.sk-parallel-item:last-child::after {\n",
       "  align-self: flex-start;\n",
       "  width: 50%;\n",
       "}\n",
       "\n",
       "#sk-container-id-1 div.sk-parallel-item:only-child::after {\n",
       "  width: 0;\n",
       "}\n",
       "\n",
       "/* Serial-specific style estimator block */\n",
       "\n",
       "#sk-container-id-1 div.sk-serial {\n",
       "  display: flex;\n",
       "  flex-direction: column;\n",
       "  align-items: center;\n",
       "  background-color: var(--sklearn-color-background);\n",
       "  padding-right: 1em;\n",
       "  padding-left: 1em;\n",
       "}\n",
       "\n",
       "\n",
       "/* Toggleable style: style used for estimator/Pipeline/ColumnTransformer box that is\n",
       "clickable and can be expanded/collapsed.\n",
       "- Pipeline and ColumnTransformer use this feature and define the default style\n",
       "- Estimators will overwrite some part of the style using the `sk-estimator` class\n",
       "*/\n",
       "\n",
       "/* Pipeline and ColumnTransformer style (default) */\n",
       "\n",
       "#sk-container-id-1 div.sk-toggleable {\n",
       "  /* Default theme specific background. It is overwritten whether we have a\n",
       "  specific estimator or a Pipeline/ColumnTransformer */\n",
       "  background-color: var(--sklearn-color-background);\n",
       "}\n",
       "\n",
       "/* Toggleable label */\n",
       "#sk-container-id-1 label.sk-toggleable__label {\n",
       "  cursor: pointer;\n",
       "  display: block;\n",
       "  width: 100%;\n",
       "  margin-bottom: 0;\n",
       "  padding: 0.5em;\n",
       "  box-sizing: border-box;\n",
       "  text-align: center;\n",
       "}\n",
       "\n",
       "#sk-container-id-1 label.sk-toggleable__label-arrow:before {\n",
       "  /* Arrow on the left of the label */\n",
       "  content: \"▸\";\n",
       "  float: left;\n",
       "  margin-right: 0.25em;\n",
       "  color: var(--sklearn-color-icon);\n",
       "}\n",
       "\n",
       "#sk-container-id-1 label.sk-toggleable__label-arrow:hover:before {\n",
       "  color: var(--sklearn-color-text);\n",
       "}\n",
       "\n",
       "/* Toggleable content - dropdown */\n",
       "\n",
       "#sk-container-id-1 div.sk-toggleable__content {\n",
       "  max-height: 0;\n",
       "  max-width: 0;\n",
       "  overflow: hidden;\n",
       "  text-align: left;\n",
       "  /* unfitted */\n",
       "  background-color: var(--sklearn-color-unfitted-level-0);\n",
       "}\n",
       "\n",
       "#sk-container-id-1 div.sk-toggleable__content.fitted {\n",
       "  /* fitted */\n",
       "  background-color: var(--sklearn-color-fitted-level-0);\n",
       "}\n",
       "\n",
       "#sk-container-id-1 div.sk-toggleable__content pre {\n",
       "  margin: 0.2em;\n",
       "  border-radius: 0.25em;\n",
       "  color: var(--sklearn-color-text);\n",
       "  /* unfitted */\n",
       "  background-color: var(--sklearn-color-unfitted-level-0);\n",
       "}\n",
       "\n",
       "#sk-container-id-1 div.sk-toggleable__content.fitted pre {\n",
       "  /* unfitted */\n",
       "  background-color: var(--sklearn-color-fitted-level-0);\n",
       "}\n",
       "\n",
       "#sk-container-id-1 input.sk-toggleable__control:checked~div.sk-toggleable__content {\n",
       "  /* Expand drop-down */\n",
       "  max-height: 200px;\n",
       "  max-width: 100%;\n",
       "  overflow: auto;\n",
       "}\n",
       "\n",
       "#sk-container-id-1 input.sk-toggleable__control:checked~label.sk-toggleable__label-arrow:before {\n",
       "  content: \"▾\";\n",
       "}\n",
       "\n",
       "/* Pipeline/ColumnTransformer-specific style */\n",
       "\n",
       "#sk-container-id-1 div.sk-label input.sk-toggleable__control:checked~label.sk-toggleable__label {\n",
       "  color: var(--sklearn-color-text);\n",
       "  background-color: var(--sklearn-color-unfitted-level-2);\n",
       "}\n",
       "\n",
       "#sk-container-id-1 div.sk-label.fitted input.sk-toggleable__control:checked~label.sk-toggleable__label {\n",
       "  background-color: var(--sklearn-color-fitted-level-2);\n",
       "}\n",
       "\n",
       "/* Estimator-specific style */\n",
       "\n",
       "/* Colorize estimator box */\n",
       "#sk-container-id-1 div.sk-estimator input.sk-toggleable__control:checked~label.sk-toggleable__label {\n",
       "  /* unfitted */\n",
       "  background-color: var(--sklearn-color-unfitted-level-2);\n",
       "}\n",
       "\n",
       "#sk-container-id-1 div.sk-estimator.fitted input.sk-toggleable__control:checked~label.sk-toggleable__label {\n",
       "  /* fitted */\n",
       "  background-color: var(--sklearn-color-fitted-level-2);\n",
       "}\n",
       "\n",
       "#sk-container-id-1 div.sk-label label.sk-toggleable__label,\n",
       "#sk-container-id-1 div.sk-label label {\n",
       "  /* The background is the default theme color */\n",
       "  color: var(--sklearn-color-text-on-default-background);\n",
       "}\n",
       "\n",
       "/* On hover, darken the color of the background */\n",
       "#sk-container-id-1 div.sk-label:hover label.sk-toggleable__label {\n",
       "  color: var(--sklearn-color-text);\n",
       "  background-color: var(--sklearn-color-unfitted-level-2);\n",
       "}\n",
       "\n",
       "/* Label box, darken color on hover, fitted */\n",
       "#sk-container-id-1 div.sk-label.fitted:hover label.sk-toggleable__label.fitted {\n",
       "  color: var(--sklearn-color-text);\n",
       "  background-color: var(--sklearn-color-fitted-level-2);\n",
       "}\n",
       "\n",
       "/* Estimator label */\n",
       "\n",
       "#sk-container-id-1 div.sk-label label {\n",
       "  font-family: monospace;\n",
       "  font-weight: bold;\n",
       "  display: inline-block;\n",
       "  line-height: 1.2em;\n",
       "}\n",
       "\n",
       "#sk-container-id-1 div.sk-label-container {\n",
       "  text-align: center;\n",
       "}\n",
       "\n",
       "/* Estimator-specific */\n",
       "#sk-container-id-1 div.sk-estimator {\n",
       "  font-family: monospace;\n",
       "  border: 1px dotted var(--sklearn-color-border-box);\n",
       "  border-radius: 0.25em;\n",
       "  box-sizing: border-box;\n",
       "  margin-bottom: 0.5em;\n",
       "  /* unfitted */\n",
       "  background-color: var(--sklearn-color-unfitted-level-0);\n",
       "}\n",
       "\n",
       "#sk-container-id-1 div.sk-estimator.fitted {\n",
       "  /* fitted */\n",
       "  background-color: var(--sklearn-color-fitted-level-0);\n",
       "}\n",
       "\n",
       "/* on hover */\n",
       "#sk-container-id-1 div.sk-estimator:hover {\n",
       "  /* unfitted */\n",
       "  background-color: var(--sklearn-color-unfitted-level-2);\n",
       "}\n",
       "\n",
       "#sk-container-id-1 div.sk-estimator.fitted:hover {\n",
       "  /* fitted */\n",
       "  background-color: var(--sklearn-color-fitted-level-2);\n",
       "}\n",
       "\n",
       "/* Specification for estimator info (e.g. \"i\" and \"?\") */\n",
       "\n",
       "/* Common style for \"i\" and \"?\" */\n",
       "\n",
       ".sk-estimator-doc-link,\n",
       "a:link.sk-estimator-doc-link,\n",
       "a:visited.sk-estimator-doc-link {\n",
       "  float: right;\n",
       "  font-size: smaller;\n",
       "  line-height: 1em;\n",
       "  font-family: monospace;\n",
       "  background-color: var(--sklearn-color-background);\n",
       "  border-radius: 1em;\n",
       "  height: 1em;\n",
       "  width: 1em;\n",
       "  text-decoration: none !important;\n",
       "  margin-left: 1ex;\n",
       "  /* unfitted */\n",
       "  border: var(--sklearn-color-unfitted-level-1) 1pt solid;\n",
       "  color: var(--sklearn-color-unfitted-level-1);\n",
       "}\n",
       "\n",
       ".sk-estimator-doc-link.fitted,\n",
       "a:link.sk-estimator-doc-link.fitted,\n",
       "a:visited.sk-estimator-doc-link.fitted {\n",
       "  /* fitted */\n",
       "  border: var(--sklearn-color-fitted-level-1) 1pt solid;\n",
       "  color: var(--sklearn-color-fitted-level-1);\n",
       "}\n",
       "\n",
       "/* On hover */\n",
       "div.sk-estimator:hover .sk-estimator-doc-link:hover,\n",
       ".sk-estimator-doc-link:hover,\n",
       "div.sk-label-container:hover .sk-estimator-doc-link:hover,\n",
       ".sk-estimator-doc-link:hover {\n",
       "  /* unfitted */\n",
       "  background-color: var(--sklearn-color-unfitted-level-3);\n",
       "  color: var(--sklearn-color-background);\n",
       "  text-decoration: none;\n",
       "}\n",
       "\n",
       "div.sk-estimator.fitted:hover .sk-estimator-doc-link.fitted:hover,\n",
       ".sk-estimator-doc-link.fitted:hover,\n",
       "div.sk-label-container:hover .sk-estimator-doc-link.fitted:hover,\n",
       ".sk-estimator-doc-link.fitted:hover {\n",
       "  /* fitted */\n",
       "  background-color: var(--sklearn-color-fitted-level-3);\n",
       "  color: var(--sklearn-color-background);\n",
       "  text-decoration: none;\n",
       "}\n",
       "\n",
       "/* Span, style for the box shown on hovering the info icon */\n",
       ".sk-estimator-doc-link span {\n",
       "  display: none;\n",
       "  z-index: 9999;\n",
       "  position: relative;\n",
       "  font-weight: normal;\n",
       "  right: .2ex;\n",
       "  padding: .5ex;\n",
       "  margin: .5ex;\n",
       "  width: min-content;\n",
       "  min-width: 20ex;\n",
       "  max-width: 50ex;\n",
       "  color: var(--sklearn-color-text);\n",
       "  box-shadow: 2pt 2pt 4pt #999;\n",
       "  /* unfitted */\n",
       "  background: var(--sklearn-color-unfitted-level-0);\n",
       "  border: .5pt solid var(--sklearn-color-unfitted-level-3);\n",
       "}\n",
       "\n",
       ".sk-estimator-doc-link.fitted span {\n",
       "  /* fitted */\n",
       "  background: var(--sklearn-color-fitted-level-0);\n",
       "  border: var(--sklearn-color-fitted-level-3);\n",
       "}\n",
       "\n",
       ".sk-estimator-doc-link:hover span {\n",
       "  display: block;\n",
       "}\n",
       "\n",
       "/* \"?\"-specific style due to the `<a>` HTML tag */\n",
       "\n",
       "#sk-container-id-1 a.estimator_doc_link {\n",
       "  float: right;\n",
       "  font-size: 1rem;\n",
       "  line-height: 1em;\n",
       "  font-family: monospace;\n",
       "  background-color: var(--sklearn-color-background);\n",
       "  border-radius: 1rem;\n",
       "  height: 1rem;\n",
       "  width: 1rem;\n",
       "  text-decoration: none;\n",
       "  /* unfitted */\n",
       "  color: var(--sklearn-color-unfitted-level-1);\n",
       "  border: var(--sklearn-color-unfitted-level-1) 1pt solid;\n",
       "}\n",
       "\n",
       "#sk-container-id-1 a.estimator_doc_link.fitted {\n",
       "  /* fitted */\n",
       "  border: var(--sklearn-color-fitted-level-1) 1pt solid;\n",
       "  color: var(--sklearn-color-fitted-level-1);\n",
       "}\n",
       "\n",
       "/* On hover */\n",
       "#sk-container-id-1 a.estimator_doc_link:hover {\n",
       "  /* unfitted */\n",
       "  background-color: var(--sklearn-color-unfitted-level-3);\n",
       "  color: var(--sklearn-color-background);\n",
       "  text-decoration: none;\n",
       "}\n",
       "\n",
       "#sk-container-id-1 a.estimator_doc_link.fitted:hover {\n",
       "  /* fitted */\n",
       "  background-color: var(--sklearn-color-fitted-level-3);\n",
       "}\n",
       "</style><div id=\"sk-container-id-1\" class=\"sk-top-container\"><div class=\"sk-text-repr-fallback\"><pre>RandomForestClassifier()</pre><b>In a Jupyter environment, please rerun this cell to show the HTML representation or trust the notebook. <br />On GitHub, the HTML representation is unable to render, please try loading this page with nbviewer.org.</b></div><div class=\"sk-container\" hidden><div class=\"sk-item\"><div class=\"sk-estimator fitted sk-toggleable\"><input class=\"sk-toggleable__control sk-hidden--visually\" id=\"sk-estimator-id-1\" type=\"checkbox\" checked><label for=\"sk-estimator-id-1\" class=\"sk-toggleable__label fitted sk-toggleable__label-arrow fitted\">&nbsp;&nbsp;RandomForestClassifier<a class=\"sk-estimator-doc-link fitted\" rel=\"noreferrer\" target=\"_blank\" href=\"https://scikit-learn.org/1.5/modules/generated/sklearn.ensemble.RandomForestClassifier.html\">?<span>Documentation for RandomForestClassifier</span></a><span class=\"sk-estimator-doc-link fitted\">i<span>Fitted</span></span></label><div class=\"sk-toggleable__content fitted\"><pre>RandomForestClassifier()</pre></div> </div></div></div></div>"
      ],
      "text/plain": [
       "RandomForestClassifier()"
      ]
     },
     "execution_count": 27,
     "metadata": {},
     "output_type": "execute_result"
    }
   ],
   "source": [
    "forest_class = RandomForestClassifier()\n",
    "\n",
    "forest_class.fit(regressors_train, features_train['Music'])"
   ]
  },
  {
   "cell_type": "code",
   "execution_count": 28,
   "metadata": {
    "id": "9VkZz4ZQQ8_B",
    "outputId": "fe936ec4-a2b3-428b-d2e5-a873c2d01105"
   },
   "outputs": [
    {
     "data": {
      "image/png": "[encoded data removed]",
      "text/plain": [
       "<Figure size 640x480 with 1 Axes>"
      ]
     },
     "metadata": {},
     "output_type": "display_data"
    }
   ],
   "source": [
    "importances_rf = pd.Series(forest_class.feature_importances_, index = regressors_train.columns)\n",
    "importances_rf.plot.bar()\n",
    "plt.title('Importances in RF')\n",
    "plt.show()"
   ]
  },
  {
   "cell_type": "code",
   "execution_count": 29,
   "metadata": {
    "id": "_i6gtGaCQ8_B",
    "outputId": "aed81138-a050-4bb0-f69a-f0436db0d600"
   },
   "outputs": [
    {
     "data": {
      "text/html": [
       "<style>#sk-container-id-2 {\n",
       "  /* Definition of color scheme common for light and dark mode */\n",
       "  --sklearn-color-text: black;\n",
       "  --sklearn-color-line: gray;\n",
       "  /* Definition of color scheme for unfitted estimators */\n",
       "  --sklearn-color-unfitted-level-0: #fff5e6;\n",
       "  --sklearn-color-unfitted-level-1: #f6e4d2;\n",
       "  --sklearn-color-unfitted-level-2: #ffe0b3;\n",
       "  --sklearn-color-unfitted-level-3: chocolate;\n",
       "  /* Definition of color scheme for fitted estimators */\n",
       "  --sklearn-color-fitted-level-0: #f0f8ff;\n",
       "  --sklearn-color-fitted-level-1: #d4ebff;\n",
       "  --sklearn-color-fitted-level-2: #b3dbfd;\n",
       "  --sklearn-color-fitted-level-3: cornflowerblue;\n",
       "\n",
       "  /* Specific color for light theme */\n",
       "  --sklearn-color-text-on-default-background: var(--sg-text-color, var(--theme-code-foreground, var(--jp-content-font-color1, black)));\n",
       "  --sklearn-color-background: var(--sg-background-color, var(--theme-background, var(--jp-layout-color0, white)));\n",
       "  --sklearn-color-border-box: var(--sg-text-color, var(--theme-code-foreground, var(--jp-content-font-color1, black)));\n",
       "  --sklearn-color-icon: #696969;\n",
       "\n",
       "  @media (prefers-color-scheme: dark) {\n",
       "    /* Redefinition of color scheme for dark theme */\n",
       "    --sklearn-color-text-on-default-background: var(--sg-text-color, var(--theme-code-foreground, var(--jp-content-font-color1, white)));\n",
       "    --sklearn-color-background: var(--sg-background-color, var(--theme-background, var(--jp-layout-color0, #111)));\n",
       "    --sklearn-color-border-box: var(--sg-text-color, var(--theme-code-foreground, var(--jp-content-font-color1, white)));\n",
       "    --sklearn-color-icon: #878787;\n",
       "  }\n",
       "}\n",
       "\n",
       "#sk-container-id-2 {\n",
       "  color: var(--sklearn-color-text);\n",
       "}\n",
       "\n",
       "#sk-container-id-2 pre {\n",
       "  padding: 0;\n",
       "}\n",
       "\n",
       "#sk-container-id-2 input.sk-hidden--visually {\n",
       "  border: 0;\n",
       "  clip: rect(1px 1px 1px 1px);\n",
       "  clip: rect(1px, 1px, 1px, 1px);\n",
       "  height: 1px;\n",
       "  margin: -1px;\n",
       "  overflow: hidden;\n",
       "  padding: 0;\n",
       "  position: absolute;\n",
       "  width: 1px;\n",
       "}\n",
       "\n",
       "#sk-container-id-2 div.sk-dashed-wrapped {\n",
       "  border: 1px dashed var(--sklearn-color-line);\n",
       "  margin: 0 0.4em 0.5em 0.4em;\n",
       "  box-sizing: border-box;\n",
       "  padding-bottom: 0.4em;\n",
       "  background-color: var(--sklearn-color-background);\n",
       "}\n",
       "\n",
       "#sk-container-id-2 div.sk-container {\n",
       "  /* jupyter's `normalize.less` sets `[hidden] { display: none; }`\n",
       "     but bootstrap.min.css set `[hidden] { display: none !important; }`\n",
       "     so we also need the `!important` here to be able to override the\n",
       "     default hidden behavior on the sphinx rendered scikit-learn.org.\n",
       "     See: https://github.com/scikit-learn/scikit-learn/issues/21755 */\n",
       "  display: inline-block !important;\n",
       "  position: relative;\n",
       "}\n",
       "\n",
       "#sk-container-id-2 div.sk-text-repr-fallback {\n",
       "  display: none;\n",
       "}\n",
       "\n",
       "div.sk-parallel-item,\n",
       "div.sk-serial,\n",
       "div.sk-item {\n",
       "  /* draw centered vertical line to link estimators */\n",
       "  background-image: linear-gradient(var(--sklearn-color-text-on-default-background), var(--sklearn-color-text-on-default-background));\n",
       "  background-size: 2px 100%;\n",
       "  background-repeat: no-repeat;\n",
       "  background-position: center center;\n",
       "}\n",
       "\n",
       "/* Parallel-specific style estimator block */\n",
       "\n",
       "#sk-container-id-2 div.sk-parallel-item::after {\n",
       "  content: \"\";\n",
       "  width: 100%;\n",
       "  border-bottom: 2px solid var(--sklearn-color-text-on-default-background);\n",
       "  flex-grow: 1;\n",
       "}\n",
       "\n",
       "#sk-container-id-2 div.sk-parallel {\n",
       "  display: flex;\n",
       "  align-items: stretch;\n",
       "  justify-content: center;\n",
       "  background-color: var(--sklearn-color-background);\n",
       "  position: relative;\n",
       "}\n",
       "\n",
       "#sk-container-id-2 div.sk-parallel-item {\n",
       "  display: flex;\n",
       "  flex-direction: column;\n",
       "}\n",
       "\n",
       "#sk-container-id-2 div.sk-parallel-item:first-child::after {\n",
       "  align-self: flex-end;\n",
       "  width: 50%;\n",
       "}\n",
       "\n",
       "#sk-container-id-2 div.sk-parallel-item:last-child::after {\n",
       "  align-self: flex-start;\n",
       "  width: 50%;\n",
       "}\n",
       "\n",
       "#sk-container-id-2 div.sk-parallel-item:only-child::after {\n",
       "  width: 0;\n",
       "}\n",
       "\n",
       "/* Serial-specific style estimator block */\n",
       "\n",
       "#sk-container-id-2 div.sk-serial {\n",
       "  display: flex;\n",
       "  flex-direction: column;\n",
       "  align-items: center;\n",
       "  background-color: var(--sklearn-color-background);\n",
       "  padding-right: 1em;\n",
       "  padding-left: 1em;\n",
       "}\n",
       "\n",
       "\n",
       "/* Toggleable style: style used for estimator/Pipeline/ColumnTransformer box that is\n",
       "clickable and can be expanded/collapsed.\n",
       "- Pipeline and ColumnTransformer use this feature and define the default style\n",
       "- Estimators will overwrite some part of the style using the `sk-estimator` class\n",
       "*/\n",
       "\n",
       "/* Pipeline and ColumnTransformer style (default) */\n",
       "\n",
       "#sk-container-id-2 div.sk-toggleable {\n",
       "  /* Default theme specific background. It is overwritten whether we have a\n",
       "  specific estimator or a Pipeline/ColumnTransformer */\n",
       "  background-color: var(--sklearn-color-background);\n",
       "}\n",
       "\n",
       "/* Toggleable label */\n",
       "#sk-container-id-2 label.sk-toggleable__label {\n",
       "  cursor: pointer;\n",
       "  display: block;\n",
       "  width: 100%;\n",
       "  margin-bottom: 0;\n",
       "  padding: 0.5em;\n",
       "  box-sizing: border-box;\n",
       "  text-align: center;\n",
       "}\n",
       "\n",
       "#sk-container-id-2 label.sk-toggleable__label-arrow:before {\n",
       "  /* Arrow on the left of the label */\n",
       "  content: \"▸\";\n",
       "  float: left;\n",
       "  margin-right: 0.25em;\n",
       "  color: var(--sklearn-color-icon);\n",
       "}\n",
       "\n",
       "#sk-container-id-2 label.sk-toggleable__label-arrow:hover:before {\n",
       "  color: var(--sklearn-color-text);\n",
       "}\n",
       "\n",
       "/* Toggleable content - dropdown */\n",
       "\n",
       "#sk-container-id-2 div.sk-toggleable__content {\n",
       "  max-height: 0;\n",
       "  max-width: 0;\n",
       "  overflow: hidden;\n",
       "  text-align: left;\n",
       "  /* unfitted */\n",
       "  background-color: var(--sklearn-color-unfitted-level-0);\n",
       "}\n",
       "\n",
       "#sk-container-id-2 div.sk-toggleable__content.fitted {\n",
       "  /* fitted */\n",
       "  background-color: var(--sklearn-color-fitted-level-0);\n",
       "}\n",
       "\n",
       "#sk-container-id-2 div.sk-toggleable__content pre {\n",
       "  margin: 0.2em;\n",
       "  border-radius: 0.25em;\n",
       "  color: var(--sklearn-color-text);\n",
       "  /* unfitted */\n",
       "  background-color: var(--sklearn-color-unfitted-level-0);\n",
       "}\n",
       "\n",
       "#sk-container-id-2 div.sk-toggleable__content.fitted pre {\n",
       "  /* unfitted */\n",
       "  background-color: var(--sklearn-color-fitted-level-0);\n",
       "}\n",
       "\n",
       "#sk-container-id-2 input.sk-toggleable__control:checked~div.sk-toggleable__content {\n",
       "  /* Expand drop-down */\n",
       "  max-height: 200px;\n",
       "  max-width: 100%;\n",
       "  overflow: auto;\n",
       "}\n",
       "\n",
       "#sk-container-id-2 input.sk-toggleable__control:checked~label.sk-toggleable__label-arrow:before {\n",
       "  content: \"▾\";\n",
       "}\n",
       "\n",
       "/* Pipeline/ColumnTransformer-specific style */\n",
       "\n",
       "#sk-container-id-2 div.sk-label input.sk-toggleable__control:checked~label.sk-toggleable__label {\n",
       "  color: var(--sklearn-color-text);\n",
       "  background-color: var(--sklearn-color-unfitted-level-2);\n",
       "}\n",
       "\n",
       "#sk-container-id-2 div.sk-label.fitted input.sk-toggleable__control:checked~label.sk-toggleable__label {\n",
       "  background-color: var(--sklearn-color-fitted-level-2);\n",
       "}\n",
       "\n",
       "/* Estimator-specific style */\n",
       "\n",
       "/* Colorize estimator box */\n",
       "#sk-container-id-2 div.sk-estimator input.sk-toggleable__control:checked~label.sk-toggleable__label {\n",
       "  /* unfitted */\n",
       "  background-color: var(--sklearn-color-unfitted-level-2);\n",
       "}\n",
       "\n",
       "#sk-container-id-2 div.sk-estimator.fitted input.sk-toggleable__control:checked~label.sk-toggleable__label {\n",
       "  /* fitted */\n",
       "  background-color: var(--sklearn-color-fitted-level-2);\n",
       "}\n",
       "\n",
       "#sk-container-id-2 div.sk-label label.sk-toggleable__label,\n",
       "#sk-container-id-2 div.sk-label label {\n",
       "  /* The background is the default theme color */\n",
       "  color: var(--sklearn-color-text-on-default-background);\n",
       "}\n",
       "\n",
       "/* On hover, darken the color of the background */\n",
       "#sk-container-id-2 div.sk-label:hover label.sk-toggleable__label {\n",
       "  color: var(--sklearn-color-text);\n",
       "  background-color: var(--sklearn-color-unfitted-level-2);\n",
       "}\n",
       "\n",
       "/* Label box, darken color on hover, fitted */\n",
       "#sk-container-id-2 div.sk-label.fitted:hover label.sk-toggleable__label.fitted {\n",
       "  color: var(--sklearn-color-text);\n",
       "  background-color: var(--sklearn-color-fitted-level-2);\n",
       "}\n",
       "\n",
       "/* Estimator label */\n",
       "\n",
       "#sk-container-id-2 div.sk-label label {\n",
       "  font-family: monospace;\n",
       "  font-weight: bold;\n",
       "  display: inline-block;\n",
       "  line-height: 1.2em;\n",
       "}\n",
       "\n",
       "#sk-container-id-2 div.sk-label-container {\n",
       "  text-align: center;\n",
       "}\n",
       "\n",
       "/* Estimator-specific */\n",
       "#sk-container-id-2 div.sk-estimator {\n",
       "  font-family: monospace;\n",
       "  border: 1px dotted var(--sklearn-color-border-box);\n",
       "  border-radius: 0.25em;\n",
       "  box-sizing: border-box;\n",
       "  margin-bottom: 0.5em;\n",
       "  /* unfitted */\n",
       "  background-color: var(--sklearn-color-unfitted-level-0);\n",
       "}\n",
       "\n",
       "#sk-container-id-2 div.sk-estimator.fitted {\n",
       "  /* fitted */\n",
       "  background-color: var(--sklearn-color-fitted-level-0);\n",
       "}\n",
       "\n",
       "/* on hover */\n",
       "#sk-container-id-2 div.sk-estimator:hover {\n",
       "  /* unfitted */\n",
       "  background-color: var(--sklearn-color-unfitted-level-2);\n",
       "}\n",
       "\n",
       "#sk-container-id-2 div.sk-estimator.fitted:hover {\n",
       "  /* fitted */\n",
       "  background-color: var(--sklearn-color-fitted-level-2);\n",
       "}\n",
       "\n",
       "/* Specification for estimator info (e.g. \"i\" and \"?\") */\n",
       "\n",
       "/* Common style for \"i\" and \"?\" */\n",
       "\n",
       ".sk-estimator-doc-link,\n",
       "a:link.sk-estimator-doc-link,\n",
       "a:visited.sk-estimator-doc-link {\n",
       "  float: right;\n",
       "  font-size: smaller;\n",
       "  line-height: 1em;\n",
       "  font-family: monospace;\n",
       "  background-color: var(--sklearn-color-background);\n",
       "  border-radius: 1em;\n",
       "  height: 1em;\n",
       "  width: 1em;\n",
       "  text-decoration: none !important;\n",
       "  margin-left: 1ex;\n",
       "  /* unfitted */\n",
       "  border: var(--sklearn-color-unfitted-level-1) 1pt solid;\n",
       "  color: var(--sklearn-color-unfitted-level-1);\n",
       "}\n",
       "\n",
       ".sk-estimator-doc-link.fitted,\n",
       "a:link.sk-estimator-doc-link.fitted,\n",
       "a:visited.sk-estimator-doc-link.fitted {\n",
       "  /* fitted */\n",
       "  border: var(--sklearn-color-fitted-level-1) 1pt solid;\n",
       "  color: var(--sklearn-color-fitted-level-1);\n",
       "}\n",
       "\n",
       "/* On hover */\n",
       "div.sk-estimator:hover .sk-estimator-doc-link:hover,\n",
       ".sk-estimator-doc-link:hover,\n",
       "div.sk-label-container:hover .sk-estimator-doc-link:hover,\n",
       ".sk-estimator-doc-link:hover {\n",
       "  /* unfitted */\n",
       "  background-color: var(--sklearn-color-unfitted-level-3);\n",
       "  color: var(--sklearn-color-background);\n",
       "  text-decoration: none;\n",
       "}\n",
       "\n",
       "div.sk-estimator.fitted:hover .sk-estimator-doc-link.fitted:hover,\n",
       ".sk-estimator-doc-link.fitted:hover,\n",
       "div.sk-label-container:hover .sk-estimator-doc-link.fitted:hover,\n",
       ".sk-estimator-doc-link.fitted:hover {\n",
       "  /* fitted */\n",
       "  background-color: var(--sklearn-color-fitted-level-3);\n",
       "  color: var(--sklearn-color-background);\n",
       "  text-decoration: none;\n",
       "}\n",
       "\n",
       "/* Span, style for the box shown on hovering the info icon */\n",
       ".sk-estimator-doc-link span {\n",
       "  display: none;\n",
       "  z-index: 9999;\n",
       "  position: relative;\n",
       "  font-weight: normal;\n",
       "  right: .2ex;\n",
       "  padding: .5ex;\n",
       "  margin: .5ex;\n",
       "  width: min-content;\n",
       "  min-width: 20ex;\n",
       "  max-width: 50ex;\n",
       "  color: var(--sklearn-color-text);\n",
       "  box-shadow: 2pt 2pt 4pt #999;\n",
       "  /* unfitted */\n",
       "  background: var(--sklearn-color-unfitted-level-0);\n",
       "  border: .5pt solid var(--sklearn-color-unfitted-level-3);\n",
       "}\n",
       "\n",
       ".sk-estimator-doc-link.fitted span {\n",
       "  /* fitted */\n",
       "  background: var(--sklearn-color-fitted-level-0);\n",
       "  border: var(--sklearn-color-fitted-level-3);\n",
       "}\n",
       "\n",
       ".sk-estimator-doc-link:hover span {\n",
       "  display: block;\n",
       "}\n",
       "\n",
       "/* \"?\"-specific style due to the `<a>` HTML tag */\n",
       "\n",
       "#sk-container-id-2 a.estimator_doc_link {\n",
       "  float: right;\n",
       "  font-size: 1rem;\n",
       "  line-height: 1em;\n",
       "  font-family: monospace;\n",
       "  background-color: var(--sklearn-color-background);\n",
       "  border-radius: 1rem;\n",
       "  height: 1rem;\n",
       "  width: 1rem;\n",
       "  text-decoration: none;\n",
       "  /* unfitted */\n",
       "  color: var(--sklearn-color-unfitted-level-1);\n",
       "  border: var(--sklearn-color-unfitted-level-1) 1pt solid;\n",
       "}\n",
       "\n",
       "#sk-container-id-2 a.estimator_doc_link.fitted {\n",
       "  /* fitted */\n",
       "  border: var(--sklearn-color-fitted-level-1) 1pt solid;\n",
       "  color: var(--sklearn-color-fitted-level-1);\n",
       "}\n",
       "\n",
       "/* On hover */\n",
       "#sk-container-id-2 a.estimator_doc_link:hover {\n",
       "  /* unfitted */\n",
       "  background-color: var(--sklearn-color-unfitted-level-3);\n",
       "  color: var(--sklearn-color-background);\n",
       "  text-decoration: none;\n",
       "}\n",
       "\n",
       "#sk-container-id-2 a.estimator_doc_link.fitted:hover {\n",
       "  /* fitted */\n",
       "  background-color: var(--sklearn-color-fitted-level-3);\n",
       "}\n",
       "</style><div id=\"sk-container-id-2\" class=\"sk-top-container\"><div class=\"sk-text-repr-fallback\"><pre>LogisticRegression()</pre><b>In a Jupyter environment, please rerun this cell to show the HTML representation or trust the notebook. <br />On GitHub, the HTML representation is unable to render, please try loading this page with nbviewer.org.</b></div><div class=\"sk-container\" hidden><div class=\"sk-item\"><div class=\"sk-estimator fitted sk-toggleable\"><input class=\"sk-toggleable__control sk-hidden--visually\" id=\"sk-estimator-id-2\" type=\"checkbox\" checked><label for=\"sk-estimator-id-2\" class=\"sk-toggleable__label fitted sk-toggleable__label-arrow fitted\">&nbsp;&nbsp;LogisticRegression<a class=\"sk-estimator-doc-link fitted\" rel=\"noreferrer\" target=\"_blank\" href=\"https://scikit-learn.org/1.5/modules/generated/sklearn.linear_model.LogisticRegression.html\">?<span>Documentation for LogisticRegression</span></a><span class=\"sk-estimator-doc-link fitted\">i<span>Fitted</span></span></label><div class=\"sk-toggleable__content fitted\"><pre>LogisticRegression()</pre></div> </div></div></div></div>"
      ],
      "text/plain": [
       "LogisticRegression()"
      ]
     },
     "execution_count": 29,
     "metadata": {},
     "output_type": "execute_result"
    }
   ],
   "source": [
    "logreg = LogisticRegression()\n",
    "\n",
    "logreg.fit(regressors_train, features_train['Music'])"
   ]
  },
  {
   "cell_type": "code",
   "execution_count": 30,
   "metadata": {
    "id": "Xxih2wjxQ8_B",
    "outputId": "abd7d9a7-18be-4dea-b5e3-14079729d3d0"
   },
   "outputs": [
    {
     "data": {
      "image/png": "[encoded data removed]",
      "text/plain": [
       "<Figure size 640x480 with 1 Axes>"
      ]
     },
     "metadata": {},
     "output_type": "display_data"
    }
   ],
   "source": [
    "importances_lr = pd.Series(logreg.coef_[0], index = regressors_train.columns)\n",
    "importances_lr.plot.bar()\n",
    "plt.title('Importances in logreg')\n",
    "plt.show()"
   ]
  },
  {
   "cell_type": "code",
   "execution_count": 31,
   "metadata": {
    "id": "MrIH8WFrQ8_B",
    "outputId": "2566f80e-ece1-42e4-d324-1a3b2d93c20e"
   },
   "outputs": [
    {
     "data": {
      "text/html": [
       "<style>#sk-container-id-3 {\n",
       "  /* Definition of color scheme common for light and dark mode */\n",
       "  --sklearn-color-text: black;\n",
       "  --sklearn-color-line: gray;\n",
       "  /* Definition of color scheme for unfitted estimators */\n",
       "  --sklearn-color-unfitted-level-0: #fff5e6;\n",
       "  --sklearn-color-unfitted-level-1: #f6e4d2;\n",
       "  --sklearn-color-unfitted-level-2: #ffe0b3;\n",
       "  --sklearn-color-unfitted-level-3: chocolate;\n",
       "  /* Definition of color scheme for fitted estimators */\n",
       "  --sklearn-color-fitted-level-0: #f0f8ff;\n",
       "  --sklearn-color-fitted-level-1: #d4ebff;\n",
       "  --sklearn-color-fitted-level-2: #b3dbfd;\n",
       "  --sklearn-color-fitted-level-3: cornflowerblue;\n",
       "\n",
       "  /* Specific color for light theme */\n",
       "  --sklearn-color-text-on-default-background: var(--sg-text-color, var(--theme-code-foreground, var(--jp-content-font-color1, black)));\n",
       "  --sklearn-color-background: var(--sg-background-color, var(--theme-background, var(--jp-layout-color0, white)));\n",
       "  --sklearn-color-border-box: var(--sg-text-color, var(--theme-code-foreground, var(--jp-content-font-color1, black)));\n",
       "  --sklearn-color-icon: #696969;\n",
       "\n",
       "  @media (prefers-color-scheme: dark) {\n",
       "    /* Redefinition of color scheme for dark theme */\n",
       "    --sklearn-color-text-on-default-background: var(--sg-text-color, var(--theme-code-foreground, var(--jp-content-font-color1, white)));\n",
       "    --sklearn-color-background: var(--sg-background-color, var(--theme-background, var(--jp-layout-color0, #111)));\n",
       "    --sklearn-color-border-box: var(--sg-text-color, var(--theme-code-foreground, var(--jp-content-font-color1, white)));\n",
       "    --sklearn-color-icon: #878787;\n",
       "  }\n",
       "}\n",
       "\n",
       "#sk-container-id-3 {\n",
       "  color: var(--sklearn-color-text);\n",
       "}\n",
       "\n",
       "#sk-container-id-3 pre {\n",
       "  padding: 0;\n",
       "}\n",
       "\n",
       "#sk-container-id-3 input.sk-hidden--visually {\n",
       "  border: 0;\n",
       "  clip: rect(1px 1px 1px 1px);\n",
       "  clip: rect(1px, 1px, 1px, 1px);\n",
       "  height: 1px;\n",
       "  margin: -1px;\n",
       "  overflow: hidden;\n",
       "  padding: 0;\n",
       "  position: absolute;\n",
       "  width: 1px;\n",
       "}\n",
       "\n",
       "#sk-container-id-3 div.sk-dashed-wrapped {\n",
       "  border: 1px dashed var(--sklearn-color-line);\n",
       "  margin: 0 0.4em 0.5em 0.4em;\n",
       "  box-sizing: border-box;\n",
       "  padding-bottom: 0.4em;\n",
       "  background-color: var(--sklearn-color-background);\n",
       "}\n",
       "\n",
       "#sk-container-id-3 div.sk-container {\n",
       "  /* jupyter's `normalize.less` sets `[hidden] { display: none; }`\n",
       "     but bootstrap.min.css set `[hidden] { display: none !important; }`\n",
       "     so we also need the `!important` here to be able to override the\n",
       "     default hidden behavior on the sphinx rendered scikit-learn.org.\n",
       "     See: https://github.com/scikit-learn/scikit-learn/issues/21755 */\n",
       "  display: inline-block !important;\n",
       "  position: relative;\n",
       "}\n",
       "\n",
       "#sk-container-id-3 div.sk-text-repr-fallback {\n",
       "  display: none;\n",
       "}\n",
       "\n",
       "div.sk-parallel-item,\n",
       "div.sk-serial,\n",
       "div.sk-item {\n",
       "  /* draw centered vertical line to link estimators */\n",
       "  background-image: linear-gradient(var(--sklearn-color-text-on-default-background), var(--sklearn-color-text-on-default-background));\n",
       "  background-size: 2px 100%;\n",
       "  background-repeat: no-repeat;\n",
       "  background-position: center center;\n",
       "}\n",
       "\n",
       "/* Parallel-specific style estimator block */\n",
       "\n",
       "#sk-container-id-3 div.sk-parallel-item::after {\n",
       "  content: \"\";\n",
       "  width: 100%;\n",
       "  border-bottom: 2px solid var(--sklearn-color-text-on-default-background);\n",
       "  flex-grow: 1;\n",
       "}\n",
       "\n",
       "#sk-container-id-3 div.sk-parallel {\n",
       "  display: flex;\n",
       "  align-items: stretch;\n",
       "  justify-content: center;\n",
       "  background-color: var(--sklearn-color-background);\n",
       "  position: relative;\n",
       "}\n",
       "\n",
       "#sk-container-id-3 div.sk-parallel-item {\n",
       "  display: flex;\n",
       "  flex-direction: column;\n",
       "}\n",
       "\n",
       "#sk-container-id-3 div.sk-parallel-item:first-child::after {\n",
       "  align-self: flex-end;\n",
       "  width: 50%;\n",
       "}\n",
       "\n",
       "#sk-container-id-3 div.sk-parallel-item:last-child::after {\n",
       "  align-self: flex-start;\n",
       "  width: 50%;\n",
       "}\n",
       "\n",
       "#sk-container-id-3 div.sk-parallel-item:only-child::after {\n",
       "  width: 0;\n",
       "}\n",
       "\n",
       "/* Serial-specific style estimator block */\n",
       "\n",
       "#sk-container-id-3 div.sk-serial {\n",
       "  display: flex;\n",
       "  flex-direction: column;\n",
       "  align-items: center;\n",
       "  background-color: var(--sklearn-color-background);\n",
       "  padding-right: 1em;\n",
       "  padding-left: 1em;\n",
       "}\n",
       "\n",
       "\n",
       "/* Toggleable style: style used for estimator/Pipeline/ColumnTransformer box that is\n",
       "clickable and can be expanded/collapsed.\n",
       "- Pipeline and ColumnTransformer use this feature and define the default style\n",
       "- Estimators will overwrite some part of the style using the `sk-estimator` class\n",
       "*/\n",
       "\n",
       "/* Pipeline and ColumnTransformer style (default) */\n",
       "\n",
       "#sk-container-id-3 div.sk-toggleable {\n",
       "  /* Default theme specific background. It is overwritten whether we have a\n",
       "  specific estimator or a Pipeline/ColumnTransformer */\n",
       "  background-color: var(--sklearn-color-background);\n",
       "}\n",
       "\n",
       "/* Toggleable label */\n",
       "#sk-container-id-3 label.sk-toggleable__label {\n",
       "  cursor: pointer;\n",
       "  display: block;\n",
       "  width: 100%;\n",
       "  margin-bottom: 0;\n",
       "  padding: 0.5em;\n",
       "  box-sizing: border-box;\n",
       "  text-align: center;\n",
       "}\n",
       "\n",
       "#sk-container-id-3 label.sk-toggleable__label-arrow:before {\n",
       "  /* Arrow on the left of the label */\n",
       "  content: \"▸\";\n",
       "  float: left;\n",
       "  margin-right: 0.25em;\n",
       "  color: var(--sklearn-color-icon);\n",
       "}\n",
       "\n",
       "#sk-container-id-3 label.sk-toggleable__label-arrow:hover:before {\n",
       "  color: var(--sklearn-color-text);\n",
       "}\n",
       "\n",
       "/* Toggleable content - dropdown */\n",
       "\n",
       "#sk-container-id-3 div.sk-toggleable__content {\n",
       "  max-height: 0;\n",
       "  max-width: 0;\n",
       "  overflow: hidden;\n",
       "  text-align: left;\n",
       "  /* unfitted */\n",
       "  background-color: var(--sklearn-color-unfitted-level-0);\n",
       "}\n",
       "\n",
       "#sk-container-id-3 div.sk-toggleable__content.fitted {\n",
       "  /* fitted */\n",
       "  background-color: var(--sklearn-color-fitted-level-0);\n",
       "}\n",
       "\n",
       "#sk-container-id-3 div.sk-toggleable__content pre {\n",
       "  margin: 0.2em;\n",
       "  border-radius: 0.25em;\n",
       "  color: var(--sklearn-color-text);\n",
       "  /* unfitted */\n",
       "  background-color: var(--sklearn-color-unfitted-level-0);\n",
       "}\n",
       "\n",
       "#sk-container-id-3 div.sk-toggleable__content.fitted pre {\n",
       "  /* unfitted */\n",
       "  background-color: var(--sklearn-color-fitted-level-0);\n",
       "}\n",
       "\n",
       "#sk-container-id-3 input.sk-toggleable__control:checked~div.sk-toggleable__content {\n",
       "  /* Expand drop-down */\n",
       "  max-height: 200px;\n",
       "  max-width: 100%;\n",
       "  overflow: auto;\n",
       "}\n",
       "\n",
       "#sk-container-id-3 input.sk-toggleable__control:checked~label.sk-toggleable__label-arrow:before {\n",
       "  content: \"▾\";\n",
       "}\n",
       "\n",
       "/* Pipeline/ColumnTransformer-specific style */\n",
       "\n",
       "#sk-container-id-3 div.sk-label input.sk-toggleable__control:checked~label.sk-toggleable__label {\n",
       "  color: var(--sklearn-color-text);\n",
       "  background-color: var(--sklearn-color-unfitted-level-2);\n",
       "}\n",
       "\n",
       "#sk-container-id-3 div.sk-label.fitted input.sk-toggleable__control:checked~label.sk-toggleable__label {\n",
       "  background-color: var(--sklearn-color-fitted-level-2);\n",
       "}\n",
       "\n",
       "/* Estimator-specific style */\n",
       "\n",
       "/* Colorize estimator box */\n",
       "#sk-container-id-3 div.sk-estimator input.sk-toggleable__control:checked~label.sk-toggleable__label {\n",
       "  /* unfitted */\n",
       "  background-color: var(--sklearn-color-unfitted-level-2);\n",
       "}\n",
       "\n",
       "#sk-container-id-3 div.sk-estimator.fitted input.sk-toggleable__control:checked~label.sk-toggleable__label {\n",
       "  /* fitted */\n",
       "  background-color: var(--sklearn-color-fitted-level-2);\n",
       "}\n",
       "\n",
       "#sk-container-id-3 div.sk-label label.sk-toggleable__label,\n",
       "#sk-container-id-3 div.sk-label label {\n",
       "  /* The background is the default theme color */\n",
       "  color: var(--sklearn-color-text-on-default-background);\n",
       "}\n",
       "\n",
       "/* On hover, darken the color of the background */\n",
       "#sk-container-id-3 div.sk-label:hover label.sk-toggleable__label {\n",
       "  color: var(--sklearn-color-text);\n",
       "  background-color: var(--sklearn-color-unfitted-level-2);\n",
       "}\n",
       "\n",
       "/* Label box, darken color on hover, fitted */\n",
       "#sk-container-id-3 div.sk-label.fitted:hover label.sk-toggleable__label.fitted {\n",
       "  color: var(--sklearn-color-text);\n",
       "  background-color: var(--sklearn-color-fitted-level-2);\n",
       "}\n",
       "\n",
       "/* Estimator label */\n",
       "\n",
       "#sk-container-id-3 div.sk-label label {\n",
       "  font-family: monospace;\n",
       "  font-weight: bold;\n",
       "  display: inline-block;\n",
       "  line-height: 1.2em;\n",
       "}\n",
       "\n",
       "#sk-container-id-3 div.sk-label-container {\n",
       "  text-align: center;\n",
       "}\n",
       "\n",
       "/* Estimator-specific */\n",
       "#sk-container-id-3 div.sk-estimator {\n",
       "  font-family: monospace;\n",
       "  border: 1px dotted var(--sklearn-color-border-box);\n",
       "  border-radius: 0.25em;\n",
       "  box-sizing: border-box;\n",
       "  margin-bottom: 0.5em;\n",
       "  /* unfitted */\n",
       "  background-color: var(--sklearn-color-unfitted-level-0);\n",
       "}\n",
       "\n",
       "#sk-container-id-3 div.sk-estimator.fitted {\n",
       "  /* fitted */\n",
       "  background-color: var(--sklearn-color-fitted-level-0);\n",
       "}\n",
       "\n",
       "/* on hover */\n",
       "#sk-container-id-3 div.sk-estimator:hover {\n",
       "  /* unfitted */\n",
       "  background-color: var(--sklearn-color-unfitted-level-2);\n",
       "}\n",
       "\n",
       "#sk-container-id-3 div.sk-estimator.fitted:hover {\n",
       "  /* fitted */\n",
       "  background-color: var(--sklearn-color-fitted-level-2);\n",
       "}\n",
       "\n",
       "/* Specification for estimator info (e.g. \"i\" and \"?\") */\n",
       "\n",
       "/* Common style for \"i\" and \"?\" */\n",
       "\n",
       ".sk-estimator-doc-link,\n",
       "a:link.sk-estimator-doc-link,\n",
       "a:visited.sk-estimator-doc-link {\n",
       "  float: right;\n",
       "  font-size: smaller;\n",
       "  line-height: 1em;\n",
       "  font-family: monospace;\n",
       "  background-color: var(--sklearn-color-background);\n",
       "  border-radius: 1em;\n",
       "  height: 1em;\n",
       "  width: 1em;\n",
       "  text-decoration: none !important;\n",
       "  margin-left: 1ex;\n",
       "  /* unfitted */\n",
       "  border: var(--sklearn-color-unfitted-level-1) 1pt solid;\n",
       "  color: var(--sklearn-color-unfitted-level-1);\n",
       "}\n",
       "\n",
       ".sk-estimator-doc-link.fitted,\n",
       "a:link.sk-estimator-doc-link.fitted,\n",
       "a:visited.sk-estimator-doc-link.fitted {\n",
       "  /* fitted */\n",
       "  border: var(--sklearn-color-fitted-level-1) 1pt solid;\n",
       "  color: var(--sklearn-color-fitted-level-1);\n",
       "}\n",
       "\n",
       "/* On hover */\n",
       "div.sk-estimator:hover .sk-estimator-doc-link:hover,\n",
       ".sk-estimator-doc-link:hover,\n",
       "div.sk-label-container:hover .sk-estimator-doc-link:hover,\n",
       ".sk-estimator-doc-link:hover {\n",
       "  /* unfitted */\n",
       "  background-color: var(--sklearn-color-unfitted-level-3);\n",
       "  color: var(--sklearn-color-background);\n",
       "  text-decoration: none;\n",
       "}\n",
       "\n",
       "div.sk-estimator.fitted:hover .sk-estimator-doc-link.fitted:hover,\n",
       ".sk-estimator-doc-link.fitted:hover,\n",
       "div.sk-label-container:hover .sk-estimator-doc-link.fitted:hover,\n",
       ".sk-estimator-doc-link.fitted:hover {\n",
       "  /* fitted */\n",
       "  background-color: var(--sklearn-color-fitted-level-3);\n",
       "  color: var(--sklearn-color-background);\n",
       "  text-decoration: none;\n",
       "}\n",
       "\n",
       "/* Span, style for the box shown on hovering the info icon */\n",
       ".sk-estimator-doc-link span {\n",
       "  display: none;\n",
       "  z-index: 9999;\n",
       "  position: relative;\n",
       "  font-weight: normal;\n",
       "  right: .2ex;\n",
       "  padding: .5ex;\n",
       "  margin: .5ex;\n",
       "  width: min-content;\n",
       "  min-width: 20ex;\n",
       "  max-width: 50ex;\n",
       "  color: var(--sklearn-color-text);\n",
       "  box-shadow: 2pt 2pt 4pt #999;\n",
       "  /* unfitted */\n",
       "  background: var(--sklearn-color-unfitted-level-0);\n",
       "  border: .5pt solid var(--sklearn-color-unfitted-level-3);\n",
       "}\n",
       "\n",
       ".sk-estimator-doc-link.fitted span {\n",
       "  /* fitted */\n",
       "  background: var(--sklearn-color-fitted-level-0);\n",
       "  border: var(--sklearn-color-fitted-level-3);\n",
       "}\n",
       "\n",
       ".sk-estimator-doc-link:hover span {\n",
       "  display: block;\n",
       "}\n",
       "\n",
       "/* \"?\"-specific style due to the `<a>` HTML tag */\n",
       "\n",
       "#sk-container-id-3 a.estimator_doc_link {\n",
       "  float: right;\n",
       "  font-size: 1rem;\n",
       "  line-height: 1em;\n",
       "  font-family: monospace;\n",
       "  background-color: var(--sklearn-color-background);\n",
       "  border-radius: 1rem;\n",
       "  height: 1rem;\n",
       "  width: 1rem;\n",
       "  text-decoration: none;\n",
       "  /* unfitted */\n",
       "  color: var(--sklearn-color-unfitted-level-1);\n",
       "  border: var(--sklearn-color-unfitted-level-1) 1pt solid;\n",
       "}\n",
       "\n",
       "#sk-container-id-3 a.estimator_doc_link.fitted {\n",
       "  /* fitted */\n",
       "  border: var(--sklearn-color-fitted-level-1) 1pt solid;\n",
       "  color: var(--sklearn-color-fitted-level-1);\n",
       "}\n",
       "\n",
       "/* On hover */\n",
       "#sk-container-id-3 a.estimator_doc_link:hover {\n",
       "  /* unfitted */\n",
       "  background-color: var(--sklearn-color-unfitted-level-3);\n",
       "  color: var(--sklearn-color-background);\n",
       "  text-decoration: none;\n",
       "}\n",
       "\n",
       "#sk-container-id-3 a.estimator_doc_link.fitted:hover {\n",
       "  /* fitted */\n",
       "  background-color: var(--sklearn-color-fitted-level-3);\n",
       "}\n",
       "</style><div id=\"sk-container-id-3\" class=\"sk-top-container\"><div class=\"sk-text-repr-fallback\"><pre>GradientBoostingClassifier()</pre><b>In a Jupyter environment, please rerun this cell to show the HTML representation or trust the notebook. <br />On GitHub, the HTML representation is unable to render, please try loading this page with nbviewer.org.</b></div><div class=\"sk-container\" hidden><div class=\"sk-item\"><div class=\"sk-estimator fitted sk-toggleable\"><input class=\"sk-toggleable__control sk-hidden--visually\" id=\"sk-estimator-id-3\" type=\"checkbox\" checked><label for=\"sk-estimator-id-3\" class=\"sk-toggleable__label fitted sk-toggleable__label-arrow fitted\">&nbsp;&nbsp;GradientBoostingClassifier<a class=\"sk-estimator-doc-link fitted\" rel=\"noreferrer\" target=\"_blank\" href=\"https://scikit-learn.org/1.5/modules/generated/sklearn.ensemble.GradientBoostingClassifier.html\">?<span>Documentation for GradientBoostingClassifier</span></a><span class=\"sk-estimator-doc-link fitted\">i<span>Fitted</span></span></label><div class=\"sk-toggleable__content fitted\"><pre>GradientBoostingClassifier()</pre></div> </div></div></div></div>"
      ],
      "text/plain": [
       "GradientBoostingClassifier()"
      ]
     },
     "execution_count": 31,
     "metadata": {},
     "output_type": "execute_result"
    }
   ],
   "source": [
    "boosting_class = GradientBoostingClassifier()\n",
    "\n",
    "boosting_class.fit(regressors_train, features_train['Music'])"
   ]
  },
  {
   "cell_type": "code",
   "execution_count": 32,
   "metadata": {
    "id": "e32bRr_tQ8_B",
    "outputId": "0c9a44e0-561b-499f-aef2-70bbc73cd65b"
   },
   "outputs": [
    {
     "data": {
      "image/png": "[encoded data removed]",
      "text/plain": [
       "<Figure size 640x480 with 1 Axes>"
      ]
     },
     "metadata": {},
     "output_type": "display_data"
    }
   ],
   "source": [
    "importances_gb = pd.Series(boosting_class.feature_importances_, index = regressors_train.columns)\n",
    "importances_gb.plot.bar()\n",
    "plt.title('Importances in gradient boosting')\n",
    "plt.show()"
   ]
  },
  {
   "cell_type": "markdown",
   "metadata": {
    "id": "_kULc92uQ8_B"
   },
   "source": [
    "Из графиков видно, что наиболее важными для прогнозирования являются `Subs` и `Health`, однако `Wage` и `Fam` тоже являются важными при обучении на Случайно лесе, поэтому выберем их для дальнейшего исследования."
   ]
  },
  {
   "cell_type": "code",
   "execution_count": 33,
   "metadata": {
    "id": "OjLrGIzbQ8_B"
   },
   "outputs": [],
   "source": [
    "selected = ['Subs', 'Wage', 'Fam', 'Health']\n",
    "regressors_train = regressors_train[selected]\n",
    "regressors_test = regressors_test[selected]"
   ]
  },
  {
   "cell_type": "markdown",
   "metadata": {
    "id": "Uij9JIw9Q8_B"
   },
   "source": [
    "2. Выберите произвольные значения гиперпараметров, а затем оцените и сравните\n",
    "(между методами) точность прогнозов:\n",
    "\n",
    "• на обучающей выборке.\n",
    "\n",
    "• на тестовой выборке.\n",
    "\n",
    "• с помощью кросс-валидации (используйте только обучающую выборку).\n",
    "\n",
    "Проинтерпретируйте полученные результаты"
   ]
  },
  {
   "cell_type": "code",
   "execution_count": 34,
   "metadata": {
    "id": "tivOKBjpQ8_B"
   },
   "outputs": [],
   "source": [
    "# Random Forest\n",
    "\n",
    "forest = RandomForestClassifier(max_depth    = 12)\n",
    "\n",
    "forest.fit(regressors_train, features_train['Music'])\n",
    "rfs_tr = np.round(forest.score(regressors_train, features_train['Music']), 4)\n",
    "rfs_te = np.round(forest.score(regressors_test, features_test['Music']), 4)\n",
    "rfs_cv = np.round(np.mean(cross_val_score(forest, regressors_test, features_test['Music'], cv = 5)), 4)"
   ]
  },
  {
   "cell_type": "code",
   "execution_count": 35,
   "metadata": {
    "id": "6URfg-4GXBZW"
   },
   "outputs": [],
   "source": [
    "# Logistic Regression\n",
    "\n",
    "logit = LogisticRegression(solver = 'lbfgs', fit_intercept = True)\n",
    "logit.fit(regressors_train, features_train['Music'])\n",
    "lgt_tr = np.round(logit.score(regressors_train, features_train['Music']), 4)\n",
    "lgt_te = np.round(logit.score(regressors_test, features_test['Music']), 4)\n",
    "lgt_cv = np.round(np.mean(cross_val_score(logit, regressors_test, features_test['Music'], cv = 5)), 4)"
   ]
  },
  {
   "cell_type": "code",
   "execution_count": 36,
   "metadata": {
    "id": "gZQIzj4DX8h0"
   },
   "outputs": [],
   "source": [
    "# Gradient Boosting\n",
    "\n",
    "gb = GradientBoostingClassifier()\n",
    "\n",
    "gb.fit(regressors_train, features_train['Music'])\n",
    "gb_tr = np.round(gb.score(regressors_train, features_train['Music']), 4)\n",
    "gb_te = np.round(gb.score(regressors_test, features_test['Music']), 4)\n",
    "gb_cv = np.round(np.mean(cross_val_score(gb, regressors_test, features_test['Music'], cv = 5)), 4)"
   ]
  },
  {
   "cell_type": "code",
   "execution_count": 37,
   "metadata": {
    "id": "_Z_3C-k8Yv39",
    "outputId": "2b510a92-84f8-40f3-e1dc-d1ce97833b3d"
   },
   "outputs": [
    {
     "data": {
      "text/html": [
       "<div>\n",
       "<style scoped>\n",
       "    .dataframe tbody tr th:only-of-type {\n",
       "        vertical-align: middle;\n",
       "    }\n",
       "\n",
       "    .dataframe tbody tr th {\n",
       "        vertical-align: top;\n",
       "    }\n",
       "\n",
       "    .dataframe thead th {\n",
       "        text-align: right;\n",
       "    }\n",
       "</style>\n",
       "<table border=\"1\" class=\"dataframe\">\n",
       "  <thead>\n",
       "    <tr style=\"text-align: right;\">\n",
       "      <th></th>\n",
       "      <th>Train</th>\n",
       "      <th>Test</th>\n",
       "      <th>Cross-validation (mean)</th>\n",
       "    </tr>\n",
       "  </thead>\n",
       "  <tbody>\n",
       "    <tr>\n",
       "      <th>Random Forest</th>\n",
       "      <td>0.8846</td>\n",
       "      <td>0.8110</td>\n",
       "      <td>0.8090</td>\n",
       "    </tr>\n",
       "    <tr>\n",
       "      <th>Logistic Regression</th>\n",
       "      <td>0.8212</td>\n",
       "      <td>0.8190</td>\n",
       "      <td>0.8145</td>\n",
       "    </tr>\n",
       "    <tr>\n",
       "      <th>Gradient Boosting</th>\n",
       "      <td>0.8301</td>\n",
       "      <td>0.8145</td>\n",
       "      <td>0.8020</td>\n",
       "    </tr>\n",
       "  </tbody>\n",
       "</table>\n",
       "</div>"
      ],
      "text/plain": [
       "                      Train    Test  Cross-validation (mean)\n",
       "Random Forest        0.8846  0.8110                   0.8090\n",
       "Logistic Regression  0.8212  0.8190                   0.8145\n",
       "Gradient Boosting    0.8301  0.8145                   0.8020"
      ]
     },
     "execution_count": 37,
     "metadata": {},
     "output_type": "execute_result"
    }
   ],
   "source": [
    "# Сравним полученные результаты\n",
    "\n",
    "pd.DataFrame(data  = [[rfs_tr, rfs_te, rfs_cv], [lgt_tr, lgt_te, lgt_cv], [gb_tr, gb_te, gb_cv]],\n",
    "                   index   = ['Random Forest', 'Logistic Regression', 'Gradient Boosting'],\n",
    "                   columns = ['Train', 'Test', 'Cross-validation (mean)'])"
   ]
  },
  {
   "cell_type": "markdown",
   "metadata": {
    "id": "vdP0meFpcDB0"
   },
   "source": [
    "* На тестовой выборке и по средней точности на кросс-валидационной выборки лучшей является Логистическая регрессия\n",
    "* Высокое значение точности Случайного леса на обучающей выборке и не такое высокое значение на тестовой может говорить о переобучении, хотя различие между ними не такое сильное."
   ]
  },
  {
   "cell_type": "markdown",
   "metadata": {
    "id": "AmIkDwyCdJWF"
   },
   "source": [
    "3. Для каждого метода с помощью кросс-валидации на обучающей выборке подберите оптимальные значения гиперпараметров (тюнинг). В качестве критерия\n",
    "качества используйте точность АСС. Результат представьте в форме таблицы, в которой для каждого метода должны быть указаны:\n",
    "* изначальные и подобранные значения гиперпараметров.\n",
    "* кросс-валидационная точность на обучающей выборке с исходными и подобранными значениями гиперпараметров.\n",
    "* точность на тестовой выборке с исходными и подобранными значениями\n",
    "гиперпараметров. \\\n",
    "Проинтерпретируйте полученные результаты и далее используйте методы с подобранными значениями гиперпараметров."
   ]
  },
  {
   "cell_type": "code",
   "execution_count": 38,
   "metadata": {
    "id": "g-ytBh5mcXHO"
   },
   "outputs": [],
   "source": [
    "# Random Forest\n",
    "\n",
    "# Перебираемые значения гиперпараметров\n",
    "hyper = {'max_depth': range(1, 20)}\n",
    "\n",
    "# Перебор гиперпараметров с помощью кросс-валидации\n",
    "GSCV_rf = GridSearchCV(estimator  = RandomForestClassifier(),         # модель\n",
    "                       param_grid = hyper,                            # перебираемые гиперпараметры\n",
    "                       scoring    = \"accuracy\",                       # метрика качества модели\n",
    "                       cv         = 5)                                # число фолдов в кросс-валидации\n",
    "GSCV_rf.fit(regressors_train, features_train['Music'])\n",
    "\n",
    "# Достанем гиперпараметры, соответствующие лучшей модели\n",
    "rf_best = GSCV_rf.best_estimator_\n",
    "\n",
    "rf_best_tr = np.round(rf_best.score(regressors_train, features_train['Music']), 4)\n",
    "rf_best_te = np.round(rf_best.score(regressors_test, features_test['Music']), 4)\n",
    "rf_best_cv = np.round(np.mean(cross_val_score(rf_best, regressors_test, features_test['Music'], cv = 5)), 4)"
   ]
  },
  {
   "cell_type": "code",
   "execution_count": 39,
   "metadata": {
    "id": "YR5ZBBFFhSYL"
   },
   "outputs": [],
   "source": [
    "# Logistic Regression\n",
    "\n",
    "# Перебираемые значения гиперпараметров\n",
    "hyper = {'max_iter': [100, 300, 500, 700, 900, 1000]}\n",
    "\n",
    "# Перебор гиперпараметров с помощью кросс-валидации\n",
    "GSCV_lgt = GridSearchCV(estimator  = LogisticRegression(),             # модель\n",
    "                       param_grid = hyper,                            # перебираемые гиперпараметры\n",
    "                       scoring    = \"accuracy\",                       # метрика качества модели\n",
    "                       cv         = 5)                                # число фолдов в кросс-валидации\n",
    "GSCV_lgt.fit(regressors_train, features_train['Music'])\n",
    "\n",
    "# Достанем гиперпараметры, соответствующие лучшей модели\n",
    "lgt_best = GSCV_lgt.best_estimator_\n",
    "\n",
    "lgt_best_tr = np.round(lgt_best.score(regressors_train, features_train['Music']), 4)\n",
    "lgt_best_te = np.round(lgt_best.score(regressors_test, features_test['Music']), 4)\n",
    "lgt_best_cv = np.round(np.mean(cross_val_score(lgt_best, regressors_test, features_test['Music'], cv = 5)), 4)"
   ]
  },
  {
   "cell_type": "code",
   "execution_count": 40,
   "metadata": {
    "id": "9JyUJEWeijBE"
   },
   "outputs": [],
   "source": [
    "# Gradient Boosting\n",
    "\n",
    "# Перебираемые значения гиперпараметров\n",
    "hyper = {'n_estimators': [50, 100, 200, 300, 500],\n",
    "         'learning_rate': [0.01, 0.05, 0.1, 0.2]}\n",
    "\n",
    "# Перебор гиперпараметров с помощью кросс-валидации\n",
    "GSCV_gb = GridSearchCV(estimator = GradientBoostingClassifier(),    # модель\n",
    "                       param_grid = hyper,                            # перебираемые гиперпараметры\n",
    "                       scoring    = \"accuracy\",                       # метрика качества модели\n",
    "                       cv         = 5)                                # число фолдов в кросс-валидации\n",
    "GSCV_gb.fit(regressors_train, features_train['Music'])\n",
    "\n",
    "# Достанем гиперпараметры, соответствующие лучшей модели\n",
    "gb_best = GSCV_gb.best_estimator_\n",
    "gb_best_params = GSCV_gb.best_params_\n",
    "\n",
    "gb_best_tr = np.round(gb_best.score(regressors_train, features_train['Music']), 4)\n",
    "gb_best_te = np.round(gb_best.score(regressors_test, features_test['Music']), 4)\n",
    "gb_best_cv = np.round(np.mean(cross_val_score(gb_best, regressors_test, features_test['Music'], cv = 5)), 4)"
   ]
  },
  {
   "cell_type": "code",
   "execution_count": 41,
   "metadata": {
    "id": "5R8_Xxdpj5Iz",
    "outputId": "357226d6-6852-45c0-dfb5-a60dcb012eda"
   },
   "outputs": [
    {
     "data": {
      "text/html": [
       "<div>\n",
       "<style scoped>\n",
       "    .dataframe tbody tr th:only-of-type {\n",
       "        vertical-align: middle;\n",
       "    }\n",
       "\n",
       "    .dataframe tbody tr th {\n",
       "        vertical-align: top;\n",
       "    }\n",
       "\n",
       "    .dataframe thead th {\n",
       "        text-align: right;\n",
       "    }\n",
       "</style>\n",
       "<table border=\"1\" class=\"dataframe\">\n",
       "  <thead>\n",
       "    <tr style=\"text-align: right;\">\n",
       "      <th></th>\n",
       "      <th>Train</th>\n",
       "      <th>Test</th>\n",
       "      <th>Cross-validation (mean)</th>\n",
       "      <th>Hyperparameters</th>\n",
       "    </tr>\n",
       "  </thead>\n",
       "  <tbody>\n",
       "    <tr>\n",
       "      <th>Random Forest</th>\n",
       "      <td>0.8846</td>\n",
       "      <td>0.8110</td>\n",
       "      <td>0.8090</td>\n",
       "      <td>max_depth: 12</td>\n",
       "    </tr>\n",
       "    <tr>\n",
       "      <th>Random Forest (tuned)</th>\n",
       "      <td>0.8384</td>\n",
       "      <td>0.8190</td>\n",
       "      <td>0.8160</td>\n",
       "      <td>max_depth: 6</td>\n",
       "    </tr>\n",
       "    <tr>\n",
       "      <th>Logistic Regression</th>\n",
       "      <td>0.8212</td>\n",
       "      <td>0.8190</td>\n",
       "      <td>0.8145</td>\n",
       "      <td>max_iter: 100</td>\n",
       "    </tr>\n",
       "    <tr>\n",
       "      <th>Logistic Regression (tuned)</th>\n",
       "      <td>0.8212</td>\n",
       "      <td>0.8190</td>\n",
       "      <td>0.8145</td>\n",
       "      <td>max_iter: 100</td>\n",
       "    </tr>\n",
       "    <tr>\n",
       "      <th>Gradient Boosting</th>\n",
       "      <td>0.8301</td>\n",
       "      <td>0.8145</td>\n",
       "      <td>0.8020</td>\n",
       "      <td>n_estimators: 100;  learning_rate: 0.1</td>\n",
       "    </tr>\n",
       "    <tr>\n",
       "      <th>Gradient Boosting (tuned)</th>\n",
       "      <td>0.8210</td>\n",
       "      <td>0.8190</td>\n",
       "      <td>0.8070</td>\n",
       "      <td>n_estimators: 100;  learning_rate: 0.01</td>\n",
       "    </tr>\n",
       "  </tbody>\n",
       "</table>\n",
       "</div>"
      ],
      "text/plain": [
       "                              Train    Test  Cross-validation (mean)  \\\n",
       "Random Forest                0.8846  0.8110                   0.8090   \n",
       "Random Forest (tuned)        0.8384  0.8190                   0.8160   \n",
       "Logistic Regression          0.8212  0.8190                   0.8145   \n",
       "Logistic Regression (tuned)  0.8212  0.8190                   0.8145   \n",
       "Gradient Boosting            0.8301  0.8145                   0.8020   \n",
       "Gradient Boosting (tuned)    0.8210  0.8190                   0.8070   \n",
       "\n",
       "                                                     Hyperparameters  \n",
       "Random Forest                                          max_depth: 12  \n",
       "Random Forest (tuned)                                   max_depth: 6  \n",
       "Logistic Regression                                    max_iter: 100  \n",
       "Logistic Regression (tuned)                            max_iter: 100  \n",
       "Gradient Boosting             n_estimators: 100;  learning_rate: 0.1  \n",
       "Gradient Boosting (tuned)    n_estimators: 100;  learning_rate: 0.01  "
      ]
     },
     "execution_count": 41,
     "metadata": {},
     "output_type": "execute_result"
    }
   ],
   "source": [
    "# Сравним полученные результаты\n",
    "\n",
    "pd.DataFrame(data  = [[rfs_tr, rfs_te, rfs_cv, f'max_depth: {forest.get_params()[\"max_depth\"]}'], [rf_best_tr, rf_best_te, rf_best_cv, f'max_depth: {rf_best.get_params()[\"max_depth\"]}'], [lgt_tr, lgt_te, lgt_cv, f'max_iter: {logit.get_params()[\"max_iter\"]}'], [lgt_best_tr, lgt_best_te, lgt_best_cv, f'max_iter: {lgt_best.get_params()[\"max_iter\"]}'], [gb_tr, gb_te, gb_cv, f'n_estimators: {gb.get_params()[\"n_estimators\"]};  learning_rate: {gb.get_params()[\"learning_rate\"]}'], [gb_best_tr, gb_best_te, gb_best_cv, f'n_estimators: {gb_best.get_params()[\"n_estimators\"]};  learning_rate: {gb_best.get_params()[\"learning_rate\"]}']],\n",
    "                   index   = ['Random Forest', 'Random Forest (tuned)', 'Logistic Regression', 'Logistic Regression (tuned)', 'Gradient Boosting', 'Gradient Boosting (tuned)'],\n",
    "                   columns = ['Train', 'Test', 'Cross-validation (mean)', 'Hyperparameters'])"
   ]
  },
  {
   "cell_type": "markdown",
   "metadata": {
    "id": "C3fTip97nGR0"
   },
   "source": [
    "* После тюнинга accuracy на тестовой выборке увеличилась у всех моделей, кроме Логистической регрессии - её гиперпараметры остались неизменны, что говорит об изначально верно подобранных гиперпараметрах.\n",
    "* В Случайном лесе после тюнинга исчезло переобучение, то есть снизилась точность на обучающей выборке, при этом повысилась точность на тестовой и кросс-валидационных выборках.\n",
    "* На кросс-валидационных выборках средняя точность упала у Случайного леса и Градиентного бустинга, несмотря на ворзосший показатель на тестовой выборке."
   ]
  },
  {
   "cell_type": "markdown",
   "metadata": {
    "id": "aC_XmzjFuvUr"
   },
   "source": [
    "Повышенная сложность: подберите на обучающей выборке оптимальные\n",
    "значения гиперпараметров случайного леса ориентируясь на значение OOB\n",
    "(out-of-bag) ошибки. Сопоставьте гиперпараметры и точность на тестовой выборке для случайного леса в зависимости от того, используется кросс-валидация или OOB ошибка. Объясните преимущества и недостатки OOB ошибки по сравнению с кросс-валидацей."
   ]
  },
  {
   "cell_type": "code",
   "execution_count": 42,
   "metadata": {
    "id": "IpugHhF4-Qbf",
    "outputId": "3da86429-bcce-41ca-91ba-bd6442c75fb3"
   },
   "outputs": [
    {
     "data": {
      "text/html": [
       "<div>\n",
       "<style scoped>\n",
       "    .dataframe tbody tr th:only-of-type {\n",
       "        vertical-align: middle;\n",
       "    }\n",
       "\n",
       "    .dataframe tbody tr th {\n",
       "        vertical-align: top;\n",
       "    }\n",
       "\n",
       "    .dataframe thead th {\n",
       "        text-align: right;\n",
       "    }\n",
       "</style>\n",
       "<table border=\"1\" class=\"dataframe\">\n",
       "  <thead>\n",
       "    <tr style=\"text-align: right;\">\n",
       "      <th></th>\n",
       "      <th>Test Score</th>\n",
       "      <th>Max depth</th>\n",
       "    </tr>\n",
       "  </thead>\n",
       "  <tbody>\n",
       "    <tr>\n",
       "      <th>OOB</th>\n",
       "      <td>0.818</td>\n",
       "      <td>8</td>\n",
       "    </tr>\n",
       "    <tr>\n",
       "      <th>Cross-Validation</th>\n",
       "      <td>0.816</td>\n",
       "      <td>6</td>\n",
       "    </tr>\n",
       "  </tbody>\n",
       "</table>\n",
       "</div>"
      ],
      "text/plain": [
       "                  Test Score  Max depth\n",
       "OOB                    0.818          8\n",
       "Cross-Validation       0.816          6"
      ]
     },
     "execution_count": 42,
     "metadata": {},
     "output_type": "execute_result"
    }
   ],
   "source": [
    "# Random Forest\n",
    "\n",
    "# Перебираемые значения гиперпараметров\n",
    "hyper = {'max_depth': range(1, 20)}\n",
    "\n",
    "oob_errors = []\n",
    "# Перебор гиперпараметров с помощью oob-ошибки\n",
    "for i in hyper['max_depth']:\n",
    "  rf_oob = RandomForestClassifier(max_depth = i, oob_score=True, bootstrap=True, random_state = 42)\n",
    "  rf_oob.fit(regressors_train, features_train['Music'])\n",
    "  oob_error = 1 - rf_oob.oob_score_\n",
    "  oob_errors.append(oob_error)\n",
    "best_depth = hyper['max_depth'][oob_errors.index(min(oob_errors))]\n",
    "rf_oob = RandomForestClassifier(max_depth = best_depth, oob_score=True, bootstrap=True)\n",
    "rf_oob.fit(regressors_train, features_train['Music'])\n",
    "rf_best_oob = np.round(rf_oob.score(regressors_test, features_test['Music']), 3)\n",
    "rf_best_cv\n",
    "\n",
    "pd.DataFrame(data  = [[rf_best_oob, best_depth], [rf_best_cv, rf_best.max_depth]],\n",
    "                   index   = ['OOB', 'Cross-Validation'],\n",
    "                   columns = ['Test Score', 'Max depth'])\n",
    "\n",
    "# # Достанем гиперпараметры, соответствующие лучшей модели\n",
    "# rf_best = GSCV_rf.best_estimator_\n",
    "\n",
    "# rf_best_tr = np.round(rf_best.score(regressors_train, features_train['Music']), 3)\n",
    "# rf_best_te = np.round(rf_best.score(regressors_test, features_test['Music']), 3)\n",
    "# rf_best_cv = np.round(np.mean(cross_val_score(rf_best, regressors_test, features_test['Music'], cv = 5)), 3)"
   ]
  },
  {
   "cell_type": "markdown",
   "metadata": {
    "id": "i1AywZu7Cfd-"
   },
   "source": [
    "Модель, выбранная по OOB ошибке, имеет другую максмальную глубину леса и показала выше точность на тестовой выборке.\\\n",
    "Преимущество состоит в том, что по OOB ошибке можно быстрее сравнить модели с разными гиперпараметрами, чем с помощью кросс-валидации. Однако OOB ошибку можно использовать только с ансамблевыми методами, из-за чего нельзя сравнить их результаты с неансамблевыми методами."
   ]
  },
  {
   "cell_type": "markdown",
   "metadata": {
    "id": "eeEZwoOrmTq0"
   },
   "source": [
    "4. Повторите предыдущий пункт, используя любой альтернативный критерий качества модели. Обоснуйте возможные преимущества и недостатки этого альтернативного критерия."
   ]
  },
  {
   "cell_type": "code",
   "execution_count": 43,
   "metadata": {
    "id": "3LoNdM1WwPa1"
   },
   "outputs": [],
   "source": [
    "# Random Forest\n",
    "\n",
    "# Перебираемые значения гиперпараметров\n",
    "hyper = {'max_depth': range(1, 20)}\n",
    "\n",
    "# Перебор гиперпараметров с помощью кросс-валидации\n",
    "GSCV_rf = GridSearchCV(estimator  = RandomForestClassifier(),         # модель\n",
    "                       param_grid = hyper,                            # перебираемые гиперпараметры\n",
    "                       scoring    = \"f1\",                             # метрика качества модели\n",
    "                       cv         = 5)                                # число фолдов в кросс-валидации\n",
    "GSCV_rf.fit(regressors_train, features_train['Music'])\n",
    "\n",
    "# Достанем гиперпараметры, соответствующие лучшей модели\n",
    "rf_f1 = GSCV_rf.best_estimator_\n",
    "\n",
    "rf_f1_tr = np.round(rf_best.score(regressors_train, features_train['Music']), 4)\n",
    "rf_f1_te = np.round(rf_best.score(regressors_test, features_test['Music']), 4)\n",
    "rf_f1_cv = np.round(np.mean(cross_val_score(rf_best, regressors_test, features_test['Music'], cv = 5)), 4)"
   ]
  },
  {
   "cell_type": "code",
   "execution_count": 44,
   "metadata": {
    "id": "YzlNsXYkmX9F"
   },
   "outputs": [],
   "source": [
    "# Logistic Regression\n",
    "\n",
    "# Перебираемые значения гиперпараметров\n",
    "hyper = {'max_iter': [100, 300, 500, 700, 900, 1000]}\n",
    "\n",
    "# Перебор гиперпараметров с помощью кросс-валидации\n",
    "GSCV_lgt = GridSearchCV(estimator  = LogisticRegression(),             # модель\n",
    "                       param_grid = hyper,                            # перебираемые гиперпараметры\n",
    "                       scoring    = \"f1\",                       # метрика качества модели\n",
    "                       cv         = 5)                                # число фолдов в кросс-валидации\n",
    "GSCV_lgt.fit(regressors_train, features_train['Music'])\n",
    "\n",
    "# Достанем гиперпараметры, соответствующие лучшей модели\n",
    "lgt_f1 = GSCV_lgt.best_estimator_\n",
    "\n",
    "lgt_f1_tr = np.round(lgt_best.score(regressors_train, features_train['Music']), 4)\n",
    "lgt_f1_te = np.round(lgt_best.score(regressors_test, features_test['Music']), 4)\n",
    "lgt_f1_cv = np.round(np.mean(cross_val_score(lgt_best, regressors_test, features_test['Music'], cv = 5)), 4)"
   ]
  },
  {
   "cell_type": "code",
   "execution_count": 45,
   "metadata": {
    "id": "R6mN4CQymbaB"
   },
   "outputs": [],
   "source": [
    "# Gradient Boosting\n",
    "\n",
    "# Перебираемые значения гиперпараметров\n",
    "hyper = {'n_estimators': [50, 100, 200, 300, 500],\n",
    "         'learning_rate': [0.01, 0.05, 0.1, 0.2]}\n",
    "\n",
    "# Перебор гиперпараметров с помощью кросс-валидации\n",
    "GSCV_gb = GridSearchCV(estimator = GradientBoostingClassifier(),    # модель\n",
    "                       param_grid = hyper,                          # перебираемые гиперпараметры\n",
    "                       scoring    = \"f1\",                           # метрика качества модели\n",
    "                       cv         = 5)                              # число фолдов в кросс-валидации\n",
    "GSCV_gb.fit(regressors_train, features_train['Music'])\n",
    "\n",
    "# Достанем гиперпараметры, соответствующие лучшей модели\n",
    "gb_f1 = GSCV_gb.best_estimator_\n",
    "\n",
    "gb_f1_tr = np.round(gb_best.score(regressors_train, features_train['Music']), 4)\n",
    "gb_f1_te = np.round(gb_best.score(regressors_test, features_test['Music']), 4)\n",
    "gb_f1_cv = np.round(np.mean(cross_val_score(gb_best, regressors_test, features_test['Music'], cv = 5)), 4)"
   ]
  },
  {
   "cell_type": "code",
   "execution_count": 46,
   "metadata": {
    "id": "BOjiu809mlGh",
    "outputId": "b7135174-37ad-43f2-aa39-0786013e4835"
   },
   "outputs": [
    {
     "data": {
      "text/html": [
       "<div>\n",
       "<style scoped>\n",
       "    .dataframe tbody tr th:only-of-type {\n",
       "        vertical-align: middle;\n",
       "    }\n",
       "\n",
       "    .dataframe tbody tr th {\n",
       "        vertical-align: top;\n",
       "    }\n",
       "\n",
       "    .dataframe thead th {\n",
       "        text-align: right;\n",
       "    }\n",
       "</style>\n",
       "<table border=\"1\" class=\"dataframe\">\n",
       "  <thead>\n",
       "    <tr style=\"text-align: right;\">\n",
       "      <th></th>\n",
       "      <th>Train</th>\n",
       "      <th>Test</th>\n",
       "      <th>Cross-validation (mean)</th>\n",
       "      <th>Hyperparameters</th>\n",
       "    </tr>\n",
       "  </thead>\n",
       "  <tbody>\n",
       "    <tr>\n",
       "      <th>Random Forest</th>\n",
       "      <td>0.8846</td>\n",
       "      <td>0.8110</td>\n",
       "      <td>0.8090</td>\n",
       "      <td>max_depth: 12</td>\n",
       "    </tr>\n",
       "    <tr>\n",
       "      <th>Random Forest (acc tune)</th>\n",
       "      <td>0.8384</td>\n",
       "      <td>0.8190</td>\n",
       "      <td>0.8160</td>\n",
       "      <td>max_depth: 6</td>\n",
       "    </tr>\n",
       "    <tr>\n",
       "      <th>Random Forest (f1 tune)</th>\n",
       "      <td>0.8384</td>\n",
       "      <td>0.8190</td>\n",
       "      <td>0.8195</td>\n",
       "      <td>max_depth: 10</td>\n",
       "    </tr>\n",
       "    <tr>\n",
       "      <th>Logistic Regression</th>\n",
       "      <td>0.8212</td>\n",
       "      <td>0.8190</td>\n",
       "      <td>0.8145</td>\n",
       "      <td>max_iter: 100</td>\n",
       "    </tr>\n",
       "    <tr>\n",
       "      <th>Logistic Regression (acc tune)</th>\n",
       "      <td>0.8212</td>\n",
       "      <td>0.8190</td>\n",
       "      <td>0.8145</td>\n",
       "      <td>max_iter: 100</td>\n",
       "    </tr>\n",
       "    <tr>\n",
       "      <th>Logistic Regression (f1 tune)</th>\n",
       "      <td>0.8212</td>\n",
       "      <td>0.8190</td>\n",
       "      <td>0.8145</td>\n",
       "      <td>max_iter: 100</td>\n",
       "    </tr>\n",
       "    <tr>\n",
       "      <th>Gradient Boosting</th>\n",
       "      <td>0.8301</td>\n",
       "      <td>0.8145</td>\n",
       "      <td>0.8020</td>\n",
       "      <td>n_estimators: 100;  learning_rate: 0.1</td>\n",
       "    </tr>\n",
       "    <tr>\n",
       "      <th>Gradient Boosting (acc tune)</th>\n",
       "      <td>0.8210</td>\n",
       "      <td>0.8190</td>\n",
       "      <td>0.8070</td>\n",
       "      <td>n_estimators: 100;  learning_rate: 0.01</td>\n",
       "    </tr>\n",
       "    <tr>\n",
       "      <th>Gradient Boosting (f1 tune)</th>\n",
       "      <td>0.8210</td>\n",
       "      <td>0.8190</td>\n",
       "      <td>0.8070</td>\n",
       "      <td>n_estimators: 100;  learning_rate: 0.01</td>\n",
       "    </tr>\n",
       "  </tbody>\n",
       "</table>\n",
       "</div>"
      ],
      "text/plain": [
       "                                 Train    Test  Cross-validation (mean)  \\\n",
       "Random Forest                   0.8846  0.8110                   0.8090   \n",
       "Random Forest (acc tune)        0.8384  0.8190                   0.8160   \n",
       "Random Forest (f1 tune)         0.8384  0.8190                   0.8195   \n",
       "Logistic Regression             0.8212  0.8190                   0.8145   \n",
       "Logistic Regression (acc tune)  0.8212  0.8190                   0.8145   \n",
       "Logistic Regression (f1 tune)   0.8212  0.8190                   0.8145   \n",
       "Gradient Boosting               0.8301  0.8145                   0.8020   \n",
       "Gradient Boosting (acc tune)    0.8210  0.8190                   0.8070   \n",
       "Gradient Boosting (f1 tune)     0.8210  0.8190                   0.8070   \n",
       "\n",
       "                                                        Hyperparameters  \n",
       "Random Forest                                             max_depth: 12  \n",
       "Random Forest (acc tune)                                   max_depth: 6  \n",
       "Random Forest (f1 tune)                                   max_depth: 10  \n",
       "Logistic Regression                                       max_iter: 100  \n",
       "Logistic Regression (acc tune)                            max_iter: 100  \n",
       "Logistic Regression (f1 tune)                             max_iter: 100  \n",
       "Gradient Boosting                n_estimators: 100;  learning_rate: 0.1  \n",
       "Gradient Boosting (acc tune)    n_estimators: 100;  learning_rate: 0.01  \n",
       "Gradient Boosting (f1 tune)     n_estimators: 100;  learning_rate: 0.01  "
      ]
     },
     "execution_count": 46,
     "metadata": {},
     "output_type": "execute_result"
    }
   ],
   "source": [
    "# Сравним полученные результаты\n",
    "\n",
    "svod = pd.DataFrame(data  = [[rfs_tr, rfs_te, rfs_cv, f'max_depth: {forest.get_params()[\"max_depth\"]}'], [rf_best_tr, rf_best_te, rf_best_cv, f'max_depth: {rf_best.get_params()[\"max_depth\"]}'], [rf_f1_tr, rf_f1_te, rf_f1_cv, f'max_depth: {rf_f1.get_params()[\"max_depth\"]}'], [lgt_tr, lgt_te, lgt_cv, f'max_iter: {logit.get_params()[\"max_iter\"]}'], [lgt_best_tr, lgt_best_te, lgt_best_cv, f'max_iter: {lgt_best.get_params()[\"max_iter\"]}'], [lgt_f1_tr, lgt_f1_te, lgt_f1_cv, f'max_iter: {lgt_f1.get_params()[\"max_iter\"]}'], [gb_tr, gb_te, gb_cv, f'n_estimators: {gb.get_params()[\"n_estimators\"]};  learning_rate: {gb.get_params()[\"learning_rate\"]}'], [gb_best_tr, gb_best_te, gb_best_cv, f'n_estimators: {gb_best.get_params()[\"n_estimators\"]};  learning_rate: {gb_best.get_params()[\"learning_rate\"]}'], [gb_f1_tr, gb_f1_te, gb_f1_cv, f'n_estimators: {gb_f1.get_params()[\"n_estimators\"]};  learning_rate: {gb_f1.get_params()[\"learning_rate\"]}']],\n",
    "                   index   = ['Random Forest', 'Random Forest (acc tune)', 'Random Forest (f1 tune)', 'Logistic Regression', 'Logistic Regression (acc tune)', 'Logistic Regression (f1 tune)', 'Gradient Boosting', 'Gradient Boosting (acc tune)', 'Gradient Boosting (f1 tune)'],\n",
    "                   columns = ['Train', 'Test', 'Cross-validation (mean)', 'Hyperparameters'])\n",
    "svod"
   ]
  },
  {
   "cell_type": "markdown",
   "metadata": {
    "id": "aZy_HPFGohZ-"
   },
   "source": [
    "* Случайный лес с подбором гиперпараметров по f1 показал точность на тестовой выборке выше, чем с изначальными гиперпараметрами, и равную с подбором по ACC. Однако меньшую на кросс-валидационных выборках, чем по ACC.\n",
    "* У Логистической регрессии гиперпараметры остались те же, поэтому точность не менялась.\n",
    "* Градиентный бустинг с подбором гиперпараметров по f1 показал точность  выше, чем с изначальными гиперпараметрами, и равную с подбором по ACC. Learning rate остался на том же уровне, что и при подборе по ACC."
   ]
  },
  {
   "cell_type": "markdown",
   "metadata": {
    "id": "HRIM-h6EnKYr"
   },
   "source": [
    "В качестве альтерантивной метрики использовался f1-score. Преимущество данной метрики заключается в том, что учитывается и precision, и recall - это особенно полезно при несбалансированных классах, что и наблюдается в нашей выборке. \\\n",
    "Однако данную метрику может быть тяжело интерпретировать, и она одинаково штрафует и precision, и recall, что может быть недопустимо если одна или другая метрика важнее. Но в нашем случае это не так."
   ]
  },
  {
   "cell_type": "markdown",
   "metadata": {
    "id": "SVE9Ujxss3el"
   },
   "source": [
    "5. Постройте ROC-кривую для ваших моделей и сравните их по AUC на тестовой\n",
    "выборке."
   ]
  },
  {
   "cell_type": "code",
   "execution_count": 47,
   "metadata": {
    "id": "Go7_3wZCoc_c"
   },
   "outputs": [],
   "source": [
    "# Оценим вероятности на тестовой выборке\n",
    "rf_prob1 = rf_best.predict_proba(regressors_test)[:, 1]\n",
    "lgt_prob1 = lgt_best.predict_proba(regressors_test)[:, 1]\n",
    "gb_prob1 = gb_best.predict_proba(regressors_test)[:, 1]"
   ]
  },
  {
   "cell_type": "code",
   "execution_count": 48,
   "metadata": {
    "id": "Z2JhYGkWtuxn"
   },
   "outputs": [],
   "source": [
    "# Посчитеаем TPR и FPR при различных порога (thresholds)\n",
    "rf_FPR, rf_TPR, rf_thresholds    = metrics.roc_curve(features_test['Music'], rf_prob1)\n",
    "lgt_FPR, lgt_TPR, lgt_thresholds = metrics.roc_curve(features_test['Music'], lgt_prob1)\n",
    "gb_FPR, gb_TPR, gb_thresholds       = metrics.roc_curve(features_test['Music'], gb_prob1)"
   ]
  },
  {
   "cell_type": "code",
   "execution_count": 49,
   "metadata": {
    "id": "Y3TxFkWbuDWk",
    "outputId": "29dc5557-fe57-4bc6-ee56-25d6c183fd43"
   },
   "outputs": [
    {
     "data": {
      "image/png": "[encoded data removed]",
      "text/plain": [
       "<Figure size 640x480 with 1 Axes>"
      ]
     },
     "metadata": {},
     "output_type": "display_data"
    }
   ],
   "source": [
    "# Построим ROC-кривые сразу для трех моделей\n",
    "plt.plot(rf_FPR, rf_TPR,  label = \"Random Forest\")\n",
    "plt.plot(lgt_FPR, lgt_TPR, label = \"Logistic Regression\")\n",
    "plt.plot(gb_FPR, gb_TPR,   label = \"Gradient Boosting\")\n",
    "plt.legend()\n",
    "plt.show()"
   ]
  },
  {
   "cell_type": "code",
   "execution_count": 50,
   "metadata": {
    "id": "T1lTwZtTuNS3",
    "outputId": "077b89df-f4e7-4a4a-ae22-45e4ff157a12"
   },
   "outputs": [
    {
     "name": "stdout",
     "output_type": "stream",
     "text": [
      "                          AUC\n",
      "Random Forest        0.859211\n",
      "Logistic Regression  0.860706\n",
      "Gradient Boosting    0.858514\n"
     ]
    }
   ],
   "source": [
    "# Сравним модели по AUC\n",
    "rf_AUC = metrics.roc_auc_score(features_test['Music'], rf_prob1)\n",
    "lgt_AUC = metrics.roc_auc_score(features_test['Music'], lgt_prob1)\n",
    "gb_AUC = metrics.roc_auc_score(features_test['Music'], gb_prob1)\n",
    "print(pd.DataFrame(data    = [rf_AUC, lgt_AUC, gb_AUC],\n",
    "                   index   = ['Random Forest', 'Logistic Regression', 'Gradient Boosting'],\n",
    "                   columns = ['AUC']))"
   ]
  },
  {
   "cell_type": "markdown",
   "metadata": {
    "id": "Exyczmv-ywww"
   },
   "source": [
    "* На графике видно, что ROC-кривые практически совпадают на большей части отрезков, однако также можно заметить, что иногда кривая Случайного леса идет ниже остальных. А кривая Логистической регрессии наоборот незначительно выше. Здесь стоит также заметить, что в нашей выборке достаточно сильный дисбаланс классов, из-за чего ROC-кривая может быть не так информативна.\n",
    "* AUC выше у Логистической регрессии, но отклонение от значений других моделей не такое сильное - чуть больше от Случайного леса и чуть меньше от Градиентного бустинга, что соответствует положению кривых на графике."
   ]
  },
  {
   "cell_type": "markdown",
   "metadata": {
    "id": "VSki4d3xj3Pb"
   },
   "source": [
    "6. Постройте матрицу ошибок и предположите цены различных видов прогнозов.\n",
    "Исходя из критерия максимизации прибыли на обучающей выборке подбери-\n",
    "те оптимальный порог прогнозирования для каждого из методов и сравните\n",
    "прибыли на тестовой выборке при соответствующих порогах. Результат пред-\n",
    "ставьте в форме таблицы, в которой должны быть указаны как AUC, так и\n",
    "прибыли (на тестовой выборке). Проинтерпретируйте полученный результат."
   ]
  },
  {
   "cell_type": "markdown",
   "metadata": {
    "id": "GaQStI7Cj8Bq"
   },
   "source": [
    "Возможные виды прогнозов в нашей теме: \\\n",
    "TP (True postitve): $\\quad Music_i = 1, \\quad \\hat{Music_i} = 1$ \\\n",
    "TN (True negative): $\\quad Music_i = 0, \\quad \\hat{Music_i} = 0$ \\\n",
    "FP (False postitve): $\\quad Music_i = 0, \\quad \\hat{Music_i} = 1$ \\\n",
    "FN (False negative): $\\quad Music_i = 1, \\quad \\hat{Music_i} = 0$"
   ]
  },
  {
   "cell_type": "code",
   "execution_count": 51,
   "metadata": {
    "id": "VS5jPUK0yHeq"
   },
   "outputs": [],
   "source": [
    "# Спрогнозируем значения тестовой выборки\n",
    "\n",
    "rf_pred_test = rf_best.predict(regressors_test)\n",
    "lgt_pred_test = lgt_best.predict(regressors_test)\n",
    "gb_pred_test = gb_best.predict(regressors_test)"
   ]
  },
  {
   "cell_type": "code",
   "execution_count": 52,
   "metadata": {
    "id": "5g2GbVFhl8J4"
   },
   "outputs": [],
   "source": [
    "df_pred = pd.DataFrame(data = [rf_pred_test, lgt_pred_test, gb_pred_test, features_test['Music']], index = ['RF_pred', 'Logit_pred', 'GB_pred', 'Real']).T\n",
    "for i in range(df_pred.shape[0]):\n",
    "  if df_pred.loc[i]['Real'] == 1 and df_pred.loc[i]['RF_pred'] == 1:\n",
    "    df_pred.loc[i, 'RF Type'] = 'TP'\n",
    "  elif df_pred.loc[i]['Real'] == 0 and df_pred.loc[i]['RF_pred'] == 0:\n",
    "    df_pred.loc[i, 'RF Type'] = 'TN'\n",
    "  elif df_pred.loc[i]['Real'] == 0 and df_pred.loc[i]['RF_pred'] == 1:\n",
    "    df_pred.loc[i, 'RF Type'] = 'FP'\n",
    "  elif df_pred.loc[i]['Real'] == 1 and df_pred.loc[i]['RF_pred'] == 0:\n",
    "    df_pred.loc[i, 'RF Type'] = 'FN'\n",
    "\n",
    "  if df_pred.loc[i]['Real'] == 1 and df_pred.loc[i]['Logit_pred'] == 1:\n",
    "    df_pred.loc[i, 'Logit Type'] = 'TP'\n",
    "  elif df_pred.loc[i]['Real'] == 0 and df_pred.loc[i]['Logit_pred'] == 0:\n",
    "    df_pred.loc[i, 'Logit Type'] = 'TN'\n",
    "  elif df_pred.loc[i]['Real'] == 0 and df_pred.loc[i]['Logit_pred'] == 1:\n",
    "    df_pred.loc[i, 'Logit Type'] = 'FP'\n",
    "  elif df_pred.loc[i]['Real'] == 1 and df_pred.loc[i]['Logit_pred'] == 0:\n",
    "    df_pred.loc[i, 'Logit Type'] = 'FN'\n",
    "\n",
    "  if df_pred.loc[i]['Real'] == 1 and df_pred.loc[i]['GB_pred'] == 1:\n",
    "    df_pred.loc[i, 'GB Type'] = 'TP'\n",
    "  elif df_pred.loc[i]['Real'] == 0 and df_pred.loc[i]['GB_pred'] == 0:\n",
    "    df_pred.loc[i, 'GB Type'] = 'TN'\n",
    "  elif df_pred.loc[i]['Real'] == 0 and df_pred.loc[i]['GB_pred'] == 1:\n",
    "    df_pred.loc[i, 'GB Type'] = 'FP'\n",
    "  elif df_pred.loc[i]['Real'] == 1 and df_pred.loc[i]['GB_pred'] == 0:\n",
    "    df_pred.loc[i, 'GB Type'] = 'FN'"
   ]
  },
  {
   "cell_type": "code",
   "execution_count": 53,
   "metadata": {
    "id": "4pGxtHMxpKZp",
    "outputId": "af42fe4e-9709-4291-f9ec-86428eeda80a"
   },
   "outputs": [
    {
     "data": {
      "text/html": [
       "<div>\n",
       "<style scoped>\n",
       "    .dataframe tbody tr th:only-of-type {\n",
       "        vertical-align: middle;\n",
       "    }\n",
       "\n",
       "    .dataframe tbody tr th {\n",
       "        vertical-align: top;\n",
       "    }\n",
       "\n",
       "    .dataframe thead th {\n",
       "        text-align: right;\n",
       "    }\n",
       "</style>\n",
       "<table border=\"1\" class=\"dataframe\">\n",
       "  <thead>\n",
       "    <tr style=\"text-align: right;\">\n",
       "      <th></th>\n",
       "      <th>RF Type</th>\n",
       "      <th>Logit Type</th>\n",
       "      <th>GB Type</th>\n",
       "    </tr>\n",
       "  </thead>\n",
       "  <tbody>\n",
       "    <tr>\n",
       "      <th>FN</th>\n",
       "      <td>118</td>\n",
       "      <td>157</td>\n",
       "      <td>50</td>\n",
       "    </tr>\n",
       "    <tr>\n",
       "      <th>FP</th>\n",
       "      <td>244</td>\n",
       "      <td>205</td>\n",
       "      <td>312</td>\n",
       "    </tr>\n",
       "    <tr>\n",
       "      <th>TN</th>\n",
       "      <td>212</td>\n",
       "      <td>251</td>\n",
       "      <td>144</td>\n",
       "    </tr>\n",
       "    <tr>\n",
       "      <th>TP</th>\n",
       "      <td>1426</td>\n",
       "      <td>1387</td>\n",
       "      <td>1494</td>\n",
       "    </tr>\n",
       "  </tbody>\n",
       "</table>\n",
       "</div>"
      ],
      "text/plain": [
       "    RF Type  Logit Type  GB Type\n",
       "FN      118         157       50\n",
       "FP      244         205      312\n",
       "TN      212         251      144\n",
       "TP     1426        1387     1494"
      ]
     },
     "execution_count": 53,
     "metadata": {},
     "output_type": "execute_result"
    }
   ],
   "source": [
    "df_pred[['RF Type', 'Logit Type', 'GB Type']].apply(pd.value_counts)"
   ]
  },
  {
   "cell_type": "code",
   "execution_count": 54,
   "metadata": {
    "id": "VJHwzMC4l9VY",
    "outputId": "1f8c90eb-9bec-4032-f766-e550fe858a5f"
   },
   "outputs": [
    {
     "data": {
      "text/html": [
       "<div>\n",
       "<style scoped>\n",
       "    .dataframe tbody tr th:only-of-type {\n",
       "        vertical-align: middle;\n",
       "    }\n",
       "\n",
       "    .dataframe tbody tr th {\n",
       "        vertical-align: top;\n",
       "    }\n",
       "\n",
       "    .dataframe thead th {\n",
       "        text-align: right;\n",
       "    }\n",
       "</style>\n",
       "<table border=\"1\" class=\"dataframe\">\n",
       "  <thead>\n",
       "    <tr style=\"text-align: right;\">\n",
       "      <th></th>\n",
       "      <th>Pred 1</th>\n",
       "      <th>Pred 0</th>\n",
       "    </tr>\n",
       "  </thead>\n",
       "  <tbody>\n",
       "    <tr>\n",
       "      <th>Real 1</th>\n",
       "      <td>1426</td>\n",
       "      <td>118</td>\n",
       "    </tr>\n",
       "    <tr>\n",
       "      <th>Real 0</th>\n",
       "      <td>244</td>\n",
       "      <td>212</td>\n",
       "    </tr>\n",
       "  </tbody>\n",
       "</table>\n",
       "</div>"
      ],
      "text/plain": [
       "        Pred 1  Pred 0\n",
       "Real 1    1426     118\n",
       "Real 0     244     212"
      ]
     },
     "execution_count": 54,
     "metadata": {},
     "output_type": "execute_result"
    }
   ],
   "source": [
    "# Матрица ошибок (одинаковая для всех моделей)\n",
    "me = pd.DataFrame(data = [[df_pred['RF Type'].value_counts()['TP'], df_pred['RF Type'].value_counts()['FN']], [df_pred['RF Type'].value_counts()['FP'], df_pred['RF Type'].value_counts()['TN']]],\n",
    "                  index = ['Real 1', 'Real 0'],\n",
    "                  columns = ['Pred 1', 'Pred 0'])\n",
    "me"
   ]
  },
  {
   "cell_type": "markdown",
   "metadata": {
    "id": "i1mgtIBMp8cU"
   },
   "source": [
    "Предположим, что работодатель считает, что его сотрудники будут работать эффективнее, если будут слушать музыку по пути на работу так как будут чувствовать себя счастливее, и решает раздать наушники тем, кто по его модели начнет это делать при появлении наушников.\\\n",
    "Предположим, что повышение эффективности 1 сотрудника принесет компании 100 рублей, а наушники стоят 50. Однако получение наушников работниками не гарантирует, что они начнут слушать музыку по пути на работу (и как следствие эффективно работать). \\\n",
    "В таком случае у каждого прогноза будут следующие цены:\n",
    "* $P_{TP}=100-50=50$, прибыль с одного работника, так как он начнет работать эффективнее, но для этого ему нужно купить наушники\n",
    "* $P_{TN}=0$, таким работникам работодатель совсем не покупает наушники.\n",
    "* $P_{FP}=0-50=-50$, наушники куплены, а работник музыку слушать не начал, поэтому и эффективность не повысилась.\n",
    "* $P_{FN}=-100=-100$, работодатель упустил возможность повысить эффективность сотрудника. это opportunity cost."
   ]
  },
  {
   "cell_type": "code",
   "execution_count": 55,
   "metadata": {
    "id": "7jt-7n2qnh2z",
    "outputId": "2b469903-58a3-491b-f28c-e88509abd1ce"
   },
   "outputs": [
    {
     "data": {
      "text/plain": [
       "47300"
      ]
     },
     "execution_count": 55,
     "metadata": {},
     "output_type": "execute_result"
    }
   ],
   "source": [
    "ptp = 50\n",
    "ptn = 0\n",
    "pfp = -50\n",
    "pfn = -100\n",
    "profit = ptp * df_pred['RF Type'].value_counts()['TP'] + ptn * df_pred['RF Type'].value_counts()['TN'] + pfp * df_pred['RF Type'].value_counts()['FP'] + pfn * df_pred['RF Type'].value_counts()['FN']\n",
    "profit"
   ]
  },
  {
   "cell_type": "code",
   "execution_count": 56,
   "metadata": {
    "id": "nqeYxJdw3tto"
   },
   "outputs": [],
   "source": [
    "prices = pd.Series([50, 0, -50, -100], index = [\"TP\", \"TN\", \"FP\", \"FN\"])"
   ]
  },
  {
   "cell_type": "code",
   "execution_count": 57,
   "metadata": {
    "id": "XSDfyIWBySTm",
    "outputId": "af9db16d-efb5-4e43-a217-7d15fd82b2ef"
   },
   "outputs": [
    {
     "data": {
      "text/html": [
       "<div>\n",
       "<style scoped>\n",
       "    .dataframe tbody tr th:only-of-type {\n",
       "        vertical-align: middle;\n",
       "    }\n",
       "\n",
       "    .dataframe tbody tr th {\n",
       "        vertical-align: top;\n",
       "    }\n",
       "\n",
       "    .dataframe thead th {\n",
       "        text-align: right;\n",
       "    }\n",
       "</style>\n",
       "<table border=\"1\" class=\"dataframe\">\n",
       "  <thead>\n",
       "    <tr style=\"text-align: right;\">\n",
       "      <th></th>\n",
       "      <th>Random Forest</th>\n",
       "      <th>Logit</th>\n",
       "      <th>Gradient Boosting</th>\n",
       "    </tr>\n",
       "  </thead>\n",
       "  <tbody>\n",
       "    <tr>\n",
       "      <th>Threshold</th>\n",
       "      <td>0.279</td>\n",
       "      <td>0.316</td>\n",
       "      <td>0.448</td>\n",
       "    </tr>\n",
       "  </tbody>\n",
       "</table>\n",
       "</div>"
      ],
      "text/plain": [
       "           Random Forest  Logit  Gradient Boosting\n",
       "Threshold          0.279  0.316              0.448"
      ]
     },
     "execution_count": 57,
     "metadata": {},
     "output_type": "execute_result"
    }
   ],
   "source": [
    "# Подбор оптимального порога для максимизации прибыли\n",
    "\n",
    "rf_prob1 = rf_best.predict_proba(regressors_train)[:, 1]\n",
    "lgt_prob1 = lgt_best.predict_proba(regressors_train)[:, 1]\n",
    "gb_prob1 = gb_best.predict_proba(regressors_train)[:, 1]\n",
    "\n",
    "thr_rf = np.unique(np.sort(rf_prob1))\n",
    "thr_lgt = np.unique(np.sort(lgt_prob1))\n",
    "thr_gb = np.unique(np.sort(gb_prob1))\n",
    "\n",
    "profits = dict()\n",
    "\n",
    "# Random Forest\n",
    "profits_rf = np.zeros(thr_rf.size)\n",
    "\n",
    "TP_vec_rf = np.zeros(thr_rf.size)\n",
    "TN_vec_rf = np.zeros(thr_rf.size)\n",
    "FP_vec_rf = np.zeros(thr_rf.size)\n",
    "FN_vec_rf = np.zeros(thr_rf.size)\n",
    "\n",
    "# Рассчитаем прибыли для различных порогов\n",
    "for i in range(0, thr_rf.size):\n",
    "  # получаем прогнозы (на обучающей выборке) при соответствующем пороге\n",
    "  prediction_i = (rf_prob1 >= thr_rf[i]).astype(int)\n",
    "  # считаем количество прогнозов различного вида\n",
    "  TN_vec_rf[i], FP_vec_rf[i], FN_vec_rf[i], TP_vec_rf[i] = confusion_matrix(\n",
    "    features_train['Music'], prediction_i).ravel()\n",
    "  # аггрегируем результаты прогнозов\n",
    "  predictions_i = pd.Series([TP_vec_rf[i], TN_vec_rf[i], FP_vec_rf[i], FN_vec_rf[i]],\n",
    "                                index = [\"TP\", \"TN\", \"FP\", \"FN\"])\n",
    "  # считаем прибыль\n",
    "  profits_rf[i] = np.sum(prices * predictions_i)\n",
    "# Достанем оптимальный порог\n",
    "threshold_rf = thr_rf[np.argmax(profits_rf)]\n",
    "profits['Random Forest'] = np.round(threshold_rf, 3)\n",
    "\n",
    "# Logit\n",
    "profits_lgt = np.zeros(thr_lgt.size)\n",
    "\n",
    "TP_vec_lgt = np.zeros(thr_lgt.size)\n",
    "TN_vec_lgt = np.zeros(thr_lgt.size)\n",
    "FP_vec_lgt = np.zeros(thr_lgt.size)\n",
    "FN_vec_lgt = np.zeros(thr_lgt.size)\n",
    "\n",
    "# Рассчитаем прибыли для различных порогов\n",
    "for i in range(0, thr_lgt.size):\n",
    "  # получаем прогнозы (на обучающей выборке) при соответствующем пороге\n",
    "  prediction_i = (lgt_prob1 >= thr_lgt[i]).astype(int)\n",
    "  # считаем количество прогнозов различного вида\n",
    "  TN_vec_lgt[i], FP_vec_lgt[i], FN_vec_lgt[i], TP_vec_lgt[i] = confusion_matrix(\n",
    "    features_train['Music'], prediction_i).ravel()\n",
    "  # аггрегируем результаты прогнозов\n",
    "  predictions_i = pd.Series([TP_vec_lgt[i], TN_vec_lgt[i], FP_vec_lgt[i], FN_vec_lgt[i]],\n",
    "                                index = [\"TP\", \"TN\", \"FP\", \"FN\"])\n",
    "  # считаем прибыль\n",
    "  profits_lgt[i] = np.sum(prices * predictions_i)\n",
    "# Достанем оптимальный порог\n",
    "threshold_lgt = thr_lgt[np.argmax(profits_lgt)]\n",
    "profits['Logit'] = np.round(threshold_lgt ,3)\n",
    "\n",
    "# Gradient Boosting\n",
    "profits_gb = np.zeros(thr_gb.size)\n",
    "\n",
    "TP_vec_gb = np.zeros(thr_gb.size)\n",
    "TN_vec_gb = np.zeros(thr_gb.size)\n",
    "FP_vec_gb = np.zeros(thr_gb.size)\n",
    "FN_vec_gb = np.zeros(thr_gb.size)\n",
    "\n",
    "# Рассчитаем прибыли для различных порогов\n",
    "for i in range(0, thr_gb.size):\n",
    "  # получаем прогнозы (на обучающей выборке) при соответствующем пороге\n",
    "  prediction_i = (gb_prob1 >= thr_gb[i]).astype(int)\n",
    "  # считаем количество прогнозов различного вида\n",
    "  TN_vec_gb[i], FP_vec_gb[i], FN_vec_gb[i], TP_vec_gb[i] = confusion_matrix(\n",
    "    features_train['Music'], prediction_i).ravel()\n",
    "  # аггрегируем результаты прогнозов\n",
    "  predictions_i = pd.Series([TP_vec_gb[i], TN_vec_gb[i], FP_vec_gb[i], FN_vec_gb[i]],\n",
    "                                index = [\"TP\", \"TN\", \"FP\", \"FN\"])\n",
    "  # считаем прибыль\n",
    "  profits_gb[i] = np.sum(prices * predictions_i)\n",
    "# Достанем оптимальный порог\n",
    "threshold_gb = thr_gb[np.argmax(profits_gb)]\n",
    "profits['Gradient Boosting'] = np.round(threshold_gb, 3)\n",
    "\n",
    "pd.DataFrame(profits, index = ['Threshold'])"
   ]
  },
  {
   "cell_type": "code",
   "execution_count": 58,
   "metadata": {
    "id": "z0TSyaZd3fu-",
    "outputId": "c94322f0-7482-431c-864d-b562307c2a7f"
   },
   "outputs": [
    {
     "data": {
      "text/html": [
       "<div>\n",
       "<style scoped>\n",
       "    .dataframe tbody tr th:only-of-type {\n",
       "        vertical-align: middle;\n",
       "    }\n",
       "\n",
       "    .dataframe tbody tr th {\n",
       "        vertical-align: top;\n",
       "    }\n",
       "\n",
       "    .dataframe thead th {\n",
       "        text-align: right;\n",
       "    }\n",
       "</style>\n",
       "<table border=\"1\" class=\"dataframe\">\n",
       "  <thead>\n",
       "    <tr style=\"text-align: right;\">\n",
       "      <th></th>\n",
       "      <th>Profit</th>\n",
       "      <th>AUC</th>\n",
       "    </tr>\n",
       "  </thead>\n",
       "  <tbody>\n",
       "    <tr>\n",
       "      <th>Random Forest</th>\n",
       "      <td>55650</td>\n",
       "      <td>0.859211</td>\n",
       "    </tr>\n",
       "    <tr>\n",
       "      <th>Logit</th>\n",
       "      <td>55900</td>\n",
       "      <td>0.860706</td>\n",
       "    </tr>\n",
       "    <tr>\n",
       "      <th>Gradient Boosting</th>\n",
       "      <td>56300</td>\n",
       "      <td>0.858514</td>\n",
       "    </tr>\n",
       "  </tbody>\n",
       "</table>\n",
       "</div>"
      ],
      "text/plain": [
       "                   Profit       AUC\n",
       "Random Forest       55650  0.859211\n",
       "Logit               55900  0.860706\n",
       "Gradient Boosting   56300  0.858514"
      ]
     },
     "execution_count": 58,
     "metadata": {},
     "output_type": "execute_result"
    }
   ],
   "source": [
    "# Расчет прибыли и AUC\n",
    "\n",
    "rf_prob_te = rf_best.predict_proba(regressors_test)[:, 1]\n",
    "lgt_prob_te = lgt_best.predict_proba(regressors_test)[:, 1]\n",
    "gb_prob_te = gb_best.predict_proba(regressors_test)[:, 1]\n",
    "\n",
    "# Random Forest\n",
    "test_pred = (rf_prob_te >= threshold_rf).astype(int)\n",
    "TN_vec_rf, FP_vec_rf, FN_vec_rf, TP_vec_rf = confusion_matrix(features_test['Music'], test_pred).ravel()\n",
    "predictions = pd.Series([TP_vec_rf, TN_vec_rf, FP_vec_rf, FN_vec_rf],\n",
    "                              index = [\"TP\", \"TN\", \"FP\", \"FN\"])\n",
    "profit_rf = np.sum(prices * predictions)\n",
    "\n",
    "# Logit\n",
    "test_pred = (lgt_prob_te >= threshold_lgt).astype(int)\n",
    "TN_vec_lgt, FP_vec_lgt, FN_vec_lgt, TP_vec_lgt = confusion_matrix(features_test['Music'], test_pred).ravel()\n",
    "predictions = pd.Series([TP_vec_lgt, TN_vec_lgt, FP_vec_lgt, FN_vec_lgt],\n",
    "                              index = [\"TP\", \"TN\", \"FP\", \"FN\"])\n",
    "profit_lgt = np.sum(prices * predictions)\n",
    "\n",
    "\n",
    "# Gradient Boosting\n",
    "test_pred = (gb_prob_te >= threshold_gb).astype(int)\n",
    "TN_vec_gb, FP_vec_gb, FN_vec_gb, TP_vec_gb = confusion_matrix(features_test['Music'], test_pred).ravel()\n",
    "predictions = pd.Series([TP_vec_gb, TN_vec_gb, FP_vec_gb, FN_vec_gb],\n",
    "                              index = [\"TP\", \"TN\", \"FP\", \"FN\"])\n",
    "profit_gb = np.sum(prices * predictions)\n",
    "\n",
    "pd.DataFrame(data = [[profit_rf, rf_AUC], [profit_lgt, lgt_AUC], [profit_gb, gb_AUC]], index = ['Random Forest', 'Logit', 'Gradient Boosting'], columns = ['Profit', 'AUC'])"
   ]
  },
  {
   "cell_type": "markdown",
   "metadata": {
    "id": "XdAf1I2B8eA4"
   },
   "source": [
    "* Максимальное значение AUC можно наблюдать у Logit модели, однако прибыль максимальная у Градиентного бустинга. Это связано с тем, что максимизурются различные функции.\n",
    "* Выбор модели зависит от задачи, однако стоит отметить, что при попытке оценки эффектов от решений в денежном выражении лучше использовать модель Градиентного бустинга."
   ]
  },
  {
   "cell_type": "markdown",
   "metadata": {
    "id": "CG-vlVht8we7"
   },
   "source": [
    "7. Опишите предполагаемые связи между переменными в форме ориентированного ациклического графа (DAG). Обучите структуру Байесовской сети на обучающей выборке и сравните точность прогнозов вашего и обученного DAG на тестовой выборке."
   ]
  },
  {
   "cell_type": "code",
   "execution_count": 59,
   "metadata": {
    "id": "Dh1xWnjsGsVy"
   },
   "outputs": [],
   "source": [
    "all_data = pd.concat([regressors_train, regressors_test])\n",
    "\n",
    "bins = np.histogram_bin_edges(all_data['Wage'], bins=6)\n",
    "regressors_train['Wage_bin'] = pd.cut(regressors_train['Wage'], bins=bins, labels=False, include_lowest=True)\n",
    "regressors_test['Wage_bin']  = pd.cut(regressors_test['Wage'],  bins=bins, labels=False, include_lowest=True)\n",
    "\n",
    "bins = np.histogram_bin_edges(all_data['Health'], bins=6)\n",
    "regressors_train['Health_bin'] = pd.cut(regressors_train['Health'], bins=bins, labels=False, include_lowest=True)\n",
    "regressors_test['Health_bin']  = pd.cut(regressors_test['Health'],  bins=bins, labels=False, include_lowest=True)\n",
    "\n",
    "bins = np.histogram_bin_edges(all_data['Fam'], bins=6)\n",
    "regressors_train['Fam_bin'] = pd.cut(regressors_train['Fam'], bins=bins, labels=False, include_lowest=True)\n",
    "regressors_test['Fam_bin']  = pd.cut(regressors_test['Fam'],  bins=bins, labels=False, include_lowest=True)"
   ]
  },
  {
   "cell_type": "code",
   "execution_count": 60,
   "metadata": {},
   "outputs": [
    {
     "data": {
      "text/html": [
       "<div>\n",
       "<style scoped>\n",
       "    .dataframe tbody tr th:only-of-type {\n",
       "        vertical-align: middle;\n",
       "    }\n",
       "\n",
       "    .dataframe tbody tr th {\n",
       "        vertical-align: top;\n",
       "    }\n",
       "\n",
       "    .dataframe thead th {\n",
       "        text-align: right;\n",
       "    }\n",
       "</style>\n",
       "<table border=\"1\" class=\"dataframe\">\n",
       "  <thead>\n",
       "    <tr style=\"text-align: right;\">\n",
       "      <th></th>\n",
       "      <th>Subs</th>\n",
       "      <th>Wage</th>\n",
       "      <th>Fam</th>\n",
       "      <th>Health</th>\n",
       "      <th>Wage_bin</th>\n",
       "      <th>Health_bin</th>\n",
       "      <th>Fam_bin</th>\n",
       "    </tr>\n",
       "  </thead>\n",
       "  <tbody>\n",
       "    <tr>\n",
       "      <th>8490</th>\n",
       "      <td>-0.598141</td>\n",
       "      <td>-0.417905</td>\n",
       "      <td>1.377275</td>\n",
       "      <td>0.008538</td>\n",
       "      <td>2</td>\n",
       "      <td>3</td>\n",
       "      <td>4</td>\n",
       "    </tr>\n",
       "    <tr>\n",
       "      <th>9788</th>\n",
       "      <td>1.671845</td>\n",
       "      <td>-0.736489</td>\n",
       "      <td>-0.586865</td>\n",
       "      <td>1.393011</td>\n",
       "      <td>2</td>\n",
       "      <td>4</td>\n",
       "      <td>2</td>\n",
       "    </tr>\n",
       "    <tr>\n",
       "      <th>5967</th>\n",
       "      <td>-0.598141</td>\n",
       "      <td>0.432998</td>\n",
       "      <td>1.115389</td>\n",
       "      <td>-0.914445</td>\n",
       "      <td>3</td>\n",
       "      <td>1</td>\n",
       "      <td>3</td>\n",
       "    </tr>\n",
       "    <tr>\n",
       "      <th>7519</th>\n",
       "      <td>-0.598141</td>\n",
       "      <td>0.873235</td>\n",
       "      <td>-0.375342</td>\n",
       "      <td>-0.914445</td>\n",
       "      <td>3</td>\n",
       "      <td>1</td>\n",
       "      <td>2</td>\n",
       "    </tr>\n",
       "    <tr>\n",
       "      <th>8614</th>\n",
       "      <td>-0.598141</td>\n",
       "      <td>-0.628614</td>\n",
       "      <td>-1.755276</td>\n",
       "      <td>-0.914445</td>\n",
       "      <td>2</td>\n",
       "      <td>1</td>\n",
       "      <td>1</td>\n",
       "    </tr>\n",
       "    <tr>\n",
       "      <th>...</th>\n",
       "      <td>...</td>\n",
       "      <td>...</td>\n",
       "      <td>...</td>\n",
       "      <td>...</td>\n",
       "      <td>...</td>\n",
       "      <td>...</td>\n",
       "      <td>...</td>\n",
       "    </tr>\n",
       "    <tr>\n",
       "      <th>985</th>\n",
       "      <td>-0.598141</td>\n",
       "      <td>-0.409839</td>\n",
       "      <td>-1.674696</td>\n",
       "      <td>0.931520</td>\n",
       "      <td>2</td>\n",
       "      <td>4</td>\n",
       "      <td>1</td>\n",
       "    </tr>\n",
       "    <tr>\n",
       "      <th>5789</th>\n",
       "      <td>1.671845</td>\n",
       "      <td>-0.269367</td>\n",
       "      <td>-1.916436</td>\n",
       "      <td>1.854502</td>\n",
       "      <td>2</td>\n",
       "      <td>5</td>\n",
       "      <td>1</td>\n",
       "    </tr>\n",
       "    <tr>\n",
       "      <th>4017</th>\n",
       "      <td>1.671845</td>\n",
       "      <td>-1.156227</td>\n",
       "      <td>-0.476067</td>\n",
       "      <td>0.470029</td>\n",
       "      <td>1</td>\n",
       "      <td>3</td>\n",
       "      <td>2</td>\n",
       "    </tr>\n",
       "    <tr>\n",
       "      <th>7767</th>\n",
       "      <td>1.671845</td>\n",
       "      <td>0.943472</td>\n",
       "      <td>-0.526430</td>\n",
       "      <td>1.393011</td>\n",
       "      <td>3</td>\n",
       "      <td>4</td>\n",
       "      <td>2</td>\n",
       "    </tr>\n",
       "    <tr>\n",
       "      <th>2982</th>\n",
       "      <td>-0.598141</td>\n",
       "      <td>-0.634663</td>\n",
       "      <td>-0.093312</td>\n",
       "      <td>0.931520</td>\n",
       "      <td>2</td>\n",
       "      <td>4</td>\n",
       "      <td>2</td>\n",
       "    </tr>\n",
       "  </tbody>\n",
       "</table>\n",
       "<p>8000 rows × 7 columns</p>\n",
       "</div>"
      ],
      "text/plain": [
       "          Subs      Wage       Fam    Health  Wage_bin  Health_bin  Fam_bin\n",
       "8490 -0.598141 -0.417905  1.377275  0.008538         2           3        4\n",
       "9788  1.671845 -0.736489 -0.586865  1.393011         2           4        2\n",
       "5967 -0.598141  0.432998  1.115389 -0.914445         3           1        3\n",
       "7519 -0.598141  0.873235 -0.375342 -0.914445         3           1        2\n",
       "8614 -0.598141 -0.628614 -1.755276 -0.914445         2           1        1\n",
       "...        ...       ...       ...       ...       ...         ...      ...\n",
       "985  -0.598141 -0.409839 -1.674696  0.931520         2           4        1\n",
       "5789  1.671845 -0.269367 -1.916436  1.854502         2           5        1\n",
       "4017  1.671845 -1.156227 -0.476067  0.470029         1           3        2\n",
       "7767  1.671845  0.943472 -0.526430  1.393011         3           4        2\n",
       "2982 -0.598141 -0.634663 -0.093312  0.931520         2           4        2\n",
       "\n",
       "[8000 rows x 7 columns]"
      ]
     },
     "execution_count": 60,
     "metadata": {},
     "output_type": "execute_result"
    }
   ],
   "source": [
    "regressors_train"
   ]
  },
  {
   "cell_type": "code",
   "execution_count": 61,
   "metadata": {
    "id": "x77Sv2wiWaQT",
    "outputId": "70b5e20b-ae5a-43fa-8870-e0da14d10691"
   },
   "outputs": [
    {
     "data": {
      "image/png": "[encoded data removed]",
      "text/plain": [
       "<Figure size 640x480 with 1 Axes>"
      ]
     },
     "metadata": {},
     "output_type": "display_data"
    }
   ],
   "source": [
    "# Граф со всеми зависимостями\n",
    "\n",
    "nx_options = {\n",
    "    'node_color': 'white',\n",
    "    'node_size': 800,\n",
    "    'width': 2,\n",
    "    'arrowstyle': '-|>',\n",
    "    'arrowsize': 8,\n",
    "}\n",
    "\n",
    "edges = [(\"Health\", \"Happiness\"),\n",
    "         (\"Wage\", \"Happiness\"),\n",
    "         (\"Fam\", \"Happiness\"),\n",
    "         (\"Hobby\", \"Happiness\"),\n",
    "         (\"Music\", \"Happiness\"),\n",
    "         (\"Fam\", \"Music\"),\n",
    "         (\"Health\", \"Music\"),\n",
    "         (\"Subs\", \"Music\"),      # (откуда стрелочка, куда стрелочка)\n",
    "         (\"Wage\", \"Subs\"),\n",
    "         (\"Hobby\", \"Subs\")]\n",
    "\n",
    "# Инициализируем граф\n",
    "G = nx.DiGraph(directed = True)\n",
    "G.add_edges_from(edges)\n",
    "\n",
    "# Отображаем граф\n",
    "np.random.seed(8)\n",
    "nx.draw_networkx(G, arrows = True, **nx_options)"
   ]
  },
  {
   "cell_type": "code",
   "execution_count": 62,
   "metadata": {
    "id": "CVag7oPO8vu6",
    "outputId": "e659bed9-f3e9-4691-a0a0-e2a31446ba65"
   },
   "outputs": [
    {
     "name": "stderr",
     "output_type": "stream",
     "text": [
      "WARNING:pgmpy:Replacing existing CPD for Fam_bin\n",
      "WARNING:pgmpy:Replacing existing CPD for Music\n",
      "WARNING:pgmpy:Replacing existing CPD for Health_bin\n",
      "WARNING:pgmpy:Replacing existing CPD for Subs\n",
      "WARNING:pgmpy:Replacing existing CPD for Wage_bin\n"
     ]
    },
    {
     "name": "stdout",
     "output_type": "stream",
     "text": [
      "[bnlearn]> Auto generate placeholders for the CPTs.\n",
      "[bnlearn] >CPT for Music:\n",
      "+------------+---------------+-----+---------------+---------------+\n",
      "| Fam_bin    | Fam_bin(0)    | ... | Fam_bin(1)    | Fam_bin(1)    |\n",
      "+------------+---------------+-----+---------------+---------------+\n",
      "| Health_bin | Health_bin(0) | ... | Health_bin(1) | Health_bin(1) |\n",
      "+------------+---------------+-----+---------------+---------------+\n",
      "| Subs       | Subs(0)       | ... | Subs(0)       | Subs(1)       |\n",
      "+------------+---------------+-----+---------------+---------------+\n",
      "| Music(0)   | 0.5           | ... | 0.5           | 0.5           |\n",
      "+------------+---------------+-----+---------------+---------------+\n",
      "| Music(1)   | 0.5           | ... | 0.5           | 0.5           |\n",
      "+------------+---------------+-----+---------------+---------------+\n",
      "[bnlearn] >CPT for Subs:\n",
      "+----------+-------------+-------------+\n",
      "| Wage_bin | Wage_bin(0) | Wage_bin(1) |\n",
      "+----------+-------------+-------------+\n",
      "| Subs(0)  | 0.5         | 0.5         |\n",
      "+----------+-------------+-------------+\n",
      "| Subs(1)  | 0.5         | 0.5         |\n",
      "+----------+-------------+-------------+\n",
      "[bnlearn] >CPT for Wage_bin:\n",
      "+-------------+-----+\n",
      "| Wage_bin(0) | 0.5 |\n",
      "+-------------+-----+\n",
      "| Wage_bin(1) | 0.5 |\n",
      "+-------------+-----+\n",
      "[bnlearn] >CPT for Health_bin:\n",
      "+---------------+-----+\n",
      "| Health_bin(0) | 0.5 |\n",
      "+---------------+-----+\n",
      "| Health_bin(1) | 0.5 |\n",
      "+---------------+-----+\n",
      "[bnlearn] >CPT for Fam_bin:\n",
      "+------------+-----+\n",
      "| Fam_bin(0) | 0.5 |\n",
      "+------------+-----+\n",
      "| Fam_bin(1) | 0.5 |\n",
      "+------------+-----+\n",
      "[bnlearn] >bayes DAG created.\n",
      "[bnlearn] >[Conditional Probability Table (CPT)] >[Update Probabilities] >[Node Music]\n",
      "[bnlearn] >[Conditional Probability Table (CPT)] >[Update Probabilities] >[Node Subs]\n",
      "[bnlearn] >[Conditional Probability Table (CPT)] >[Update Probabilities] >[Node Wage_bin]\n",
      "[bnlearn] >[Conditional Probability Table (CPT)] >[Update Probabilities] >[Node Health_bin]\n",
      "[bnlearn] >[Conditional Probability Table (CPT)] >[Update Probabilities] >[Node Fam_bin]\n",
      "[bnlearn] >[Conditional Probability Table (CPT)] >[Check Probabilities] >[Node Music] >OK\n",
      "[bnlearn] >[Conditional Probability Table (CPT)] >[Check Probabilities] >[Node Subs] >OK\n",
      "[bnlearn] >[Conditional Probability Table (CPT)] >[Check Probabilities] >[Node Wage_bin] >OK\n",
      "[bnlearn] >[Conditional Probability Table (CPT)] >[Check Probabilities] >[Node Health_bin] >OK\n",
      "[bnlearn] >[Conditional Probability Table (CPT)] >[Check Probabilities] >[Node Fam_bin] >OK\n",
      "[bnlearn] >Removing columns from dataframe to make consistent with DAG [['Wage' 'Fam' 'Health']]\n",
      "[bnlearn] >Parameter learning> Computing parameters using [ml]\n",
      "[bnlearn] >CPD of Music:\n",
      "+------------+-----+--------------------------+\n",
      "| Fam_bin    | ... | Fam_bin(5)               |\n",
      "+------------+-----+--------------------------+\n",
      "| Health_bin | ... | Health_bin(5)            |\n",
      "+------------+-----+--------------------------+\n",
      "| Subs       | ... | Subs(1.6718452122317538) |\n",
      "+------------+-----+--------------------------+\n",
      "| Music(0)   | ... | 0.0                      |\n",
      "+------------+-----+--------------------------+\n",
      "| Music(1)   | ... | 1.0                      |\n",
      "+------------+-----+--------------------------+\n",
      "[bnlearn] >CPD of Subs:\n",
      "+---------------------------+-----+---------------------+\n",
      "| Wage_bin                  | ... | Wage_bin(5)         |\n",
      "+---------------------------+-----+---------------------+\n",
      "| Subs(-0.5981414981983261) | ... | 0.19230769230769232 |\n",
      "+---------------------------+-----+---------------------+\n",
      "| Subs(1.6718452122317538)  | ... | 0.8076923076923077  |\n",
      "+---------------------------+-----+---------------------+\n",
      "[bnlearn] >CPD of Wage_bin:\n",
      "+-------------+---------+\n",
      "| Wage_bin(0) | 0.01475 |\n",
      "+-------------+---------+\n",
      "| Wage_bin(1) | 0.1375  |\n",
      "+-------------+---------+\n",
      "| Wage_bin(2) | 0.40225 |\n",
      "+-------------+---------+\n",
      "| Wage_bin(3) | 0.349   |\n",
      "+-------------+---------+\n",
      "| Wage_bin(4) | 0.09    |\n",
      "+-------------+---------+\n",
      "| Wage_bin(5) | 0.0065  |\n",
      "+-------------+---------+\n",
      "[bnlearn] >CPD of Health_bin:\n",
      "+---------------+----------+\n",
      "| Health_bin(0) | 0.037375 |\n",
      "+---------------+----------+\n",
      "| Health_bin(1) | 0.231375 |\n",
      "+---------------+----------+\n",
      "| Health_bin(2) | 0.171625 |\n",
      "+---------------+----------+\n",
      "| Health_bin(3) | 0.319625 |\n",
      "+---------------+----------+\n",
      "| Health_bin(4) | 0.172125 |\n",
      "+---------------+----------+\n",
      "| Health_bin(5) | 0.067875 |\n",
      "+---------------+----------+\n",
      "[bnlearn] >CPD of Fam_bin:\n",
      "+------------+----------+\n",
      "| Fam_bin(0) | 0.008875 |\n",
      "+------------+----------+\n",
      "| Fam_bin(1) | 0.1065   |\n",
      "+------------+----------+\n",
      "| Fam_bin(2) | 0.380875 |\n",
      "+------------+----------+\n",
      "| Fam_bin(3) | 0.39075  |\n",
      "+------------+----------+\n",
      "| Fam_bin(4) | 0.10525  |\n",
      "+------------+----------+\n",
      "| Fam_bin(5) | 0.00775  |\n",
      "+------------+----------+\n",
      "[bnlearn] >Compute structure scores for model comparison (higher is better).\n"
     ]
    }
   ],
   "source": [
    "# nx_options = {\n",
    "#     'node_color': 'white',\n",
    "#     'node_size': 800,\n",
    "#     'width': 2,\n",
    "#     'arrowstyle': '-|>',\n",
    "#     'arrowsize': 8,\n",
    "# }\n",
    "edges = [(\"Fam_bin\", \"Music\"),\n",
    "         (\"Health_bin\", \"Music\"),\n",
    "         (\"Subs\", \"Music\"),      # (откуда стрелочка, куда стрелочка)\n",
    "         (\"Wage_bin\", \"Subs\")]\n",
    "\n",
    "# # Инициализируем граф\n",
    "# G = nx.DiGraph(directed = True)\n",
    "# G.add_edges_from(edges)\n",
    "\n",
    "# # Отображаем граф\n",
    "# np.random.seed(8)\n",
    "# nx.draw_networkx(G, arrows = True, **nx_options)\n",
    "\n",
    "dag = bnlearn.make_DAG(edges)\n",
    "if 'config' not in dag:\n",
    "    dag['config'] = {'method': 'bayes'}\n",
    "\n",
    "dag_train = pd.concat([regressors_train, features_train['Music']], axis=1)\n",
    "bn = bnlearn.parameter_learning.fit(dag, dag_train, methodtype = 'ml')"
   ]
  },
  {
   "cell_type": "code",
   "execution_count": 63,
   "metadata": {
    "id": "gkZrn68JeMsJ",
    "outputId": "440a98cf-ce04-47bf-c013-84acb10dcfbb"
   },
   "outputs": [
    {
     "name": "stdout",
     "output_type": "stream",
     "text": [
      "[bnlearn] >Set node properties.\n",
      "[bnlearn] >Set edge properties.\n",
      "[bnlearn] >Plot based on Bayesian model\n"
     ]
    },
    {
     "data": {
      "image/png": "[encoded data removed]",
      "text/plain": [
       "<Figure size 2000x2000 with 1 Axes>"
      ]
     },
     "metadata": {},
     "output_type": "display_data"
    },
    {
     "data": {
      "text/plain": [
       "{'fig': <Figure size 2000x2000 with 1 Axes>,\n",
       " 'ax': <Figure size 2000x2000 with 1 Axes>,\n",
       " 'pos': {'Fam_bin': array([ 0.77952223, -0.2088507 ]),\n",
       "  'Music': array([0.40238184, 0.42173251]),\n",
       "  'Health_bin': array([ 0.10547638, -0.34921991]),\n",
       "  'Subs': array([-0.28738045,  0.43007587]),\n",
       "  'Wage_bin': array([-1.        , -0.29373777])},\n",
       " 'G': <networkx.classes.digraph.DiGraph at 0x190e5c97dd0>,\n",
       " 'node_properties': {'Fam_bin': {'node_color': '#ADD8E6', 'node_size': 800},\n",
       "  'Music': {'node_color': '#ADD8E6', 'node_size': 800},\n",
       "  'Health_bin': {'node_color': '#ADD8E6', 'node_size': 800},\n",
       "  'Subs': {'node_color': '#ADD8E6', 'node_size': 800},\n",
       "  'Wage_bin': {'node_color': '#ADD8E6', 'node_size': 800}},\n",
       " 'edge_properties': {('Fam_bin', 'Music'): {'color': '#000000',\n",
       "   'weight': 1.0,\n",
       "   'pvalue': 1,\n",
       "   'value': 1.0},\n",
       "  ('Health_bin', 'Music'): {'color': '#000000',\n",
       "   'weight': 1.0,\n",
       "   'pvalue': 1,\n",
       "   'value': 1.0},\n",
       "  ('Subs', 'Music'): {'color': '#000000',\n",
       "   'weight': 1.0,\n",
       "   'pvalue': 1,\n",
       "   'value': 1.0},\n",
       "  ('Wage_bin', 'Subs'): {'color': '#000000',\n",
       "   'weight': 1.0,\n",
       "   'pvalue': 1,\n",
       "   'value': 1.0}}}"
      ]
     },
     "execution_count": 63,
     "metadata": {},
     "output_type": "execute_result"
    }
   ],
   "source": [
    "# Визуализируем DAG\n",
    "bnlearn.plot(bn, interactive = False)"
   ]
  },
  {
   "cell_type": "code",
   "execution_count": 64,
   "metadata": {
    "id": "P1narydSePjE",
    "outputId": "274986e6-ee83-4328-8cea-740e3dc1e14f"
   },
   "outputs": [
    {
     "name": "stdout",
     "output_type": "stream",
     "text": [
      "[bnlearn]> Remaining columns for inference: 4\n"
     ]
    },
    {
     "name": "stderr",
     "output_type": "stream",
     "text": [
      "100%|██████████| 211/211 [00:00<00:00, 704.11it/s]\n"
     ]
    },
    {
     "data": {
      "text/html": [
       "<div>\n",
       "<style scoped>\n",
       "    .dataframe tbody tr th:only-of-type {\n",
       "        vertical-align: middle;\n",
       "    }\n",
       "\n",
       "    .dataframe tbody tr th {\n",
       "        vertical-align: top;\n",
       "    }\n",
       "\n",
       "    .dataframe thead th {\n",
       "        text-align: right;\n",
       "    }\n",
       "</style>\n",
       "<table border=\"1\" class=\"dataframe\">\n",
       "  <thead>\n",
       "    <tr style=\"text-align: right;\">\n",
       "      <th></th>\n",
       "      <th>ACC</th>\n",
       "    </tr>\n",
       "  </thead>\n",
       "  <tbody>\n",
       "    <tr>\n",
       "      <th>Random forest</th>\n",
       "      <td>0.819</td>\n",
       "    </tr>\n",
       "    <tr>\n",
       "      <th>Logit</th>\n",
       "      <td>0.819</td>\n",
       "    </tr>\n",
       "    <tr>\n",
       "      <th>Gradient Bossting</th>\n",
       "      <td>0.819</td>\n",
       "    </tr>\n",
       "    <tr>\n",
       "      <th>Bayes</th>\n",
       "      <td>0.818</td>\n",
       "    </tr>\n",
       "  </tbody>\n",
       "</table>\n",
       "</div>"
      ],
      "text/plain": [
       "                     ACC\n",
       "Random forest      0.819\n",
       "Logit              0.819\n",
       "Gradient Bossting  0.819\n",
       "Bayes              0.818"
      ]
     },
     "execution_count": 64,
     "metadata": {},
     "output_type": "execute_result"
    }
   ],
   "source": [
    "dag_test = pd.concat([regressors_test.drop(['Wage', 'Fam', 'Health'], axis = 1), features_test['Music']], axis=1)\n",
    "predict_bn = bnlearn.predict(bn, df = dag_test, variables = [\"Music\"])\n",
    "prediction_bn = predict_bn.loc[:, \"Music\"]\n",
    "acc_bn = np.mean(features_test['Music'].reset_index(drop = True) == prediction_bn)\n",
    "pd.DataFrame(data    = [rf_best_te, lgt_best_te, gb_best_te, acc_bn],\n",
    "                   index   = ['Random forest', 'Logit', 'Gradient Bossting', 'Bayes'],\n",
    "                   columns = ['ACC'])"
   ]
  },
  {
   "cell_type": "markdown",
   "metadata": {
    "id": "87uXJKk0PRR0"
   },
   "source": [
    "Как видно в таблице выше, Байесовская сеть дает более низкую точность, чем остальные модели, поэтому стоит использовать именно их."
   ]
  },
  {
   "cell_type": "code",
   "execution_count": 65,
   "metadata": {
    "id": "kaxSB0JlUd21"
   },
   "outputs": [],
   "source": [
    "from sklearn.metrics import roc_auc_score\n",
    "auc_bn = roc_auc_score(features_test['Music'], predict_bn[\"p\"])"
   ]
  },
  {
   "cell_type": "markdown",
   "metadata": {
    "id": "759bC5-1QQr3"
   },
   "source": [
    "8. На основании проделанного анализа выберите лучший и худший из обученных классификаторов. Обоснуйте сделанный выбор."
   ]
  },
  {
   "cell_type": "code",
   "execution_count": null,
   "metadata": {},
   "outputs": [],
   "source": []
  },
  {
   "cell_type": "code",
   "execution_count": 66,
   "metadata": {},
   "outputs": [],
   "source": [
    "regressors_test = regressors_test.drop(['Wage_bin', 'Health_bin', 'Fam_bin'], axis = 1)\n",
    "regressors_train = regressors_train.drop(['Wage_bin', 'Health_bin', 'Fam_bin'], axis = 1)"
   ]
  },
  {
   "cell_type": "code",
   "execution_count": 67,
   "metadata": {},
   "outputs": [],
   "source": [
    "rfs_auc = metrics.roc_auc_score(features_test['Music'], forest.predict_proba(regressors_test)[:, 1])\n",
    "lgt_auc = metrics.roc_auc_score(features_test['Music'], logit.predict_proba(regressors_test)[:, 1])\n",
    "gb_auc = metrics.roc_auc_score(features_test['Music'], gb.predict_proba(regressors_test)[:, 1])\n",
    "lgt_f1_auc = metrics.roc_auc_score(features_test['Music'], lgt_f1.predict_proba(regressors_test)[:, 1])\n",
    "rf_f1_auc = metrics.roc_auc_score(features_test['Music'], rf_f1.predict_proba(regressors_test)[:, 1])\n",
    "gb_f1_auc = metrics.roc_auc_score(features_test['Music'], gb_f1.predict_proba(regressors_test)[:, 1])"
   ]
  },
  {
   "cell_type": "code",
   "execution_count": 68,
   "metadata": {},
   "outputs": [
    {
     "data": {
      "text/html": [
       "<div>\n",
       "<style scoped>\n",
       "    .dataframe tbody tr th:only-of-type {\n",
       "        vertical-align: middle;\n",
       "    }\n",
       "\n",
       "    .dataframe tbody tr th {\n",
       "        vertical-align: top;\n",
       "    }\n",
       "\n",
       "    .dataframe thead th {\n",
       "        text-align: right;\n",
       "    }\n",
       "</style>\n",
       "<table border=\"1\" class=\"dataframe\">\n",
       "  <thead>\n",
       "    <tr style=\"text-align: right;\">\n",
       "      <th></th>\n",
       "      <th>Train</th>\n",
       "      <th>Test</th>\n",
       "      <th>Cross-validation (mean)</th>\n",
       "      <th>AUC</th>\n",
       "      <th>Hyperparameters</th>\n",
       "    </tr>\n",
       "  </thead>\n",
       "  <tbody>\n",
       "    <tr>\n",
       "      <th>Random Forest</th>\n",
       "      <td>0.8846</td>\n",
       "      <td>0.8110</td>\n",
       "      <td>0.8090</td>\n",
       "      <td>0.845662</td>\n",
       "      <td>max_depth: 12</td>\n",
       "    </tr>\n",
       "    <tr>\n",
       "      <th>Random Forest (acc tune)</th>\n",
       "      <td>0.8384</td>\n",
       "      <td>0.8190</td>\n",
       "      <td>0.8160</td>\n",
       "      <td>0.859211</td>\n",
       "      <td>max_depth: 6</td>\n",
       "    </tr>\n",
       "    <tr>\n",
       "      <th>Random Forest (f1 tune)</th>\n",
       "      <td>0.8384</td>\n",
       "      <td>0.8190</td>\n",
       "      <td>0.8195</td>\n",
       "      <td>0.851866</td>\n",
       "      <td>max_depth: 10</td>\n",
       "    </tr>\n",
       "    <tr>\n",
       "      <th>Logistic Regression</th>\n",
       "      <td>0.8212</td>\n",
       "      <td>0.8190</td>\n",
       "      <td>0.8145</td>\n",
       "      <td>0.860706</td>\n",
       "      <td>max_iter: 100</td>\n",
       "    </tr>\n",
       "    <tr>\n",
       "      <th>Logistic Regression (acc tune)</th>\n",
       "      <td>0.8212</td>\n",
       "      <td>0.8190</td>\n",
       "      <td>0.8145</td>\n",
       "      <td>0.860706</td>\n",
       "      <td>max_iter: 100</td>\n",
       "    </tr>\n",
       "    <tr>\n",
       "      <th>Logistic Regression (f1 tune)</th>\n",
       "      <td>0.8212</td>\n",
       "      <td>0.8190</td>\n",
       "      <td>0.8145</td>\n",
       "      <td>0.860706</td>\n",
       "      <td>max_iter: 100</td>\n",
       "    </tr>\n",
       "    <tr>\n",
       "      <th>Gradient Boosting</th>\n",
       "      <td>0.8301</td>\n",
       "      <td>0.8145</td>\n",
       "      <td>0.8020</td>\n",
       "      <td>0.856995</td>\n",
       "      <td>n_estimators: 100;  learning_rate: 0.1</td>\n",
       "    </tr>\n",
       "    <tr>\n",
       "      <th>Gradient Boosting (acc tune)</th>\n",
       "      <td>0.8210</td>\n",
       "      <td>0.8190</td>\n",
       "      <td>0.8070</td>\n",
       "      <td>0.858514</td>\n",
       "      <td>n_estimators: 100;  learning_rate: 0.01</td>\n",
       "    </tr>\n",
       "    <tr>\n",
       "      <th>Gradient Boosting (f1 tune)</th>\n",
       "      <td>0.8210</td>\n",
       "      <td>0.8190</td>\n",
       "      <td>0.8070</td>\n",
       "      <td>0.858514</td>\n",
       "      <td>n_estimators: 100;  learning_rate: 0.01</td>\n",
       "    </tr>\n",
       "    <tr>\n",
       "      <th>Bayasian Network</th>\n",
       "      <td>NaN</td>\n",
       "      <td>0.8180</td>\n",
       "      <td>NaN</td>\n",
       "      <td>0.782057</td>\n",
       "      <td>None</td>\n",
       "    </tr>\n",
       "  </tbody>\n",
       "</table>\n",
       "</div>"
      ],
      "text/plain": [
       "                                 Train    Test  Cross-validation (mean)  \\\n",
       "Random Forest                   0.8846  0.8110                   0.8090   \n",
       "Random Forest (acc tune)        0.8384  0.8190                   0.8160   \n",
       "Random Forest (f1 tune)         0.8384  0.8190                   0.8195   \n",
       "Logistic Regression             0.8212  0.8190                   0.8145   \n",
       "Logistic Regression (acc tune)  0.8212  0.8190                   0.8145   \n",
       "Logistic Regression (f1 tune)   0.8212  0.8190                   0.8145   \n",
       "Gradient Boosting               0.8301  0.8145                   0.8020   \n",
       "Gradient Boosting (acc tune)    0.8210  0.8190                   0.8070   \n",
       "Gradient Boosting (f1 tune)     0.8210  0.8190                   0.8070   \n",
       "Bayasian Network                   NaN  0.8180                      NaN   \n",
       "\n",
       "                                     AUC  \\\n",
       "Random Forest                   0.845662   \n",
       "Random Forest (acc tune)        0.859211   \n",
       "Random Forest (f1 tune)         0.851866   \n",
       "Logistic Regression             0.860706   \n",
       "Logistic Regression (acc tune)  0.860706   \n",
       "Logistic Regression (f1 tune)   0.860706   \n",
       "Gradient Boosting               0.856995   \n",
       "Gradient Boosting (acc tune)    0.858514   \n",
       "Gradient Boosting (f1 tune)     0.858514   \n",
       "Bayasian Network                0.782057   \n",
       "\n",
       "                                                        Hyperparameters  \n",
       "Random Forest                                             max_depth: 12  \n",
       "Random Forest (acc tune)                                   max_depth: 6  \n",
       "Random Forest (f1 tune)                                   max_depth: 10  \n",
       "Logistic Regression                                       max_iter: 100  \n",
       "Logistic Regression (acc tune)                            max_iter: 100  \n",
       "Logistic Regression (f1 tune)                             max_iter: 100  \n",
       "Gradient Boosting                n_estimators: 100;  learning_rate: 0.1  \n",
       "Gradient Boosting (acc tune)    n_estimators: 100;  learning_rate: 0.01  \n",
       "Gradient Boosting (f1 tune)     n_estimators: 100;  learning_rate: 0.01  \n",
       "Bayasian Network                                                   None  "
      ]
     },
     "execution_count": 68,
     "metadata": {},
     "output_type": "execute_result"
    }
   ],
   "source": [
    "# Сравним полученные результаты\n",
    "\n",
    "svod = pd.DataFrame(data  = [[rfs_tr, rfs_te, rfs_cv, rfs_auc, f'max_depth: {forest.get_params()[\"max_depth\"]}'], [rf_best_tr, rf_best_te, rf_best_cv, rf_AUC, f'max_depth: {rf_best.get_params()[\"max_depth\"]}'], [rf_f1_tr, rf_f1_te, rf_f1_cv, rf_f1_auc, f'max_depth: {rf_f1.get_params()[\"max_depth\"]}'], [lgt_tr, lgt_te, lgt_cv, lgt_auc, f'max_iter: {logit.get_params()[\"max_iter\"]}'], [lgt_best_tr, lgt_best_te, lgt_best_cv, lgt_AUC, f'max_iter: {lgt_best.get_params()[\"max_iter\"]}'], [lgt_f1_tr, lgt_f1_te, lgt_f1_cv, lgt_f1_auc, f'max_iter: {lgt_f1.get_params()[\"max_iter\"]}'], [gb_tr, gb_te, gb_cv, gb_auc, f'n_estimators: {gb.get_params()[\"n_estimators\"]};  learning_rate: {gb.get_params()[\"learning_rate\"]}'], [gb_best_tr, gb_best_te, gb_best_cv, gb_AUC, f'n_estimators: {gb_best.get_params()[\"n_estimators\"]};  learning_rate: {gb_best.get_params()[\"learning_rate\"]}'], [gb_f1_tr, gb_f1_te, gb_f1_cv, gb_f1_auc, f'n_estimators: {gb_f1.get_params()[\"n_estimators\"]};  learning_rate: {gb_f1.get_params()[\"learning_rate\"]}'], [None, acc_bn, None, auc_bn]],\n",
    "                   index   = ['Random Forest', 'Random Forest (acc tune)', 'Random Forest (f1 tune)', 'Logistic Regression', 'Logistic Regression (acc tune)', 'Logistic Regression (f1 tune)', 'Gradient Boosting', 'Gradient Boosting (acc tune)', 'Gradient Boosting (f1 tune)', 'Bayasian Network'],\n",
    "                   columns = ['Train', 'Test', 'Cross-validation (mean)', 'AUC', 'Hyperparameters'])\n",
    "svod"
   ]
  },
  {
   "cell_type": "markdown",
   "metadata": {
    "id": "kjqobAWOS5S7"
   },
   "source": [
    "Так как у нас достаточно несбалансированные классы (Music = 1 составляет примерно 80% от всех наблюдений в тестовой выборке), то стоит использовать в качестве критерия AUC: он наиболее высокий у Логистической регрессии с параметрами, подобранными по точности, поэтому данная модель является лучшей. \\\n",
    "Моделью с наименьшим AUC является Случайный лес с изначальными параметрами, поэтому данная модель являются худшей (не считая байесовскую сеть)."
   ]
  },
  {
   "cell_type": "code",
   "execution_count": 69,
   "metadata": {
    "id": "vnRGOlZQRvNC",
    "outputId": "df8b5c97-3a24-4f31-bb6f-419cb91f3f4e"
   },
   "outputs": [
    {
     "data": {
      "text/plain": [
       "Music\n",
       "1    6155\n",
       "0    1845\n",
       "Name: count, dtype: int64"
      ]
     },
     "execution_count": 69,
     "metadata": {},
     "output_type": "execute_result"
    }
   ],
   "source": [
    "features_train['Music'].value_counts()"
   ]
  },
  {
   "cell_type": "code",
   "execution_count": 70,
   "metadata": {
    "id": "cd6jSBwQPxyv",
    "outputId": "68b5dc89-964a-4c7d-9105-2edc9e6a87c7"
   },
   "outputs": [],
   "source": [
    "best = LogisticRegression(**lgt_best.get_params())\n",
    "worst = RandomForestClassifier(**forest.get_params())"
   ]
  },
  {
   "cell_type": "markdown",
   "metadata": {
    "id": "1TQTXBvwxEdx"
   },
   "source": [
    "# 4 Регрессия\n",
    "\n",
    "В каждом из заданий, если не сказано иного, необходимо использовать хотя бы 3\n",
    "(на ваш выбор) из следующих методов: случайный лес, метод наименьших квадратов,\n",
    "метод ближайших соседей и градиентный бустинг."
   ]
  },
  {
   "cell_type": "markdown",
   "metadata": {
    "id": "GSZ4N0HjxEdx"
   },
   "source": [
    "1. Отберите признаки, которые могут быть полезны при прогнозировании целевой\n",
    "(зависимой) переменной. Не включайте в число этих признаков переменную\n",
    "воздействия. Содержательно обоснуйте выбор признаков.\n",
    "\n",
    "\n",
    "$\\text{Wage}$ - чем выше заработная плата, тем больше материальных и нематериальных благ человек может себе позволить, тем самым удовлетворив свои потребности.\n",
    "\n",
    "$\\text{Fam}$ - времяпровождение с семьей помогает человеку справляться со стрессом, приносит положительные эмоции, семья служит поддержкой в трудных ситуациях.\n",
    "\n",
    "$\\text{Health}$ - приносит положительные эмоции, позволяет самореализоваться, чувствовать принадлежность к определенной социальной группе, а соответственно оказывает влияние на уровень счастья.\n",
    "\n",
    "Однако мы проверим наши предположения по выбранным признакам на основе графиков важности. Построим их для Случайного леса и градиентного бустинга (для KNN не можем построить аналогичный график)."
   ]
  },
  {
   "cell_type": "code",
   "execution_count": 71,
   "metadata": {
    "id": "MYUKFSFHxEdx"
   },
   "outputs": [],
   "source": [
    "features = df.drop(columns='Happiness')\n",
    "target = df['Happiness']\n",
    "\n",
    "features_train, features_test, target_train, target_test = train_test_split(\n",
    "    features, target, test_size = 0.2, random_state = 777)"
   ]
  },
  {
   "cell_type": "code",
   "execution_count": 72,
   "metadata": {
    "id": "NL5EshmWxEdx"
   },
   "outputs": [
    {
     "data": {
      "text/html": [
       "<div>\n",
       "<style scoped>\n",
       "    .dataframe tbody tr th:only-of-type {\n",
       "        vertical-align: middle;\n",
       "    }\n",
       "\n",
       "    .dataframe tbody tr th {\n",
       "        vertical-align: top;\n",
       "    }\n",
       "\n",
       "    .dataframe thead th {\n",
       "        text-align: right;\n",
       "    }\n",
       "</style>\n",
       "<table border=\"1\" class=\"dataframe\">\n",
       "  <thead>\n",
       "    <tr style=\"text-align: right;\">\n",
       "      <th></th>\n",
       "      <th>Subs</th>\n",
       "      <th>Wage</th>\n",
       "      <th>Hobby</th>\n",
       "      <th>Fam</th>\n",
       "      <th>Health</th>\n",
       "    </tr>\n",
       "  </thead>\n",
       "  <tbody>\n",
       "    <tr>\n",
       "      <th>8490</th>\n",
       "      <td>0</td>\n",
       "      <td>87.10</td>\n",
       "      <td>0</td>\n",
       "      <td>49.7</td>\n",
       "      <td>5</td>\n",
       "    </tr>\n",
       "    <tr>\n",
       "      <th>9788</th>\n",
       "      <td>1</td>\n",
       "      <td>77.62</td>\n",
       "      <td>0</td>\n",
       "      <td>30.2</td>\n",
       "      <td>8</td>\n",
       "    </tr>\n",
       "    <tr>\n",
       "      <th>5967</th>\n",
       "      <td>0</td>\n",
       "      <td>112.42</td>\n",
       "      <td>1</td>\n",
       "      <td>47.1</td>\n",
       "      <td>3</td>\n",
       "    </tr>\n",
       "    <tr>\n",
       "      <th>7519</th>\n",
       "      <td>0</td>\n",
       "      <td>125.52</td>\n",
       "      <td>1</td>\n",
       "      <td>32.3</td>\n",
       "      <td>3</td>\n",
       "    </tr>\n",
       "    <tr>\n",
       "      <th>8614</th>\n",
       "      <td>0</td>\n",
       "      <td>80.83</td>\n",
       "      <td>0</td>\n",
       "      <td>18.6</td>\n",
       "      <td>3</td>\n",
       "    </tr>\n",
       "  </tbody>\n",
       "</table>\n",
       "</div>"
      ],
      "text/plain": [
       "      Subs    Wage  Hobby   Fam  Health\n",
       "8490     0   87.10      0  49.7       5\n",
       "9788     1   77.62      0  30.2       8\n",
       "5967     0  112.42      1  47.1       3\n",
       "7519     0  125.52      1  32.3       3\n",
       "8614     0   80.83      0  18.6       3"
      ]
     },
     "execution_count": 72,
     "metadata": {},
     "output_type": "execute_result"
    }
   ],
   "source": [
    "# по заданию исключаем переменную воздействия\n",
    "regressors_train = features_train.drop(columns=['Music'])\n",
    "regressors_test = features_test.drop(columns=['Music'])\n",
    "regressors_train.head()"
   ]
  },
  {
   "cell_type": "code",
   "execution_count": 73,
   "metadata": {
    "id": "ZX7gMP2axEdx"
   },
   "outputs": [
    {
     "data": {
      "text/html": [
       "<div>\n",
       "<style scoped>\n",
       "    .dataframe tbody tr th:only-of-type {\n",
       "        vertical-align: middle;\n",
       "    }\n",
       "\n",
       "    .dataframe tbody tr th {\n",
       "        vertical-align: top;\n",
       "    }\n",
       "\n",
       "    .dataframe thead th {\n",
       "        text-align: right;\n",
       "    }\n",
       "</style>\n",
       "<table border=\"1\" class=\"dataframe\">\n",
       "  <thead>\n",
       "    <tr style=\"text-align: right;\">\n",
       "      <th></th>\n",
       "      <th>Subs</th>\n",
       "      <th>Wage</th>\n",
       "      <th>Hobby</th>\n",
       "      <th>Fam</th>\n",
       "      <th>Health</th>\n",
       "    </tr>\n",
       "  </thead>\n",
       "  <tbody>\n",
       "    <tr>\n",
       "      <th>8490</th>\n",
       "      <td>-0.598141</td>\n",
       "      <td>-0.417905</td>\n",
       "      <td>-0.820969</td>\n",
       "      <td>1.377275</td>\n",
       "      <td>0.008538</td>\n",
       "    </tr>\n",
       "    <tr>\n",
       "      <th>9788</th>\n",
       "      <td>1.671845</td>\n",
       "      <td>-0.736489</td>\n",
       "      <td>-0.820969</td>\n",
       "      <td>-0.586865</td>\n",
       "      <td>1.393011</td>\n",
       "    </tr>\n",
       "    <tr>\n",
       "      <th>5967</th>\n",
       "      <td>-0.598141</td>\n",
       "      <td>0.432998</td>\n",
       "      <td>1.218073</td>\n",
       "      <td>1.115389</td>\n",
       "      <td>-0.914445</td>\n",
       "    </tr>\n",
       "    <tr>\n",
       "      <th>7519</th>\n",
       "      <td>-0.598141</td>\n",
       "      <td>0.873235</td>\n",
       "      <td>1.218073</td>\n",
       "      <td>-0.375342</td>\n",
       "      <td>-0.914445</td>\n",
       "    </tr>\n",
       "    <tr>\n",
       "      <th>8614</th>\n",
       "      <td>-0.598141</td>\n",
       "      <td>-0.628614</td>\n",
       "      <td>-0.820969</td>\n",
       "      <td>-1.755276</td>\n",
       "      <td>-0.914445</td>\n",
       "    </tr>\n",
       "  </tbody>\n",
       "</table>\n",
       "</div>"
      ],
      "text/plain": [
       "          Subs      Wage     Hobby       Fam    Health\n",
       "8490 -0.598141 -0.417905 -0.820969  1.377275  0.008538\n",
       "9788  1.671845 -0.736489 -0.820969 -0.586865  1.393011\n",
       "5967 -0.598141  0.432998  1.218073  1.115389 -0.914445\n",
       "7519 -0.598141  0.873235  1.218073 -0.375342 -0.914445\n",
       "8614 -0.598141 -0.628614 -0.820969 -1.755276 -0.914445"
      ]
     },
     "execution_count": 73,
     "metadata": {},
     "output_type": "execute_result"
    }
   ],
   "source": [
    "# Сохраним данные до нормализации\n",
    "regressors_train_initial = regressors_train.copy()\n",
    "regressors_test_initial  = regressors_test.copy()\n",
    "\n",
    "# Подготовим объект, осуществляющий нормализацию\n",
    "scaler = sklearn.preprocessing.StandardScaler().set_output(transform = \"pandas\").fit(regressors_train)\n",
    "\n",
    "# Нормализуем данные\n",
    "regressors_train = scaler.transform(regressors_train_initial)  # обучающая выборка\n",
    "regressors_test  = scaler.transform(regressors_test_initial)   # тестовая выборка\n",
    "regressors_train.head(5)"
   ]
  },
  {
   "cell_type": "code",
   "execution_count": 74,
   "metadata": {
    "id": "g5Yny0iAxEdx"
   },
   "outputs": [
    {
     "data": {
      "text/html": [
       "<style>#sk-container-id-4 {\n",
       "  /* Definition of color scheme common for light and dark mode */\n",
       "  --sklearn-color-text: black;\n",
       "  --sklearn-color-line: gray;\n",
       "  /* Definition of color scheme for unfitted estimators */\n",
       "  --sklearn-color-unfitted-level-0: #fff5e6;\n",
       "  --sklearn-color-unfitted-level-1: #f6e4d2;\n",
       "  --sklearn-color-unfitted-level-2: #ffe0b3;\n",
       "  --sklearn-color-unfitted-level-3: chocolate;\n",
       "  /* Definition of color scheme for fitted estimators */\n",
       "  --sklearn-color-fitted-level-0: #f0f8ff;\n",
       "  --sklearn-color-fitted-level-1: #d4ebff;\n",
       "  --sklearn-color-fitted-level-2: #b3dbfd;\n",
       "  --sklearn-color-fitted-level-3: cornflowerblue;\n",
       "\n",
       "  /* Specific color for light theme */\n",
       "  --sklearn-color-text-on-default-background: var(--sg-text-color, var(--theme-code-foreground, var(--jp-content-font-color1, black)));\n",
       "  --sklearn-color-background: var(--sg-background-color, var(--theme-background, var(--jp-layout-color0, white)));\n",
       "  --sklearn-color-border-box: var(--sg-text-color, var(--theme-code-foreground, var(--jp-content-font-color1, black)));\n",
       "  --sklearn-color-icon: #696969;\n",
       "\n",
       "  @media (prefers-color-scheme: dark) {\n",
       "    /* Redefinition of color scheme for dark theme */\n",
       "    --sklearn-color-text-on-default-background: var(--sg-text-color, var(--theme-code-foreground, var(--jp-content-font-color1, white)));\n",
       "    --sklearn-color-background: var(--sg-background-color, var(--theme-background, var(--jp-layout-color0, #111)));\n",
       "    --sklearn-color-border-box: var(--sg-text-color, var(--theme-code-foreground, var(--jp-content-font-color1, white)));\n",
       "    --sklearn-color-icon: #878787;\n",
       "  }\n",
       "}\n",
       "\n",
       "#sk-container-id-4 {\n",
       "  color: var(--sklearn-color-text);\n",
       "}\n",
       "\n",
       "#sk-container-id-4 pre {\n",
       "  padding: 0;\n",
       "}\n",
       "\n",
       "#sk-container-id-4 input.sk-hidden--visually {\n",
       "  border: 0;\n",
       "  clip: rect(1px 1px 1px 1px);\n",
       "  clip: rect(1px, 1px, 1px, 1px);\n",
       "  height: 1px;\n",
       "  margin: -1px;\n",
       "  overflow: hidden;\n",
       "  padding: 0;\n",
       "  position: absolute;\n",
       "  width: 1px;\n",
       "}\n",
       "\n",
       "#sk-container-id-4 div.sk-dashed-wrapped {\n",
       "  border: 1px dashed var(--sklearn-color-line);\n",
       "  margin: 0 0.4em 0.5em 0.4em;\n",
       "  box-sizing: border-box;\n",
       "  padding-bottom: 0.4em;\n",
       "  background-color: var(--sklearn-color-background);\n",
       "}\n",
       "\n",
       "#sk-container-id-4 div.sk-container {\n",
       "  /* jupyter's `normalize.less` sets `[hidden] { display: none; }`\n",
       "     but bootstrap.min.css set `[hidden] { display: none !important; }`\n",
       "     so we also need the `!important` here to be able to override the\n",
       "     default hidden behavior on the sphinx rendered scikit-learn.org.\n",
       "     See: https://github.com/scikit-learn/scikit-learn/issues/21755 */\n",
       "  display: inline-block !important;\n",
       "  position: relative;\n",
       "}\n",
       "\n",
       "#sk-container-id-4 div.sk-text-repr-fallback {\n",
       "  display: none;\n",
       "}\n",
       "\n",
       "div.sk-parallel-item,\n",
       "div.sk-serial,\n",
       "div.sk-item {\n",
       "  /* draw centered vertical line to link estimators */\n",
       "  background-image: linear-gradient(var(--sklearn-color-text-on-default-background), var(--sklearn-color-text-on-default-background));\n",
       "  background-size: 2px 100%;\n",
       "  background-repeat: no-repeat;\n",
       "  background-position: center center;\n",
       "}\n",
       "\n",
       "/* Parallel-specific style estimator block */\n",
       "\n",
       "#sk-container-id-4 div.sk-parallel-item::after {\n",
       "  content: \"\";\n",
       "  width: 100%;\n",
       "  border-bottom: 2px solid var(--sklearn-color-text-on-default-background);\n",
       "  flex-grow: 1;\n",
       "}\n",
       "\n",
       "#sk-container-id-4 div.sk-parallel {\n",
       "  display: flex;\n",
       "  align-items: stretch;\n",
       "  justify-content: center;\n",
       "  background-color: var(--sklearn-color-background);\n",
       "  position: relative;\n",
       "}\n",
       "\n",
       "#sk-container-id-4 div.sk-parallel-item {\n",
       "  display: flex;\n",
       "  flex-direction: column;\n",
       "}\n",
       "\n",
       "#sk-container-id-4 div.sk-parallel-item:first-child::after {\n",
       "  align-self: flex-end;\n",
       "  width: 50%;\n",
       "}\n",
       "\n",
       "#sk-container-id-4 div.sk-parallel-item:last-child::after {\n",
       "  align-self: flex-start;\n",
       "  width: 50%;\n",
       "}\n",
       "\n",
       "#sk-container-id-4 div.sk-parallel-item:only-child::after {\n",
       "  width: 0;\n",
       "}\n",
       "\n",
       "/* Serial-specific style estimator block */\n",
       "\n",
       "#sk-container-id-4 div.sk-serial {\n",
       "  display: flex;\n",
       "  flex-direction: column;\n",
       "  align-items: center;\n",
       "  background-color: var(--sklearn-color-background);\n",
       "  padding-right: 1em;\n",
       "  padding-left: 1em;\n",
       "}\n",
       "\n",
       "\n",
       "/* Toggleable style: style used for estimator/Pipeline/ColumnTransformer box that is\n",
       "clickable and can be expanded/collapsed.\n",
       "- Pipeline and ColumnTransformer use this feature and define the default style\n",
       "- Estimators will overwrite some part of the style using the `sk-estimator` class\n",
       "*/\n",
       "\n",
       "/* Pipeline and ColumnTransformer style (default) */\n",
       "\n",
       "#sk-container-id-4 div.sk-toggleable {\n",
       "  /* Default theme specific background. It is overwritten whether we have a\n",
       "  specific estimator or a Pipeline/ColumnTransformer */\n",
       "  background-color: var(--sklearn-color-background);\n",
       "}\n",
       "\n",
       "/* Toggleable label */\n",
       "#sk-container-id-4 label.sk-toggleable__label {\n",
       "  cursor: pointer;\n",
       "  display: block;\n",
       "  width: 100%;\n",
       "  margin-bottom: 0;\n",
       "  padding: 0.5em;\n",
       "  box-sizing: border-box;\n",
       "  text-align: center;\n",
       "}\n",
       "\n",
       "#sk-container-id-4 label.sk-toggleable__label-arrow:before {\n",
       "  /* Arrow on the left of the label */\n",
       "  content: \"▸\";\n",
       "  float: left;\n",
       "  margin-right: 0.25em;\n",
       "  color: var(--sklearn-color-icon);\n",
       "}\n",
       "\n",
       "#sk-container-id-4 label.sk-toggleable__label-arrow:hover:before {\n",
       "  color: var(--sklearn-color-text);\n",
       "}\n",
       "\n",
       "/* Toggleable content - dropdown */\n",
       "\n",
       "#sk-container-id-4 div.sk-toggleable__content {\n",
       "  max-height: 0;\n",
       "  max-width: 0;\n",
       "  overflow: hidden;\n",
       "  text-align: left;\n",
       "  /* unfitted */\n",
       "  background-color: var(--sklearn-color-unfitted-level-0);\n",
       "}\n",
       "\n",
       "#sk-container-id-4 div.sk-toggleable__content.fitted {\n",
       "  /* fitted */\n",
       "  background-color: var(--sklearn-color-fitted-level-0);\n",
       "}\n",
       "\n",
       "#sk-container-id-4 div.sk-toggleable__content pre {\n",
       "  margin: 0.2em;\n",
       "  border-radius: 0.25em;\n",
       "  color: var(--sklearn-color-text);\n",
       "  /* unfitted */\n",
       "  background-color: var(--sklearn-color-unfitted-level-0);\n",
       "}\n",
       "\n",
       "#sk-container-id-4 div.sk-toggleable__content.fitted pre {\n",
       "  /* unfitted */\n",
       "  background-color: var(--sklearn-color-fitted-level-0);\n",
       "}\n",
       "\n",
       "#sk-container-id-4 input.sk-toggleable__control:checked~div.sk-toggleable__content {\n",
       "  /* Expand drop-down */\n",
       "  max-height: 200px;\n",
       "  max-width: 100%;\n",
       "  overflow: auto;\n",
       "}\n",
       "\n",
       "#sk-container-id-4 input.sk-toggleable__control:checked~label.sk-toggleable__label-arrow:before {\n",
       "  content: \"▾\";\n",
       "}\n",
       "\n",
       "/* Pipeline/ColumnTransformer-specific style */\n",
       "\n",
       "#sk-container-id-4 div.sk-label input.sk-toggleable__control:checked~label.sk-toggleable__label {\n",
       "  color: var(--sklearn-color-text);\n",
       "  background-color: var(--sklearn-color-unfitted-level-2);\n",
       "}\n",
       "\n",
       "#sk-container-id-4 div.sk-label.fitted input.sk-toggleable__control:checked~label.sk-toggleable__label {\n",
       "  background-color: var(--sklearn-color-fitted-level-2);\n",
       "}\n",
       "\n",
       "/* Estimator-specific style */\n",
       "\n",
       "/* Colorize estimator box */\n",
       "#sk-container-id-4 div.sk-estimator input.sk-toggleable__control:checked~label.sk-toggleable__label {\n",
       "  /* unfitted */\n",
       "  background-color: var(--sklearn-color-unfitted-level-2);\n",
       "}\n",
       "\n",
       "#sk-container-id-4 div.sk-estimator.fitted input.sk-toggleable__control:checked~label.sk-toggleable__label {\n",
       "  /* fitted */\n",
       "  background-color: var(--sklearn-color-fitted-level-2);\n",
       "}\n",
       "\n",
       "#sk-container-id-4 div.sk-label label.sk-toggleable__label,\n",
       "#sk-container-id-4 div.sk-label label {\n",
       "  /* The background is the default theme color */\n",
       "  color: var(--sklearn-color-text-on-default-background);\n",
       "}\n",
       "\n",
       "/* On hover, darken the color of the background */\n",
       "#sk-container-id-4 div.sk-label:hover label.sk-toggleable__label {\n",
       "  color: var(--sklearn-color-text);\n",
       "  background-color: var(--sklearn-color-unfitted-level-2);\n",
       "}\n",
       "\n",
       "/* Label box, darken color on hover, fitted */\n",
       "#sk-container-id-4 div.sk-label.fitted:hover label.sk-toggleable__label.fitted {\n",
       "  color: var(--sklearn-color-text);\n",
       "  background-color: var(--sklearn-color-fitted-level-2);\n",
       "}\n",
       "\n",
       "/* Estimator label */\n",
       "\n",
       "#sk-container-id-4 div.sk-label label {\n",
       "  font-family: monospace;\n",
       "  font-weight: bold;\n",
       "  display: inline-block;\n",
       "  line-height: 1.2em;\n",
       "}\n",
       "\n",
       "#sk-container-id-4 div.sk-label-container {\n",
       "  text-align: center;\n",
       "}\n",
       "\n",
       "/* Estimator-specific */\n",
       "#sk-container-id-4 div.sk-estimator {\n",
       "  font-family: monospace;\n",
       "  border: 1px dotted var(--sklearn-color-border-box);\n",
       "  border-radius: 0.25em;\n",
       "  box-sizing: border-box;\n",
       "  margin-bottom: 0.5em;\n",
       "  /* unfitted */\n",
       "  background-color: var(--sklearn-color-unfitted-level-0);\n",
       "}\n",
       "\n",
       "#sk-container-id-4 div.sk-estimator.fitted {\n",
       "  /* fitted */\n",
       "  background-color: var(--sklearn-color-fitted-level-0);\n",
       "}\n",
       "\n",
       "/* on hover */\n",
       "#sk-container-id-4 div.sk-estimator:hover {\n",
       "  /* unfitted */\n",
       "  background-color: var(--sklearn-color-unfitted-level-2);\n",
       "}\n",
       "\n",
       "#sk-container-id-4 div.sk-estimator.fitted:hover {\n",
       "  /* fitted */\n",
       "  background-color: var(--sklearn-color-fitted-level-2);\n",
       "}\n",
       "\n",
       "/* Specification for estimator info (e.g. \"i\" and \"?\") */\n",
       "\n",
       "/* Common style for \"i\" and \"?\" */\n",
       "\n",
       ".sk-estimator-doc-link,\n",
       "a:link.sk-estimator-doc-link,\n",
       "a:visited.sk-estimator-doc-link {\n",
       "  float: right;\n",
       "  font-size: smaller;\n",
       "  line-height: 1em;\n",
       "  font-family: monospace;\n",
       "  background-color: var(--sklearn-color-background);\n",
       "  border-radius: 1em;\n",
       "  height: 1em;\n",
       "  width: 1em;\n",
       "  text-decoration: none !important;\n",
       "  margin-left: 1ex;\n",
       "  /* unfitted */\n",
       "  border: var(--sklearn-color-unfitted-level-1) 1pt solid;\n",
       "  color: var(--sklearn-color-unfitted-level-1);\n",
       "}\n",
       "\n",
       ".sk-estimator-doc-link.fitted,\n",
       "a:link.sk-estimator-doc-link.fitted,\n",
       "a:visited.sk-estimator-doc-link.fitted {\n",
       "  /* fitted */\n",
       "  border: var(--sklearn-color-fitted-level-1) 1pt solid;\n",
       "  color: var(--sklearn-color-fitted-level-1);\n",
       "}\n",
       "\n",
       "/* On hover */\n",
       "div.sk-estimator:hover .sk-estimator-doc-link:hover,\n",
       ".sk-estimator-doc-link:hover,\n",
       "div.sk-label-container:hover .sk-estimator-doc-link:hover,\n",
       ".sk-estimator-doc-link:hover {\n",
       "  /* unfitted */\n",
       "  background-color: var(--sklearn-color-unfitted-level-3);\n",
       "  color: var(--sklearn-color-background);\n",
       "  text-decoration: none;\n",
       "}\n",
       "\n",
       "div.sk-estimator.fitted:hover .sk-estimator-doc-link.fitted:hover,\n",
       ".sk-estimator-doc-link.fitted:hover,\n",
       "div.sk-label-container:hover .sk-estimator-doc-link.fitted:hover,\n",
       ".sk-estimator-doc-link.fitted:hover {\n",
       "  /* fitted */\n",
       "  background-color: var(--sklearn-color-fitted-level-3);\n",
       "  color: var(--sklearn-color-background);\n",
       "  text-decoration: none;\n",
       "}\n",
       "\n",
       "/* Span, style for the box shown on hovering the info icon */\n",
       ".sk-estimator-doc-link span {\n",
       "  display: none;\n",
       "  z-index: 9999;\n",
       "  position: relative;\n",
       "  font-weight: normal;\n",
       "  right: .2ex;\n",
       "  padding: .5ex;\n",
       "  margin: .5ex;\n",
       "  width: min-content;\n",
       "  min-width: 20ex;\n",
       "  max-width: 50ex;\n",
       "  color: var(--sklearn-color-text);\n",
       "  box-shadow: 2pt 2pt 4pt #999;\n",
       "  /* unfitted */\n",
       "  background: var(--sklearn-color-unfitted-level-0);\n",
       "  border: .5pt solid var(--sklearn-color-unfitted-level-3);\n",
       "}\n",
       "\n",
       ".sk-estimator-doc-link.fitted span {\n",
       "  /* fitted */\n",
       "  background: var(--sklearn-color-fitted-level-0);\n",
       "  border: var(--sklearn-color-fitted-level-3);\n",
       "}\n",
       "\n",
       ".sk-estimator-doc-link:hover span {\n",
       "  display: block;\n",
       "}\n",
       "\n",
       "/* \"?\"-specific style due to the `<a>` HTML tag */\n",
       "\n",
       "#sk-container-id-4 a.estimator_doc_link {\n",
       "  float: right;\n",
       "  font-size: 1rem;\n",
       "  line-height: 1em;\n",
       "  font-family: monospace;\n",
       "  background-color: var(--sklearn-color-background);\n",
       "  border-radius: 1rem;\n",
       "  height: 1rem;\n",
       "  width: 1rem;\n",
       "  text-decoration: none;\n",
       "  /* unfitted */\n",
       "  color: var(--sklearn-color-unfitted-level-1);\n",
       "  border: var(--sklearn-color-unfitted-level-1) 1pt solid;\n",
       "}\n",
       "\n",
       "#sk-container-id-4 a.estimator_doc_link.fitted {\n",
       "  /* fitted */\n",
       "  border: var(--sklearn-color-fitted-level-1) 1pt solid;\n",
       "  color: var(--sklearn-color-fitted-level-1);\n",
       "}\n",
       "\n",
       "/* On hover */\n",
       "#sk-container-id-4 a.estimator_doc_link:hover {\n",
       "  /* unfitted */\n",
       "  background-color: var(--sklearn-color-unfitted-level-3);\n",
       "  color: var(--sklearn-color-background);\n",
       "  text-decoration: none;\n",
       "}\n",
       "\n",
       "#sk-container-id-4 a.estimator_doc_link.fitted:hover {\n",
       "  /* fitted */\n",
       "  background-color: var(--sklearn-color-fitted-level-3);\n",
       "}\n",
       "</style><div id=\"sk-container-id-4\" class=\"sk-top-container\"><div class=\"sk-text-repr-fallback\"><pre>RandomForestRegressor()</pre><b>In a Jupyter environment, please rerun this cell to show the HTML representation or trust the notebook. <br />On GitHub, the HTML representation is unable to render, please try loading this page with nbviewer.org.</b></div><div class=\"sk-container\" hidden><div class=\"sk-item\"><div class=\"sk-estimator fitted sk-toggleable\"><input class=\"sk-toggleable__control sk-hidden--visually\" id=\"sk-estimator-id-4\" type=\"checkbox\" checked><label for=\"sk-estimator-id-4\" class=\"sk-toggleable__label fitted sk-toggleable__label-arrow fitted\">&nbsp;&nbsp;RandomForestRegressor<a class=\"sk-estimator-doc-link fitted\" rel=\"noreferrer\" target=\"_blank\" href=\"https://scikit-learn.org/1.5/modules/generated/sklearn.ensemble.RandomForestRegressor.html\">?<span>Documentation for RandomForestRegressor</span></a><span class=\"sk-estimator-doc-link fitted\">i<span>Fitted</span></span></label><div class=\"sk-toggleable__content fitted\"><pre>RandomForestRegressor()</pre></div> </div></div></div></div>"
      ],
      "text/plain": [
       "RandomForestRegressor()"
      ]
     },
     "execution_count": 74,
     "metadata": {},
     "output_type": "execute_result"
    }
   ],
   "source": [
    "rf_reg = RandomForestRegressor()\n",
    "\n",
    "rf_reg.fit(regressors_train, target_train)"
   ]
  },
  {
   "cell_type": "code",
   "execution_count": 75,
   "metadata": {
    "id": "ABzOJ0_lxEdy"
   },
   "outputs": [
    {
     "data": {
      "image/png": "[encoded data removed]",
      "text/plain": [
       "<Figure size 640x480 with 1 Axes>"
      ]
     },
     "metadata": {},
     "output_type": "display_data"
    }
   ],
   "source": [
    "importances_rf = pd.Series(rf_reg.feature_importances_, index = regressors_train.columns)\n",
    "importances_rf.plot.bar()\n",
    "plt.title('Importances in RF')\n",
    "plt.show()"
   ]
  },
  {
   "cell_type": "code",
   "execution_count": 76,
   "metadata": {
    "id": "o-FQD5ZmxEdy"
   },
   "outputs": [
    {
     "data": {
      "text/html": [
       "<style>#sk-container-id-5 {\n",
       "  /* Definition of color scheme common for light and dark mode */\n",
       "  --sklearn-color-text: black;\n",
       "  --sklearn-color-line: gray;\n",
       "  /* Definition of color scheme for unfitted estimators */\n",
       "  --sklearn-color-unfitted-level-0: #fff5e6;\n",
       "  --sklearn-color-unfitted-level-1: #f6e4d2;\n",
       "  --sklearn-color-unfitted-level-2: #ffe0b3;\n",
       "  --sklearn-color-unfitted-level-3: chocolate;\n",
       "  /* Definition of color scheme for fitted estimators */\n",
       "  --sklearn-color-fitted-level-0: #f0f8ff;\n",
       "  --sklearn-color-fitted-level-1: #d4ebff;\n",
       "  --sklearn-color-fitted-level-2: #b3dbfd;\n",
       "  --sklearn-color-fitted-level-3: cornflowerblue;\n",
       "\n",
       "  /* Specific color for light theme */\n",
       "  --sklearn-color-text-on-default-background: var(--sg-text-color, var(--theme-code-foreground, var(--jp-content-font-color1, black)));\n",
       "  --sklearn-color-background: var(--sg-background-color, var(--theme-background, var(--jp-layout-color0, white)));\n",
       "  --sklearn-color-border-box: var(--sg-text-color, var(--theme-code-foreground, var(--jp-content-font-color1, black)));\n",
       "  --sklearn-color-icon: #696969;\n",
       "\n",
       "  @media (prefers-color-scheme: dark) {\n",
       "    /* Redefinition of color scheme for dark theme */\n",
       "    --sklearn-color-text-on-default-background: var(--sg-text-color, var(--theme-code-foreground, var(--jp-content-font-color1, white)));\n",
       "    --sklearn-color-background: var(--sg-background-color, var(--theme-background, var(--jp-layout-color0, #111)));\n",
       "    --sklearn-color-border-box: var(--sg-text-color, var(--theme-code-foreground, var(--jp-content-font-color1, white)));\n",
       "    --sklearn-color-icon: #878787;\n",
       "  }\n",
       "}\n",
       "\n",
       "#sk-container-id-5 {\n",
       "  color: var(--sklearn-color-text);\n",
       "}\n",
       "\n",
       "#sk-container-id-5 pre {\n",
       "  padding: 0;\n",
       "}\n",
       "\n",
       "#sk-container-id-5 input.sk-hidden--visually {\n",
       "  border: 0;\n",
       "  clip: rect(1px 1px 1px 1px);\n",
       "  clip: rect(1px, 1px, 1px, 1px);\n",
       "  height: 1px;\n",
       "  margin: -1px;\n",
       "  overflow: hidden;\n",
       "  padding: 0;\n",
       "  position: absolute;\n",
       "  width: 1px;\n",
       "}\n",
       "\n",
       "#sk-container-id-5 div.sk-dashed-wrapped {\n",
       "  border: 1px dashed var(--sklearn-color-line);\n",
       "  margin: 0 0.4em 0.5em 0.4em;\n",
       "  box-sizing: border-box;\n",
       "  padding-bottom: 0.4em;\n",
       "  background-color: var(--sklearn-color-background);\n",
       "}\n",
       "\n",
       "#sk-container-id-5 div.sk-container {\n",
       "  /* jupyter's `normalize.less` sets `[hidden] { display: none; }`\n",
       "     but bootstrap.min.css set `[hidden] { display: none !important; }`\n",
       "     so we also need the `!important` here to be able to override the\n",
       "     default hidden behavior on the sphinx rendered scikit-learn.org.\n",
       "     See: https://github.com/scikit-learn/scikit-learn/issues/21755 */\n",
       "  display: inline-block !important;\n",
       "  position: relative;\n",
       "}\n",
       "\n",
       "#sk-container-id-5 div.sk-text-repr-fallback {\n",
       "  display: none;\n",
       "}\n",
       "\n",
       "div.sk-parallel-item,\n",
       "div.sk-serial,\n",
       "div.sk-item {\n",
       "  /* draw centered vertical line to link estimators */\n",
       "  background-image: linear-gradient(var(--sklearn-color-text-on-default-background), var(--sklearn-color-text-on-default-background));\n",
       "  background-size: 2px 100%;\n",
       "  background-repeat: no-repeat;\n",
       "  background-position: center center;\n",
       "}\n",
       "\n",
       "/* Parallel-specific style estimator block */\n",
       "\n",
       "#sk-container-id-5 div.sk-parallel-item::after {\n",
       "  content: \"\";\n",
       "  width: 100%;\n",
       "  border-bottom: 2px solid var(--sklearn-color-text-on-default-background);\n",
       "  flex-grow: 1;\n",
       "}\n",
       "\n",
       "#sk-container-id-5 div.sk-parallel {\n",
       "  display: flex;\n",
       "  align-items: stretch;\n",
       "  justify-content: center;\n",
       "  background-color: var(--sklearn-color-background);\n",
       "  position: relative;\n",
       "}\n",
       "\n",
       "#sk-container-id-5 div.sk-parallel-item {\n",
       "  display: flex;\n",
       "  flex-direction: column;\n",
       "}\n",
       "\n",
       "#sk-container-id-5 div.sk-parallel-item:first-child::after {\n",
       "  align-self: flex-end;\n",
       "  width: 50%;\n",
       "}\n",
       "\n",
       "#sk-container-id-5 div.sk-parallel-item:last-child::after {\n",
       "  align-self: flex-start;\n",
       "  width: 50%;\n",
       "}\n",
       "\n",
       "#sk-container-id-5 div.sk-parallel-item:only-child::after {\n",
       "  width: 0;\n",
       "}\n",
       "\n",
       "/* Serial-specific style estimator block */\n",
       "\n",
       "#sk-container-id-5 div.sk-serial {\n",
       "  display: flex;\n",
       "  flex-direction: column;\n",
       "  align-items: center;\n",
       "  background-color: var(--sklearn-color-background);\n",
       "  padding-right: 1em;\n",
       "  padding-left: 1em;\n",
       "}\n",
       "\n",
       "\n",
       "/* Toggleable style: style used for estimator/Pipeline/ColumnTransformer box that is\n",
       "clickable and can be expanded/collapsed.\n",
       "- Pipeline and ColumnTransformer use this feature and define the default style\n",
       "- Estimators will overwrite some part of the style using the `sk-estimator` class\n",
       "*/\n",
       "\n",
       "/* Pipeline and ColumnTransformer style (default) */\n",
       "\n",
       "#sk-container-id-5 div.sk-toggleable {\n",
       "  /* Default theme specific background. It is overwritten whether we have a\n",
       "  specific estimator or a Pipeline/ColumnTransformer */\n",
       "  background-color: var(--sklearn-color-background);\n",
       "}\n",
       "\n",
       "/* Toggleable label */\n",
       "#sk-container-id-5 label.sk-toggleable__label {\n",
       "  cursor: pointer;\n",
       "  display: block;\n",
       "  width: 100%;\n",
       "  margin-bottom: 0;\n",
       "  padding: 0.5em;\n",
       "  box-sizing: border-box;\n",
       "  text-align: center;\n",
       "}\n",
       "\n",
       "#sk-container-id-5 label.sk-toggleable__label-arrow:before {\n",
       "  /* Arrow on the left of the label */\n",
       "  content: \"▸\";\n",
       "  float: left;\n",
       "  margin-right: 0.25em;\n",
       "  color: var(--sklearn-color-icon);\n",
       "}\n",
       "\n",
       "#sk-container-id-5 label.sk-toggleable__label-arrow:hover:before {\n",
       "  color: var(--sklearn-color-text);\n",
       "}\n",
       "\n",
       "/* Toggleable content - dropdown */\n",
       "\n",
       "#sk-container-id-5 div.sk-toggleable__content {\n",
       "  max-height: 0;\n",
       "  max-width: 0;\n",
       "  overflow: hidden;\n",
       "  text-align: left;\n",
       "  /* unfitted */\n",
       "  background-color: var(--sklearn-color-unfitted-level-0);\n",
       "}\n",
       "\n",
       "#sk-container-id-5 div.sk-toggleable__content.fitted {\n",
       "  /* fitted */\n",
       "  background-color: var(--sklearn-color-fitted-level-0);\n",
       "}\n",
       "\n",
       "#sk-container-id-5 div.sk-toggleable__content pre {\n",
       "  margin: 0.2em;\n",
       "  border-radius: 0.25em;\n",
       "  color: var(--sklearn-color-text);\n",
       "  /* unfitted */\n",
       "  background-color: var(--sklearn-color-unfitted-level-0);\n",
       "}\n",
       "\n",
       "#sk-container-id-5 div.sk-toggleable__content.fitted pre {\n",
       "  /* unfitted */\n",
       "  background-color: var(--sklearn-color-fitted-level-0);\n",
       "}\n",
       "\n",
       "#sk-container-id-5 input.sk-toggleable__control:checked~div.sk-toggleable__content {\n",
       "  /* Expand drop-down */\n",
       "  max-height: 200px;\n",
       "  max-width: 100%;\n",
       "  overflow: auto;\n",
       "}\n",
       "\n",
       "#sk-container-id-5 input.sk-toggleable__control:checked~label.sk-toggleable__label-arrow:before {\n",
       "  content: \"▾\";\n",
       "}\n",
       "\n",
       "/* Pipeline/ColumnTransformer-specific style */\n",
       "\n",
       "#sk-container-id-5 div.sk-label input.sk-toggleable__control:checked~label.sk-toggleable__label {\n",
       "  color: var(--sklearn-color-text);\n",
       "  background-color: var(--sklearn-color-unfitted-level-2);\n",
       "}\n",
       "\n",
       "#sk-container-id-5 div.sk-label.fitted input.sk-toggleable__control:checked~label.sk-toggleable__label {\n",
       "  background-color: var(--sklearn-color-fitted-level-2);\n",
       "}\n",
       "\n",
       "/* Estimator-specific style */\n",
       "\n",
       "/* Colorize estimator box */\n",
       "#sk-container-id-5 div.sk-estimator input.sk-toggleable__control:checked~label.sk-toggleable__label {\n",
       "  /* unfitted */\n",
       "  background-color: var(--sklearn-color-unfitted-level-2);\n",
       "}\n",
       "\n",
       "#sk-container-id-5 div.sk-estimator.fitted input.sk-toggleable__control:checked~label.sk-toggleable__label {\n",
       "  /* fitted */\n",
       "  background-color: var(--sklearn-color-fitted-level-2);\n",
       "}\n",
       "\n",
       "#sk-container-id-5 div.sk-label label.sk-toggleable__label,\n",
       "#sk-container-id-5 div.sk-label label {\n",
       "  /* The background is the default theme color */\n",
       "  color: var(--sklearn-color-text-on-default-background);\n",
       "}\n",
       "\n",
       "/* On hover, darken the color of the background */\n",
       "#sk-container-id-5 div.sk-label:hover label.sk-toggleable__label {\n",
       "  color: var(--sklearn-color-text);\n",
       "  background-color: var(--sklearn-color-unfitted-level-2);\n",
       "}\n",
       "\n",
       "/* Label box, darken color on hover, fitted */\n",
       "#sk-container-id-5 div.sk-label.fitted:hover label.sk-toggleable__label.fitted {\n",
       "  color: var(--sklearn-color-text);\n",
       "  background-color: var(--sklearn-color-fitted-level-2);\n",
       "}\n",
       "\n",
       "/* Estimator label */\n",
       "\n",
       "#sk-container-id-5 div.sk-label label {\n",
       "  font-family: monospace;\n",
       "  font-weight: bold;\n",
       "  display: inline-block;\n",
       "  line-height: 1.2em;\n",
       "}\n",
       "\n",
       "#sk-container-id-5 div.sk-label-container {\n",
       "  text-align: center;\n",
       "}\n",
       "\n",
       "/* Estimator-specific */\n",
       "#sk-container-id-5 div.sk-estimator {\n",
       "  font-family: monospace;\n",
       "  border: 1px dotted var(--sklearn-color-border-box);\n",
       "  border-radius: 0.25em;\n",
       "  box-sizing: border-box;\n",
       "  margin-bottom: 0.5em;\n",
       "  /* unfitted */\n",
       "  background-color: var(--sklearn-color-unfitted-level-0);\n",
       "}\n",
       "\n",
       "#sk-container-id-5 div.sk-estimator.fitted {\n",
       "  /* fitted */\n",
       "  background-color: var(--sklearn-color-fitted-level-0);\n",
       "}\n",
       "\n",
       "/* on hover */\n",
       "#sk-container-id-5 div.sk-estimator:hover {\n",
       "  /* unfitted */\n",
       "  background-color: var(--sklearn-color-unfitted-level-2);\n",
       "}\n",
       "\n",
       "#sk-container-id-5 div.sk-estimator.fitted:hover {\n",
       "  /* fitted */\n",
       "  background-color: var(--sklearn-color-fitted-level-2);\n",
       "}\n",
       "\n",
       "/* Specification for estimator info (e.g. \"i\" and \"?\") */\n",
       "\n",
       "/* Common style for \"i\" and \"?\" */\n",
       "\n",
       ".sk-estimator-doc-link,\n",
       "a:link.sk-estimator-doc-link,\n",
       "a:visited.sk-estimator-doc-link {\n",
       "  float: right;\n",
       "  font-size: smaller;\n",
       "  line-height: 1em;\n",
       "  font-family: monospace;\n",
       "  background-color: var(--sklearn-color-background);\n",
       "  border-radius: 1em;\n",
       "  height: 1em;\n",
       "  width: 1em;\n",
       "  text-decoration: none !important;\n",
       "  margin-left: 1ex;\n",
       "  /* unfitted */\n",
       "  border: var(--sklearn-color-unfitted-level-1) 1pt solid;\n",
       "  color: var(--sklearn-color-unfitted-level-1);\n",
       "}\n",
       "\n",
       ".sk-estimator-doc-link.fitted,\n",
       "a:link.sk-estimator-doc-link.fitted,\n",
       "a:visited.sk-estimator-doc-link.fitted {\n",
       "  /* fitted */\n",
       "  border: var(--sklearn-color-fitted-level-1) 1pt solid;\n",
       "  color: var(--sklearn-color-fitted-level-1);\n",
       "}\n",
       "\n",
       "/* On hover */\n",
       "div.sk-estimator:hover .sk-estimator-doc-link:hover,\n",
       ".sk-estimator-doc-link:hover,\n",
       "div.sk-label-container:hover .sk-estimator-doc-link:hover,\n",
       ".sk-estimator-doc-link:hover {\n",
       "  /* unfitted */\n",
       "  background-color: var(--sklearn-color-unfitted-level-3);\n",
       "  color: var(--sklearn-color-background);\n",
       "  text-decoration: none;\n",
       "}\n",
       "\n",
       "div.sk-estimator.fitted:hover .sk-estimator-doc-link.fitted:hover,\n",
       ".sk-estimator-doc-link.fitted:hover,\n",
       "div.sk-label-container:hover .sk-estimator-doc-link.fitted:hover,\n",
       ".sk-estimator-doc-link.fitted:hover {\n",
       "  /* fitted */\n",
       "  background-color: var(--sklearn-color-fitted-level-3);\n",
       "  color: var(--sklearn-color-background);\n",
       "  text-decoration: none;\n",
       "}\n",
       "\n",
       "/* Span, style for the box shown on hovering the info icon */\n",
       ".sk-estimator-doc-link span {\n",
       "  display: none;\n",
       "  z-index: 9999;\n",
       "  position: relative;\n",
       "  font-weight: normal;\n",
       "  right: .2ex;\n",
       "  padding: .5ex;\n",
       "  margin: .5ex;\n",
       "  width: min-content;\n",
       "  min-width: 20ex;\n",
       "  max-width: 50ex;\n",
       "  color: var(--sklearn-color-text);\n",
       "  box-shadow: 2pt 2pt 4pt #999;\n",
       "  /* unfitted */\n",
       "  background: var(--sklearn-color-unfitted-level-0);\n",
       "  border: .5pt solid var(--sklearn-color-unfitted-level-3);\n",
       "}\n",
       "\n",
       ".sk-estimator-doc-link.fitted span {\n",
       "  /* fitted */\n",
       "  background: var(--sklearn-color-fitted-level-0);\n",
       "  border: var(--sklearn-color-fitted-level-3);\n",
       "}\n",
       "\n",
       ".sk-estimator-doc-link:hover span {\n",
       "  display: block;\n",
       "}\n",
       "\n",
       "/* \"?\"-specific style due to the `<a>` HTML tag */\n",
       "\n",
       "#sk-container-id-5 a.estimator_doc_link {\n",
       "  float: right;\n",
       "  font-size: 1rem;\n",
       "  line-height: 1em;\n",
       "  font-family: monospace;\n",
       "  background-color: var(--sklearn-color-background);\n",
       "  border-radius: 1rem;\n",
       "  height: 1rem;\n",
       "  width: 1rem;\n",
       "  text-decoration: none;\n",
       "  /* unfitted */\n",
       "  color: var(--sklearn-color-unfitted-level-1);\n",
       "  border: var(--sklearn-color-unfitted-level-1) 1pt solid;\n",
       "}\n",
       "\n",
       "#sk-container-id-5 a.estimator_doc_link.fitted {\n",
       "  /* fitted */\n",
       "  border: var(--sklearn-color-fitted-level-1) 1pt solid;\n",
       "  color: var(--sklearn-color-fitted-level-1);\n",
       "}\n",
       "\n",
       "/* On hover */\n",
       "#sk-container-id-5 a.estimator_doc_link:hover {\n",
       "  /* unfitted */\n",
       "  background-color: var(--sklearn-color-unfitted-level-3);\n",
       "  color: var(--sklearn-color-background);\n",
       "  text-decoration: none;\n",
       "}\n",
       "\n",
       "#sk-container-id-5 a.estimator_doc_link.fitted:hover {\n",
       "  /* fitted */\n",
       "  background-color: var(--sklearn-color-fitted-level-3);\n",
       "}\n",
       "</style><div id=\"sk-container-id-5\" class=\"sk-top-container\"><div class=\"sk-text-repr-fallback\"><pre>GradientBoostingRegressor()</pre><b>In a Jupyter environment, please rerun this cell to show the HTML representation or trust the notebook. <br />On GitHub, the HTML representation is unable to render, please try loading this page with nbviewer.org.</b></div><div class=\"sk-container\" hidden><div class=\"sk-item\"><div class=\"sk-estimator fitted sk-toggleable\"><input class=\"sk-toggleable__control sk-hidden--visually\" id=\"sk-estimator-id-5\" type=\"checkbox\" checked><label for=\"sk-estimator-id-5\" class=\"sk-toggleable__label fitted sk-toggleable__label-arrow fitted\">&nbsp;&nbsp;GradientBoostingRegressor<a class=\"sk-estimator-doc-link fitted\" rel=\"noreferrer\" target=\"_blank\" href=\"https://scikit-learn.org/1.5/modules/generated/sklearn.ensemble.GradientBoostingRegressor.html\">?<span>Documentation for GradientBoostingRegressor</span></a><span class=\"sk-estimator-doc-link fitted\">i<span>Fitted</span></span></label><div class=\"sk-toggleable__content fitted\"><pre>GradientBoostingRegressor()</pre></div> </div></div></div></div>"
      ],
      "text/plain": [
       "GradientBoostingRegressor()"
      ]
     },
     "execution_count": 76,
     "metadata": {},
     "output_type": "execute_result"
    }
   ],
   "source": [
    "boosting_reg = GradientBoostingRegressor()\n",
    "\n",
    "boosting_reg.fit(regressors_train, target_train)"
   ]
  },
  {
   "cell_type": "code",
   "execution_count": 77,
   "metadata": {
    "id": "uUtoBxZHxEdy"
   },
   "outputs": [
    {
     "data": {
      "image/png": "[encoded data removed]",
      "text/plain": [
       "<Figure size 640x480 with 1 Axes>"
      ]
     },
     "metadata": {},
     "output_type": "display_data"
    }
   ],
   "source": [
    "importances_gb = pd.Series(boosting_reg.feature_importances_, index = regressors_train.columns)\n",
    "importances_gb.plot.bar()\n",
    "plt.title('Importances in gradient boosting')\n",
    "plt.show()"
   ]
  },
  {
   "cell_type": "markdown",
   "metadata": {
    "id": "5mLVeIZ8xEdy"
   },
   "source": [
    "В резульатате, наше предположение насчет `Hobby` опроверглось, наибольший вклад в объяснение целевой переменной вносят `Wage`, `Fam` и `Health`. Будем использовать их для построения регрессии."
   ]
  },
  {
   "cell_type": "code",
   "execution_count": 78,
   "metadata": {
    "id": "qVIgBVrcxEdy"
   },
   "outputs": [
    {
     "data": {
      "text/html": [
       "<div>\n",
       "<style scoped>\n",
       "    .dataframe tbody tr th:only-of-type {\n",
       "        vertical-align: middle;\n",
       "    }\n",
       "\n",
       "    .dataframe tbody tr th {\n",
       "        vertical-align: top;\n",
       "    }\n",
       "\n",
       "    .dataframe thead th {\n",
       "        text-align: right;\n",
       "    }\n",
       "</style>\n",
       "<table border=\"1\" class=\"dataframe\">\n",
       "  <thead>\n",
       "    <tr style=\"text-align: right;\">\n",
       "      <th></th>\n",
       "      <th>Wage</th>\n",
       "      <th>Fam</th>\n",
       "      <th>Health</th>\n",
       "    </tr>\n",
       "  </thead>\n",
       "  <tbody>\n",
       "    <tr>\n",
       "      <th>8490</th>\n",
       "      <td>-0.417905</td>\n",
       "      <td>1.377275</td>\n",
       "      <td>0.008538</td>\n",
       "    </tr>\n",
       "    <tr>\n",
       "      <th>9788</th>\n",
       "      <td>-0.736489</td>\n",
       "      <td>-0.586865</td>\n",
       "      <td>1.393011</td>\n",
       "    </tr>\n",
       "    <tr>\n",
       "      <th>5967</th>\n",
       "      <td>0.432998</td>\n",
       "      <td>1.115389</td>\n",
       "      <td>-0.914445</td>\n",
       "    </tr>\n",
       "    <tr>\n",
       "      <th>7519</th>\n",
       "      <td>0.873235</td>\n",
       "      <td>-0.375342</td>\n",
       "      <td>-0.914445</td>\n",
       "    </tr>\n",
       "    <tr>\n",
       "      <th>8614</th>\n",
       "      <td>-0.628614</td>\n",
       "      <td>-1.755276</td>\n",
       "      <td>-0.914445</td>\n",
       "    </tr>\n",
       "  </tbody>\n",
       "</table>\n",
       "</div>"
      ],
      "text/plain": [
       "          Wage       Fam    Health\n",
       "8490 -0.417905  1.377275  0.008538\n",
       "9788 -0.736489 -0.586865  1.393011\n",
       "5967  0.432998  1.115389 -0.914445\n",
       "7519  0.873235 -0.375342 -0.914445\n",
       "8614 -0.628614 -1.755276 -0.914445"
      ]
     },
     "execution_count": 78,
     "metadata": {},
     "output_type": "execute_result"
    }
   ],
   "source": [
    "regressors_train = regressors_train.drop(columns = ['Subs', 'Hobby'])\n",
    "regressors_test  = regressors_test.drop(columns = ['Subs', 'Hobby'])\n",
    "regressors_train.head(5)"
   ]
  },
  {
   "cell_type": "markdown",
   "metadata": {
    "id": "cRgKXj44xEdy"
   },
   "source": [
    "2. Выберите произвольные значения гиперпараметров, а затем оцените и сравните (между методами) точность прогнозов с помощью RMSE и MAPE:\n",
    "* на обучающей выборке.\n",
    "* на тестовой выборке.\n",
    "* с помощью кросс-валидации (используйте только обучающую выборку). \\\n",
    "Проинтерпретируйте полученные результаты."
   ]
  },
  {
   "cell_type": "markdown",
   "metadata": {
    "id": "5wjY5_ZMxEdy"
   },
   "source": [
    "### Случайный лес"
   ]
  },
  {
   "cell_type": "code",
   "execution_count": 79,
   "metadata": {
    "id": "_x1xkZyTxEdy"
   },
   "outputs": [],
   "source": [
    "rf = RandomForestRegressor(max_depth = 5,\n",
    "                            max_features = \"sqrt\",\n",
    "                            max_samples = 5,\n",
    "                            random_state = 777,\n",
    "                            criterion = 'squared_error')\n",
    "rf.fit(regressors_train, target_train)\n",
    "\n",
    "y_pred_train = rf.predict(regressors_train)\n",
    "y_pred_test = rf.predict(regressors_test)\n",
    "\n",
    "RMSE_rf_train = np.sqrt(mean_squared_error(target_train, y_pred_train))\n",
    "RMSE_rf_test = np.sqrt(mean_squared_error(target_test, y_pred_test))\n",
    "RMSE_rf_cross_val = np.mean(np.sqrt(-1 *cross_val_score(rf, regressors_train, target_train, cv=5, scoring='neg_mean_squared_error')))\n",
    "MAPE_rf_train = mean_absolute_percentage_error(target_train, y_pred_train)\n",
    "MAPE_rf_test = mean_absolute_percentage_error(target_test, y_pred_test)\n",
    "MAPE_rf_cross_val = -1 * np.mean(cross_val_score(rf, regressors_train, target_train, cv=5, scoring='neg_mean_absolute_percentage_error'))"
   ]
  },
  {
   "cell_type": "markdown",
   "metadata": {
    "id": "hZTMHB_-xOLG"
   },
   "source": [
    "### Метод ближайших соседей"
   ]
  },
  {
   "cell_type": "code",
   "execution_count": 80,
   "metadata": {
    "id": "1xeTuO6WxEdy"
   },
   "outputs": [],
   "source": [
    "knn = KNeighborsRegressor(n_neighbors = 12,      # число соседей\n",
    "                          metric = \"minkowski\", # метрика расстояния\n",
    "                          p = 2)                # Евклидова метрика\n",
    "knn.fit(regressors_train, target_train)\n",
    "\n",
    "y_pred_train = knn.predict(regressors_train)\n",
    "y_pred_test = knn.predict(regressors_test)\n",
    "\n",
    "RMSE_knn_train = np.sqrt(mean_squared_error(target_train, y_pred_train))\n",
    "RMSE_knn_test = np.sqrt(mean_squared_error(target_test, y_pred_test))\n",
    "RMSE_knn_cross_val = np.mean(np.sqrt(-1 * cross_val_score(knn, regressors_train, target_train, cv=5, scoring='neg_mean_squared_error')))\n",
    "MAPE_knn_train = mean_absolute_percentage_error(target_train, y_pred_train)\n",
    "MAPE_knn_test = mean_absolute_percentage_error(target_test, y_pred_test)\n",
    "MAPE_knn_cross_val = -1 * np.mean(cross_val_score(knn, regressors_train, target_train, cv=5, scoring='neg_mean_absolute_percentage_error'))"
   ]
  },
  {
   "cell_type": "markdown",
   "metadata": {
    "id": "fxn-tvToxRvb"
   },
   "source": [
    "### Градиентный бустинг"
   ]
  },
  {
   "cell_type": "code",
   "execution_count": 81,
   "metadata": {
    "id": "h-STaGP7xEdy"
   },
   "outputs": [],
   "source": [
    "gb = GradientBoostingRegressor(learning_rate =0.1, max_depth = 3, min_samples_split = 2, n_estimators = 50)\n",
    "\n",
    "gb.fit(regressors_train, target_train)\n",
    "\n",
    "y_pred_train = gb.predict(regressors_train)\n",
    "y_pred_test = gb.predict(regressors_test)\n",
    "\n",
    "RMSE_gb_train = np.sqrt(mean_squared_error(target_train, y_pred_train))\n",
    "RMSE_gb_test = np.sqrt(mean_squared_error(target_test, y_pred_test))\n",
    "RMSE_gb_cross_val = np.mean(np.sqrt(-1 * cross_val_score(gb, regressors_train, target_train, cv=5, scoring='neg_mean_squared_error')))\n",
    "MAPE_gb_train = mean_absolute_percentage_error(target_train, y_pred_train)\n",
    "MAPE_gb_test = mean_absolute_percentage_error(target_test, y_pred_test)\n",
    "MAPE_gb_cross_val = -1 * np.mean(cross_val_score(rf, regressors_train, target_train, cv=5, scoring='neg_mean_absolute_percentage_error'))"
   ]
  },
  {
   "cell_type": "code",
   "execution_count": 82,
   "metadata": {
    "id": "8plD4YQgxEdy"
   },
   "outputs": [
    {
     "data": {
      "text/html": [
       "<div>\n",
       "<style scoped>\n",
       "    .dataframe tbody tr th:only-of-type {\n",
       "        vertical-align: middle;\n",
       "    }\n",
       "\n",
       "    .dataframe tbody tr th {\n",
       "        vertical-align: top;\n",
       "    }\n",
       "\n",
       "    .dataframe thead th {\n",
       "        text-align: right;\n",
       "    }\n",
       "</style>\n",
       "<table border=\"1\" class=\"dataframe\">\n",
       "  <thead>\n",
       "    <tr style=\"text-align: right;\">\n",
       "      <th></th>\n",
       "      <th>Model</th>\n",
       "      <th>MAPE_Train</th>\n",
       "      <th>RMSE_Train</th>\n",
       "      <th>MAPE_Test</th>\n",
       "      <th>RMSE_Test</th>\n",
       "      <th>MAPE_cros_val</th>\n",
       "      <th>RMSE_cros_val</th>\n",
       "    </tr>\n",
       "  </thead>\n",
       "  <tbody>\n",
       "    <tr>\n",
       "      <th>0</th>\n",
       "      <td>RandomForest</td>\n",
       "      <td>0.141203</td>\n",
       "      <td>9.405649</td>\n",
       "      <td>0.146834</td>\n",
       "      <td>9.498062</td>\n",
       "      <td>0.141434</td>\n",
       "      <td>9.453107</td>\n",
       "    </tr>\n",
       "    <tr>\n",
       "      <th>1</th>\n",
       "      <td>KNN</td>\n",
       "      <td>0.105138</td>\n",
       "      <td>7.260933</td>\n",
       "      <td>0.117854</td>\n",
       "      <td>7.990486</td>\n",
       "      <td>0.114269</td>\n",
       "      <td>7.909870</td>\n",
       "    </tr>\n",
       "    <tr>\n",
       "      <th>2</th>\n",
       "      <td>GB</td>\n",
       "      <td>0.107249</td>\n",
       "      <td>7.421213</td>\n",
       "      <td>0.113731</td>\n",
       "      <td>7.699684</td>\n",
       "      <td>0.141434</td>\n",
       "      <td>7.640966</td>\n",
       "    </tr>\n",
       "  </tbody>\n",
       "</table>\n",
       "</div>"
      ],
      "text/plain": [
       "          Model  MAPE_Train  RMSE_Train  MAPE_Test  RMSE_Test  MAPE_cros_val  \\\n",
       "0  RandomForest    0.141203    9.405649   0.146834   9.498062       0.141434   \n",
       "1           KNN    0.105138    7.260933   0.117854   7.990486       0.114269   \n",
       "2            GB    0.107249    7.421213   0.113731   7.699684       0.141434   \n",
       "\n",
       "   RMSE_cros_val  \n",
       "0       9.453107  \n",
       "1       7.909870  \n",
       "2       7.640966  "
      ]
     },
     "execution_count": 82,
     "metadata": {},
     "output_type": "execute_result"
    }
   ],
   "source": [
    "data = {\n",
    "    'Model': ['RandomForest', 'KNN', 'GB'],\n",
    "    'MAPE_Train': [MAPE_rf_train, MAPE_knn_train, MAPE_gb_train],\n",
    "    'RMSE_Train': [RMSE_rf_train, RMSE_knn_train, RMSE_gb_train],\n",
    "    'MAPE_Test': [MAPE_rf_test, MAPE_knn_test, MAPE_gb_test],\n",
    "    'RMSE_Test': [RMSE_rf_test, RMSE_knn_test, RMSE_gb_test],\n",
    "    'MAPE_cros_val': [MAPE_rf_cross_val, MAPE_knn_cross_val, MAPE_gb_cross_val],\n",
    "    'RMSE_cros_val': [RMSE_rf_cross_val, RMSE_knn_cross_val, RMSE_gb_cross_val]\n",
    "}\n",
    "\n",
    "\n",
    "comparison_df = pd.DataFrame(data)\n",
    "comparison_df"
   ]
  },
  {
   "cell_type": "markdown",
   "metadata": {
    "id": "IwVnz2BUxWRG"
   },
   "source": [
    "**Интерпретация**\n",
    "\n",
    "Gradient Boosting демонстрирует наивысшую точность прогноза на тестовых данных по всем метрикам. Random Forest показывает худшие результаты, KNN имеет самый большой разрыв между train/test ошибками, модель немного переобучена, но мы подберем оптимальные значения параметров на этапе тюнинга."
   ]
  },
  {
   "cell_type": "markdown",
   "metadata": {
    "id": "1mEA1sEHxW6a"
   },
   "source": [
    "3. Для каждого метода с помощью кросс-валидации на обучающей выборке подберите оптимальные значения гиперпараметров (тюнинг). В качестве критерия\n",
    "качества используйте RMSE. Результат представьте в форме таблицы, в которой для каждого метода должны быть указаны:\n",
    "* изначальные и подобранные значения гиперпараметров.\n",
    "* кросс-валидационное значение RMSE на обучающей выборке с исходными\n",
    "и подобранными значениями гиперпараметров.\n",
    "* значение RMSE на тестовой выборке с исходными и подобранными значениями гиперпараметров.\n",
    "\n",
    "Проинтерпретируйте полученные результаты"
   ]
  },
  {
   "cell_type": "code",
   "execution_count": 83,
   "metadata": {
    "id": "-cOwIVd1xEdy"
   },
   "outputs": [
    {
     "name": "stdout",
     "output_type": "stream",
     "text": [
      "{'max_depth': 7, 'n_estimators': 300}\n"
     ]
    }
   ],
   "source": [
    "# Случайный лес\n",
    "# Перебираемые значения гиперпараметров\n",
    "hyperparameters = {'max_depth': [1, 3, 5, 7, 10, 12, 15, 20], 'n_estimators': [50, 100, 200, 300, 500]}\n",
    "\n",
    "# Перебор гиперпараметров с помощью кросс-валидации\n",
    "GSCV_rfr = GridSearchCV(estimator  = RandomForestRegressor(), # модель\n",
    "                       param_grid = hyperparameters,   # перебираемые гиперпараметры\n",
    "                       scoring    = \"neg_mean_squared_error\",     # метрика качества модели\n",
    "                       cv         = 5)                 # число фолдов в кросс-валидации\n",
    "GSCV_rfr.fit(regressors_train, target_train)              # подбор гиперпараметров\n",
    "                                                       # на конкретных данных\n",
    "\n",
    "# Достанем гиперпараметры, соответствующие лучшей модели\n",
    "hyperparameters_best = GSCV_rfr.best_params_\n",
    "\n",
    "# Посмотрим на оптимальную глубину дерева\n",
    "print(hyperparameters_best)"
   ]
  },
  {
   "cell_type": "code",
   "execution_count": 84,
   "metadata": {
    "id": "8cgoerntxEdy"
   },
   "outputs": [],
   "source": [
    "rfr2 = RandomForestRegressor(max_depth = hyperparameters_best[\"max_depth\"], n_estimators = hyperparameters_best[\"n_estimators\"],\n",
    "                            max_features = \"sqrt\",\n",
    "                            max_samples = 5,\n",
    "                            random_state = 777,\n",
    "                            criterion = 'squared_error')\n",
    "rfr2.fit(regressors_train, target_train)\n",
    "\n",
    "y_pred_train_best = rfr2.predict(regressors_train)\n",
    "y_pred_test_best = rfr2.predict(regressors_test)\n",
    "\n",
    "RMSE_rf_train_best = np.sqrt(-GSCV_rfr.best_score_)\n",
    "RMSE_rf_test_best = np.sqrt(mean_squared_error(target_test, y_pred_test_best))"
   ]
  },
  {
   "cell_type": "code",
   "execution_count": 85,
   "metadata": {
    "id": "31V1dcfzxEdy"
   },
   "outputs": [
    {
     "name": "stdout",
     "output_type": "stream",
     "text": [
      "{'n_neighbors': 57}\n"
     ]
    }
   ],
   "source": [
    "# Метод ближайших соседей\n",
    "# Перебираемые значения гиперпараметров\n",
    "hyperparameters = {'n_neighbors': range(1, 100)}\n",
    "\n",
    "# Перебор гиперпараметров с помощью кросс-валидации\n",
    "GSCV_knn = GridSearchCV(estimator  = KNeighborsRegressor(), # модель\n",
    "                       param_grid = hyperparameters,   # перебираемые гиперпараметры\n",
    "                       scoring    = \"neg_mean_squared_error\",        # метрика качества модели\n",
    "                       cv         = 5)                 # число фолдов в кросс-валидации\n",
    "GSCV_knn.fit(regressors_train, target_train)              # подбор гиперпараметров\n",
    "                                                       # на конкретных данных\n",
    "\n",
    "# Достанем гиперпараметры, соответствующие лучшей модели\n",
    "hyperparameters_best_knn = GSCV_knn.best_params_\n",
    "\n",
    "# Посмотрим на оптимальную глубину дерева\n",
    "print(hyperparameters_best_knn)"
   ]
  },
  {
   "cell_type": "code",
   "execution_count": 86,
   "metadata": {
    "id": "eMfDSvckxEdy"
   },
   "outputs": [],
   "source": [
    "knn2 = KNeighborsRegressor(n_neighbors = hyperparameters_best_knn['n_neighbors'],      # число соседей\n",
    "                          metric = \"minkowski\", # метрика расстояния\n",
    "                          p = 2)                # Евклидова метрика\n",
    "knn2.fit(regressors_train, target_train)\n",
    "\n",
    "y_pred_train_best = knn2.predict(regressors_train)\n",
    "y_pred_test_best = knn2.predict(regressors_test)\n",
    "\n",
    "RMSE_knn_train_best = np.sqrt(-GSCV_knn.best_score_)\n",
    "RMSE_knn_test_best = np.sqrt(mean_squared_error(target_test, y_pred_test_best))"
   ]
  },
  {
   "cell_type": "code",
   "execution_count": 87,
   "metadata": {
    "id": "rO8P7PMOxEdy"
   },
   "outputs": [
    {
     "name": "stdout",
     "output_type": "stream",
     "text": [
      "{'learning_rate': 0.05, 'n_estimators': 200}\n"
     ]
    }
   ],
   "source": [
    "# Градиентный бустинг\n",
    "# Перебираемые значения гиперпараметров\n",
    "hyperparameters = {'n_estimators': [50, 100, 200, 300, 500], 'learning_rate': [0.01, 0.05, 0.1, 0.2],}\n",
    "\n",
    "# Перебор гиперпараметров с помощью кросс-валидации\n",
    "GSCV_gb = GridSearchCV(estimator  = GradientBoostingRegressor(), # модель\n",
    "                       param_grid = hyperparameters,   # перебираемые гиперпараметры\n",
    "                       scoring    = \"neg_mean_squared_error\",        # метрика качества модели\n",
    "                       cv         = 5)                 # число фолдов в кросс-валидации\n",
    "GSCV_gb.fit(regressors_train, target_train)              # подбор гиперпараметров\n",
    "                                                       # на конкретных данных\n",
    "\n",
    "# Достанем гиперпараметры, соответствующие лучшей модели\n",
    "hyperparameters_best_gb = GSCV_gb.best_params_\n",
    "\n",
    "# Посмотрим на оптимальную глубину дерева\n",
    "print(hyperparameters_best_gb)"
   ]
  },
  {
   "cell_type": "code",
   "execution_count": 88,
   "metadata": {
    "id": "ASLD-BH8xEdy"
   },
   "outputs": [],
   "source": [
    "gb2 = GradientBoostingRegressor(learning_rate = hyperparameters_best_gb['learning_rate'], max_depth = 3,\n",
    "                                min_samples_split = 2,\n",
    "                                n_estimators = hyperparameters_best_gb['n_estimators'])\n",
    "\n",
    "gb2.fit(regressors_train, target_train)\n",
    "\n",
    "y_pred_train_best = gb2.predict(regressors_train)\n",
    "y_pred_test_best = gb2.predict(regressors_test)\n",
    "\n",
    "RMSE_gb_train_best = np.sqrt(-GSCV_gb.best_score_)\n",
    "RMSE_gb_test_best = np.sqrt(mean_squared_error(target_test, y_pred_test_best))"
   ]
  },
  {
   "cell_type": "code",
   "execution_count": 89,
   "metadata": {
    "id": "5Y6a7Z5UxEdy"
   },
   "outputs": [],
   "source": [
    "rf_max_depth= rf.get_params()['max_depth']\n",
    "rf_n_estimators = rf.get_params()['n_estimators']\n",
    "knn_default_params = knn.get_params()['n_neighbors']\n",
    "gb_learning_rate = gb.get_params()['learning_rate']\n",
    "gb_n_estimators = gb.get_params()['n_estimators']"
   ]
  },
  {
   "cell_type": "code",
   "execution_count": 90,
   "metadata": {
    "id": "OMDvajeXxEdy"
   },
   "outputs": [
    {
     "data": {
      "text/html": [
       "<div>\n",
       "<style scoped>\n",
       "    .dataframe tbody tr th:only-of-type {\n",
       "        vertical-align: middle;\n",
       "    }\n",
       "\n",
       "    .dataframe tbody tr th {\n",
       "        vertical-align: top;\n",
       "    }\n",
       "\n",
       "    .dataframe thead th {\n",
       "        text-align: right;\n",
       "    }\n",
       "</style>\n",
       "<table border=\"1\" class=\"dataframe\">\n",
       "  <thead>\n",
       "    <tr style=\"text-align: right;\">\n",
       "      <th></th>\n",
       "      <th>Model</th>\n",
       "      <th>default_params</th>\n",
       "      <th>best_params</th>\n",
       "      <th>RMSE_CV_default</th>\n",
       "      <th>RMSE_CV_best</th>\n",
       "      <th>RMSE_test_default</th>\n",
       "      <th>RMSE_test_best</th>\n",
       "    </tr>\n",
       "  </thead>\n",
       "  <tbody>\n",
       "    <tr>\n",
       "      <th>0</th>\n",
       "      <td>RF</td>\n",
       "      <td>max_depth: 5 n_estimators: 100</td>\n",
       "      <td>{'max_depth': 7, 'n_estimators': 300}</td>\n",
       "      <td>9.453107</td>\n",
       "      <td>7.711088</td>\n",
       "      <td>9.498062</td>\n",
       "      <td>9.416884</td>\n",
       "    </tr>\n",
       "    <tr>\n",
       "      <th>1</th>\n",
       "      <td>KNN</td>\n",
       "      <td>n_neighbors: 12</td>\n",
       "      <td>{'n_neighbors': 57}</td>\n",
       "      <td>7.909870</td>\n",
       "      <td>7.691371</td>\n",
       "      <td>7.990486</td>\n",
       "      <td>7.779742</td>\n",
       "    </tr>\n",
       "    <tr>\n",
       "      <th>2</th>\n",
       "      <td>GB</td>\n",
       "      <td>learning_rate: 0.1 n_estimators: 50</td>\n",
       "      <td>{'learning_rate': 0.05, 'n_estimators': 200}</td>\n",
       "      <td>7.640966</td>\n",
       "      <td>7.625017</td>\n",
       "      <td>7.699684</td>\n",
       "      <td>7.676740</td>\n",
       "    </tr>\n",
       "  </tbody>\n",
       "</table>\n",
       "</div>"
      ],
      "text/plain": [
       "  Model                       default_params  \\\n",
       "0    RF       max_depth: 5 n_estimators: 100   \n",
       "1   KNN                      n_neighbors: 12   \n",
       "2    GB  learning_rate: 0.1 n_estimators: 50   \n",
       "\n",
       "                                    best_params  RMSE_CV_default  \\\n",
       "0         {'max_depth': 7, 'n_estimators': 300}         9.453107   \n",
       "1                           {'n_neighbors': 57}         7.909870   \n",
       "2  {'learning_rate': 0.05, 'n_estimators': 200}         7.640966   \n",
       "\n",
       "   RMSE_CV_best  RMSE_test_default  RMSE_test_best  \n",
       "0      7.711088           9.498062        9.416884  \n",
       "1      7.691371           7.990486        7.779742  \n",
       "2      7.625017           7.699684        7.676740  "
      ]
     },
     "execution_count": 90,
     "metadata": {},
     "output_type": "execute_result"
    }
   ],
   "source": [
    "data2 = {\n",
    "    'Model': ['RF', 'KNN','GB'],\n",
    "    'default_params': ['max_depth: ' + str(rf_max_depth) + ' n_estimators: ' + str(rf_n_estimators), 'n_neighbors: ' + str(knn_default_params),\n",
    "                       'learning_rate: ' + str(gb_learning_rate) + ' n_estimators: ' + str(gb_n_estimators)],\n",
    "    'best_params': [hyperparameters_best, hyperparameters_best_knn, hyperparameters_best_gb],\n",
    "    'RMSE_CV_default': [RMSE_rf_cross_val, RMSE_knn_cross_val, RMSE_gb_cross_val],\n",
    "    'RMSE_CV_best': [RMSE_rf_train_best, RMSE_knn_train_best, RMSE_gb_train_best],\n",
    "    'RMSE_test_default': [RMSE_rf_test, RMSE_knn_test, RMSE_gb_test],\n",
    "    'RMSE_test_best': [RMSE_rf_test_best, RMSE_knn_test_best, RMSE_gb_test_best]\n",
    "}\n",
    "\n",
    "metrics_df = pd.DataFrame(data2)\n",
    "metrics_df"
   ]
  },
  {
   "cell_type": "markdown",
   "metadata": {
    "id": "mQISKDcxxjbN"
   },
   "source": [
    "**Интерпретация**\n",
    "\n",
    "* Оптимизированный Gradient Boosting показал наименьшую ошибку на тесте.\n",
    "* KNN показал наибольший прогресс: хотя итоговый результат KNN чуть хуже GB, настройка его параметров дала самый значительный прирост качества.\n",
    "* В нашем случае настройка RF не сработала: результаты RF подчеркивают, что улучшение на кросс-валидации не гарантирует улучшение на реальных новых данных к результатам оптимизации RF нужно относиться с осторожностью, так как на тренировочных данных модель работает хорошо и показывает высокие результаты, а на тестовых отрабатывает значительно хуже, вероятно из-за большого количества построенных деревьев ('n_estimators': 300).\n",
    "* Сравнение моделей: без настройки лучшей на тесте была GB (RMSE = 7.699684). После настройки лучшим так и остался GB (RMSE = 7.676740)."
   ]
  },
  {
   "cell_type": "markdown",
   "metadata": {
    "id": "1dR-t4Bmxk_u"
   },
   "source": [
    "Повышенная сложность: подберите на обучающей выборке оптимальные\n",
    "значения гиперпараметров градиентного бустинга ориентируясь на значение\n",
    "OOB (out-of-bag) ошибки. Сопоставьте гиперпараметры и точность на тестовой выборке для градиентного бустинга в зависимости от того, используется\n",
    "кросс-валидация или OOB ошибка."
   ]
  },
  {
   "cell_type": "code",
   "execution_count": 91,
   "metadata": {
    "id": "vQVH9VpUxEdy"
   },
   "outputs": [
    {
     "data": {
      "text/html": [
       "<div>\n",
       "<style scoped>\n",
       "    .dataframe tbody tr th:only-of-type {\n",
       "        vertical-align: middle;\n",
       "    }\n",
       "\n",
       "    .dataframe tbody tr th {\n",
       "        vertical-align: top;\n",
       "    }\n",
       "\n",
       "    .dataframe thead th {\n",
       "        text-align: right;\n",
       "    }\n",
       "</style>\n",
       "<table border=\"1\" class=\"dataframe\">\n",
       "  <thead>\n",
       "    <tr style=\"text-align: right;\">\n",
       "      <th></th>\n",
       "      <th>Test Score</th>\n",
       "      <th>Estimator</th>\n",
       "      <th>Learning rate</th>\n",
       "    </tr>\n",
       "  </thead>\n",
       "  <tbody>\n",
       "    <tr>\n",
       "      <th>OOB</th>\n",
       "      <td>0.255</td>\n",
       "      <td>50</td>\n",
       "      <td>0.01</td>\n",
       "    </tr>\n",
       "    <tr>\n",
       "      <th>Cross-Validation</th>\n",
       "      <td>0.522</td>\n",
       "      <td>200</td>\n",
       "      <td>0.05</td>\n",
       "    </tr>\n",
       "  </tbody>\n",
       "</table>\n",
       "</div>"
      ],
      "text/plain": [
       "                  Test Score  Estimator  Learning rate\n",
       "OOB                    0.255         50           0.01\n",
       "Cross-Validation       0.522        200           0.05"
      ]
     },
     "execution_count": 91,
     "metadata": {},
     "output_type": "execute_result"
    }
   ],
   "source": [
    "# Gradient Boosting\n",
    "\n",
    "# Перебираемые значения гиперпараметров\n",
    "hyper = {'n_estimators': [50, 100, 200, 300, 500], 'learning_rate': [0.01, 0.05, 0.1, 0.2]}\n",
    "oob_errors = []\n",
    "# Перебор гиперпараметров с помощью oob-ошибки\n",
    "for i in hyper['n_estimators']:\n",
    "    for j in hyper['learning_rate']:\n",
    "        gb_oob = GradientBoostingRegressor(subsample = 0.9, n_estimators = i, learning_rate = j, max_depth = 3, random_state = 777)\n",
    "        gb_oob.oob_score_ = True\n",
    "        gb_oob.fit(regressors_train, target_train)\n",
    "        oob_error = 1 - gb_oob.oob_score_\n",
    "        oob_errors.append(oob_error)\n",
    "best_est = hyper['n_estimators'][oob_errors.index(min(oob_errors))]\n",
    "best_lr = hyper['learning_rate'][oob_errors.index(min(oob_errors))]\n",
    "gb_oob = GradientBoostingRegressor(n_estimators = best_est, learning_rate = best_lr, max_depth = 3)\n",
    "gb_oob.fit(regressors_train, target_train)\n",
    "gb_best_oob = np.round(gb_oob.score(regressors_test, target_test), 3)\n",
    "gb_best = GSCV_gb.best_estimator_\n",
    "gb_best_cv = np.round(gb_best.score(regressors_test, target_test), 3)\n",
    "\n",
    "pd.DataFrame(data  = [[gb_best_oob, best_est, best_lr], [gb_best_cv, gb_best.n_estimators, gb_best.learning_rate]],\n",
    "                   index   = ['OOB', 'Cross-Validation'],\n",
    "                   columns = ['Test Score', 'Estimator', 'Learning rate'])"
   ]
  },
  {
   "cell_type": "markdown",
   "metadata": {
    "id": "t5zHdaRexn3E"
   },
   "source": [
    "Модель, выбранная по OOB ошибке, имеет более низкую скорость обучения `learning_rate` и строит меньше деревьев `n_estimators`, она показала более низкую точность на тестовой выборке.\\\n",
    "Преимущество состоит в том, что по OOB ошибке можно быстрее сравнить модели с разными гиперпараметрами, чем с помощью кросс-валидации. Однако OOB ошибку можно использовать только с ансамблевыми методами, из-за чего нельзя сравнить их результаты с неансамблевыми методами."
   ]
  },
  {
   "cell_type": "markdown",
   "metadata": {
    "id": "QnEb1oO7xq-j"
   },
   "source": [
    "4. На основании проделанного анализа выберите лучший и худший из обученных классификаторов. Обоснуйте сделанный выбор.\n",
    "* **Gradient Boosting** - лучшая модель, так как после подбора гиперпараметров модель показала наилучшие результаты (n_estimators = 200, learning_rate = 0.05, RMSE = 7.64)\n",
    "* **Random Forest** - худшая модель, так как даже после подбора гиперпараметров RMSE на тестовой выборке остался неизменным и самым большим среди всех представленных моделей, несмотря на значительные улчшения в кросс-валидационной выборке. (max_depth = 7, n_estimators = 100)"
   ]
  },
  {
   "cell_type": "code",
   "execution_count": 92,
   "metadata": {},
   "outputs": [],
   "source": [
    "best_reg = GradientBoostingRegressor(n_estimators = 200, learning_rate = 0.05, random_state = 777)\n",
    "worst_reg = RandomForestRegressor(max_depth = 7, n_estimators = 100)"
   ]
  },
  {
   "cell_type": "markdown",
   "metadata": {
    "id": "tstQBnC2xuyS"
   },
   "source": [
    "5. Повышенная сложность: включите в анализ дополнительный метод регрессии, не рассматривавшийся в курсе и не представленный в библиотеке scikitlearn. Опишите данный метод (принцип работы, преимущества и недостатки)\n",
    "и осуществите тюнинг гиперпараметров. Сопоставьте его точность на тестовой\n",
    "выборке с точностью лучшего из обученных вами ранее методов.\n",
    "\n",
    "**Метод регрессии:** квантильная регрессия\n",
    "\n",
    "**Принцип работы:** Квантильная регрессия стремится оценить медиану (или другой квантиль) условного распределения зависимой переменной, вместо среднего значения. Это особенно полезно, когда распределение зависимой переменной сильно искажено или имеет тяжёлые хвосты.\n",
    "\n",
    "**Преимущества:**\n",
    "- Поскольку квантили менее чувствительны к выбросам по сравнению с средним, квантильная регрессия может предоставлять более робастные оценки.\n",
    "- Гибкость модели\n",
    "- Особенно ценна в эконометрике и финансах, где интерес к крайним значениям (например, риск высоких потерь) может быть важнее средних тенденций.\n",
    "\n",
    "**Недостатки:**\n",
    "- Методы оптимизации для квантильной регрессии могут быть более сложными и менее эффективными по сравнению с обычным МНК.\n",
    "- Результаты могут быть сложнее для интерпретации, особенно при анализе нескольких квантилей."
   ]
  },
  {
   "cell_type": "code",
   "execution_count": 93,
   "metadata": {
    "id": "ej_OT8QjxEdy"
   },
   "outputs": [
    {
     "data": {
      "text/plain": [
       "{'Quantile 0.25': {'RMSE': 9.066767039593609},\n",
       " 'Quantile 0.3': {'RMSE': 8.61181582539237},\n",
       " 'Quantile 0.4': {'RMSE': 7.958535222989658},\n",
       " 'Quantile 0.5': {'RMSE': 7.643793535522222},\n",
       " 'Quantile 0.6': {'RMSE': 7.787490616541135},\n",
       " 'Quantile 0.7': {'RMSE': 8.468566017462244},\n",
       " 'Quantile 0.75': {'RMSE': 9.038610800385275}}"
      ]
     },
     "execution_count": 93,
     "metadata": {},
     "output_type": "execute_result"
    }
   ],
   "source": [
    "import statsmodels.api as sm\n",
    "import statsmodels.formula.api as smf\n",
    "\n",
    "df_train = regressors_train.merge(target_train, left_index=True, right_index=True)\n",
    "df_test = regressors_test.merge(target_test, left_index=True, right_index=True)\n",
    "# Моделируем квантильную регрессию для разных квантилей\n",
    "quantiles = [0.25, 0.3, 0.4, 0.5, 0.6, 0.7, 0.75]\n",
    "\n",
    "models = {}\n",
    "results = {}\n",
    "\n",
    "\n",
    "for quantile in quantiles:\n",
    "    formula = 'Happiness ~ Wage + Fam + Health'\n",
    "    model = smf.quantreg(formula, df_train).fit(q=quantile)\n",
    "    pred = model.predict(df_train[['Wage', 'Fam', 'Health']])\n",
    "    rmse = np.sqrt(mean_squared_error(df_train['Happiness'], pred))\n",
    "    results[f'Quantile {quantile}'] = {\n",
    "        'RMSE': rmse\n",
    "    }\n",
    "\n",
    "results"
   ]
  },
  {
   "cell_type": "code",
   "execution_count": 94,
   "metadata": {
    "id": "SM1AWG_ExEdz"
   },
   "outputs": [
    {
     "data": {
      "text/html": [
       "<div>\n",
       "<style scoped>\n",
       "    .dataframe tbody tr th:only-of-type {\n",
       "        vertical-align: middle;\n",
       "    }\n",
       "\n",
       "    .dataframe tbody tr th {\n",
       "        vertical-align: top;\n",
       "    }\n",
       "\n",
       "    .dataframe thead th {\n",
       "        text-align: right;\n",
       "    }\n",
       "</style>\n",
       "<table border=\"1\" class=\"dataframe\">\n",
       "  <thead>\n",
       "    <tr style=\"text-align: right;\">\n",
       "      <th></th>\n",
       "      <th>RMSE_test</th>\n",
       "    </tr>\n",
       "  </thead>\n",
       "  <tbody>\n",
       "    <tr>\n",
       "      <th>Квантильная регрессия</th>\n",
       "      <td>7.632062</td>\n",
       "    </tr>\n",
       "    <tr>\n",
       "      <th>Лучшая модель</th>\n",
       "      <td>7.676740</td>\n",
       "    </tr>\n",
       "  </tbody>\n",
       "</table>\n",
       "</div>"
      ],
      "text/plain": [
       "                       RMSE_test\n",
       "Квантильная регрессия   7.632062\n",
       "Лучшая модель           7.676740"
      ]
     },
     "execution_count": 94,
     "metadata": {},
     "output_type": "execute_result"
    }
   ],
   "source": [
    "quantile_best = smf.quantreg(formula, df_train).fit(q=0.5)\n",
    "pred_test = quantile_best.predict(df_test[['Wage', 'Fam', 'Health']])\n",
    "RMSE_best_q = np.sqrt(mean_squared_error(df_test['Happiness'], pred_test))\n",
    "\n",
    "pd.DataFrame(data = [RMSE_best_q, RMSE_gb_test_best],\n",
    "                   index = ['Квантильная регрессия', 'Лучшая модель'],\n",
    "                   columns = ['RMSE_test'])"
   ]
  },
  {
   "cell_type": "markdown",
   "metadata": {
    "id": "SVvsjbhwazPd"
   },
   "source": [
    "# Эффекты воздействия"
   ]
  },
  {
   "cell_type": "markdown",
   "metadata": {},
   "source": [
    "1. Математически запишите и содержательно проинтерпретируйте потенциальные исходы целевой переменной. Объясните, как они связаны с наблюдаемыми значениями целевой переменной."
   ]
  },
  {
   "cell_type": "markdown",
   "metadata": {
    "id": "UrR3M5KVbYfQ"
   },
   "source": [
    "**Основная идея**\n",
    "* Предположим, что счастье имеет положительную зависимость от здоровья, и при этом, когда человек уже очень здоров,  увеличение уровня здоровья на единицу влияет на уровень счастья меньше\n",
    "* Уровень зарплаты и время, проведенное с семьей положительно влияют на уровень счастья\n",
    "\n",
    "* $\\text{Happiness}_{1i}$ - уровень счастья людей, которые слушают музыку по пути на работу $(\\text{Music}_i = 1)$\n",
    "* $\\text{Happiness}_{0i}$ - уровень счастья людей, которые не слушают музыку по пути на работу $(\\text{Music}_i = 0)$\n",
    "\n",
    "Уравнение уровня счастья при отсутствии факта прослушивания музыки по пути на работу:\n",
    "\n",
    "$$\\text{Happiness}_{0i} = \\underbrace{ \\underbrace{7.8 * \\sqrt{\\text{Health}_i}}_{g_{0}^{\\text{unobs}}} + \\underbrace{\\frac{\\text{Wage}_i}{6 + 0.2 *\\text{Fam}_i + 0.3 * \\text{Hobby}_i}+ 0.7 * \\text{Fam}_i + \\text{Hobby}_i}_{g_{0}^{\\text{obs}}}}_{g_0} + \\varepsilon_{0i}, \\quad \\text{где } \\varepsilon_{0i} \\sim (\\text{EXP}(1/5) - 5)$$\n",
    "\n",
    "\n",
    "Уравнение уровня счастья при наличии факта прослушивания музыки по пути на работу:\n",
    "\n",
    "$$\\text{Happiness}_{1i} = \\underbrace{ \\underbrace{8.2 * \\sqrt{\\text{Health}_i}}_{g_{1}^{\\text{unobs}}} + \\underbrace{\\frac{\\text{Wage}_i}{4 + 0.3 *\\text{Fam}_i + 0.4 * \\text{Hobby}_i}+ 0.7 * \\text{Fam}_i+\\text{Hobby}_i}_{g_{1}^{\\text{obs}}}}_{g_1} + \\varepsilon_{1i}, \\quad \\text{где } \\varepsilon_{1i} \\sim \\text{N}(0,7)$$\n",
    "\n",
    "Наблюдаемый уровень счастья:\n",
    "\n",
    "$$\\text{Happiness}_{i} = \\begin{cases}\\text{Happiness}_{1i}\\text{, если }\\text{Music}_{i}=1\\\\ \\text{Happiness}_{0i}\\text{, если }\\text{Music}_{i}=0\\end{cases} = \\\\ =\\text{Happiness}_{1i}\\times\\text{Music}_{i} + \\text{Happiness}_{0i}\\times\\left(1-\\text{Music}_{i}\\right)$$"
   ]
  },
  {
   "cell_type": "markdown",
   "metadata": {},
   "source": [
    "2. Используя симулированные вами, но недоступные в реальных данных потенциальные исходы (гипотетические значения), получите оценки среднего эффекта воздействия, условных средних эффектов воздействия и локального среднего эффекта воздействия. Для ATE и LATE результаты представьте в форме\n",
    "таблицы, а для CATE постройте гистограмму или ядерную оценку функции плотности. Проинтерпретируйте полученные значения."
   ]
  },
  {
   "cell_type": "code",
   "execution_count": 95,
   "metadata": {
    "id": "NvywizlwZBWK",
    "outputId": "f0abbb89-0159-4351-94ce-bb8da49527a4"
   },
   "outputs": [
    {
     "name": "stdout",
     "output_type": "stream",
     "text": [
      "Настоящие эффекты воздействия: [  1.24088627 -12.03011269   9.31723377   1.05063494   3.04372382]\n",
      "ATE: 0.191\n"
     ]
    }
   ],
   "source": [
    "te = happiness1 - happiness0\n",
    "print('Настоящие эффекты воздействия:', te[0:5])\n",
    "ate = np.mean(te)\n",
    "print('ATE:', np.round(ate, 3))"
   ]
  },
  {
   "cell_type": "code",
   "execution_count": 96,
   "metadata": {
    "id": "klaP9VZFkT8B",
    "outputId": "ff91edef-1e00-45e2-e93f-8df316bd7d01"
   },
   "outputs": [
    {
     "name": "stdout",
     "output_type": "stream",
     "text": [
      "LATE: 0.026\n"
     ]
    }
   ],
   "source": [
    "compliers = music1 > music0\n",
    "late = np.mean(te[compliers])\n",
    "print('LATE:', np.round(late, 3))"
   ]
  },
  {
   "cell_type": "code",
   "execution_count": 97,
   "metadata": {
    "id": "8On2wlq4nTco",
    "outputId": "17dfc62d-3fb0-484c-811e-0d72fd065b28"
   },
   "outputs": [
    {
     "name": "stdout",
     "output_type": "stream",
     "text": [
      "[ 0.32581816 -0.56385114 -0.34029935 -0.11617418  0.1459381   1.50858235\n",
      "  0.1144266  -0.07062809  0.34725216 -0.48852377]\n"
     ]
    }
   ],
   "source": [
    "cate = g1 - g0\n",
    "print(cate[0:10])"
   ]
  },
  {
   "cell_type": "code",
   "execution_count": 98,
   "metadata": {
    "id": "gleAqoOfn9F4",
    "outputId": "83457aa3-0b8c-414c-aa10-f720abd4d32c"
   },
   "outputs": [
    {
     "data": {
      "image/png": "[encoded data removed]",
      "text/plain": [
       "<Figure size 800x400 with 1 Axes>"
      ]
     },
     "metadata": {},
     "output_type": "display_data"
    }
   ],
   "source": [
    "plt.figure(figsize=(8, 4))\n",
    "plt.hist(cate, bins=50, color='skyblue', edgecolor='black', alpha=0.7, density=True, label='hist')\n",
    "plt.title('Гистограмма индивидуальных эффектов (CATE)')\n",
    "plt.xlabel('CATE')\n",
    "plt.ylabel('Плотность')\n",
    "plt.grid(alpha=0.3)\n",
    "plt.show()"
   ]
  },
  {
   "cell_type": "code",
   "execution_count": 99,
   "metadata": {
    "id": "h75UibCboD6w",
    "outputId": "b7e2e790-5ee6-4c81-ed0d-8548fb7548f7"
   },
   "outputs": [
    {
     "data": {
      "text/html": [
       "<div>\n",
       "<style scoped>\n",
       "    .dataframe tbody tr th:only-of-type {\n",
       "        vertical-align: middle;\n",
       "    }\n",
       "\n",
       "    .dataframe tbody tr th {\n",
       "        vertical-align: top;\n",
       "    }\n",
       "\n",
       "    .dataframe thead th {\n",
       "        text-align: right;\n",
       "    }\n",
       "</style>\n",
       "<table border=\"1\" class=\"dataframe\">\n",
       "  <thead>\n",
       "    <tr style=\"text-align: right;\">\n",
       "      <th></th>\n",
       "      <th>Гипотетические данные</th>\n",
       "    </tr>\n",
       "  </thead>\n",
       "  <tbody>\n",
       "    <tr>\n",
       "      <th>ATE</th>\n",
       "      <td>0.191002</td>\n",
       "    </tr>\n",
       "    <tr>\n",
       "      <th>LATE</th>\n",
       "      <td>0.025840</td>\n",
       "    </tr>\n",
       "    <tr>\n",
       "      <th>CATE (усред.)</th>\n",
       "      <td>0.169977</td>\n",
       "    </tr>\n",
       "  </tbody>\n",
       "</table>\n",
       "</div>"
      ],
      "text/plain": [
       "               Гипотетические данные\n",
       "ATE                         0.191002\n",
       "LATE                        0.025840\n",
       "CATE (усред.)               0.169977"
      ]
     },
     "execution_count": 99,
     "metadata": {},
     "output_type": "execute_result"
    }
   ],
   "source": [
    "te_df = pd.DataFrame(data = [ate, late, np.mean(cate)], index = ['ATE', 'LATE', 'CATE (усред.)'], columns = ['Гипотетические данные'])\n",
    "te_df"
   ]
  },
  {
   "cell_type": "markdown",
   "metadata": {
    "id": "i8FvYcvBtBt-"
   },
   "source": [
    "3. Оцените средний эффект воздействия как разницу в средних по выборкам тех,\n",
    "кто получил и не получил воздействие. Опишите недостатки соответствующего\n",
    "подхода с учетом специфики рассматриваемой вами экономической проблемы.\n",
    "Примечание: в этом пункте и далее, если не сказано иное, используются лишь\n",
    "наблюдаемые значения целевой переменной."
   ]
  },
  {
   "cell_type": "code",
   "execution_count": 100,
   "metadata": {
    "id": "ggKX32Ors6S6",
    "outputId": "3da99908-f835-4a46-b09c-2e51994b54a2"
   },
   "outputs": [
    {
     "data": {
      "text/plain": [
       "5.09243105390965"
      ]
     },
     "execution_count": 100,
     "metadata": {},
     "output_type": "execute_result"
    }
   ],
   "source": [
    "ate_naive = np.mean(happiness[music == 1]) - np.mean(happiness[music == 0])\n",
    "ate_naive"
   ]
  },
  {
   "cell_type": "markdown",
   "metadata": {
    "id": "JIIY6O1BuYrn"
   },
   "source": [
    "Можно заметить, что значение отличается от реального ATE примерно в 26 раз. Это ожидаемо, потому что наивный подход не учитывает влияение других переменных на целевую и подразумевает допущение о независимости, которое в данном случае нарушается. \\\n",
    "Переменные health и fam влияют как на прослушивание музыки по пути на работу, так и на уровень счастья. Например, когда человек болеет, ему реже хочется слушать музыку, потому что это доп нагрузка на голову, и при этом он менее счастлив из-за общего самочувствия."
   ]
  },
  {
   "cell_type": "markdown",
   "metadata": {
    "id": "Ktmy1zefyvV2"
   },
   "source": [
    "4. Используя оценки, полученные лучшими из обученных ранее классификацион-\n",
    "ных и регрессионных моделей, оцените средний эффект воздействия с помощью:\n",
    "* метода наименьших квадратов.\n",
    "* взвешивания на обратные вероятности (в случае возникновения ошибок убедитесь в отсутствии оценок вероятностей, равных 0 или 1 и при необходимости измените метод оценивания).\n",
    "* метода, обладающего двойной устойчивостью.\n",
    "* двойного машинного обучения. \\\n",
    "Сравните результаты и назовите ключевую предпосылку этих методов. Содер-\n",
    "жательно обсудите причины, по которым она может соблюдаться или нару-\n",
    "шаться в вашем случае. Приведите содержательную экономическую интерпре-\n",
    "тацию оценки среднего эффекта воздействия.\n",
    "Повышенная сложность: включите дополнительный метод, не рассматри-\n",
    "вавшийся в курсе, и опишите его принцип работы, а также преимущества и\n",
    "недостатки по сравнению с другими методами."
   ]
  },
  {
   "cell_type": "markdown",
   "metadata": {
    "id": "iFTKqCtMzb42"
   },
   "source": [
    "### МНК\n",
    "\n",
    "$$\\widehat{\\text{ATE}}_{\\text{LS}} = \\frac{1}{n}\\sum\\limits_{i=1}^{n} \\underbrace{\\hat{\\text{E}}\\left(\\text{Happiness}_{1i}|X_{i}\\right) - \\hat{\\text{E}}\\left(\\text{Happiness}_{0i}|X_{i}\\right)}_{\\widehat{\\text{CATE}}_{i}}$$\n",
    "\n",
    "Где:\n",
    "\n",
    "\n",
    "*   $\\hat{\\text{E}}\\left(\\text{Happiness}_{1i}|X_{i}\\right)$ - оценка, полученная с использованием МНК оценок регрессионных коэффициентов $\\beta$, полученных по выборке из индивидов, слушающих музыку по пути на работу $\\text{Music}_{i} = 1$.\n",
    "*   $\\hat{\\text{E}}\\left(\\text{Happiness}_{0i}|X_{i}\\right)$ - оценка, полученная с использованием МНК оценок регрессионных коэффициентов $\\beta$, полученных по выборке из индивидов, слушающих музыку по пути на работу $\\text{Music}_{i} = 0$."
   ]
  },
  {
   "cell_type": "code",
   "execution_count": 101,
   "metadata": {
    "id": "PLjiZ_bmyqnh",
    "outputId": "696dad84-31de-490c-caa0-ef236112b103"
   },
   "outputs": [
    {
     "data": {
      "text/plain": [
       "-0.169"
      ]
     },
     "execution_count": 101,
     "metadata": {},
     "output_type": "execute_result"
    }
   ],
   "source": [
    "# МНК\n",
    "\n",
    "# Оценим средний эффект воздействия с помощью МНК\n",
    "\n",
    "# МНК оценивание уравнения зарплаты для\n",
    "# индивидов, не слушающих музыку\n",
    "y0  = df[df['Music'] == 0]['Happiness']\n",
    "x0  = df[df['Music'] == 0].drop(['Music', 'Subs', 'Happiness'], axis = 1)\n",
    "x0  = sm.add_constant(x0)\n",
    "ls0 = sm.OLS(y0, x0).fit()\n",
    "\n",
    "# МНК оценивание уравнения зарплаты для\n",
    "# индивидов с высшим образованием\n",
    "y1  = df[df['Music'] == 1]['Happiness']\n",
    "x1  = df[df['Music'] == 1].drop(['Music', 'Subs', 'Happiness'], axis = 1)\n",
    "x1  = sm.add_constant(x1)\n",
    "ls1 = sm.OLS(y1, x1).fit()\n",
    "\n",
    "# Оценим зарплаты при наличии и отсутствия высшего образования\n",
    "# с помощью полученных МНК оценок\n",
    "x = df.drop(['Music', 'Subs', 'Happiness'], axis = 1)\n",
    "x = sm.add_constant(x)\n",
    "\n",
    "# МНК оценка E(happy0 | X) для всех индивидов\n",
    "happy0_ls = ls0.predict(x)\n",
    "# МНК оценка E(happy1 | X) для всех индивидов\n",
    "happy1_ls = ls1.predict(x)\n",
    "\n",
    "# Оценки CATE\n",
    "CATE_ls = np.array(happy1_ls - happy0_ls)\n",
    "\n",
    "# Оценка ATE как средняя разница в прогнозах МНК оценок\n",
    "ATE_ls = np.mean(CATE_ls)\n",
    "np.round(ATE_ls, 3)"
   ]
  },
  {
   "cell_type": "markdown",
   "metadata": {
    "id": "xyrLFefjMxOT"
   },
   "source": [
    "### Условные матожидания\n",
    "\n",
    "Используем T-learner:\n",
    "\n",
    "$$\\widehat{\\text{ATE}}^{\\text{T-learner}} = \\frac{1}{n}\\sum\\limits_{i=1}^{n} \\hat{\\text{E}}\\left(\\text{Happiness}_{i}|X_{i},\\text{Music}_{i}=1\\right) - \\hat{\\text{E}}\\left(\\text{Happiness}_{i}|X_{i},\\text{Music}_{i}=0\\right)$$\n",
    "\n",
    "Где:\n",
    "\n",
    "*   $\\hat{\\text{E}}\\left(\\text{Happiness}_{i}|X_{i},\\text{Music}_{i}=1\\right)$ - оценка, полученная с использованием метода машинного обучения по выборке из индивидов, слушающих музыку по дороге на работу $\\text{Music}_{i} = 1$.\n",
    "*   $\\hat{\\text{E}}\\left(\\text{Happiness}_{i}|X_{i},\\text{Music}_{i}=0\\right)$ - оценка, полученная с использованием метода машинного обучения по выборке из индивидов, слушающих музыку по дороге на работу $\\text{Music}_{i} = 0$.\n"
   ]
  },
  {
   "cell_type": "code",
   "execution_count": 102,
   "metadata": {},
   "outputs": [
    {
     "data": {
      "text/plain": [
       "0.49868175067914644"
      ]
     },
     "execution_count": 102,
     "metadata": {},
     "output_type": "execute_result"
    }
   ],
   "source": [
    "# Оценивание ATE и CATE с помощью T-learner\n",
    "\n",
    "rf = GradientBoostingRegressor(**best_reg.get_params())\n",
    "\n",
    "# Обучение оценивать E(happiness | X, music = 0)\n",
    "rf.fit(x0, y0)\n",
    "\n",
    "# Оценки E(happiness | X, music = 0) для всех индивидов,\n",
    "# в том числе для тех, у кого (music = 1).\n",
    "happy0_rf = rf.predict(x)\n",
    "\n",
    "# Обучение оценивать E(happiness | X, music = 1)\n",
    "rf.fit(x1, y1)\n",
    "\n",
    "# Оценки E(happiness | X, music = 1) для всех индивидов,\n",
    "# в том числе для тех, у кого (music = 0).\n",
    "happy1_rf = rf.predict(x)\n",
    "\n",
    "# Оценки CATE\n",
    "CATE_T = happy1_rf - happy0_rf\n",
    "\n",
    "# Оценка ATE\n",
    "ATE_T = np.mean(CATE_T)\n",
    "ATE_T"
   ]
  },
  {
   "cell_type": "markdown",
   "metadata": {
    "id": "YFIqvfatQRLq"
   },
   "source": [
    "### Взвешивание на обратные вероятности\n",
    "\n",
    "Оценка, получаемая с помощью взвешивания на обратные вероятности $\\text{IPW}$, имеет вид:\n",
    "\n",
    "$$\\widehat{\\text{ATE}}^{\\text{IPW}} = \\frac{1}{n}\\sum\\limits_{i=1}^{n}\\frac{\\text{Music}_{i}\\times\\text{Happiness}_{i}}{\\hat{P}\\left(\\text{Music}_{i}=1|X_{i}\\right)} - \\frac{\\left(1 - \\text{Music}_{i}\\right)\\times\\text{Happiness}_{i}}{1 - \\hat{P}\\left(\\text{Music}_{i}=1|X_{i}\\right)}$$\n",
    "\n",
    "Где условные вероятности $\\hat{P}\\left(\\text{Music}_{i}=1|X_{i}\\right)$ оценивается с помощью методов классификации, например, градиентного бустинга или логистической регрессии."
   ]
  },
  {
   "cell_type": "code",
   "execution_count": 103,
   "metadata": {},
   "outputs": [],
   "source": [
    "df_c = sm.add_constant(df)"
   ]
  },
  {
   "cell_type": "code",
   "execution_count": 104,
   "metadata": {},
   "outputs": [
    {
     "data": {
      "text/plain": [
       "-2.6672307678136233"
      ]
     },
     "execution_count": 104,
     "metadata": {},
     "output_type": "execute_result"
    }
   ],
   "source": [
    "# Оценивание с помощью обратного взвешивания на вероятности IPW\n",
    "\n",
    "# Подготовим данные\n",
    "target   = df_c['Music']\n",
    "features = df_c.drop(['Music', 'Subs'], axis = 1)\n",
    "\n",
    "lgt = LogisticRegression(**best.get_params())\n",
    "\n",
    "# Подготовим метод машинного обучения\n",
    "lgt.fit(features, target) # изменил features на x\n",
    "\n",
    "# Оценим условные вероятности P(music = 1 | X)\n",
    "prob_gb = lgt.predict_proba(features)[:, 1]\n",
    "\n",
    "# Оценим псевдоисходы\n",
    "happiness_pseudo = (happiness * music) / prob_gb - (happiness * (1 - music)) / (1 - prob_gb)\n",
    "\n",
    "# Оценим ATE\n",
    "ATE_IPW = np.mean(happiness_pseudo)\n",
    "ATE_IPW"
   ]
  },
  {
   "cell_type": "markdown",
   "metadata": {
    "id": "uYvQhxZcWiZM"
   },
   "source": [
    "### Метод двойной устойчивости\n",
    "\n",
    "Методом с двойной устойчивостью средний эффект воздействия оценивается как:\n",
    "\n",
    "$$\\widehat{\\text{ATE}}^{\\text{DR}} = \\frac{1}{n}\\sum\\limits_{i=1}^{n}\\hat{\\text{E}}\\left(\\text{Happiness}_{i}|X_{i}, T_{i}=1\\right) - \\hat{\\text{E}}\\left(\\text{Happiness}_{i}|X_{i}, T_{i}=0\\right) + \\frac{\\text{Music}_{i}\\times\\left(\\text{Happiness}_{i}-\\hat{\\text{E}}\\left(\\text{Happiness}_{i}|X_{i}, T_{i}=1\\right)\\right)}{\\hat{P}(\\text{Music}_{i}=1|X_{i})} - \\frac{\\left(1-\\text{Music}_{i}\\right)\\times\\left(\\text{Happiness}_{i}-\\hat{\\text{E}}\\left(\\text{Happiness}_{i}|X_{i}, T_{i}=0\\right)\\right)}{1 - \\hat{P}(\\text{Music}_{i}=1|X_{i})}$$"
   ]
  },
  {
   "cell_type": "code",
   "execution_count": 105,
   "metadata": {},
   "outputs": [
    {
     "data": {
      "text/plain": [
       "0.12815652017958631"
      ]
     },
     "execution_count": 105,
     "metadata": {},
     "output_type": "execute_result"
    }
   ],
   "source": [
    "# Подготовим данные\n",
    "y = df['Happiness']\n",
    "x = df.drop(['Subs', 'Happiness'], axis = 1)\n",
    "\n",
    "rf2 = GradientBoostingRegressor(**best_reg.get_params())\n",
    "rf2.fit(x, y)\n",
    "\n",
    "# Оценки E(happiness | X, music = 0) для всех индивидов,\n",
    "# в том числе для тех, у кого (educ = 1).\n",
    "x0          = deepcopy(x)\n",
    "x0[\"Music\"] = 0\n",
    "happy0_rf2  = rf2.predict(x0)\n",
    "\n",
    "# Оценки E(happiness | X, music = 1) для всех индивидов,\n",
    "# в том числе для тех, у кого (educ = 0).\n",
    "x1         = deepcopy(x)\n",
    "x1[\"Music\"] = 1\n",
    "happy1_rf2  = rf2.predict(x1)\n",
    "\n",
    "# Оценим ATE с помощью DR метода с двойной устойчивостью\n",
    "ATE_DR = np.mean((happy1_rf2 - happy0_rf2) + \\\n",
    "                 music * (happiness - happy1_rf2) / prob_gb - \\\n",
    "                 (1 - music) * (happiness - happy0_rf2) / (1 - prob_gb))\n",
    "ATE_DR"
   ]
  },
  {
   "cell_type": "markdown",
   "metadata": {
    "id": "p9_jGzdjbYYj"
   },
   "source": [
    "### Метод двойного машинного обучения"
   ]
  },
  {
   "cell_type": "code",
   "execution_count": 106,
   "metadata": {},
   "outputs": [
    {
     "data": {
      "text/plain": [
       "0.2702310542252842"
      ]
     },
     "execution_count": 106,
     "metadata": {},
     "output_type": "execute_result"
    }
   ],
   "source": [
    "# Данные в формате, необходимом для применения DML\n",
    "dml_standard_data = dml.DoubleMLData(\n",
    "                            data   = df_c,\n",
    "                            y_col  = 'Happiness',\n",
    "                            d_cols = 'Music',\n",
    "                            x_cols = ['Wage', 'Hobby', 'Fam', 'Health']) # Добавил Health, но мб не надо\n",
    "\n",
    "# Метод оценивания E(Y | X, T)\n",
    "g_Y = GradientBoostingRegressor(**best_reg.get_params())\n",
    "\n",
    "# Метод оценивания E(T | X)\n",
    "g_T = LogisticRegression(**best.get_params())\n",
    "\n",
    "# Подготовка объекта\n",
    "dml_standard = dml.DoubleMLIRM(obj_dml_data = dml_standard_data,\n",
    "                               ml_g         = g_Y,\n",
    "                               ml_m         = g_T,\n",
    "                               n_rep        = 1,\n",
    "                               n_folds      = 5)\n",
    "\n",
    "# Оценим параметры\n",
    "dml_standard.fit()\n",
    "\n",
    "# Сохраним оценку\n",
    "ATE_dml_standard = dml_standard.coef[0]\n",
    "ATE_dml_standard"
   ]
  },
  {
   "cell_type": "markdown",
   "metadata": {
    "id": "n48wkoFDc4Wf"
   },
   "source": [
    "### Сравнение результатов"
   ]
  },
  {
   "cell_type": "code",
   "execution_count": 107,
   "metadata": {
    "id": "0V5dc6sec3_E",
    "outputId": "903cd5e0-020c-469e-f203-9dbeffe0ed79"
   },
   "outputs": [
    {
     "data": {
      "text/html": [
       "<div>\n",
       "<style scoped>\n",
       "    .dataframe tbody tr th:only-of-type {\n",
       "        vertical-align: middle;\n",
       "    }\n",
       "\n",
       "    .dataframe tbody tr th {\n",
       "        vertical-align: top;\n",
       "    }\n",
       "\n",
       "    .dataframe thead th {\n",
       "        text-align: right;\n",
       "    }\n",
       "</style>\n",
       "<table border=\"1\" class=\"dataframe\">\n",
       "  <thead>\n",
       "    <tr style=\"text-align: right;\">\n",
       "      <th></th>\n",
       "      <th>score</th>\n",
       "    </tr>\n",
       "  </thead>\n",
       "  <tbody>\n",
       "    <tr>\n",
       "      <th>Hypothetical</th>\n",
       "      <td>0.191002</td>\n",
       "    </tr>\n",
       "    <tr>\n",
       "      <th>Naive</th>\n",
       "      <td>5.092431</td>\n",
       "    </tr>\n",
       "    <tr>\n",
       "      <th>OLS</th>\n",
       "      <td>-0.169230</td>\n",
       "    </tr>\n",
       "    <tr>\n",
       "      <th>Условные матож</th>\n",
       "      <td>0.498682</td>\n",
       "    </tr>\n",
       "    <tr>\n",
       "      <th>Обратные вероятности</th>\n",
       "      <td>-2.667231</td>\n",
       "    </tr>\n",
       "    <tr>\n",
       "      <th>Двойной устойчивости</th>\n",
       "      <td>0.128157</td>\n",
       "    </tr>\n",
       "    <tr>\n",
       "      <th>Двойное МО</th>\n",
       "      <td>0.270231</td>\n",
       "    </tr>\n",
       "  </tbody>\n",
       "</table>\n",
       "</div>"
      ],
      "text/plain": [
       "                         score\n",
       "Hypothetical          0.191002\n",
       "Naive                 5.092431\n",
       "OLS                  -0.169230\n",
       "Условные матож        0.498682\n",
       "Обратные вероятности -2.667231\n",
       "Двойной устойчивости  0.128157\n",
       "Двойное МО            0.270231"
      ]
     },
     "execution_count": 107,
     "metadata": {},
     "output_type": "execute_result"
    }
   ],
   "source": [
    "pd.DataFrame(data = [ate, ate_naive, ATE_ls, ATE_T, ATE_IPW, ATE_DR, ATE_dml_standard], index = ['Hypothetical', 'Naive', 'OLS', 'Условные матож', 'Обратные вероятности', 'Двойной устойчивости', 'Двойное МО'], columns = ['score'])"
   ]
  },
  {
   "cell_type": "markdown",
   "metadata": {
    "id": "2C1hOFvNdptF"
   },
   "source": [
    "Главная предпосылка для всех методов - условная независимость:\n",
    "$$\\text{E}(\\text{Happiness}_{1i}|\\text{Music}_{i}=1,X_{i}) = \\text{E}(\\text{Happiness}_{1i}|X_{i})\\qquad \\text{E}(\\text{Happiness}_{0i}|\\text{Music}_{i}=0,X_{i}) = \\text{E}(\\text{Happiness}_{0i}|X_{i})$$\n",
    "\n",
    "Она не выполняется, так как присутствует ненаблюдаемая переменная $Health$, которая приводит к эндогенности."
   ]
  },
  {
   "cell_type": "markdown",
   "metadata": {
    "id": "E9VCl3UKxEd0"
   },
   "source": [
    "Результаты рассмотренных методов значительно отличаются: Наивный метод, методы Обратных вероятностей и двойной устойчивости дают сильно завышенные оценки эффектов.\n",
    "В то же время МНК и метод условных матожиданий сильно ближе к 0 и к гипотетическому ATE, результат метода ДМО также можно считать завышеным, но не так сильно.\n",
    "\n",
    "Такое сильное различие между оценками ATE можно объяснить наличием эндогенности, то есть нарушается предпосылка об условной независимости.\n",
    "\n",
    "Экономическая интерпретация (гипотетического) ATE: если все люди, которые не слушают музыку по пути на работу, начнут это делать, то средний уровень счастья увеличится на 0,197."
   ]
  },
  {
   "cell_type": "markdown",
   "metadata": {
    "id": "MUf12ToExEd0"
   },
   "source": [
    "5. Оцените локальный условный эффект воздействия с помощью:\n",
    "* двойного машинного обучения без инструментальной переменной.\n",
    "* двойного машинного обучения с инструментальной переменной. \\\n",
    "\\\n",
    "Сопоставьте результаты и объясните, в чем в вашем случае будет заключаться различие между средним эффектом воздействия и локальным средним эффектом воздействия. Приведите содержательную экономическую интерпретацию оценки локального среднего эффекта воздействия."
   ]
  },
  {
   "cell_type": "code",
   "execution_count": 108,
   "metadata": {
    "id": "71NTgPF6xEd1",
    "outputId": "d08f5b58-44ad-49c1-ca1a-cc84c6bb0d40"
   },
   "outputs": [
    {
     "name": "stdout",
     "output_type": "stream",
     "text": [
      "================== DoubleMLIRM Object ==================\n",
      "\n",
      "------------------ Data summary      ------------------\n",
      "Outcome variable: Happiness\n",
      "Treatment variable(s): ['Music']\n",
      "Covariates: ['Wage', 'Hobby', 'Fam']\n",
      "Instrument variable(s): None\n",
      "No. Observations: 10000\n",
      "\n",
      "------------------ Score & algorithm ------------------\n",
      "Score function: ATE\n",
      "\n",
      "------------------ Machine learner   ------------------\n",
      "Learner ml_g: GradientBoostingRegressor(learning_rate=0.05, n_estimators=200,\n",
      "                          random_state=777)\n",
      "Learner ml_m: LogisticRegression()\n",
      "Out-of-sample Performance:\n",
      "Regression:\n",
      "Learner ml_g0 RMSE: [[7.45531564]]\n",
      "Learner ml_g1 RMSE: [[9.15288123]]\n",
      "Classification:\n",
      "Learner ml_m Log Loss: [[0.53236764]]\n",
      "\n",
      "------------------ Resampling        ------------------\n",
      "No. folds: 5\n",
      "No. repeated sample splits: 1\n",
      "\n",
      "------------------ Fit summary       ------------------\n",
      "           coef   std err          t          P>|t|     2.5 %   97.5 %\n",
      "Music  4.450199  0.189769  23.450588  1.303780e-121  4.078258  4.82214\n"
     ]
    }
   ],
   "source": [
    "# Данные в формате, необходимом для применения DML\n",
    "dml_standard2_data = dml.DoubleMLData(\n",
    "                            data   = df,\n",
    "                            y_col  = 'Happiness',\n",
    "                            d_cols = 'Music',\n",
    "                            x_cols = ['Wage', 'Hobby', 'Fam'])\n",
    "\n",
    "# Метод оценивания E(Y | X, T)\n",
    "g_Y = GradientBoostingRegressor(**best_reg.get_params())\n",
    "\n",
    "# Подготовка объекта\n",
    "dml_standard2 = dml.DoubleMLIRM(obj_dml_data = dml_standard2_data,\n",
    "                               ml_g         = g_Y,\n",
    "                               ml_m         = g_T,\n",
    "                               n_rep        = 1,\n",
    "                               n_folds      = 5)\n",
    "\n",
    "# Оценим параметры\n",
    "dml_standard2.fit()\n",
    "\n",
    "# Посмотрим на результат\n",
    "print(dml_standard2)\n",
    "\n",
    "# Сохраним оценку\n",
    "\n",
    "LATE_dml_standard2 = dml_standard2.coef[0]"
   ]
  },
  {
   "cell_type": "code",
   "execution_count": 109,
   "metadata": {
    "id": "Koi7-ra6xEd1",
    "scrolled": true
   },
   "outputs": [
    {
     "ename": "ValueError",
     "evalue": "This solver needs samples of at least 2 classes in the data, but the data contains only one class: 1",
     "output_type": "error",
     "traceback": [
      "\u001b[1;31m---------------------------------------------------------------------------\u001b[0m",
      "\u001b[1;31mValueError\u001b[0m                                Traceback (most recent call last)",
      "Cell \u001b[1;32mIn[109], line 17\u001b[0m\n\u001b[0;32m      9\u001b[0m dml_iv \u001b[38;5;241m=\u001b[39m dml\u001b[38;5;241m.\u001b[39mDoubleMLIIVM(obj_dml_data \u001b[38;5;241m=\u001b[39m dml_iv_data,\n\u001b[0;32m     10\u001b[0m                                 ml_g         \u001b[38;5;241m=\u001b[39m g_Y,\n\u001b[0;32m     11\u001b[0m                                 ml_m         \u001b[38;5;241m=\u001b[39m g_T,\n\u001b[0;32m     12\u001b[0m                                 ml_r         \u001b[38;5;241m=\u001b[39m g_T,\n\u001b[0;32m     13\u001b[0m                                 n_rep        \u001b[38;5;241m=\u001b[39m \u001b[38;5;241m1\u001b[39m,\n\u001b[0;32m     14\u001b[0m                                 n_folds      \u001b[38;5;241m=\u001b[39m \u001b[38;5;241m2\u001b[39m)\n\u001b[0;32m     16\u001b[0m \u001b[38;5;66;03m# Оценим параметры\u001b[39;00m\n\u001b[1;32m---> 17\u001b[0m \u001b[43mdml_iv\u001b[49m\u001b[38;5;241;43m.\u001b[39;49m\u001b[43mfit\u001b[49m\u001b[43m(\u001b[49m\u001b[43m)\u001b[49m\n\u001b[0;32m     19\u001b[0m \u001b[38;5;66;03m# Посмотрим на результат\u001b[39;00m\n\u001b[0;32m     20\u001b[0m \u001b[38;5;28mprint\u001b[39m(dml_iv)\n",
      "File \u001b[1;32m~\\AppData\\Roaming\\Python\\Python311\\site-packages\\doubleml\\double_ml.py:503\u001b[0m, in \u001b[0;36mDoubleML.fit\u001b[1;34m(self, n_jobs_cv, store_predictions, external_predictions, store_models)\u001b[0m\n\u001b[0;32m    500\u001b[0m     \u001b[38;5;28mself\u001b[39m\u001b[38;5;241m.\u001b[39m_dml_data\u001b[38;5;241m.\u001b[39mset_x_d(\u001b[38;5;28mself\u001b[39m\u001b[38;5;241m.\u001b[39m_dml_data\u001b[38;5;241m.\u001b[39md_cols[i_d])\n\u001b[0;32m    502\u001b[0m \u001b[38;5;66;03m# predictions have to be stored in loop for sensitivity analysis\u001b[39;00m\n\u001b[1;32m--> 503\u001b[0m nuisance_predictions \u001b[38;5;241m=\u001b[39m \u001b[38;5;28;43mself\u001b[39;49m\u001b[38;5;241;43m.\u001b[39;49m\u001b[43m_fit_nuisance_and_score_elements\u001b[49m\u001b[43m(\u001b[49m\n\u001b[0;32m    504\u001b[0m \u001b[43m    \u001b[49m\u001b[43mn_jobs_cv\u001b[49m\u001b[43m,\u001b[49m\n\u001b[0;32m    505\u001b[0m \u001b[43m    \u001b[49m\u001b[43mstore_predictions\u001b[49m\u001b[43m,\u001b[49m\n\u001b[0;32m    506\u001b[0m \u001b[43m    \u001b[49m\u001b[43mexternal_predictions\u001b[49m\u001b[43m,\u001b[49m\n\u001b[0;32m    507\u001b[0m \u001b[43m    \u001b[49m\u001b[43mstore_models\u001b[49m\u001b[43m)\u001b[49m\n\u001b[0;32m    509\u001b[0m \u001b[38;5;28mself\u001b[39m\u001b[38;5;241m.\u001b[39m_solve_score_and_estimate_se()\n\u001b[0;32m    511\u001b[0m \u001b[38;5;66;03m# sensitivity elements can depend on the estimated parameter\u001b[39;00m\n",
      "File \u001b[1;32m~\\AppData\\Roaming\\Python\\Python311\\site-packages\\doubleml\\double_ml.py:966\u001b[0m, in \u001b[0;36mDoubleML._fit_nuisance_and_score_elements\u001b[1;34m(self, n_jobs_cv, store_predictions, external_predictions, store_models)\u001b[0m\n\u001b[0;32m    960\u001b[0m ext_prediction_dict \u001b[38;5;241m=\u001b[39m _set_external_predictions(external_predictions,\n\u001b[0;32m    961\u001b[0m                                                 learners\u001b[38;5;241m=\u001b[39m\u001b[38;5;28mself\u001b[39m\u001b[38;5;241m.\u001b[39mparams_names,\n\u001b[0;32m    962\u001b[0m                                                 treatment\u001b[38;5;241m=\u001b[39m\u001b[38;5;28mself\u001b[39m\u001b[38;5;241m.\u001b[39m_dml_data\u001b[38;5;241m.\u001b[39md_cols[\u001b[38;5;28mself\u001b[39m\u001b[38;5;241m.\u001b[39m_i_treat],\n\u001b[0;32m    963\u001b[0m                                                 i_rep\u001b[38;5;241m=\u001b[39m\u001b[38;5;28mself\u001b[39m\u001b[38;5;241m.\u001b[39m_i_rep)\n\u001b[0;32m    965\u001b[0m \u001b[38;5;66;03m# ml estimation of nuisance models and computation of score elements\u001b[39;00m\n\u001b[1;32m--> 966\u001b[0m score_elements, preds \u001b[38;5;241m=\u001b[39m \u001b[38;5;28;43mself\u001b[39;49m\u001b[38;5;241;43m.\u001b[39;49m\u001b[43m_nuisance_est\u001b[49m\u001b[43m(\u001b[49m\u001b[38;5;28;43mself\u001b[39;49m\u001b[38;5;241;43m.\u001b[39;49m\u001b[43m__smpls\u001b[49m\u001b[43m,\u001b[49m\u001b[43m \u001b[49m\u001b[43mn_jobs_cv\u001b[49m\u001b[43m,\u001b[49m\n\u001b[0;32m    967\u001b[0m \u001b[43m                                           \u001b[49m\u001b[43mexternal_predictions\u001b[49m\u001b[38;5;241;43m=\u001b[39;49m\u001b[43mext_prediction_dict\u001b[49m\u001b[43m,\u001b[49m\n\u001b[0;32m    968\u001b[0m \u001b[43m                                           \u001b[49m\u001b[43mreturn_models\u001b[49m\u001b[38;5;241;43m=\u001b[39;49m\u001b[43mstore_models\u001b[49m\u001b[43m)\u001b[49m\n\u001b[0;32m    970\u001b[0m \u001b[38;5;28mself\u001b[39m\u001b[38;5;241m.\u001b[39m_set_score_elements(score_elements, \u001b[38;5;28mself\u001b[39m\u001b[38;5;241m.\u001b[39m_i_rep, \u001b[38;5;28mself\u001b[39m\u001b[38;5;241m.\u001b[39m_i_treat)\n\u001b[0;32m    972\u001b[0m \u001b[38;5;66;03m# calculate nuisance losses and store predictions and targets of the nuisance models\u001b[39;00m\n",
      "File \u001b[1;32m~\\AppData\\Roaming\\Python\\Python311\\site-packages\\doubleml\\irm\\iivm.py:328\u001b[0m, in \u001b[0;36mDoubleMLIIVM._nuisance_est\u001b[1;34m(self, smpls, n_jobs_cv, external_predictions, return_models)\u001b[0m\n\u001b[0;32m    324\u001b[0m         r_hat1 \u001b[38;5;241m=\u001b[39m {\u001b[38;5;124m'\u001b[39m\u001b[38;5;124mpreds\u001b[39m\u001b[38;5;124m'\u001b[39m: external_predictions[\u001b[38;5;124m'\u001b[39m\u001b[38;5;124mml_r1\u001b[39m\u001b[38;5;124m'\u001b[39m],\n\u001b[0;32m    325\u001b[0m                   \u001b[38;5;124m'\u001b[39m\u001b[38;5;124mtargets\u001b[39m\u001b[38;5;124m'\u001b[39m: \u001b[38;5;28;01mNone\u001b[39;00m,\n\u001b[0;32m    326\u001b[0m                   \u001b[38;5;124m'\u001b[39m\u001b[38;5;124mmodels\u001b[39m\u001b[38;5;124m'\u001b[39m: \u001b[38;5;28;01mNone\u001b[39;00m}\n\u001b[0;32m    327\u001b[0m     \u001b[38;5;28;01melse\u001b[39;00m:\n\u001b[1;32m--> 328\u001b[0m         r_hat1 \u001b[38;5;241m=\u001b[39m \u001b[43m_dml_cv_predict\u001b[49m\u001b[43m(\u001b[49m\u001b[38;5;28;43mself\u001b[39;49m\u001b[38;5;241;43m.\u001b[39;49m\u001b[43m_learner\u001b[49m\u001b[43m[\u001b[49m\u001b[38;5;124;43m'\u001b[39;49m\u001b[38;5;124;43mml_r\u001b[39;49m\u001b[38;5;124;43m'\u001b[39;49m\u001b[43m]\u001b[49m\u001b[43m,\u001b[49m\u001b[43m \u001b[49m\u001b[43mx\u001b[49m\u001b[43m,\u001b[49m\u001b[43m \u001b[49m\u001b[43md\u001b[49m\u001b[43m,\u001b[49m\u001b[43m \u001b[49m\u001b[43msmpls\u001b[49m\u001b[38;5;241;43m=\u001b[39;49m\u001b[43msmpls_z1\u001b[49m\u001b[43m,\u001b[49m\u001b[43m \u001b[49m\u001b[43mn_jobs\u001b[49m\u001b[38;5;241;43m=\u001b[39;49m\u001b[43mn_jobs_cv\u001b[49m\u001b[43m,\u001b[49m\n\u001b[0;32m    329\u001b[0m \u001b[43m                                 \u001b[49m\u001b[43mest_params\u001b[49m\u001b[38;5;241;43m=\u001b[39;49m\u001b[38;5;28;43mself\u001b[39;49m\u001b[38;5;241;43m.\u001b[39;49m\u001b[43m_get_params\u001b[49m\u001b[43m(\u001b[49m\u001b[38;5;124;43m'\u001b[39;49m\u001b[38;5;124;43mml_r1\u001b[39;49m\u001b[38;5;124;43m'\u001b[39;49m\u001b[43m)\u001b[49m\u001b[43m,\u001b[49m\u001b[43m \u001b[49m\u001b[43mmethod\u001b[49m\u001b[38;5;241;43m=\u001b[39;49m\u001b[38;5;28;43mself\u001b[39;49m\u001b[38;5;241;43m.\u001b[39;49m\u001b[43m_predict_method\u001b[49m\u001b[43m[\u001b[49m\u001b[38;5;124;43m'\u001b[39;49m\u001b[38;5;124;43mml_r\u001b[39;49m\u001b[38;5;124;43m'\u001b[39;49m\u001b[43m]\u001b[49m\u001b[43m,\u001b[49m\n\u001b[0;32m    330\u001b[0m \u001b[43m                                 \u001b[49m\u001b[43mreturn_models\u001b[49m\u001b[38;5;241;43m=\u001b[39;49m\u001b[43mreturn_models\u001b[49m\u001b[43m)\u001b[49m\n\u001b[0;32m    331\u001b[0m \u001b[38;5;28;01melse\u001b[39;00m:\n\u001b[0;32m    332\u001b[0m     r_hat1 \u001b[38;5;241m=\u001b[39m {\u001b[38;5;124m'\u001b[39m\u001b[38;5;124mpreds\u001b[39m\u001b[38;5;124m'\u001b[39m: np\u001b[38;5;241m.\u001b[39mones_like(d), \u001b[38;5;124m'\u001b[39m\u001b[38;5;124mtargets\u001b[39m\u001b[38;5;124m'\u001b[39m: np\u001b[38;5;241m.\u001b[39mones_like(d), \u001b[38;5;124m'\u001b[39m\u001b[38;5;124mmodels\u001b[39m\u001b[38;5;124m'\u001b[39m: \u001b[38;5;28;01mNone\u001b[39;00m}\n",
      "File \u001b[1;32m~\\AppData\\Roaming\\Python\\Python311\\site-packages\\doubleml\\utils\\_estimation.py:63\u001b[0m, in \u001b[0;36m_dml_cv_predict\u001b[1;34m(estimator, x, y, smpls, n_jobs, est_params, method, return_train_preds, return_models)\u001b[0m\n\u001b[0;32m     60\u001b[0m \u001b[38;5;28;01mif\u001b[39;00m \u001b[38;5;129;01mnot\u001b[39;00m manual_cv_predict:\n\u001b[0;32m     61\u001b[0m     \u001b[38;5;28;01mif\u001b[39;00m est_params \u001b[38;5;129;01mis\u001b[39;00m \u001b[38;5;28;01mNone\u001b[39;00m:\n\u001b[0;32m     62\u001b[0m         \u001b[38;5;66;03m# if there are no parameters set we redirect to the standard method\u001b[39;00m\n\u001b[1;32m---> 63\u001b[0m         preds \u001b[38;5;241m=\u001b[39m \u001b[43mcross_val_predict\u001b[49m\u001b[43m(\u001b[49m\u001b[43mclone\u001b[49m\u001b[43m(\u001b[49m\u001b[43mestimator\u001b[49m\u001b[43m)\u001b[49m\u001b[43m,\u001b[49m\u001b[43m \u001b[49m\u001b[43mx\u001b[49m\u001b[43m,\u001b[49m\u001b[43m \u001b[49m\u001b[43my\u001b[49m\u001b[43m,\u001b[49m\u001b[43m \u001b[49m\u001b[43mcv\u001b[49m\u001b[38;5;241;43m=\u001b[39;49m\u001b[43msmpls\u001b[49m\u001b[43m,\u001b[49m\u001b[43m \u001b[49m\u001b[43mn_jobs\u001b[49m\u001b[38;5;241;43m=\u001b[39;49m\u001b[43mn_jobs\u001b[49m\u001b[43m,\u001b[49m\u001b[43m \u001b[49m\u001b[43mmethod\u001b[49m\u001b[38;5;241;43m=\u001b[39;49m\u001b[43mmethod\u001b[49m\u001b[43m)\u001b[49m\n\u001b[0;32m     64\u001b[0m     \u001b[38;5;28;01melse\u001b[39;00m:\n\u001b[0;32m     65\u001b[0m         \u001b[38;5;28;01massert\u001b[39;00m \u001b[38;5;28misinstance\u001b[39m(est_params, \u001b[38;5;28mdict\u001b[39m)\n",
      "File \u001b[1;32m~\\AppData\\Roaming\\Python\\Python311\\site-packages\\sklearn\\utils\\_param_validation.py:213\u001b[0m, in \u001b[0;36mvalidate_params.<locals>.decorator.<locals>.wrapper\u001b[1;34m(*args, **kwargs)\u001b[0m\n\u001b[0;32m    207\u001b[0m \u001b[38;5;28;01mtry\u001b[39;00m:\n\u001b[0;32m    208\u001b[0m     \u001b[38;5;28;01mwith\u001b[39;00m config_context(\n\u001b[0;32m    209\u001b[0m         skip_parameter_validation\u001b[38;5;241m=\u001b[39m(\n\u001b[0;32m    210\u001b[0m             prefer_skip_nested_validation \u001b[38;5;129;01mor\u001b[39;00m global_skip_validation\n\u001b[0;32m    211\u001b[0m         )\n\u001b[0;32m    212\u001b[0m     ):\n\u001b[1;32m--> 213\u001b[0m         \u001b[38;5;28;01mreturn\u001b[39;00m \u001b[43mfunc\u001b[49m\u001b[43m(\u001b[49m\u001b[38;5;241;43m*\u001b[39;49m\u001b[43margs\u001b[49m\u001b[43m,\u001b[49m\u001b[43m \u001b[49m\u001b[38;5;241;43m*\u001b[39;49m\u001b[38;5;241;43m*\u001b[39;49m\u001b[43mkwargs\u001b[49m\u001b[43m)\u001b[49m\n\u001b[0;32m    214\u001b[0m \u001b[38;5;28;01mexcept\u001b[39;00m InvalidParameterError \u001b[38;5;28;01mas\u001b[39;00m e:\n\u001b[0;32m    215\u001b[0m     \u001b[38;5;66;03m# When the function is just a wrapper around an estimator, we allow\u001b[39;00m\n\u001b[0;32m    216\u001b[0m     \u001b[38;5;66;03m# the function to delegate validation to the estimator, but we replace\u001b[39;00m\n\u001b[0;32m    217\u001b[0m     \u001b[38;5;66;03m# the name of the estimator by the name of the function in the error\u001b[39;00m\n\u001b[0;32m    218\u001b[0m     \u001b[38;5;66;03m# message to avoid confusion.\u001b[39;00m\n\u001b[0;32m    219\u001b[0m     msg \u001b[38;5;241m=\u001b[39m re\u001b[38;5;241m.\u001b[39msub(\n\u001b[0;32m    220\u001b[0m         \u001b[38;5;124mr\u001b[39m\u001b[38;5;124m\"\u001b[39m\u001b[38;5;124mparameter of \u001b[39m\u001b[38;5;124m\\\u001b[39m\u001b[38;5;124mw+ must be\u001b[39m\u001b[38;5;124m\"\u001b[39m,\n\u001b[0;32m    221\u001b[0m         \u001b[38;5;124mf\u001b[39m\u001b[38;5;124m\"\u001b[39m\u001b[38;5;124mparameter of \u001b[39m\u001b[38;5;132;01m{\u001b[39;00mfunc\u001b[38;5;241m.\u001b[39m\u001b[38;5;18m__qualname__\u001b[39m\u001b[38;5;132;01m}\u001b[39;00m\u001b[38;5;124m must be\u001b[39m\u001b[38;5;124m\"\u001b[39m,\n\u001b[0;32m    222\u001b[0m         \u001b[38;5;28mstr\u001b[39m(e),\n\u001b[0;32m    223\u001b[0m     )\n",
      "File \u001b[1;32m~\\AppData\\Roaming\\Python\\Python311\\site-packages\\sklearn\\model_selection\\_validation.py:1282\u001b[0m, in \u001b[0;36mcross_val_predict\u001b[1;34m(estimator, X, y, groups, cv, n_jobs, verbose, fit_params, params, pre_dispatch, method)\u001b[0m\n\u001b[0;32m   1279\u001b[0m \u001b[38;5;66;03m# We clone the estimator to make sure that all the folds are\u001b[39;00m\n\u001b[0;32m   1280\u001b[0m \u001b[38;5;66;03m# independent, and that it is pickle-able.\u001b[39;00m\n\u001b[0;32m   1281\u001b[0m parallel \u001b[38;5;241m=\u001b[39m Parallel(n_jobs\u001b[38;5;241m=\u001b[39mn_jobs, verbose\u001b[38;5;241m=\u001b[39mverbose, pre_dispatch\u001b[38;5;241m=\u001b[39mpre_dispatch)\n\u001b[1;32m-> 1282\u001b[0m predictions \u001b[38;5;241m=\u001b[39m \u001b[43mparallel\u001b[49m\u001b[43m(\u001b[49m\n\u001b[0;32m   1283\u001b[0m \u001b[43m    \u001b[49m\u001b[43mdelayed\u001b[49m\u001b[43m(\u001b[49m\u001b[43m_fit_and_predict\u001b[49m\u001b[43m)\u001b[49m\u001b[43m(\u001b[49m\n\u001b[0;32m   1284\u001b[0m \u001b[43m        \u001b[49m\u001b[43mclone\u001b[49m\u001b[43m(\u001b[49m\u001b[43mestimator\u001b[49m\u001b[43m)\u001b[49m\u001b[43m,\u001b[49m\n\u001b[0;32m   1285\u001b[0m \u001b[43m        \u001b[49m\u001b[43mX\u001b[49m\u001b[43m,\u001b[49m\n\u001b[0;32m   1286\u001b[0m \u001b[43m        \u001b[49m\u001b[43my\u001b[49m\u001b[43m,\u001b[49m\n\u001b[0;32m   1287\u001b[0m \u001b[43m        \u001b[49m\u001b[43mtrain\u001b[49m\u001b[43m,\u001b[49m\n\u001b[0;32m   1288\u001b[0m \u001b[43m        \u001b[49m\u001b[43mtest\u001b[49m\u001b[43m,\u001b[49m\n\u001b[0;32m   1289\u001b[0m \u001b[43m        \u001b[49m\u001b[43mrouted_params\u001b[49m\u001b[38;5;241;43m.\u001b[39;49m\u001b[43mestimator\u001b[49m\u001b[38;5;241;43m.\u001b[39;49m\u001b[43mfit\u001b[49m\u001b[43m,\u001b[49m\n\u001b[0;32m   1290\u001b[0m \u001b[43m        \u001b[49m\u001b[43mmethod\u001b[49m\u001b[43m,\u001b[49m\n\u001b[0;32m   1291\u001b[0m \u001b[43m    \u001b[49m\u001b[43m)\u001b[49m\n\u001b[0;32m   1292\u001b[0m \u001b[43m    \u001b[49m\u001b[38;5;28;43;01mfor\u001b[39;49;00m\u001b[43m \u001b[49m\u001b[43mtrain\u001b[49m\u001b[43m,\u001b[49m\u001b[43m \u001b[49m\u001b[43mtest\u001b[49m\u001b[43m \u001b[49m\u001b[38;5;129;43;01min\u001b[39;49;00m\u001b[43m \u001b[49m\u001b[43msplits\u001b[49m\n\u001b[0;32m   1293\u001b[0m \u001b[43m\u001b[49m\u001b[43m)\u001b[49m\n\u001b[0;32m   1295\u001b[0m inv_test_indices \u001b[38;5;241m=\u001b[39m np\u001b[38;5;241m.\u001b[39mempty(\u001b[38;5;28mlen\u001b[39m(test_indices), dtype\u001b[38;5;241m=\u001b[39m\u001b[38;5;28mint\u001b[39m)\n\u001b[0;32m   1296\u001b[0m inv_test_indices[test_indices] \u001b[38;5;241m=\u001b[39m np\u001b[38;5;241m.\u001b[39marange(\u001b[38;5;28mlen\u001b[39m(test_indices))\n",
      "File \u001b[1;32m~\\AppData\\Roaming\\Python\\Python311\\site-packages\\sklearn\\utils\\parallel.py:74\u001b[0m, in \u001b[0;36mParallel.__call__\u001b[1;34m(self, iterable)\u001b[0m\n\u001b[0;32m     69\u001b[0m config \u001b[38;5;241m=\u001b[39m get_config()\n\u001b[0;32m     70\u001b[0m iterable_with_config \u001b[38;5;241m=\u001b[39m (\n\u001b[0;32m     71\u001b[0m     (_with_config(delayed_func, config), args, kwargs)\n\u001b[0;32m     72\u001b[0m     \u001b[38;5;28;01mfor\u001b[39;00m delayed_func, args, kwargs \u001b[38;5;129;01min\u001b[39;00m iterable\n\u001b[0;32m     73\u001b[0m )\n\u001b[1;32m---> 74\u001b[0m \u001b[38;5;28;01mreturn\u001b[39;00m \u001b[38;5;28;43msuper\u001b[39;49m\u001b[43m(\u001b[49m\u001b[43m)\u001b[49m\u001b[38;5;241;43m.\u001b[39;49m\u001b[38;5;21;43m__call__\u001b[39;49m\u001b[43m(\u001b[49m\u001b[43miterable_with_config\u001b[49m\u001b[43m)\u001b[49m\n",
      "File \u001b[1;32mC:\\ProgramData\\anaconda3\\Lib\\site-packages\\joblib\\parallel.py:1085\u001b[0m, in \u001b[0;36mParallel.__call__\u001b[1;34m(self, iterable)\u001b[0m\n\u001b[0;32m   1076\u001b[0m \u001b[38;5;28;01mtry\u001b[39;00m:\n\u001b[0;32m   1077\u001b[0m     \u001b[38;5;66;03m# Only set self._iterating to True if at least a batch\u001b[39;00m\n\u001b[0;32m   1078\u001b[0m     \u001b[38;5;66;03m# was dispatched. In particular this covers the edge\u001b[39;00m\n\u001b[1;32m   (...)\u001b[0m\n\u001b[0;32m   1082\u001b[0m     \u001b[38;5;66;03m# was very quick and its callback already dispatched all the\u001b[39;00m\n\u001b[0;32m   1083\u001b[0m     \u001b[38;5;66;03m# remaining jobs.\u001b[39;00m\n\u001b[0;32m   1084\u001b[0m     \u001b[38;5;28mself\u001b[39m\u001b[38;5;241m.\u001b[39m_iterating \u001b[38;5;241m=\u001b[39m \u001b[38;5;28;01mFalse\u001b[39;00m\n\u001b[1;32m-> 1085\u001b[0m     \u001b[38;5;28;01mif\u001b[39;00m \u001b[38;5;28;43mself\u001b[39;49m\u001b[38;5;241;43m.\u001b[39;49m\u001b[43mdispatch_one_batch\u001b[49m\u001b[43m(\u001b[49m\u001b[43miterator\u001b[49m\u001b[43m)\u001b[49m:\n\u001b[0;32m   1086\u001b[0m         \u001b[38;5;28mself\u001b[39m\u001b[38;5;241m.\u001b[39m_iterating \u001b[38;5;241m=\u001b[39m \u001b[38;5;28mself\u001b[39m\u001b[38;5;241m.\u001b[39m_original_iterator \u001b[38;5;129;01mis\u001b[39;00m \u001b[38;5;129;01mnot\u001b[39;00m \u001b[38;5;28;01mNone\u001b[39;00m\n\u001b[0;32m   1088\u001b[0m     \u001b[38;5;28;01mwhile\u001b[39;00m \u001b[38;5;28mself\u001b[39m\u001b[38;5;241m.\u001b[39mdispatch_one_batch(iterator):\n",
      "File \u001b[1;32mC:\\ProgramData\\anaconda3\\Lib\\site-packages\\joblib\\parallel.py:901\u001b[0m, in \u001b[0;36mParallel.dispatch_one_batch\u001b[1;34m(self, iterator)\u001b[0m\n\u001b[0;32m    899\u001b[0m     \u001b[38;5;28;01mreturn\u001b[39;00m \u001b[38;5;28;01mFalse\u001b[39;00m\n\u001b[0;32m    900\u001b[0m \u001b[38;5;28;01melse\u001b[39;00m:\n\u001b[1;32m--> 901\u001b[0m     \u001b[38;5;28;43mself\u001b[39;49m\u001b[38;5;241;43m.\u001b[39;49m\u001b[43m_dispatch\u001b[49m\u001b[43m(\u001b[49m\u001b[43mtasks\u001b[49m\u001b[43m)\u001b[49m\n\u001b[0;32m    902\u001b[0m     \u001b[38;5;28;01mreturn\u001b[39;00m \u001b[38;5;28;01mTrue\u001b[39;00m\n",
      "File \u001b[1;32mC:\\ProgramData\\anaconda3\\Lib\\site-packages\\joblib\\parallel.py:819\u001b[0m, in \u001b[0;36mParallel._dispatch\u001b[1;34m(self, batch)\u001b[0m\n\u001b[0;32m    817\u001b[0m \u001b[38;5;28;01mwith\u001b[39;00m \u001b[38;5;28mself\u001b[39m\u001b[38;5;241m.\u001b[39m_lock:\n\u001b[0;32m    818\u001b[0m     job_idx \u001b[38;5;241m=\u001b[39m \u001b[38;5;28mlen\u001b[39m(\u001b[38;5;28mself\u001b[39m\u001b[38;5;241m.\u001b[39m_jobs)\n\u001b[1;32m--> 819\u001b[0m     job \u001b[38;5;241m=\u001b[39m \u001b[38;5;28;43mself\u001b[39;49m\u001b[38;5;241;43m.\u001b[39;49m\u001b[43m_backend\u001b[49m\u001b[38;5;241;43m.\u001b[39;49m\u001b[43mapply_async\u001b[49m\u001b[43m(\u001b[49m\u001b[43mbatch\u001b[49m\u001b[43m,\u001b[49m\u001b[43m \u001b[49m\u001b[43mcallback\u001b[49m\u001b[38;5;241;43m=\u001b[39;49m\u001b[43mcb\u001b[49m\u001b[43m)\u001b[49m\n\u001b[0;32m    820\u001b[0m     \u001b[38;5;66;03m# A job can complete so quickly than its callback is\u001b[39;00m\n\u001b[0;32m    821\u001b[0m     \u001b[38;5;66;03m# called before we get here, causing self._jobs to\u001b[39;00m\n\u001b[0;32m    822\u001b[0m     \u001b[38;5;66;03m# grow. To ensure correct results ordering, .insert is\u001b[39;00m\n\u001b[0;32m    823\u001b[0m     \u001b[38;5;66;03m# used (rather than .append) in the following line\u001b[39;00m\n\u001b[0;32m    824\u001b[0m     \u001b[38;5;28mself\u001b[39m\u001b[38;5;241m.\u001b[39m_jobs\u001b[38;5;241m.\u001b[39minsert(job_idx, job)\n",
      "File \u001b[1;32mC:\\ProgramData\\anaconda3\\Lib\\site-packages\\joblib\\_parallel_backends.py:208\u001b[0m, in \u001b[0;36mSequentialBackend.apply_async\u001b[1;34m(self, func, callback)\u001b[0m\n\u001b[0;32m    206\u001b[0m \u001b[38;5;28;01mdef\u001b[39;00m \u001b[38;5;21mapply_async\u001b[39m(\u001b[38;5;28mself\u001b[39m, func, callback\u001b[38;5;241m=\u001b[39m\u001b[38;5;28;01mNone\u001b[39;00m):\n\u001b[0;32m    207\u001b[0m \u001b[38;5;250m    \u001b[39m\u001b[38;5;124;03m\"\"\"Schedule a func to be run\"\"\"\u001b[39;00m\n\u001b[1;32m--> 208\u001b[0m     result \u001b[38;5;241m=\u001b[39m \u001b[43mImmediateResult\u001b[49m\u001b[43m(\u001b[49m\u001b[43mfunc\u001b[49m\u001b[43m)\u001b[49m\n\u001b[0;32m    209\u001b[0m     \u001b[38;5;28;01mif\u001b[39;00m callback:\n\u001b[0;32m    210\u001b[0m         callback(result)\n",
      "File \u001b[1;32mC:\\ProgramData\\anaconda3\\Lib\\site-packages\\joblib\\_parallel_backends.py:597\u001b[0m, in \u001b[0;36mImmediateResult.__init__\u001b[1;34m(self, batch)\u001b[0m\n\u001b[0;32m    594\u001b[0m \u001b[38;5;28;01mdef\u001b[39;00m \u001b[38;5;21m__init__\u001b[39m(\u001b[38;5;28mself\u001b[39m, batch):\n\u001b[0;32m    595\u001b[0m     \u001b[38;5;66;03m# Don't delay the application, to avoid keeping the input\u001b[39;00m\n\u001b[0;32m    596\u001b[0m     \u001b[38;5;66;03m# arguments in memory\u001b[39;00m\n\u001b[1;32m--> 597\u001b[0m     \u001b[38;5;28mself\u001b[39m\u001b[38;5;241m.\u001b[39mresults \u001b[38;5;241m=\u001b[39m \u001b[43mbatch\u001b[49m\u001b[43m(\u001b[49m\u001b[43m)\u001b[49m\n",
      "File \u001b[1;32mC:\\ProgramData\\anaconda3\\Lib\\site-packages\\joblib\\parallel.py:288\u001b[0m, in \u001b[0;36mBatchedCalls.__call__\u001b[1;34m(self)\u001b[0m\n\u001b[0;32m    284\u001b[0m \u001b[38;5;28;01mdef\u001b[39;00m \u001b[38;5;21m__call__\u001b[39m(\u001b[38;5;28mself\u001b[39m):\n\u001b[0;32m    285\u001b[0m     \u001b[38;5;66;03m# Set the default nested backend to self._backend but do not set the\u001b[39;00m\n\u001b[0;32m    286\u001b[0m     \u001b[38;5;66;03m# change the default number of processes to -1\u001b[39;00m\n\u001b[0;32m    287\u001b[0m     \u001b[38;5;28;01mwith\u001b[39;00m parallel_backend(\u001b[38;5;28mself\u001b[39m\u001b[38;5;241m.\u001b[39m_backend, n_jobs\u001b[38;5;241m=\u001b[39m\u001b[38;5;28mself\u001b[39m\u001b[38;5;241m.\u001b[39m_n_jobs):\n\u001b[1;32m--> 288\u001b[0m         \u001b[38;5;28;01mreturn\u001b[39;00m \u001b[43m[\u001b[49m\u001b[43mfunc\u001b[49m\u001b[43m(\u001b[49m\u001b[38;5;241;43m*\u001b[39;49m\u001b[43margs\u001b[49m\u001b[43m,\u001b[49m\u001b[43m \u001b[49m\u001b[38;5;241;43m*\u001b[39;49m\u001b[38;5;241;43m*\u001b[39;49m\u001b[43mkwargs\u001b[49m\u001b[43m)\u001b[49m\n\u001b[0;32m    289\u001b[0m \u001b[43m                \u001b[49m\u001b[38;5;28;43;01mfor\u001b[39;49;00m\u001b[43m \u001b[49m\u001b[43mfunc\u001b[49m\u001b[43m,\u001b[49m\u001b[43m \u001b[49m\u001b[43margs\u001b[49m\u001b[43m,\u001b[49m\u001b[43m \u001b[49m\u001b[43mkwargs\u001b[49m\u001b[43m \u001b[49m\u001b[38;5;129;43;01min\u001b[39;49;00m\u001b[43m \u001b[49m\u001b[38;5;28;43mself\u001b[39;49m\u001b[38;5;241;43m.\u001b[39;49m\u001b[43mitems\u001b[49m\u001b[43m]\u001b[49m\n",
      "File \u001b[1;32mC:\\ProgramData\\anaconda3\\Lib\\site-packages\\joblib\\parallel.py:288\u001b[0m, in \u001b[0;36m<listcomp>\u001b[1;34m(.0)\u001b[0m\n\u001b[0;32m    284\u001b[0m \u001b[38;5;28;01mdef\u001b[39;00m \u001b[38;5;21m__call__\u001b[39m(\u001b[38;5;28mself\u001b[39m):\n\u001b[0;32m    285\u001b[0m     \u001b[38;5;66;03m# Set the default nested backend to self._backend but do not set the\u001b[39;00m\n\u001b[0;32m    286\u001b[0m     \u001b[38;5;66;03m# change the default number of processes to -1\u001b[39;00m\n\u001b[0;32m    287\u001b[0m     \u001b[38;5;28;01mwith\u001b[39;00m parallel_backend(\u001b[38;5;28mself\u001b[39m\u001b[38;5;241m.\u001b[39m_backend, n_jobs\u001b[38;5;241m=\u001b[39m\u001b[38;5;28mself\u001b[39m\u001b[38;5;241m.\u001b[39m_n_jobs):\n\u001b[1;32m--> 288\u001b[0m         \u001b[38;5;28;01mreturn\u001b[39;00m [\u001b[43mfunc\u001b[49m\u001b[43m(\u001b[49m\u001b[38;5;241;43m*\u001b[39;49m\u001b[43margs\u001b[49m\u001b[43m,\u001b[49m\u001b[43m \u001b[49m\u001b[38;5;241;43m*\u001b[39;49m\u001b[38;5;241;43m*\u001b[39;49m\u001b[43mkwargs\u001b[49m\u001b[43m)\u001b[49m\n\u001b[0;32m    289\u001b[0m                 \u001b[38;5;28;01mfor\u001b[39;00m func, args, kwargs \u001b[38;5;129;01min\u001b[39;00m \u001b[38;5;28mself\u001b[39m\u001b[38;5;241m.\u001b[39mitems]\n",
      "File \u001b[1;32m~\\AppData\\Roaming\\Python\\Python311\\site-packages\\sklearn\\utils\\parallel.py:136\u001b[0m, in \u001b[0;36m_FuncWrapper.__call__\u001b[1;34m(self, *args, **kwargs)\u001b[0m\n\u001b[0;32m    134\u001b[0m     config \u001b[38;5;241m=\u001b[39m {}\n\u001b[0;32m    135\u001b[0m \u001b[38;5;28;01mwith\u001b[39;00m config_context(\u001b[38;5;241m*\u001b[39m\u001b[38;5;241m*\u001b[39mconfig):\n\u001b[1;32m--> 136\u001b[0m     \u001b[38;5;28;01mreturn\u001b[39;00m \u001b[38;5;28;43mself\u001b[39;49m\u001b[38;5;241;43m.\u001b[39;49m\u001b[43mfunction\u001b[49m\u001b[43m(\u001b[49m\u001b[38;5;241;43m*\u001b[39;49m\u001b[43margs\u001b[49m\u001b[43m,\u001b[49m\u001b[43m \u001b[49m\u001b[38;5;241;43m*\u001b[39;49m\u001b[38;5;241;43m*\u001b[39;49m\u001b[43mkwargs\u001b[49m\u001b[43m)\u001b[49m\n",
      "File \u001b[1;32m~\\AppData\\Roaming\\Python\\Python311\\site-packages\\sklearn\\model_selection\\_validation.py:1367\u001b[0m, in \u001b[0;36m_fit_and_predict\u001b[1;34m(estimator, X, y, train, test, fit_params, method)\u001b[0m\n\u001b[0;32m   1365\u001b[0m     estimator\u001b[38;5;241m.\u001b[39mfit(X_train, \u001b[38;5;241m*\u001b[39m\u001b[38;5;241m*\u001b[39mfit_params)\n\u001b[0;32m   1366\u001b[0m \u001b[38;5;28;01melse\u001b[39;00m:\n\u001b[1;32m-> 1367\u001b[0m     \u001b[43mestimator\u001b[49m\u001b[38;5;241;43m.\u001b[39;49m\u001b[43mfit\u001b[49m\u001b[43m(\u001b[49m\u001b[43mX_train\u001b[49m\u001b[43m,\u001b[49m\u001b[43m \u001b[49m\u001b[43my_train\u001b[49m\u001b[43m,\u001b[49m\u001b[43m \u001b[49m\u001b[38;5;241;43m*\u001b[39;49m\u001b[38;5;241;43m*\u001b[39;49m\u001b[43mfit_params\u001b[49m\u001b[43m)\u001b[49m\n\u001b[0;32m   1368\u001b[0m func \u001b[38;5;241m=\u001b[39m \u001b[38;5;28mgetattr\u001b[39m(estimator, method)\n\u001b[0;32m   1369\u001b[0m predictions \u001b[38;5;241m=\u001b[39m func(X_test)\n",
      "File \u001b[1;32m~\\AppData\\Roaming\\Python\\Python311\\site-packages\\sklearn\\base.py:1473\u001b[0m, in \u001b[0;36m_fit_context.<locals>.decorator.<locals>.wrapper\u001b[1;34m(estimator, *args, **kwargs)\u001b[0m\n\u001b[0;32m   1466\u001b[0m     estimator\u001b[38;5;241m.\u001b[39m_validate_params()\n\u001b[0;32m   1468\u001b[0m \u001b[38;5;28;01mwith\u001b[39;00m config_context(\n\u001b[0;32m   1469\u001b[0m     skip_parameter_validation\u001b[38;5;241m=\u001b[39m(\n\u001b[0;32m   1470\u001b[0m         prefer_skip_nested_validation \u001b[38;5;129;01mor\u001b[39;00m global_skip_validation\n\u001b[0;32m   1471\u001b[0m     )\n\u001b[0;32m   1472\u001b[0m ):\n\u001b[1;32m-> 1473\u001b[0m     \u001b[38;5;28;01mreturn\u001b[39;00m \u001b[43mfit_method\u001b[49m\u001b[43m(\u001b[49m\u001b[43mestimator\u001b[49m\u001b[43m,\u001b[49m\u001b[43m \u001b[49m\u001b[38;5;241;43m*\u001b[39;49m\u001b[43margs\u001b[49m\u001b[43m,\u001b[49m\u001b[43m \u001b[49m\u001b[38;5;241;43m*\u001b[39;49m\u001b[38;5;241;43m*\u001b[39;49m\u001b[43mkwargs\u001b[49m\u001b[43m)\u001b[49m\n",
      "File \u001b[1;32m~\\AppData\\Roaming\\Python\\Python311\\site-packages\\sklearn\\linear_model\\_logistic.py:1301\u001b[0m, in \u001b[0;36mLogisticRegression.fit\u001b[1;34m(self, X, y, sample_weight)\u001b[0m\n\u001b[0;32m   1299\u001b[0m classes_ \u001b[38;5;241m=\u001b[39m \u001b[38;5;28mself\u001b[39m\u001b[38;5;241m.\u001b[39mclasses_\n\u001b[0;32m   1300\u001b[0m \u001b[38;5;28;01mif\u001b[39;00m n_classes \u001b[38;5;241m<\u001b[39m \u001b[38;5;241m2\u001b[39m:\n\u001b[1;32m-> 1301\u001b[0m     \u001b[38;5;28;01mraise\u001b[39;00m \u001b[38;5;167;01mValueError\u001b[39;00m(\n\u001b[0;32m   1302\u001b[0m         \u001b[38;5;124m\"\u001b[39m\u001b[38;5;124mThis solver needs samples of at least 2 classes\u001b[39m\u001b[38;5;124m\"\u001b[39m\n\u001b[0;32m   1303\u001b[0m         \u001b[38;5;124m\"\u001b[39m\u001b[38;5;124m in the data, but the data contains only one\u001b[39m\u001b[38;5;124m\"\u001b[39m\n\u001b[0;32m   1304\u001b[0m         \u001b[38;5;124m\"\u001b[39m\u001b[38;5;124m class: \u001b[39m\u001b[38;5;132;01m%r\u001b[39;00m\u001b[38;5;124m\"\u001b[39m \u001b[38;5;241m%\u001b[39m classes_[\u001b[38;5;241m0\u001b[39m]\n\u001b[0;32m   1305\u001b[0m     )\n\u001b[0;32m   1307\u001b[0m \u001b[38;5;28;01mif\u001b[39;00m \u001b[38;5;28mlen\u001b[39m(\u001b[38;5;28mself\u001b[39m\u001b[38;5;241m.\u001b[39mclasses_) \u001b[38;5;241m==\u001b[39m \u001b[38;5;241m2\u001b[39m:\n\u001b[0;32m   1308\u001b[0m     n_classes \u001b[38;5;241m=\u001b[39m \u001b[38;5;241m1\u001b[39m\n",
      "\u001b[1;31mValueError\u001b[0m: This solver needs samples of at least 2 classes in the data, but the data contains only one class: 1"
     ]
    }
   ],
   "source": [
    "# Данные в формате, необходимом для применения DML\n",
    "dml_iv_data = dml.DoubleMLData(data   = df,\n",
    "                               y_col  = 'Happiness',\n",
    "                               d_cols = 'Music',\n",
    "                               z_cols = 'Subs',\n",
    "                               x_cols = ['Wage', 'Hobby', 'Fam', 'Health'])\n",
    "\n",
    "# Подготовка объекта\n",
    "dml_iv = dml.DoubleMLIIVM(obj_dml_data = dml_iv_data,\n",
    "                                ml_g         = g_Y,\n",
    "                                ml_m         = g_T,\n",
    "                                ml_r         = g_T,\n",
    "                                n_rep        = 1,\n",
    "                                n_folds      = 2)\n",
    "\n",
    "# Оценим параметры\n",
    "dml_iv.fit()\n",
    "\n",
    "# Посмотрим на результат\n",
    "print(dml_iv)\n",
    "\n",
    "# Сохраним оценку\n",
    "\n",
    "LATE_dml_iv = dml_iv.coef[0]"
   ]
  },
  {
   "cell_type": "code",
   "execution_count": 110,
   "metadata": {
    "id": "r30G6s-9xEd1"
   },
   "outputs": [
    {
     "name": "stdout",
     "output_type": "stream",
     "text": [
      "                      Оценка\n",
      "ATE                 0.191002\n",
      "LATE                0.025840\n",
      "LATE dml standard2  4.450199\n"
     ]
    }
   ],
   "source": [
    "# Сопоставим результаты\n",
    "print(pd.DataFrame(data    = [ate, late, LATE_dml_standard2],\n",
    "                   index   = ['ATE', 'LATE', 'LATE dml standard2'],\n",
    "                   columns = ['Оценка']))"
   ]
  },
  {
   "cell_type": "markdown",
   "metadata": {
    "id": "V5KTRnZ9xEd1"
   },
   "source": [
    "6. Оцените условные средние эффекты воздействия с помощью:\n",
    "* метода наименьших квадратов.\n",
    "* S-learner.\n",
    "* T-learner.\n",
    "* метода трансформации классов.\n",
    "* X-learner. \\\n",
    "\\\n",
    "Сравните результаты и обсудите, насколько в вашем случае мотивированы применение метода X-learner. Опишите, как можно было бы использовать полученные вами оценки в бизнесе или при реализации государственных программ. \\\n",
    "**Повышенная сложность:** включите дополнительный метод, не рассматривавшийся в курсе и опишите его принцип работы, а также преимущества и недостатки по сравнению с другими методами."
   ]
  },
  {
   "cell_type": "code",
   "execution_count": 111,
   "metadata": {
    "id": "NISP7ryWxEd1"
   },
   "outputs": [],
   "source": [
    "# МНК\n",
    "\n",
    "# Оценим средний эффект воздействия с помощью МНК\n",
    "\n",
    "# МНК оценивание уравнения зарплаты для\n",
    "# индивидов, не слушающих музыку\n",
    "y0  = df[df['Music'] == 0]['Happiness']\n",
    "x0  = df[df['Music'] == 0].drop(['Music', 'Subs', 'Happiness'], axis = 1)\n",
    "x0  = sm.add_constant(x0)\n",
    "ls0 = sm.OLS(y0, x0).fit()\n",
    "\n",
    "# МНК оценивание уравнения зарплаты для\n",
    "# индивидов с высшим образованием\n",
    "y1  = df[df['Music'] == 1]['Happiness']\n",
    "x1  = df[df['Music'] == 1].drop(['Music', 'Subs', 'Happiness'], axis = 1)\n",
    "x1  = sm.add_constant(x1)\n",
    "ls1 = sm.OLS(y1, x1).fit()\n",
    "\n",
    "# Оценим зарплаты при наличии и отсутствия высшего образования\n",
    "# с помощью полученных МНК оценок\n",
    "x = df.drop(['Music', 'Subs', 'Happiness'], axis = 1)\n",
    "x = sm.add_constant(x)\n",
    "\n",
    "# МНК оценка E(happy0 | X) для всех индивидов\n",
    "happy0_ls = ls0.predict(x)\n",
    "# МНК оценка E(happy1 | X) для всех индивидов\n",
    "happy1_ls = ls1.predict(x)\n",
    "\n",
    "# Оценки CATE\n",
    "CATE_ls = np.array(happy1_ls - happy0_ls)"
   ]
  },
  {
   "cell_type": "code",
   "execution_count": 112,
   "metadata": {
    "id": "BX0s297ZxEd1"
   },
   "outputs": [],
   "source": [
    "# S-learner\n",
    "\n",
    "# Подготовим данные\n",
    "y = df['Happiness']\n",
    "x_s = df.drop(['Subs', 'Happiness'], axis = 1)\n",
    "\n",
    "# Подготовка единой модели\n",
    "rf2 = GradientBoostingRegressor(**best_reg.get_params())\n",
    "rf2.fit(x_s, y)\n",
    "\n",
    "# Оценки E(happiness | X, music = 0) для всех индивидов,\n",
    "# в том числе для тех, у кого (music = 1).\n",
    "x0_s         = deepcopy(x_s)\n",
    "x0_s[\"Music\"] = 0\n",
    "wage0_rf2  = rf2.predict(x0_s)\n",
    "\n",
    "# Оценки E(happiness | X, music = 1) для всех индивидов,\n",
    "# в том числе для тех, у кого (music = 0).\n",
    "x1_s          = deepcopy(x_s)\n",
    "x1_s[\"Music\"] = 1\n",
    "wage1_rf2  = rf2.predict(x1_s)\n",
    "\n",
    "# Оценки CATE\n",
    "CATE_S = wage1_rf2 - wage0_rf2"
   ]
  },
  {
   "cell_type": "code",
   "execution_count": 113,
   "metadata": {
    "id": "yJfpgQPbxEd1"
   },
   "outputs": [],
   "source": [
    "# Оценивание CATE с помощью T-learner\n",
    "\n",
    "rf = GradientBoostingRegressor(**best_reg.get_params())\n",
    "\n",
    "# Обучение оценивать E(happiness | X, music = 0)\n",
    "rf.fit(x0, y0)\n",
    "\n",
    "# Оценки E(happiness | X, music = 0) для всех индивидов,\n",
    "# в том числе для тех, у кого (music = 1).\n",
    "happy0_rf = rf.predict(x)\n",
    "\n",
    "# Обучение оценивать E(happiness | X, music = 1)\n",
    "rf.fit(x1, y1)\n",
    "\n",
    "# Оценки E(happiness | X, music = 1) для всех индивидов,\n",
    "# в том числе для тех, у кого (music = 0).\n",
    "happy1_rf = rf.predict(x)\n",
    "\n",
    "# Оценки CATE\n",
    "CATE_T = happy1_rf - happy0_rf"
   ]
  },
  {
   "cell_type": "markdown",
   "metadata": {
    "id": "XssCtAsMxEd1"
   },
   "source": [
    "Методом трансформации классов условные эффекты воздействия оцениваются как:\n",
    "$$\\widehat{\\text{CATE}}_{i}^{\\text{IPW}}=\\hat{\\text{E}}(\\widehat{\\text{Happiness}}_{i}^{*}|X_{i})$$\n",
    "\n",
    "Где $\\hat{\\text{E}}(\\widehat{\\text{Hapiness}}_{i}^{*}|X_{i})$ это оценка условного математического ожидания оценки псевдоисхода, определяемой как:\n",
    "\n",
    "$$\\widehat{\\text{Hapiness}}_{i}^{*} = \\frac{\\text{Music}_{i}\\times\\text{Hapiness}_{i}}{\\hat{P}\\left(\\text{Music}_{i}=1|X_{i}\\right)} - \\frac{\\left(1 - \\text{Music}_{i}\\right)\\times\\text{Hapiness}_{i}}{1 - \\hat{P}\\left(\\text{Music}_{i}=1|X_{i}\\right)}$$"
   ]
  },
  {
   "cell_type": "code",
   "execution_count": 114,
   "metadata": {
    "id": "j100PqCexEd1"
   },
   "outputs": [],
   "source": [
    "# Оценим CATE методом трансформации классов\n",
    "\n",
    "features = df.drop(['Music', 'Subs', 'Happiness'], axis = 1)\n",
    "# Метод прогнозирования условных математических ожиданий оценок псевдоисходов\n",
    "rf3 = GradientBoostingRegressor(**best_reg.get_params())\n",
    "rf3.fit(features, happiness_pseudo)\n",
    "\n",
    "# Оценки CATE (метод трансформации классов)\n",
    "CATE_CT = rf3.predict(features)"
   ]
  },
  {
   "cell_type": "code",
   "execution_count": 115,
   "metadata": {
    "id": "vBR_5onfxEd1",
    "outputId": "fdab2c6d-58b1-40b4-d974-48745e6f858e"
   },
   "outputs": [
    {
     "name": "stdout",
     "output_type": "stream",
     "text": [
      "Defaulting to user installation because normal site-packages is not writeable\n",
      "Requirement already satisfied: econml in c:\\users\\yuliy\\appdata\\roaming\\python\\python311\\site-packages (0.15.1)\n",
      "Requirement already satisfied: numpy<2 in c:\\programdata\\anaconda3\\lib\\site-packages (from econml) (1.26.4)\n",
      "Requirement already satisfied: scipy>1.4.0 in c:\\programdata\\anaconda3\\lib\\site-packages (from econml) (1.11.4)\n",
      "Requirement already satisfied: scikit-learn<1.6,>=1.0 in c:\\users\\yuliy\\appdata\\roaming\\python\\python311\\site-packages (from econml) (1.5.2)\n",
      "Requirement already satisfied: sparse in c:\\users\\yuliy\\appdata\\roaming\\python\\python311\\site-packages (from econml) (0.17.0)\n",
      "Requirement already satisfied: joblib>=0.13.0 in c:\\programdata\\anaconda3\\lib\\site-packages (from econml) (1.2.0)\n",
      "Requirement already satisfied: statsmodels>=0.10 in c:\\users\\yuliy\\appdata\\roaming\\python\\python311\\site-packages (from econml) (0.14.4)\n",
      "Requirement already satisfied: pandas>1.0 in c:\\users\\yuliy\\appdata\\roaming\\python\\python311\\site-packages (from econml) (2.2.3)\n",
      "Requirement already satisfied: shap<0.44.0,>=0.38.1 in c:\\users\\yuliy\\appdata\\roaming\\python\\python311\\site-packages (from econml) (0.43.0)\n",
      "Requirement already satisfied: lightgbm in c:\\users\\yuliy\\appdata\\roaming\\python\\python311\\site-packages (from econml) (4.6.0)\n",
      "Requirement already satisfied: packaging in c:\\users\\yuliy\\appdata\\roaming\\python\\python311\\site-packages (from econml) (24.0)\n",
      "Requirement already satisfied: threadpoolctl>=3.1.0 in c:\\users\\yuliy\\appdata\\roaming\\python\\python311\\site-packages (from scikit-learn<1.6,>=1.0->econml) (3.6.0)\n",
      "Requirement already satisfied: tqdm>=4.27.0 in c:\\programdata\\anaconda3\\lib\\site-packages (from shap<0.44.0,>=0.38.1->econml) (4.65.0)\n",
      "Requirement already satisfied: slicer==0.0.7 in c:\\users\\yuliy\\appdata\\roaming\\python\\python311\\site-packages (from shap<0.44.0,>=0.38.1->econml) (0.0.7)\n",
      "Requirement already satisfied: numba in c:\\programdata\\anaconda3\\lib\\site-packages (from shap<0.44.0,>=0.38.1->econml) (0.59.0)\n",
      "Requirement already satisfied: cloudpickle in c:\\programdata\\anaconda3\\lib\\site-packages (from shap<0.44.0,>=0.38.1->econml) (2.2.1)\n",
      "Requirement already satisfied: python-dateutil>=2.8.2 in c:\\users\\yuliy\\appdata\\roaming\\python\\python311\\site-packages (from pandas>1.0->econml) (2.9.0.post0)\n",
      "Requirement already satisfied: pytz>=2020.1 in c:\\programdata\\anaconda3\\lib\\site-packages (from pandas>1.0->econml) (2023.3.post1)\n",
      "Requirement already satisfied: tzdata>=2022.7 in c:\\programdata\\anaconda3\\lib\\site-packages (from pandas>1.0->econml) (2023.3)\n",
      "Requirement already satisfied: six>=1.5 in c:\\users\\yuliy\\appdata\\roaming\\python\\python311\\site-packages (from python-dateutil>=2.8.2->pandas>1.0->econml) (1.16.0)\n",
      "Requirement already satisfied: patsy>=0.5.6 in c:\\users\\yuliy\\appdata\\roaming\\python\\python311\\site-packages (from statsmodels>=0.10->econml) (1.0.1)\n",
      "Requirement already satisfied: colorama in c:\\users\\yuliy\\appdata\\roaming\\python\\python311\\site-packages (from tqdm>=4.27.0->shap<0.44.0,>=0.38.1->econml) (0.4.6)\n",
      "Requirement already satisfied: llvmlite<0.43,>=0.42.0dev0 in c:\\programdata\\anaconda3\\lib\\site-packages (from numba->shap<0.44.0,>=0.38.1->econml) (0.42.0)\n"
     ]
    }
   ],
   "source": [
    "!pip install econml"
   ]
  },
  {
   "cell_type": "code",
   "execution_count": 116,
   "metadata": {
    "id": "vYCDj9sixEd1"
   },
   "outputs": [],
   "source": [
    "# X-learner\n",
    "from econml.metalearners import XLearner\n",
    "\n",
    "# Исходные данные\n",
    "y = df['Happiness'].values\n",
    "t = df['Music'].values\n",
    "X = df[['Wage', 'Hobby', 'Fam']].values\n",
    "\n",
    "# Базовые модели\n",
    "outcome_model = GradientBoostingRegressor(**best_reg.get_params())\n",
    "propensity_model = LogisticRegression(**best.get_params())\n",
    "\n",
    "# Обучаем X-learner\n",
    "xlearner = XLearner(models=outcome_model, propensity_model=propensity_model)\n",
    "xlearner.fit(y, t, X=X)\n",
    "\n",
    "# Оценка индивидуальных CATE (Conditional ATE) для всех наблюдений:\n",
    "CATE_X = xlearner.effect(X)"
   ]
  },
  {
   "cell_type": "code",
   "execution_count": 117,
   "metadata": {
    "id": "RHWpQPodxEd1",
    "outputId": "e0805fa9-b742-4571-a1ab-2dbf8eee374b"
   },
   "outputs": [
    {
     "data": {
      "text/html": [
       "<div>\n",
       "<style scoped>\n",
       "    .dataframe tbody tr th:only-of-type {\n",
       "        vertical-align: middle;\n",
       "    }\n",
       "\n",
       "    .dataframe tbody tr th {\n",
       "        vertical-align: top;\n",
       "    }\n",
       "\n",
       "    .dataframe thead th {\n",
       "        text-align: right;\n",
       "    }\n",
       "</style>\n",
       "<table border=\"1\" class=\"dataframe\">\n",
       "  <thead>\n",
       "    <tr style=\"text-align: right;\">\n",
       "      <th></th>\n",
       "      <th>CATE</th>\n",
       "      <th>CATE ls</th>\n",
       "      <th>CATE S</th>\n",
       "      <th>CATE T</th>\n",
       "      <th>CATE CT</th>\n",
       "      <th>CATE X</th>\n",
       "    </tr>\n",
       "  </thead>\n",
       "  <tbody>\n",
       "    <tr>\n",
       "      <th>0</th>\n",
       "      <td>0.325818</td>\n",
       "      <td>-0.840899</td>\n",
       "      <td>0.120344</td>\n",
       "      <td>1.957279</td>\n",
       "      <td>-3.171114</td>\n",
       "      <td>4.626954</td>\n",
       "    </tr>\n",
       "    <tr>\n",
       "      <th>1</th>\n",
       "      <td>-0.563851</td>\n",
       "      <td>0.576022</td>\n",
       "      <td>0.021505</td>\n",
       "      <td>0.472331</td>\n",
       "      <td>-174.465890</td>\n",
       "      <td>6.210425</td>\n",
       "    </tr>\n",
       "    <tr>\n",
       "      <th>2</th>\n",
       "      <td>-0.340299</td>\n",
       "      <td>0.013987</td>\n",
       "      <td>0.000000</td>\n",
       "      <td>-2.600325</td>\n",
       "      <td>-8.985883</td>\n",
       "      <td>1.702039</td>\n",
       "    </tr>\n",
       "    <tr>\n",
       "      <th>3</th>\n",
       "      <td>-0.116174</td>\n",
       "      <td>-0.544900</td>\n",
       "      <td>0.034429</td>\n",
       "      <td>1.116525</td>\n",
       "      <td>0.529755</td>\n",
       "      <td>5.778824</td>\n",
       "    </tr>\n",
       "    <tr>\n",
       "      <th>4</th>\n",
       "      <td>0.145938</td>\n",
       "      <td>-2.534405</td>\n",
       "      <td>0.000000</td>\n",
       "      <td>3.351394</td>\n",
       "      <td>36.048326</td>\n",
       "      <td>2.422797</td>\n",
       "    </tr>\n",
       "    <tr>\n",
       "      <th>...</th>\n",
       "      <td>...</td>\n",
       "      <td>...</td>\n",
       "      <td>...</td>\n",
       "      <td>...</td>\n",
       "      <td>...</td>\n",
       "      <td>...</td>\n",
       "    </tr>\n",
       "    <tr>\n",
       "      <th>9995</th>\n",
       "      <td>0.117981</td>\n",
       "      <td>0.967424</td>\n",
       "      <td>0.055478</td>\n",
       "      <td>-1.201389</td>\n",
       "      <td>0.007859</td>\n",
       "      <td>3.937171</td>\n",
       "    </tr>\n",
       "    <tr>\n",
       "      <th>9996</th>\n",
       "      <td>0.597286</td>\n",
       "      <td>-0.738745</td>\n",
       "      <td>0.069842</td>\n",
       "      <td>1.287104</td>\n",
       "      <td>-30.756591</td>\n",
       "      <td>4.303562</td>\n",
       "    </tr>\n",
       "    <tr>\n",
       "      <th>9997</th>\n",
       "      <td>-0.522411</td>\n",
       "      <td>-0.746799</td>\n",
       "      <td>0.000000</td>\n",
       "      <td>2.594576</td>\n",
       "      <td>35.025325</td>\n",
       "      <td>4.953838</td>\n",
       "    </tr>\n",
       "    <tr>\n",
       "      <th>9998</th>\n",
       "      <td>0.663508</td>\n",
       "      <td>0.350628</td>\n",
       "      <td>0.293322</td>\n",
       "      <td>1.034979</td>\n",
       "      <td>8.328671</td>\n",
       "      <td>5.418762</td>\n",
       "    </tr>\n",
       "    <tr>\n",
       "      <th>9999</th>\n",
       "      <td>0.120454</td>\n",
       "      <td>-0.643867</td>\n",
       "      <td>0.034429</td>\n",
       "      <td>-1.003817</td>\n",
       "      <td>5.795499</td>\n",
       "      <td>4.162982</td>\n",
       "    </tr>\n",
       "  </tbody>\n",
       "</table>\n",
       "<p>10000 rows × 6 columns</p>\n",
       "</div>"
      ],
      "text/plain": [
       "          CATE   CATE ls    CATE S    CATE T     CATE CT    CATE X\n",
       "0     0.325818 -0.840899  0.120344  1.957279   -3.171114  4.626954\n",
       "1    -0.563851  0.576022  0.021505  0.472331 -174.465890  6.210425\n",
       "2    -0.340299  0.013987  0.000000 -2.600325   -8.985883  1.702039\n",
       "3    -0.116174 -0.544900  0.034429  1.116525    0.529755  5.778824\n",
       "4     0.145938 -2.534405  0.000000  3.351394   36.048326  2.422797\n",
       "...        ...       ...       ...       ...         ...       ...\n",
       "9995  0.117981  0.967424  0.055478 -1.201389    0.007859  3.937171\n",
       "9996  0.597286 -0.738745  0.069842  1.287104  -30.756591  4.303562\n",
       "9997 -0.522411 -0.746799  0.000000  2.594576   35.025325  4.953838\n",
       "9998  0.663508  0.350628  0.293322  1.034979    8.328671  5.418762\n",
       "9999  0.120454 -0.643867  0.034429 -1.003817    5.795499  4.162982\n",
       "\n",
       "[10000 rows x 6 columns]"
      ]
     },
     "execution_count": 117,
     "metadata": {},
     "output_type": "execute_result"
    }
   ],
   "source": [
    "pd.DataFrame(data    = {'CATE': cate,\n",
    "                        'CATE ls': CATE_ls,\n",
    "                        'CATE S': CATE_S,\n",
    "                        'CATE T': CATE_T,\n",
    "                        'CATE CT': CATE_CT,\n",
    "                        'CATE X': CATE_X})"
   ]
  },
  {
   "cell_type": "markdown",
   "metadata": {
    "id": "3i7NaCv8xEd2"
   },
   "source": [
    "X-learner был бы крайне полезен, если бы группа воздействия включала малое число наблюдений, что осложнило бы оценивание\n",
    "$E(\\text{Happiness}_i |X_i , \\text{Music}_i = 1)$ по данным группы воздействия. \\\n",
    "В нашем случае в группе воздействия наоборот больше наблюдений, чем в контрольной, поэтому его применение не столь оправдано."
   ]
  },
  {
   "cell_type": "markdown",
   "metadata": {
    "id": "G2AgF1ekxEd2"
   },
   "source": [
    "Знание CATE для каждого клиента или гражданина может помочь более эффективно тратить ресурсы: например, если оценка CATE для одного индивида показала, что эффект от прослушивания музыки по пути на работу будет незначительным, то этому сотруднику нет смысла покупать наушники - так бизнес может не тратить деньги на покупку, которая не принесет никакого эффекта."
   ]
  },
  {
   "cell_type": "markdown",
   "metadata": {
    "id": "z_CFwLAExEd2"
   },
   "source": [
    "7. Выберите лучшую модель оценивания условных средних эффектов воздействия, используя:\n",
    "* истинные значения условных средних эффектов воздействия.\n",
    "* прогнозную точность моделей.\n",
    "* псевдоисходы.\\\n",
    "Проинтерпретируйте различия в результатах различных подходов."
   ]
  },
  {
   "cell_type": "markdown",
   "metadata": {
    "id": "DfYTBVrfxEd2"
   },
   "source": [
    "С помощью истинных значений:\n",
    "\n",
    "$$\\text{MSE}_{0} = \\frac{1}{n}\\sum\\limits_{i=1}^{n}\\left(\\text{CATE}_{i}-\\widehat{\\text{CATE}}_{i}\\right)^2$$"
   ]
  },
  {
   "cell_type": "code",
   "execution_count": 118,
   "metadata": {
    "id": "UcXrShKkxEd2",
    "outputId": "5042392e-bfde-43b4-b626-3e70ecf39f04"
   },
   "outputs": [
    {
     "data": {
      "text/html": [
       "<div>\n",
       "<style scoped>\n",
       "    .dataframe tbody tr th:only-of-type {\n",
       "        vertical-align: middle;\n",
       "    }\n",
       "\n",
       "    .dataframe tbody tr th {\n",
       "        vertical-align: top;\n",
       "    }\n",
       "\n",
       "    .dataframe thead th {\n",
       "        text-align: right;\n",
       "    }\n",
       "</style>\n",
       "<table border=\"1\" class=\"dataframe\">\n",
       "  <thead>\n",
       "    <tr style=\"text-align: right;\">\n",
       "      <th></th>\n",
       "      <th>MSE0</th>\n",
       "    </tr>\n",
       "  </thead>\n",
       "  <tbody>\n",
       "    <tr>\n",
       "      <th>LS</th>\n",
       "      <td>1.293607</td>\n",
       "    </tr>\n",
       "    <tr>\n",
       "      <th>S-learner</th>\n",
       "      <td>0.171493</td>\n",
       "    </tr>\n",
       "    <tr>\n",
       "      <th>T-learner</th>\n",
       "      <td>3.767193</td>\n",
       "    </tr>\n",
       "    <tr>\n",
       "      <th>CT</th>\n",
       "      <td>2306.051472</td>\n",
       "    </tr>\n",
       "    <tr>\n",
       "      <th>X-learner</th>\n",
       "      <td>20.512756</td>\n",
       "    </tr>\n",
       "  </tbody>\n",
       "</table>\n",
       "</div>"
      ],
      "text/plain": [
       "                  MSE0\n",
       "LS            1.293607\n",
       "S-learner     0.171493\n",
       "T-learner     3.767193\n",
       "CT         2306.051472\n",
       "X-learner    20.512756"
      ]
     },
     "execution_count": 118,
     "metadata": {},
     "output_type": "execute_result"
    }
   ],
   "source": [
    "# Сравнение оценок CATE на основании истинных значений\n",
    "CATE_MSE0 = pd.DataFrame(data    = [np.mean((CATE_ls  - cate) ** 2),\n",
    "                                    np.mean((CATE_S   - cate) ** 2),\n",
    "                                    np.mean((CATE_T   - cate) ** 2),\n",
    "                                    np.mean((CATE_CT  - cate) ** 2),\n",
    "                                    np.mean((CATE_X   - cate) ** 2)],\n",
    "                         index   = ['LS', 'S-learner', 'T-learner', 'CT', 'X-learner'],\n",
    "                         columns = ['MSE0'])\n",
    "CATE_MSE0"
   ]
  },
  {
   "cell_type": "markdown",
   "metadata": {
    "id": "nc063JrOxEd2"
   },
   "source": [
    "С помощью прогнозной точности моделей:\n",
    "\n",
    "$$MSE=\\frac{1}{n}\\sum_{i=1}^n(\\text{Happiness}_i-\\hat{E}(\\text{Happiness}_i|X_i, \\text{music}_i))^2$$"
   ]
  },
  {
   "cell_type": "code",
   "execution_count": 119,
   "metadata": {
    "id": "4RIomA3cxEd2",
    "outputId": "cc1464f5-a874-4264-c5a4-312077320b4a"
   },
   "outputs": [
    {
     "data": {
      "text/html": [
       "<div>\n",
       "<style scoped>\n",
       "    .dataframe tbody tr th:only-of-type {\n",
       "        vertical-align: middle;\n",
       "    }\n",
       "\n",
       "    .dataframe tbody tr th {\n",
       "        vertical-align: top;\n",
       "    }\n",
       "\n",
       "    .dataframe thead th {\n",
       "        text-align: right;\n",
       "    }\n",
       "</style>\n",
       "<table border=\"1\" class=\"dataframe\">\n",
       "  <thead>\n",
       "    <tr style=\"text-align: right;\">\n",
       "      <th></th>\n",
       "      <th>MSE1</th>\n",
       "    </tr>\n",
       "  </thead>\n",
       "  <tbody>\n",
       "    <tr>\n",
       "      <th>LS</th>\n",
       "      <td>57.889020</td>\n",
       "    </tr>\n",
       "    <tr>\n",
       "      <th>S-learner</th>\n",
       "      <td>53.765103</td>\n",
       "    </tr>\n",
       "    <tr>\n",
       "      <th>T-learner</th>\n",
       "      <td>54.223722</td>\n",
       "    </tr>\n",
       "    <tr>\n",
       "      <th>CT</th>\n",
       "      <td>-2248.266577</td>\n",
       "    </tr>\n",
       "    <tr>\n",
       "      <th>X-learner</th>\n",
       "      <td>2941.219014</td>\n",
       "    </tr>\n",
       "  </tbody>\n",
       "</table>\n",
       "</div>"
      ],
      "text/plain": [
       "                  MSE1\n",
       "LS           57.889020\n",
       "S-learner    53.765103\n",
       "T-learner    54.223722\n",
       "CT        -2248.266577\n",
       "X-learner  2941.219014"
      ]
     },
     "execution_count": 119,
     "metadata": {},
     "output_type": "execute_result"
    }
   ],
   "source": [
    "CATE_MSE1 = pd.DataFrame(data    = [np.mean((happiness - ls1.predict(x)) ** 2),\n",
    "                                    np.mean((happiness - rf2.predict(x_s)) ** 2),\n",
    "                                    np.mean((happiness - rf.predict(x)) ** 2),\n",
    "                                    np.mean((happiness - rf3.predict(x.drop('const', axis = 1)) ** 2)),\n",
    "                                    np.mean((happiness - xlearner.effect(x.drop(['const', 'Health'], axis = 1))) ** 2)],\n",
    "                   index          = ['LS', 'S-learner', 'T-learner', 'CT', 'X-learner'],\n",
    "                   columns        = ['MSE1'])\n",
    "CATE_MSE1"
   ]
  },
  {
   "cell_type": "markdown",
   "metadata": {
    "id": "6ls0N3kHxEd2"
   },
   "source": [
    "C помощью псевдоисходов:\n",
    "\n",
    "$$\\text{MSE}^{*} = \\frac{1}{n}\\sum\\limits_{i=1}^{n}\\left(\\text{Happiness}_{i}^{*}-\\widehat{\\text{CATE}}_{i}\\right)^2$$"
   ]
  },
  {
   "cell_type": "code",
   "execution_count": 120,
   "metadata": {
    "id": "wuVWCnqTxEd2",
    "outputId": "9bb39cef-827f-4cc1-9737-74a13584d72d"
   },
   "outputs": [
    {
     "data": {
      "text/html": [
       "<div>\n",
       "<style scoped>\n",
       "    .dataframe tbody tr th:only-of-type {\n",
       "        vertical-align: middle;\n",
       "    }\n",
       "\n",
       "    .dataframe tbody tr th {\n",
       "        vertical-align: top;\n",
       "    }\n",
       "\n",
       "    .dataframe thead th {\n",
       "        text-align: right;\n",
       "    }\n",
       "</style>\n",
       "<table border=\"1\" class=\"dataframe\">\n",
       "  <thead>\n",
       "    <tr style=\"text-align: right;\">\n",
       "      <th></th>\n",
       "      <th>MSE2</th>\n",
       "    </tr>\n",
       "  </thead>\n",
       "  <tbody>\n",
       "    <tr>\n",
       "      <th>LS</th>\n",
       "      <td>52624.541666</td>\n",
       "    </tr>\n",
       "    <tr>\n",
       "      <th>S-learner</th>\n",
       "      <td>52630.273562</td>\n",
       "    </tr>\n",
       "    <tr>\n",
       "      <th>T-learner</th>\n",
       "      <td>52604.056006</td>\n",
       "    </tr>\n",
       "    <tr>\n",
       "      <th>CT</th>\n",
       "      <td>44397.233193</td>\n",
       "    </tr>\n",
       "    <tr>\n",
       "      <th>X-learner</th>\n",
       "      <td>52631.198821</td>\n",
       "    </tr>\n",
       "  </tbody>\n",
       "</table>\n",
       "</div>"
      ],
      "text/plain": [
       "                   MSE2\n",
       "LS         52624.541666\n",
       "S-learner  52630.273562\n",
       "T-learner  52604.056006\n",
       "CT         44397.233193\n",
       "X-learner  52631.198821"
      ]
     },
     "execution_count": 120,
     "metadata": {},
     "output_type": "execute_result"
    }
   ],
   "source": [
    "# Сравнение CATE на основании псевдоисходов\n",
    "CATE_MSE2 = pd.DataFrame(data    = [np.mean((happiness_pseudo - CATE_ls) ** 2),\n",
    "                                    np.mean((happiness_pseudo - CATE_S) ** 2),\n",
    "                                    np.mean((happiness_pseudo - CATE_T) ** 2),\n",
    "                                    np.mean((happiness_pseudo - CATE_CT) ** 2),\n",
    "                                    np.mean((happiness_pseudo - CATE_X) ** 2)],\n",
    "                         index   = ['LS', 'S-learner', 'T-learner', 'CT', 'X-learner'],\n",
    "                         columns = ['MSE2'])\n",
    "CATE_MSE2"
   ]
  },
  {
   "cell_type": "markdown",
   "metadata": {
    "id": "7r8TmCxYxEd2"
   },
   "source": [
    "8. Оцените средние эффекты воздействия и локальные средние эффекты воздействия используя худшие из обученных классификационных и регрессионных моделей. Сопоставьте результаты с теми, что были получены с помощью лучших моделей. Сдеайте вывод об устойчивости результатов к качеству используемых методов машинного обучения."
   ]
  },
  {
   "cell_type": "code",
   "execution_count": 121,
   "metadata": {
    "id": "2hHtu-X5xEd2"
   },
   "outputs": [
    {
     "data": {
      "text/plain": [
       "0.849237435328703"
      ]
     },
     "execution_count": 121,
     "metadata": {},
     "output_type": "execute_result"
    }
   ],
   "source": [
    "# Оценивание ATE и CATE с помощью T-learner (worst)\n",
    "\n",
    "y0  = df[df['Music'] == 0]['Happiness']\n",
    "x0  = df[df['Music'] == 0].drop(['Music', 'Subs', 'Happiness'], axis = 1)\n",
    "x0  = sm.add_constant(x0)\n",
    "\n",
    "y1  = df[df['Music'] == 1]['Happiness']\n",
    "x1  = df[df['Music'] == 1].drop(['Music', 'Subs', 'Happiness'], axis = 1)\n",
    "x1  = sm.add_constant(x1)\n",
    "\n",
    "rf_w = RandomForestRegressor(**worst_reg.get_params())\n",
    "\n",
    "# Обучение оценивать E(happiness | X, music = 0)\n",
    "rf_w.fit(x0, y0)\n",
    "\n",
    "x = df.drop(['Music', 'Subs', 'Happiness'], axis = 1)\n",
    "x = sm.add_constant(x)\n",
    "\n",
    "# Оценки E(happiness | X, music = 0) для всех индивидов,\n",
    "# в том числе для тех, у кого (music = 1).\n",
    "happy0_rf_w = rf_w.predict(x)\n",
    "\n",
    "# Обучение оценивать E(happiness | X, music = 1)\n",
    "rf_w.fit(x1, y1)\n",
    "\n",
    "# Оценки E(happiness | X, music = 1) для всех индивидов,\n",
    "# в том числе для тех, у кого (music = 0).\n",
    "happy1_rf_w = rf_w.predict(x)\n",
    "\n",
    "# Оценки CATE\n",
    "CATE_T_w = happy1_rf_w - happy0_rf_w\n",
    "\n",
    "# Оценка ATE\n",
    "ATE_T_w = np.mean(CATE_T_w)\n",
    "ATE_T_w"
   ]
  },
  {
   "cell_type": "code",
   "execution_count": 122,
   "metadata": {},
   "outputs": [
    {
     "data": {
      "text/plain": [
       "26.25459149016535"
      ]
     },
     "execution_count": 122,
     "metadata": {},
     "output_type": "execute_result"
    }
   ],
   "source": [
    "# Оценивание с помощью обратного взвешивания на вероятности IPW\n",
    "\n",
    "# Подготовим данные\n",
    "target   = df['Music']\n",
    "features = df.drop(['Music', 'Subs'], axis = 1)\n",
    "\n",
    "rf_w = RandomForestClassifier(**worst.get_params())\n",
    "\n",
    "# Подготовим метод машинного обучения\n",
    "rf_w.fit(features, target)\n",
    "\n",
    "# Оценим условные вероятности P(music = 1 | X)\n",
    "prob_rf_w = rf_w.predict_proba(features)[:, 1]\n",
    "\n",
    "# Оценим псевдоисходы\n",
    "happiness_pseudo_w = (happiness * music) / prob_rf_w - (happiness * (1 - music)) / (1 - prob_rf_w)\n",
    "\n",
    "# Оценим ATE\n",
    "ATE_IPW_w = np.mean(happiness_pseudo_w)\n",
    "ATE_IPW_w"
   ]
  },
  {
   "cell_type": "code",
   "execution_count": 123,
   "metadata": {},
   "outputs": [
    {
     "data": {
      "text/plain": [
       "0.026045756304672325"
      ]
     },
     "execution_count": 123,
     "metadata": {},
     "output_type": "execute_result"
    }
   ],
   "source": [
    "# Подготовим данные\n",
    "y = df['Happiness']\n",
    "x = df.drop(['Subs', 'Happiness'], axis = 1)\n",
    "\n",
    "rf2_w = RandomForestRegressor(**worst_reg.get_params())\n",
    "rf2_w.fit(x, y)\n",
    "\n",
    "# Оценки E(happiness | X, music = 0) для всех индивидов,\n",
    "# в том числе для тех, у кого (educ = 1).\n",
    "x0          = deepcopy(x)\n",
    "x0[\"Music\"] = 0\n",
    "happy0_rf2_w  = rf2_w.predict(x0)\n",
    "\n",
    "# Оценки E(happiness | X, music = 1) для всех индивидов,\n",
    "# в том числе для тех, у кого (educ = 0).\n",
    "x1         = deepcopy(x)\n",
    "x1[\"Music\"] = 1\n",
    "happy1_rf2_w  = rf2_w.predict(x1)\n",
    "\n",
    "# Оценим ATE с помощью DR метода с двойной устойчивостью\n",
    "ATE_DR_w = np.mean((happy1_rf2_w - happy0_rf2_w) + \\\n",
    "                 music * (happiness - happy1_rf2_w) / prob_rf_w - \\\n",
    "                 (1 - music) * (happiness - happy0_rf2_w) / (1 - prob_rf_w))\n",
    "ATE_DR_w"
   ]
  },
  {
   "cell_type": "code",
   "execution_count": 124,
   "metadata": {},
   "outputs": [
    {
     "data": {
      "text/plain": [
       "-0.01569220684365721"
      ]
     },
     "execution_count": 124,
     "metadata": {},
     "output_type": "execute_result"
    }
   ],
   "source": [
    "# Данные в формате, необходимом для применения DML\n",
    "dml_standard_data = dml.DoubleMLData(\n",
    "                            data   = df,\n",
    "                            y_col  = 'Happiness',\n",
    "                            d_cols = 'Music',\n",
    "                            x_cols = ['Wage', 'Hobby', 'Fam', 'Health'])\n",
    "\n",
    "# Метод оценивания E(Y | X, T)\n",
    "g_Y_w = RandomForestRegressor(**worst_reg.get_params())\n",
    "\n",
    "# Метод оценивания E(T | X)\n",
    "g_T_w = RandomForestClassifier(**worst.get_params())\n",
    "\n",
    "# Подготовка объекта\n",
    "dml_standard_w = dml.DoubleMLIRM(obj_dml_data = dml_standard_data,\n",
    "                               ml_g         = g_Y_w,\n",
    "                               ml_m         = g_T_w,\n",
    "                               n_rep        = 1,\n",
    "                               n_folds      = 5)\n",
    "\n",
    "# Оценим параметры\n",
    "dml_standard_w.fit()\n",
    "\n",
    "# Сохраним оценку\n",
    "ATE_dml_standard_w = dml_standard_w.coef[0]\n",
    "ATE_dml_standard_w"
   ]
  },
  {
   "cell_type": "code",
   "execution_count": 125,
   "metadata": {},
   "outputs": [
    {
     "data": {
      "text/html": [
       "<div>\n",
       "<style scoped>\n",
       "    .dataframe tbody tr th:only-of-type {\n",
       "        vertical-align: middle;\n",
       "    }\n",
       "\n",
       "    .dataframe tbody tr th {\n",
       "        vertical-align: top;\n",
       "    }\n",
       "\n",
       "    .dataframe thead th {\n",
       "        text-align: right;\n",
       "    }\n",
       "</style>\n",
       "<table border=\"1\" class=\"dataframe\">\n",
       "  <thead>\n",
       "    <tr style=\"text-align: right;\">\n",
       "      <th></th>\n",
       "      <th>ATE best</th>\n",
       "      <th>ATE worst</th>\n",
       "    </tr>\n",
       "  </thead>\n",
       "  <tbody>\n",
       "    <tr>\n",
       "      <th>Hypothetical</th>\n",
       "      <td>0.191002</td>\n",
       "      <td>NaN</td>\n",
       "    </tr>\n",
       "    <tr>\n",
       "      <th>Naive</th>\n",
       "      <td>5.092431</td>\n",
       "      <td>NaN</td>\n",
       "    </tr>\n",
       "    <tr>\n",
       "      <th>OLS</th>\n",
       "      <td>-0.169230</td>\n",
       "      <td>NaN</td>\n",
       "    </tr>\n",
       "    <tr>\n",
       "      <th>Условные матож</th>\n",
       "      <td>0.498682</td>\n",
       "      <td>0.849237</td>\n",
       "    </tr>\n",
       "    <tr>\n",
       "      <th>Обратные вероятности</th>\n",
       "      <td>-2.667231</td>\n",
       "      <td>26.254591</td>\n",
       "    </tr>\n",
       "    <tr>\n",
       "      <th>Двойной устойчивости</th>\n",
       "      <td>0.128157</td>\n",
       "      <td>0.026046</td>\n",
       "    </tr>\n",
       "    <tr>\n",
       "      <th>Двойное МО</th>\n",
       "      <td>0.270231</td>\n",
       "      <td>-0.015692</td>\n",
       "    </tr>\n",
       "  </tbody>\n",
       "</table>\n",
       "</div>"
      ],
      "text/plain": [
       "                      ATE best  ATE worst\n",
       "Hypothetical          0.191002        NaN\n",
       "Naive                 5.092431        NaN\n",
       "OLS                  -0.169230        NaN\n",
       "Условные матож        0.498682   0.849237\n",
       "Обратные вероятности -2.667231  26.254591\n",
       "Двойной устойчивости  0.128157   0.026046\n",
       "Двойное МО            0.270231  -0.015692"
      ]
     },
     "execution_count": 125,
     "metadata": {},
     "output_type": "execute_result"
    }
   ],
   "source": [
    "pd.DataFrame(data = [[ate, ate_naive, ATE_ls, ATE_T, ATE_IPW, ATE_DR, ATE_dml_standard], [None, None, None, ATE_T_w, ATE_IPW_w, ATE_DR_w, ATE_dml_standard_w]], columns = ['Hypothetical', 'Naive', 'OLS', 'Условные матож', 'Обратные вероятности', 'Двойной устойчивости', 'Двойное МО'], index = ['ATE best', 'ATE worst']).T"
   ]
  },
  {
   "cell_type": "code",
   "execution_count": 126,
   "metadata": {},
   "outputs": [
    {
     "name": "stdout",
     "output_type": "stream",
     "text": [
      "================== DoubleMLIRM Object ==================\n",
      "\n",
      "------------------ Data summary      ------------------\n",
      "Outcome variable: Happiness\n",
      "Treatment variable(s): ['Music']\n",
      "Covariates: ['Wage', 'Hobby', 'Fam', 'Health']\n",
      "Instrument variable(s): None\n",
      "No. Observations: 10000\n",
      "\n",
      "------------------ Score & algorithm ------------------\n",
      "Score function: ATE\n",
      "\n",
      "------------------ Machine learner   ------------------\n",
      "Learner ml_g: RandomForestRegressor(max_depth=7)\n",
      "Learner ml_m: RandomForestClassifier(max_depth=12)\n",
      "Out-of-sample Performance:\n",
      "Regression:\n",
      "Learner ml_g0 RMSE: [[6.1503319]]\n",
      "Learner ml_g1 RMSE: [[8.14443342]]\n",
      "Classification:\n",
      "Learner ml_m Log Loss: [[0.47592442]]\n",
      "\n",
      "------------------ Resampling        ------------------\n",
      "No. folds: 5\n",
      "No. repeated sample splits: 1\n",
      "\n",
      "------------------ Fit summary       ------------------\n",
      "           coef   std err         t     P>|t|     2.5 %    97.5 %\n",
      "Music  0.041158  0.297199  0.138485  0.889857 -0.541342  0.623658\n"
     ]
    }
   ],
   "source": [
    "# Данные в формате, необходимом для применения DML\n",
    "dml_standard2_data = dml.DoubleMLData(\n",
    "                            data   = df,\n",
    "                            y_col  = 'Happiness',\n",
    "                            d_cols = 'Music',\n",
    "                            x_cols = ['Wage', 'Hobby', 'Fam', 'Health'])\n",
    "\n",
    "# Метод оценивания E(Y | X, T)\n",
    "g_Y_w = RandomForestRegressor(**worst_reg.get_params())\n",
    "\n",
    "g_T_w = RandomForestClassifier(**worst.get_params())\n",
    "\n",
    "# Подготовка объекта\n",
    "dml_standard2_w = dml.DoubleMLIRM(obj_dml_data = dml_standard2_data,\n",
    "                               ml_g         = g_Y_w,\n",
    "                               ml_m         = g_T_w,\n",
    "                               n_rep        = 1,\n",
    "                               n_folds      = 5)\n",
    "\n",
    "# Оценим параметры\n",
    "dml_standard2_w.fit()\n",
    "\n",
    "# Посмотрим на результат\n",
    "print(dml_standard2_w)\n",
    "\n",
    "# Сохраним оценку\n",
    "\n",
    "LATE_dml_standard2_w = dml_standard2_w.coef[0]"
   ]
  },
  {
   "cell_type": "code",
   "execution_count": 127,
   "metadata": {},
   "outputs": [
    {
     "data": {
      "text/html": [
       "<div>\n",
       "<style scoped>\n",
       "    .dataframe tbody tr th:only-of-type {\n",
       "        vertical-align: middle;\n",
       "    }\n",
       "\n",
       "    .dataframe tbody tr th {\n",
       "        vertical-align: top;\n",
       "    }\n",
       "\n",
       "    .dataframe thead th {\n",
       "        text-align: right;\n",
       "    }\n",
       "</style>\n",
       "<table border=\"1\" class=\"dataframe\">\n",
       "  <thead>\n",
       "    <tr style=\"text-align: right;\">\n",
       "      <th></th>\n",
       "      <th>LATE hyp</th>\n",
       "      <th>LATE (best)</th>\n",
       "      <th>LATE (worst)</th>\n",
       "    </tr>\n",
       "  </thead>\n",
       "  <tbody>\n",
       "    <tr>\n",
       "      <th>DML</th>\n",
       "      <td>0.02584</td>\n",
       "      <td>4.450199</td>\n",
       "      <td>0.041158</td>\n",
       "    </tr>\n",
       "  </tbody>\n",
       "</table>\n",
       "</div>"
      ],
      "text/plain": [
       "     LATE hyp  LATE (best)  LATE (worst)\n",
       "DML   0.02584     4.450199      0.041158"
      ]
     },
     "execution_count": 127,
     "metadata": {},
     "output_type": "execute_result"
    }
   ],
   "source": [
    "pd.DataFrame(data = [late, LATE_dml_standard2, LATE_dml_standard2_w], index = ['LATE hyp', 'LATE (best)', 'LATE (worst)'], columns = ['DML']).T"
   ]
  }
 ],
 "metadata": {
  "colab": {
   "collapsed_sections": [
    "EAa5NWyN3XVn",
    "mifZyU5u5_mt",
    "B4ZRDWW1Q8_A",
    "O-XZ39JlQ8_A"
   ],
   "provenance": []
  },
  "kernelspec": {
   "display_name": "Python 3 (ipykernel)",
   "language": "python",
   "name": "python3"
  },
  "language_info": {
   "codemirror_mode": {
    "name": "ipython",
    "version": 3
   },
   "file_extension": ".py",
   "mimetype": "text/x-python",
   "name": "python",
   "nbconvert_exporter": "python",
   "pygments_lexer": "ipython3",
   "version": "3.11.7"
  }
 },
 "nbformat": 4,
 "nbformat_minor": 4
}
